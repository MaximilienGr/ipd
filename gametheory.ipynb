{
 "cells": [
  {
   "cell_type": "markdown",
   "metadata": {
    "collapsed": true
   },
   "source": [
    "# La théorie des jeux\n",
    "\n",
    "Auteur : Philippe Mathieu, CRISTAL Lab, SMAC Team, University of Lille, email : philippe.mathieu@univ-lille.fr\n",
    "\n",
    "Contributeurs : Louisa Fodil (CRISTAL/SMAC), Céline Petitpré (CRISTAL/SMAC)\n",
    "\n",
    "Creation : 18/01/2018\n",
    "\n",
    "\n",
    "## Introduction\n",
    "\n",
    "La théorie des jeux est la discipline qui étudie de manière formelle les interactions que peuvent avoir plusieurs individus dans une situation conflictuelle. Le terme \"jeu\" n'a a priori rien de ludique, Von Neumann l'ayant par exemple développée pour la modélisation des relations Franco-Américaines de 1945 et notamment lors de l'épisode de la baie des cochons. La théorie des jeux décompose les jeux en fonction du nombre de joueurs (généralement 2), puis principalement en deux grandes familles : les jeux simultanés, dans lesquels les joueurs jouent simultanément et donc ne savent pas en jouant ce que joue l'adversaire (papier-feuiile-ciseaux par exemple) et les jeux non simultanés où chacun joue tour à tour (les échecs par exemple). \n",
    "\n",
    "Nous nous plaçons ici dans le cadre des **jeux à deux joueurs, simultanés**. On représente en général ce type de jeu par une matrice de gains. Les coups d'un des deux joueurs se trouvent en abscisse et ceux de l'autre en ordonnée. L'intersection de chaque case caractérise une situation de jeu. On y note les points qui seront distribués à chacun des deux joueurs. Pour information, la théorie des jeux décompose encore ces jeux en deux autres familles, les jeux à somme nulle dans lesquels tout ce que perd l'un est gagné par l'autre, et les jeux à somme non nulle dans lesquels les points distribués sont différents selon les coups joués.\n",
    "\n",
    "Cette feuille a pour objectif de montrer comment représenter et générer des jeux, puis comment calculer les différents équilibres d'un jeu.\n",
    "\n",
    "On trouvera plus de détails sur [Wikipedia](http://www.wikidedia.org)\n",
    "\n",
    "\n",
    "\n",
    "# Une matrice de gains\n",
    "\n",
    "Tout d'abord, il est necessaire de pouvoir coder une matrice de gains. Une classe `Game` va nous\n",
    "permettre de stocker les gains des deux joueurs pour une situation donnée. \n",
    "Un objet Game prend un tableau de couples en paramètre, correspondant aux scores de chaque issue, ainsi que le tableau des noms des actions correspondantes.\n",
    "En interne, Le package *numpy* offre un objet `Array` idéal pour stocker et manipuler cela. Pour un jeu à `n` coups, nous créons un Array `n*n` de couples de valeurs `(x,y)` avec `x` le gain du joueur 1 et `y` le gain du joueur 2. "
   ]
  },
  {
   "cell_type": "code",
   "execution_count": 54,
   "metadata": {},
   "outputs": [],
   "source": [
    "import numpy as np\n",
    "import math\n",
    "\n",
    "class Game:\n",
    "    def __init__(self, tab, actions):\n",
    "        self.actions=actions\n",
    "        m=np.array(tab,dtype=[('x', object), ('y', object)])\n",
    "        self.size = int(math.sqrt(len(tab)))\n",
    "        self.scores=m.reshape(self.size,self.size)"
   ]
  },
  {
   "cell_type": "code",
   "execution_count": 55,
   "metadata": {},
   "outputs": [
    {
     "data": {
      "text/plain": [
       "array([[(3, 3), (0, 5)],\n",
       "       [(5, 0), (1, 1)]], dtype=[('x', 'O'), ('y', 'O')])"
      ]
     },
     "execution_count": 55,
     "metadata": {},
     "output_type": "execute_result"
    }
   ],
   "source": [
    "# Exemples de jeu\n",
    "dp =[(3,3),(0,5),(5,0),(1,1)]   # Dilemme du prisonnier : 1 equilibrium\n",
    "gs=[(3,2),(1,1),(0,0),(2,3)]     # Guerre des sexes : 2 equilibria\n",
    "mp=[(1,-1),(-1,1),(-1,1),(1,-1)] # Matching pennies : 0 equilibrium\n",
    "rpc=[(0,0),(-1,1),(1,-1),(1,-1),(0,0),(-1,1),(-1,1),(1,-1),(0,0)] # papier feuille ciseaux  : 0 equilibrium\n",
    "g = Game(dp,['C','D'])\n",
    "g.scores"
   ]
  },
  {
   "cell_type": "markdown",
   "metadata": {},
   "source": [
    "# La notion d'équilibre\n",
    "\n",
    "On explique ici l'hypothèse de rationalité des agents en économie, et la recherche d'équilibre.\n",
    "\n",
    "Les économistes se sont très vite emparés de ces modèles pour étudier différents problèmes économiques. Afin d'identifier la meilleure manière de jouer à un jeu fixé, ils se sont basés sur la notion abstraite de rationalité du joueur. Partant du principe que, dans le pire des cas, l'adversaire est aussi rationnel, le raisonnement que je m'applique doit donc aussi être appliqué à mon adversaire. Très vite, plusieurs définitions de la rationalité sont apparues, définissant ainsi un (ou éventuellement plusieurs) point fixe d'un jeu, point vers lequel rationnellement, si tout le monde réfléchis de manière identique, on parviendra :\n",
    "1. *L'équilibre de Nash*, du nom de son inventeur, John Nash. L'équilibre de Nash est une situation de non regret de chacun des joueurs. *\"nous avons joué simultanément, mais maintenant que je sais ce que l'autre a joué, je n'ai aucun regret\"*\n",
    "2. *L'optimum de Pareto*, du nom de son inventeur, Wilfried Pareto. l'optimum de Pareto est une situation où aucune situation n'est supérieure pour les deux joueurs, et donc ils n'ont aucun interêt collectivement à changer.\n",
    "3. *L'équilibre en stratégies dominantes*. Un joueur \"rationnel\" ne jouera jamais une de ses stratégies si elle dominée par une autre de ses stratégies. On peut donc \"simplifier\" un jeu en éliminant itérativement les stratégies dominées.\n",
    "\n"
   ]
  },
  {
   "cell_type": "markdown",
   "metadata": {},
   "source": [
    "## L'équilibre de Nash\n",
    "\n",
    "Pour calculer la situation de \"non regret\" correspondant à l'équilibre de Nash il suffit de noter les réponses du joueur 1 les plus adaptées à chaque stratégie du joueur 2 (donc calculer les max(x) dans la chaque colonne), puis calculer les meilleures réponses du joueur 2 aux stratégies du joueur 1 (donc calculer les max(y) dans chaque ligne). Si une issue possede 2 max, c'est un équilibre de Nash. Selon les jeux, il peut bien sûr y en avoir 1, plusieurs ou pas du tout. \n",
    "L'usage d'un `np.Array` facilite énormément les choses puisqu'il est possible d'avoir les vecteurs de valeurs max en ligne ou en colonne. Il suffit donc de fabriquer des matrices booléennes dans chaque cas et d'en faire un `ou` logique.\n"
   ]
  },
  {
   "cell_type": "code",
   "execution_count": 56,
   "metadata": {},
   "outputs": [],
   "source": [
    "def nash(self):\n",
    "    max_x = np.matrix(self.scores['x'].max(0)).repeat(self.size, axis=0)\n",
    "    bool_x = self.scores['x'] == max_x\n",
    "    max_y = np.matrix(self.scores['y'].max(1)).transpose().repeat(self.size, axis=1)\n",
    "    bool_y = self.scores['y'] == max_y\n",
    "    bool_x_y = bool_x & bool_y\n",
    "    return self.scores[bool_x_y]"
   ]
  },
  {
   "cell_type": "markdown",
   "metadata": {},
   "source": [
    "#### Prenons le jeu de la guerre des sexes \n",
    "Principe : Un couple s'est donné rendez-vous pour la soirée, mais aucun ne parvient à se souvenir si c'est pour assister à un match de foot ou aller à l'opéra. \n",
    "Le mari préférerait aller voir le foot, la femme aimerait aller à l'opéra. \n",
    "Tous deux préfèrent cependant aller au même endroit plutôt que d'être seuls.\n",
    "Si l'homme va au stade et que sa femme s'y trouve, il obtient 3.\n",
    "Si il est seul au stade, il obtient 1.\n",
    "Si il va à l'opéra et que sa femme est au stade, il obtient 0.\n",
    "Si il va à l'opéra et que sa femme est aussi à l'opéra, il obtient 2.\n",
    "(Même chose pour la femme en inversant opéra et stade)\n",
    "On obtient donc la matrice gs suivante, puis on teste l'équilibre de Nash."
   ]
  },
  {
   "cell_type": "code",
   "execution_count": 57,
   "metadata": {},
   "outputs": [
    {
     "name": "stdout",
     "output_type": "stream",
     "text": [
      "[(3, 2) (2, 3)]\n"
     ]
    }
   ],
   "source": [
    "gs=[(3,2),(1,1),(0,0),(2,3)]\n",
    "g = Game(gs,['Opera','Stade'])\n",
    "print(nash(g))"
   ]
  },
  {
   "cell_type": "markdown",
   "metadata": {},
   "source": [
    "On remarque ici que le jeu possède deux équilibres de Nash qui correspondent aux situations où le couple est ensemble."
   ]
  },
  {
   "cell_type": "markdown",
   "metadata": {},
   "source": [
    "#### Prenons maintenant le jeu très connu de \"Papier Feuille Ciseaux\" et testons s'il possède un ou plusieurs équilibres de Nash"
   ]
  },
  {
   "cell_type": "code",
   "execution_count": 58,
   "metadata": {},
   "outputs": [
    {
     "name": "stdout",
     "output_type": "stream",
     "text": [
      "[]\n"
     ]
    }
   ],
   "source": [
    "rpc=[(0,0),(-1,1),(1,-1),(1,-1),(0,0),(-1,1),(-1,1),(1,-1),(0,0)]\n",
    "g = Game(rpc,['R','P','C'])\n",
    "print(nash(g))"
   ]
  },
  {
   "cell_type": "markdown",
   "metadata": {},
   "source": [
    "On remarque ici que ce jeu ne possède pas d'équilibre de Nash"
   ]
  },
  {
   "cell_type": "markdown",
   "metadata": {},
   "source": [
    "## L'optimum de Pareto\n",
    "\n"
   ]
  },
  {
   "cell_type": "code",
   "execution_count": 59,
   "metadata": {},
   "outputs": [],
   "source": [
    "def isPareto(self, t, s):\n",
    "    return True if (len(s)==0) else (s[0][0]<=t[0] or s[0][1]<=t[1]) and isPareto(self,t, s[1:])\n",
    "\n",
    "def pareto(self):\n",
    "        res = list()\n",
    "        liste = self.scores.flatten()\n",
    "        for s in liste:\n",
    "            if(isPareto(self,s,liste)):res.append(tuple(s))\n",
    "        return res"
   ]
  },
  {
   "cell_type": "markdown",
   "metadata": {},
   "source": [
    "#### Reprenons le jeu de la guerre des sexes"
   ]
  },
  {
   "cell_type": "code",
   "execution_count": 60,
   "metadata": {},
   "outputs": [
    {
     "name": "stdout",
     "output_type": "stream",
     "text": [
      "[(3, 2), (2, 3)]\n"
     ]
    }
   ],
   "source": [
    "gs=[(3,2),(1,1),(0,0),(2,3)]\n",
    "g = Game(gs,['Opera','Stade'])\n",
    "print(pareto(g))"
   ]
  },
  {
   "cell_type": "markdown",
   "metadata": {},
   "source": [
    "On remarque qu'il y a deux optima de Pareto pour la guerre des sexes qui sont les mêmes que pour les équilibres de Nash."
   ]
  },
  {
   "cell_type": "markdown",
   "metadata": {},
   "source": [
    "#### Tester maintenant l'optimum de Pareto avec le jeu \"Pierre Feuille Ciseaux\" "
   ]
  },
  {
   "cell_type": "code",
   "execution_count": 19,
   "metadata": {},
   "outputs": [],
   "source": [
    "rpc=[(0,0),(-1,1),(1,-1),(1,-1),(0,0),(-1,1),(-1,1),(1,-1),(0,0)]\n",
    "g = Game(rpc,['R','P','C'])"
   ]
  },
  {
   "cell_type": "markdown",
   "metadata": {},
   "source": [
    "## L'équilibre en stratégie dominante\n",
    "\n",
    "Un équilibre en stratégies dominantes est toujours un équilibre de Nash mais l'inverse n'est pas vrai. Il existe deux types de stratégie dominantes : \"strictement dominante\" (toujours >)  et \"faiblement dominante\" (>=). Si on a éliminé les stratégies *strictement* dominées et qu'il ne reste plus qu'une stratégie pour chaque joueur, alors c'est aussi le seul équilibre de Nash. Si on a éliminé les stratégies *faiblement* dominées et qu'il ne reste qu'une stratégie pour chaque joueur, alors c'est un équilibre de Nash, mais il peut y en avoir d'autres (et selon l'ordre d'élimination on tombe sur l'un ou l'autre)"
   ]
  },
  {
   "cell_type": "code",
   "execution_count": 67,
   "metadata": {},
   "outputs": [],
   "source": [
    "# CELINE  idealement il faut une méthode qui fournit la matrice simplifiée\n",
    "# On passe une matrice ; ça renvoie une matrice (éventuellement avec 1 seule case ou eventuellement la même)\n",
    "\n",
    "def dominantStrategy(self, strict=\"True\"):\n",
    "        lignesDominees = []\n",
    "        colonnesDominees = []\n",
    "        findDominated = True\n",
    "        while (findDominated and (len(lignesDominees) != self.size - 1) and (len(colonnesDominees) != self.size - 1)):\n",
    "            findDominated = False\n",
    "            #on regarde les lignes dominées\n",
    "            for i in range(self.size-1) :\n",
    "                ligne1 = self.scores['x'][i]\n",
    "                ligne2 = self.scores['x'][i+1]\n",
    "                if compare(self, ligne1, ligne2, colonnesDominees, strict):\n",
    "                    lignesDominees += [i]\n",
    "                    findDominated = True\n",
    "                if compare(self, ligne2, ligne1, colonnesDominees, strict):\n",
    "                    ligneDominees += [i+1]\n",
    "                    findDominated = True\n",
    "            #on regarde les colonnes dominées\n",
    "            for i in range(self.size-1) :\n",
    "                c1 = self.scores['y'].transpose()[i]\n",
    "                c2 = self.scores['y'].transpose()[i+1]\n",
    "                if compare(self, c1, c2, lignesDominees, strict):\n",
    "                    colonnesDominees += [i]\n",
    "                    findDominated = True\n",
    "                if compare(self, c2, c1, lignesDominees, strict):\n",
    "                    colonnesDominees += [i+1]\n",
    "                    findDominated = True\n",
    "        #return lignesDominees, colonnesDominees\n",
    "        return result(self, lignesDominees, colonnesDominees)\n",
    "    \n",
    "def compare(self, l1,l2, tab, strict):\n",
    "    dominated = True\n",
    "    for i in range(self.size) :\n",
    "        if (strict) :\n",
    "            if ((l1[i] < l2[i] and i not in tab) or i in tab):\n",
    "                dominated = dominated and True\n",
    "            else :\n",
    "                dominated = dominated and False\n",
    "        else  :\n",
    "            if ((l1[i] <= l2[i] and i not in tab) or i in tab):\n",
    "                dominated = dominated and True\n",
    "            else :\n",
    "                dominated = dominated and False\n",
    "    return dominated   \n",
    "\n",
    "def result(self, lignesDominees, colonnesDominees ):\n",
    "    resMatrix = self.scores\n",
    "    for i in range (self.size):\n",
    "            if i in lignesDominees : \n",
    "                resMatrix['x'][i] = None\n",
    "            if i in colonnesDominees :\n",
    "                resMatrix['y'].transpose()[i] = None\n",
    "    print(resMatrix)\n",
    "    \n",
    "    if (len(lignesDominees) == len(colonnesDominees) == self.size - 1):\n",
    "        for i in range (self.size):\n",
    "            if i not in lignesDominees : \n",
    "                resX = i\n",
    "            if i not in colonnesDominees :\n",
    "                resY = i\n",
    "        #return self.scores[resX][resY]\n",
    "        return self.actions[resX], self.actions[resY]\n",
    "    else :\n",
    "        return \"Il n'existe pas de strategie dominante\"\n",
    "    "
   ]
  },
  {
   "cell_type": "markdown",
   "metadata": {},
   "source": [
    "#### Prenons le jeu de la guerre des sexes. \n",
    "On teste les stratégies dominées strictement et faiblement, si une stratégie est dominée, elle sera indiquée comme \"None\""
   ]
  },
  {
   "cell_type": "code",
   "execution_count": 71,
   "metadata": {},
   "outputs": [
    {
     "name": "stdout",
     "output_type": "stream",
     "text": [
      "Avec l'élimination des stratégies strictement dominées : \n",
      "[[(3, 2) (1, 1)]\n",
      " [(0, 0) (2, 3)]]\n",
      "Il n'existe pas de strategie dominante\n",
      " \n",
      "Avec l'élimination des stratégies faiblement dominées : \n",
      "[[(3, 2) (1, 1)]\n",
      " [(0, 0) (2, 3)]]\n",
      "Il n'existe pas de strategie dominante\n"
     ]
    }
   ],
   "source": [
    "gs=[(3,2),(1,1),(0,0),(2,3)]     \n",
    "g = Game(gs,['Opera','Foot'])\n",
    "\n",
    "print(\"Avec l'élimination des stratégies strictement dominées : \")\n",
    "print(dominantStrategy(g))\n",
    "print(\" \")\n",
    "\n",
    "print(\"Avec l'élimination des stratégies faiblement dominées : \")\n",
    "print(dominantStrategy(g, strict=\"False\"))"
   ]
  },
  {
   "cell_type": "markdown",
   "metadata": {},
   "source": [
    "## Toutes ces méthodes peuvent bien sur être intégrées dans la classe Game.\n",
    "\n",
    "On a donc une classe Game avec un cxonstructeur à 2 paramètres : la matrice de gains, et le vecteur de stratégies accessibles\n",
    "puis 3 méthodes\n",
    "nash() qui renvoie ??\n",
    "pareto() qui renvoie ???\n",
    "dominantSimplification() qui renvoie la matrice simplifiée\n",
    "\n",
    "CELINE : y'a pas un moyen de décrire une classe et ses methodes en Markdown ?\n",
    "\n",
    "CELINE : Faire le import qui va bien puis oon attaque avec les exemples qui suivent. Le bloc ci dessous est destiné à disparaitre de cette feuille, mais par contre, on \"l'importe\""
   ]
  },
  {
   "cell_type": "code",
   "execution_count": 77,
   "metadata": {},
   "outputs": [],
   "source": [
    "import numpy as np\n",
    "import math\n",
    "\n",
    "class Game:\n",
    "    def __init__(self, tab, actions):\n",
    "        self.actions=actions\n",
    "        m=np.array(tab,dtype=[('x', object), ('y', object)])\n",
    "        self.size = int(math.sqrt(len(tab)))\n",
    "        self.scores=m.reshape(self.size,self.size)\n",
    "\n",
    "    def nash(self):\n",
    "        max_x = np.matrix(self.scores['x'].max(0)).repeat(self.size, axis=0)\n",
    "        bool_x = self.scores['x'] == max_x\n",
    "        max_y = np.matrix(self.scores['y'].max(1)).transpose().repeat(self.size, axis=1)\n",
    "        bool_y = self.scores['y'] == max_y\n",
    "        bool_x_y = bool_x & bool_y\n",
    "        return self.scores[bool_x_y]\n",
    "    \n",
    "    def isPareto(self, t, s):\n",
    "        return True if (len(s)==0) else (s[0][0]<=t[0] or s[0][1]<=t[1]) and self.isPareto(t, s[1:])\n",
    "    \n",
    "    def pareto(self):\n",
    "        res = list()\n",
    "        liste = self.scores.flatten()\n",
    "        for s in liste:\n",
    "            if(self.isPareto(s,liste)):res.append(tuple(s))\n",
    "        return res\n",
    "    \n",
    "  \n",
    "    def dominantStrategy(self, strict=\"True\"):\n",
    "        lignesDominees = []\n",
    "        colonnesDominees = []\n",
    "        findDominated = True\n",
    "        while (findDominated and (len(lignesDominees) != self.size - 1) and (len(colonnesDominees) != self.size - 1)):\n",
    "            findDominated = False\n",
    "            #on regarde les lignes dominées\n",
    "            for i in range(self.size-1) :\n",
    "                ligne1 = self.scores['x'][i]\n",
    "                ligne2 = self.scores['x'][i+1]\n",
    "                if self.compare( ligne1, ligne2, colonnesDominees, strict):\n",
    "                    lignesDominees += [i]\n",
    "                    findDominated = True\n",
    "                if self.compare(ligne2, ligne1, colonnesDominees, strict):\n",
    "                    ligneDominees += [i+1]\n",
    "                    findDominated = True\n",
    "            #on regarde les colonnes dominées\n",
    "            for i in range(self.size-1) :\n",
    "                c1 = self.scores['y'].transpose()[i]\n",
    "                c2 = self.scores['y'].transpose()[i+1]\n",
    "                if self.compare( c1, c2, lignesDominees, strict):\n",
    "                    colonnesDominees += [i]\n",
    "                    findDominated = True\n",
    "                if self.compare(c2, c1, lignesDominees, strict):\n",
    "                    colonnesDominees += [i+1]\n",
    "                    findDominated = True\n",
    "        #return lignesDominees, colonnesDominees\n",
    "        return self.result(lignesDominees, colonnesDominees)\n",
    "    \n",
    "    def compare(self, l1,l2, tab, strict):\n",
    "        dominated = True\n",
    "        for i in range(self.size) :\n",
    "            if (strict) :\n",
    "                if ((l1[i] < l2[i] and i not in tab) or i in tab):\n",
    "                    dominated = dominated and True\n",
    "                else :\n",
    "                    dominated = dominated and False\n",
    "            else  :\n",
    "                if ((l1[i] <= l2[i] and i not in tab) or i in tab):\n",
    "                    dominated = dominated and True\n",
    "                else :\n",
    "                    dominated = dominated and False\n",
    "        return dominated   \n",
    "    \n",
    "    def result(self, lignesDominees, colonnesDominees ):\n",
    "        resMatrix = np.array(self.scores, copy=True) \n",
    "        for i in range (self.size):\n",
    "            if i in lignesDominees : \n",
    "                resMatrix['x'][i] = None\n",
    "            if i in colonnesDominees :\n",
    "                resMatrix['y'].transpose()[i] = None\n",
    "        print(resMatrix)\n",
    "        if (len(lignesDominees) == len(colonnesDominees) == self.size - 1):\n",
    "            for i in range (self.size):\n",
    "                if i not in lignesDominees : \n",
    "                    resX = i\n",
    "                if i not in colonnesDominees :\n",
    "                    resY = i\n",
    "            #return self.scores[resX][resY]\n",
    "            return self.actions[resX], self.actions[resY]\n",
    "        else :\n",
    "            return \"Il n'existe pas de strategie dominante\""
   ]
  },
  {
   "cell_type": "markdown",
   "metadata": {},
   "source": [
    "### Le dilemme du prisonnier\n",
    "\n",
    "Le Dilemme du prisonnier, identifié par M. Flood and M. Dresher de la Rand Corporation en 1950, est un modèle de théorie des jeux spécialement créé pour montrer que l'équilibre de Nash n'est pas toujours une bonne idée.\n",
    "\n",
    "\n",
    "#### Testons maintenant les équilibres de Nash, Pareto et les éliminations de stratégies dominées pour le dilemme du prisonnier.\n"
   ]
  },
  {
   "cell_type": "code",
   "execution_count": 78,
   "metadata": {},
   "outputs": [
    {
     "name": "stdout",
     "output_type": "stream",
     "text": [
      "[(1, 1)]\n",
      "Il existe un équilibres de Nash pour le dilemme du prisonner\n",
      " \n",
      "[(3, 3), (0, 5), (5, 0)]\n",
      "Il n'existe pas d'optimum de Pareto pour le dilemme du prisonnier\n",
      " \n",
      "[[(None, None) (None, 5)]\n",
      " [(5, None) (1, 1)]]\n",
      "('D', 'D')\n",
      "La stratégie strictement dominante pour le dilemme du prisonnier est la stratégie où les deux joueurs choisissent de trahir.\n",
      " \n",
      "[[(None, None) (None, 5)]\n",
      " [(5, None) (1, 1)]]\n",
      "('D', 'D')\n",
      "Une stratégie faiblement dominante pour le dilemme du prisonnier est la stratégie où les deux jouers choisissent de trahir.\n"
     ]
    }
   ],
   "source": [
    "g = Game(dp,['C','D'])\n",
    "\n",
    "\n",
    "print(g.nash())\n",
    "print(\"Il existe un équilibres de Nash pour le dilemme du prisonner\")\n",
    "print(\" \")\n",
    "\n",
    "print(g.pareto())\n",
    "print(\"Il n'existe pas d'optimum de Pareto pour le dilemme du prisonnier\")\n",
    "print(\" \")\n",
    "\n",
    "print(g.dominantStrategy())\n",
    "print(\"La stratégie strictement dominante pour le dilemme du prisonnier est la stratégie où les deux joueurs choisissent de trahir.\")\n",
    "print(\" \")\n",
    "\n",
    "print(g.dominantStrategy(strict=\"False\"))\n",
    "print(\"Une stratégie faiblement dominante pour le dilemme du prisonnier est la stratégie où les deux jouers choisissent de trahir.\")\n",
    "\n"
   ]
  },
  {
   "cell_type": "markdown",
   "metadata": {},
   "source": [
    "## Amusons nous\n",
    "\n",
    "### Créer une matrice de jeu au hasard"
   ]
  },
  {
   "cell_type": "code",
   "execution_count": 81,
   "metadata": {},
   "outputs": [
    {
     "name": "stdout",
     "output_type": "stream",
     "text": [
      "[[(3, 0) (0, 0) (3, 1)]\n",
      " [(2, 0) (2, 0) (3, 0)]\n",
      " [(1, 0) (3, 4) (4, 2)]]\n",
      "[(3, 4)]\n"
     ]
    }
   ],
   "source": [
    "x = np.random.randint(0, 5, (3,3))\n",
    "y = np.random.randint(0, 5, (3,3))\n",
    "couples = [(a,b) for a,b in zip(x.flatten(),y.flatten())]\n",
    "g = Game(couples, None)\n",
    "print(g.scores)\n",
    "print(g.nash())"
   ]
  },
  {
   "cell_type": "markdown",
   "metadata": {},
   "source": [
    "### Générer toutes les matrices\n",
    "\n",
    "En Python il est facile d'énumérer tous les jeux à 2 coups à partir de valeurs fixées. Par exemple tous jeux que l'on peut construire avec les valeurs 1 et 2.\n",
    "La Librairie `itertools` fournit de nombreux itérateurs efficaces, notamment pour les combinaisons, permutations et produits cartésiens. Ici c'est le produit cartésien des valeurs qui nous interesse.\n",
    "On peut ensuite par exemple compter combien de jeux ont 0,1 ou plusieurs équilibres de Nash.\n"
   ]
  },
  {
   "cell_type": "code",
   "execution_count": 82,
   "metadata": {},
   "outputs": [
    {
     "name": "stdout",
     "output_type": "stream",
     "text": [
      "256\n",
      "Impression de 10 jeux aléatoires trouvés sur 256\n",
      "[(2, 2), (2, 2), (2, 1), (2, 1)]\n",
      "[(1, 1), (2, 1), (2, 1), (1, 1)]\n",
      "[(1, 1), (1, 1), (1, 1), (2, 1)]\n",
      "[(2, 1), (2, 1), (1, 2), (2, 2)]\n",
      "[(1, 1), (1, 1), (2, 2), (2, 2)]\n",
      "[(2, 1), (1, 2), (2, 2), (2, 2)]\n",
      "[(1, 2), (2, 2), (1, 1), (1, 1)]\n",
      "[(2, 2), (2, 1), (1, 2), (1, 2)]\n",
      "[(2, 1), (1, 1), (2, 2), (1, 1)]\n",
      "[(2, 2), (2, 1), (2, 1), (2, 1)]\n"
     ]
    },
    {
     "data": {
      "text/plain": [
       "{0: 2, 1: 44, 2: 114, 3: 80, 4: 16}"
      ]
     },
     "execution_count": 82,
     "metadata": {},
     "output_type": "execute_result"
    }
   ],
   "source": [
    "import itertools;\n",
    "import random;\n",
    "\n",
    "def numberOfGames(valeurs, nbCoups):\n",
    "    return len(valeurs)**((nbCoups**2)*2)\n",
    "\n",
    "print(numberOfGames([1,2],2))\n",
    "\n",
    "def enumAllGames(valeurs, nbCoups):\n",
    "    res = [q for q in itertools.product([p for p in itertools.product(list(valeurs), repeat=2)], repeat=nbCoups**2)]\n",
    "    return [[res[j][k] for k in range(nbCoups**2)] for j in range(len(res))]\n",
    "\n",
    "n = enumAllGames([1,2],2)\n",
    "print(\"Impression de 10 jeux aléatoires trouvés sur \"+str(numberOfGames([1,2],2)))\n",
    "for i in range (10):\n",
    "    print(random.choice(n))\n",
    "        \n",
    "def countNashEquilibria(valeurs, coups):\n",
    "    results = [Game(i,None).nash().size for i in enumAllGames(valeurs, coups)]\n",
    "    return dict((i,results.count(i)) for i in set(results))\n",
    "\n",
    "# Combien de jeux à 2 coups batis sur (1,2) on x equilbres de Nash\n",
    "countNashEquilibria([1,2],2)"
   ]
  },
  {
   "cell_type": "markdown",
   "metadata": {},
   "source": [
    "# Trouver des jeux avec des contraintes particulières\n",
    "Cherchons par exemple, les jeux à deux coups dont les valeurs sont prises dans (1,2) et qui ont exactement les mêmes equilibres nash et pareto"
   ]
  },
  {
   "cell_type": "code",
   "execution_count": 83,
   "metadata": {},
   "outputs": [
    {
     "name": "stdout",
     "output_type": "stream",
     "text": [
      "1820 jeux étudiés.\n"
     ]
    },
    {
     "data": {
      "text/plain": [
       "[[(0, 0), (0, 1), (0, 3), (1, 3)],\n",
       " [(0, 0), (0, 1), (0, 3), (1, 5)],\n",
       " [(0, 0), (0, 1), (0, 3), (3, 3)],\n",
       " [(0, 0), (0, 1), (0, 3), (3, 5)],\n",
       " [(0, 0), (0, 1), (0, 3), (5, 3)],\n",
       " [(0, 0), (0, 1), (0, 3), (5, 5)],\n",
       " [(0, 0), (0, 1), (0, 5), (1, 5)],\n",
       " [(0, 0), (0, 1), (0, 5), (3, 5)],\n",
       " [(0, 0), (0, 1), (0, 5), (5, 5)],\n",
       " [(0, 0), (0, 1), (1, 0), (3, 3)],\n",
       " [(0, 0), (0, 1), (1, 0), (3, 5)],\n",
       " [(0, 0), (0, 1), (1, 0), (5, 3)],\n",
       " [(0, 0), (0, 1), (1, 0), (5, 5)],\n",
       " [(0, 0), (0, 1), (1, 1), (3, 3)],\n",
       " [(0, 0), (0, 1), (1, 1), (3, 5)],\n",
       " [(0, 0), (0, 1), (1, 1), (5, 3)],\n",
       " [(0, 0), (0, 1), (1, 1), (5, 5)],\n",
       " [(0, 0), (0, 1), (1, 3), (3, 3)],\n",
       " [(0, 0), (0, 1), (1, 3), (3, 5)],\n",
       " [(0, 0), (0, 1), (1, 3), (5, 3)],\n",
       " [(0, 0), (0, 1), (1, 3), (5, 5)],\n",
       " [(0, 0), (0, 1), (1, 5), (3, 5)],\n",
       " [(0, 0), (0, 1), (1, 5), (5, 5)],\n",
       " [(0, 0), (0, 1), (3, 0), (5, 3)],\n",
       " [(0, 0), (0, 1), (3, 0), (5, 5)],\n",
       " [(0, 0), (0, 1), (3, 1), (5, 3)],\n",
       " [(0, 0), (0, 1), (3, 1), (5, 5)],\n",
       " [(0, 0), (0, 1), (3, 3), (5, 3)],\n",
       " [(0, 0), (0, 1), (3, 3), (5, 5)],\n",
       " [(0, 0), (0, 1), (3, 5), (5, 5)],\n",
       " [(0, 0), (0, 3), (0, 5), (1, 5)],\n",
       " [(0, 0), (0, 3), (0, 5), (3, 5)],\n",
       " [(0, 0), (0, 3), (0, 5), (5, 5)],\n",
       " [(0, 0), (0, 3), (1, 0), (3, 5)],\n",
       " [(0, 0), (0, 3), (1, 0), (5, 5)],\n",
       " [(0, 0), (0, 3), (1, 1), (3, 5)],\n",
       " [(0, 0), (0, 3), (1, 1), (5, 5)],\n",
       " [(0, 0), (0, 3), (1, 3), (3, 5)],\n",
       " [(0, 0), (0, 3), (1, 3), (5, 5)],\n",
       " [(0, 0), (0, 3), (1, 5), (3, 5)],\n",
       " [(0, 0), (0, 3), (1, 5), (5, 5)],\n",
       " [(0, 0), (0, 3), (3, 0), (5, 5)],\n",
       " [(0, 0), (0, 3), (3, 1), (5, 5)],\n",
       " [(0, 0), (0, 3), (3, 3), (5, 5)],\n",
       " [(0, 0), (0, 3), (3, 5), (5, 5)],\n",
       " [(0, 0), (1, 0), (1, 1), (3, 1)],\n",
       " [(0, 0), (1, 0), (1, 1), (3, 3)],\n",
       " [(0, 0), (1, 0), (1, 1), (3, 5)],\n",
       " [(0, 0), (1, 0), (1, 1), (5, 1)],\n",
       " [(0, 0), (1, 0), (1, 1), (5, 3)],\n",
       " [(0, 0), (1, 0), (1, 1), (5, 5)],\n",
       " [(0, 0), (1, 0), (1, 3), (3, 3)],\n",
       " [(0, 0), (1, 0), (1, 3), (3, 5)],\n",
       " [(0, 0), (1, 0), (1, 3), (5, 3)],\n",
       " [(0, 0), (1, 0), (1, 3), (5, 5)],\n",
       " [(0, 0), (1, 0), (1, 5), (3, 5)],\n",
       " [(0, 0), (1, 0), (1, 5), (5, 5)],\n",
       " [(0, 0), (1, 0), (3, 0), (5, 1)],\n",
       " [(0, 0), (1, 0), (3, 0), (5, 3)],\n",
       " [(0, 0), (1, 0), (3, 0), (5, 5)],\n",
       " [(0, 0), (1, 0), (3, 1), (5, 1)],\n",
       " [(0, 0), (1, 0), (3, 1), (5, 3)],\n",
       " [(0, 0), (1, 0), (3, 1), (5, 5)],\n",
       " [(0, 0), (1, 0), (3, 3), (5, 3)],\n",
       " [(0, 0), (1, 0), (3, 3), (5, 5)],\n",
       " [(0, 0), (1, 0), (3, 5), (5, 5)],\n",
       " [(0, 0), (1, 1), (1, 3), (3, 3)],\n",
       " [(0, 0), (1, 1), (1, 3), (3, 5)],\n",
       " [(0, 0), (1, 1), (1, 3), (5, 3)],\n",
       " [(0, 0), (1, 1), (1, 3), (5, 5)],\n",
       " [(0, 0), (1, 1), (1, 5), (3, 5)],\n",
       " [(0, 0), (1, 1), (1, 5), (5, 5)],\n",
       " [(0, 0), (1, 1), (3, 0), (5, 3)],\n",
       " [(0, 0), (1, 1), (3, 0), (5, 5)],\n",
       " [(0, 0), (1, 1), (3, 1), (5, 3)],\n",
       " [(0, 0), (1, 1), (3, 1), (5, 5)],\n",
       " [(0, 0), (1, 1), (3, 3), (5, 3)],\n",
       " [(0, 0), (1, 1), (3, 3), (5, 5)],\n",
       " [(0, 0), (1, 1), (3, 5), (5, 5)],\n",
       " [(0, 0), (1, 3), (1, 5), (3, 5)],\n",
       " [(0, 0), (1, 3), (1, 5), (5, 5)],\n",
       " [(0, 0), (1, 3), (3, 0), (5, 5)],\n",
       " [(0, 0), (1, 3), (3, 1), (5, 5)],\n",
       " [(0, 0), (1, 3), (3, 3), (5, 5)],\n",
       " [(0, 0), (1, 3), (3, 5), (5, 5)],\n",
       " [(0, 0), (3, 0), (3, 1), (5, 1)],\n",
       " [(0, 0), (3, 0), (3, 1), (5, 3)],\n",
       " [(0, 0), (3, 0), (3, 1), (5, 5)],\n",
       " [(0, 0), (3, 0), (3, 3), (5, 3)],\n",
       " [(0, 0), (3, 0), (3, 3), (5, 5)],\n",
       " [(0, 0), (3, 0), (3, 5), (5, 5)],\n",
       " [(0, 0), (3, 1), (3, 3), (5, 3)],\n",
       " [(0, 0), (3, 1), (3, 3), (5, 5)],\n",
       " [(0, 0), (3, 1), (3, 5), (5, 5)],\n",
       " [(0, 0), (3, 3), (3, 5), (5, 5)],\n",
       " [(0, 1), (0, 3), (0, 5), (1, 5)],\n",
       " [(0, 1), (0, 3), (0, 5), (3, 5)],\n",
       " [(0, 1), (0, 3), (0, 5), (5, 5)],\n",
       " [(0, 1), (0, 3), (1, 0), (3, 5)],\n",
       " [(0, 1), (0, 3), (1, 0), (5, 5)],\n",
       " [(0, 1), (0, 3), (1, 1), (3, 5)],\n",
       " [(0, 1), (0, 3), (1, 1), (5, 5)],\n",
       " [(0, 1), (0, 3), (1, 3), (3, 5)],\n",
       " [(0, 1), (0, 3), (1, 3), (5, 5)],\n",
       " [(0, 1), (0, 3), (1, 5), (3, 5)],\n",
       " [(0, 1), (0, 3), (1, 5), (5, 5)],\n",
       " [(0, 1), (0, 3), (3, 0), (5, 5)],\n",
       " [(0, 1), (0, 3), (3, 1), (5, 5)],\n",
       " [(0, 1), (0, 3), (3, 3), (5, 5)],\n",
       " [(0, 1), (0, 3), (3, 5), (5, 5)],\n",
       " [(0, 1), (1, 0), (1, 1), (3, 3)],\n",
       " [(0, 1), (1, 0), (1, 1), (3, 5)],\n",
       " [(0, 1), (1, 0), (1, 1), (5, 3)],\n",
       " [(0, 1), (1, 0), (1, 1), (5, 5)],\n",
       " [(0, 1), (1, 0), (1, 3), (3, 3)],\n",
       " [(0, 1), (1, 0), (1, 3), (3, 5)],\n",
       " [(0, 1), (1, 0), (1, 3), (5, 3)],\n",
       " [(0, 1), (1, 0), (1, 3), (5, 5)],\n",
       " [(0, 1), (1, 0), (1, 5), (3, 5)],\n",
       " [(0, 1), (1, 0), (1, 5), (5, 5)],\n",
       " [(0, 1), (1, 0), (3, 0), (5, 3)],\n",
       " [(0, 1), (1, 0), (3, 0), (5, 5)],\n",
       " [(0, 1), (1, 0), (3, 1), (5, 3)],\n",
       " [(0, 1), (1, 0), (3, 1), (5, 5)],\n",
       " [(0, 1), (1, 0), (3, 3), (5, 3)],\n",
       " [(0, 1), (1, 0), (3, 3), (5, 5)],\n",
       " [(0, 1), (1, 0), (3, 5), (5, 5)],\n",
       " [(0, 1), (1, 1), (1, 3), (3, 3)],\n",
       " [(0, 1), (1, 1), (1, 3), (3, 5)],\n",
       " [(0, 1), (1, 1), (1, 3), (5, 3)],\n",
       " [(0, 1), (1, 1), (1, 3), (5, 5)],\n",
       " [(0, 1), (1, 1), (1, 5), (3, 5)],\n",
       " [(0, 1), (1, 1), (1, 5), (5, 5)],\n",
       " [(0, 1), (1, 1), (3, 0), (5, 3)],\n",
       " [(0, 1), (1, 1), (3, 0), (5, 5)],\n",
       " [(0, 1), (1, 1), (3, 1), (5, 3)],\n",
       " [(0, 1), (1, 1), (3, 1), (5, 5)],\n",
       " [(0, 1), (1, 1), (3, 3), (5, 3)],\n",
       " [(0, 1), (1, 1), (3, 3), (5, 5)],\n",
       " [(0, 1), (1, 1), (3, 5), (5, 5)],\n",
       " [(0, 1), (1, 3), (1, 5), (3, 5)],\n",
       " [(0, 1), (1, 3), (1, 5), (5, 5)],\n",
       " [(0, 1), (1, 3), (3, 0), (5, 5)],\n",
       " [(0, 1), (1, 3), (3, 1), (5, 5)],\n",
       " [(0, 1), (1, 3), (3, 3), (5, 5)],\n",
       " [(0, 1), (1, 3), (3, 5), (5, 5)],\n",
       " [(0, 1), (3, 0), (3, 1), (5, 3)],\n",
       " [(0, 1), (3, 0), (3, 1), (5, 5)],\n",
       " [(0, 1), (3, 0), (3, 3), (5, 3)],\n",
       " [(0, 1), (3, 0), (3, 3), (5, 5)],\n",
       " [(0, 1), (3, 0), (3, 5), (5, 5)],\n",
       " [(0, 1), (3, 1), (3, 3), (5, 3)],\n",
       " [(0, 1), (3, 1), (3, 3), (5, 5)],\n",
       " [(0, 1), (3, 1), (3, 5), (5, 5)],\n",
       " [(0, 1), (3, 3), (3, 5), (5, 5)],\n",
       " [(0, 3), (1, 0), (1, 1), (3, 5)],\n",
       " [(0, 3), (1, 0), (1, 1), (5, 5)],\n",
       " [(0, 3), (1, 0), (1, 3), (3, 5)],\n",
       " [(0, 3), (1, 0), (1, 3), (5, 5)],\n",
       " [(0, 3), (1, 0), (1, 5), (3, 5)],\n",
       " [(0, 3), (1, 0), (1, 5), (5, 5)],\n",
       " [(0, 3), (1, 0), (3, 0), (5, 5)],\n",
       " [(0, 3), (1, 0), (3, 1), (5, 5)],\n",
       " [(0, 3), (1, 0), (3, 3), (5, 5)],\n",
       " [(0, 3), (1, 0), (3, 5), (5, 5)],\n",
       " [(0, 3), (1, 1), (1, 3), (3, 5)],\n",
       " [(0, 3), (1, 1), (1, 3), (5, 5)],\n",
       " [(0, 3), (1, 1), (1, 5), (3, 5)],\n",
       " [(0, 3), (1, 1), (1, 5), (5, 5)],\n",
       " [(0, 3), (1, 1), (3, 0), (5, 5)],\n",
       " [(0, 3), (1, 1), (3, 1), (5, 5)],\n",
       " [(0, 3), (1, 1), (3, 3), (5, 5)],\n",
       " [(0, 3), (1, 1), (3, 5), (5, 5)],\n",
       " [(0, 3), (1, 3), (1, 5), (3, 5)],\n",
       " [(0, 3), (1, 3), (1, 5), (5, 5)],\n",
       " [(0, 3), (1, 3), (3, 0), (5, 5)],\n",
       " [(0, 3), (1, 3), (3, 1), (5, 5)],\n",
       " [(0, 3), (1, 3), (3, 3), (5, 5)],\n",
       " [(0, 3), (1, 3), (3, 5), (5, 5)],\n",
       " [(0, 3), (3, 0), (3, 1), (5, 5)],\n",
       " [(0, 3), (3, 0), (3, 3), (5, 5)],\n",
       " [(0, 3), (3, 0), (3, 5), (5, 5)],\n",
       " [(0, 3), (3, 1), (3, 3), (5, 5)],\n",
       " [(0, 3), (3, 1), (3, 5), (5, 5)],\n",
       " [(0, 3), (3, 3), (3, 5), (5, 5)],\n",
       " [(1, 0), (1, 1), (1, 3), (3, 3)],\n",
       " [(1, 0), (1, 1), (1, 3), (3, 5)],\n",
       " [(1, 0), (1, 1), (1, 3), (5, 3)],\n",
       " [(1, 0), (1, 1), (1, 3), (5, 5)],\n",
       " [(1, 0), (1, 1), (1, 5), (3, 5)],\n",
       " [(1, 0), (1, 1), (1, 5), (5, 5)],\n",
       " [(1, 0), (1, 1), (3, 0), (5, 3)],\n",
       " [(1, 0), (1, 1), (3, 0), (5, 5)],\n",
       " [(1, 0), (1, 1), (3, 1), (5, 3)],\n",
       " [(1, 0), (1, 1), (3, 1), (5, 5)],\n",
       " [(1, 0), (1, 1), (3, 3), (5, 3)],\n",
       " [(1, 0), (1, 1), (3, 3), (5, 5)],\n",
       " [(1, 0), (1, 1), (3, 5), (5, 5)],\n",
       " [(1, 0), (1, 3), (1, 5), (3, 5)],\n",
       " [(1, 0), (1, 3), (1, 5), (5, 5)],\n",
       " [(1, 0), (1, 3), (3, 0), (5, 5)],\n",
       " [(1, 0), (1, 3), (3, 1), (5, 5)],\n",
       " [(1, 0), (1, 3), (3, 3), (5, 5)],\n",
       " [(1, 0), (1, 3), (3, 5), (5, 5)],\n",
       " [(1, 0), (3, 0), (3, 1), (5, 1)],\n",
       " [(1, 0), (3, 0), (3, 1), (5, 3)],\n",
       " [(1, 0), (3, 0), (3, 1), (5, 5)],\n",
       " [(1, 0), (3, 0), (3, 3), (5, 3)],\n",
       " [(1, 0), (3, 0), (3, 3), (5, 5)],\n",
       " [(1, 0), (3, 0), (3, 5), (5, 5)],\n",
       " [(1, 0), (3, 1), (3, 3), (5, 3)],\n",
       " [(1, 0), (3, 1), (3, 3), (5, 5)],\n",
       " [(1, 0), (3, 1), (3, 5), (5, 5)],\n",
       " [(1, 0), (3, 3), (3, 5), (5, 5)],\n",
       " [(1, 1), (1, 3), (1, 5), (3, 5)],\n",
       " [(1, 1), (1, 3), (1, 5), (5, 5)],\n",
       " [(1, 1), (1, 3), (3, 0), (5, 5)],\n",
       " [(1, 1), (1, 3), (3, 1), (5, 5)],\n",
       " [(1, 1), (1, 3), (3, 3), (5, 5)],\n",
       " [(1, 1), (1, 3), (3, 5), (5, 5)],\n",
       " [(1, 1), (3, 0), (3, 1), (5, 3)],\n",
       " [(1, 1), (3, 0), (3, 1), (5, 5)],\n",
       " [(1, 1), (3, 0), (3, 3), (5, 3)],\n",
       " [(1, 1), (3, 0), (3, 3), (5, 5)],\n",
       " [(1, 1), (3, 0), (3, 5), (5, 5)],\n",
       " [(1, 1), (3, 1), (3, 3), (5, 3)],\n",
       " [(1, 1), (3, 1), (3, 3), (5, 5)],\n",
       " [(1, 1), (3, 1), (3, 5), (5, 5)],\n",
       " [(1, 1), (3, 3), (3, 5), (5, 5)],\n",
       " [(1, 3), (3, 0), (3, 1), (5, 5)],\n",
       " [(1, 3), (3, 0), (3, 3), (5, 5)],\n",
       " [(1, 3), (3, 0), (3, 5), (5, 5)],\n",
       " [(1, 3), (3, 1), (3, 3), (5, 5)],\n",
       " [(1, 3), (3, 1), (3, 5), (5, 5)],\n",
       " [(1, 3), (3, 3), (3, 5), (5, 5)],\n",
       " [(3, 0), (3, 1), (3, 3), (5, 3)],\n",
       " [(3, 0), (3, 1), (3, 3), (5, 5)],\n",
       " [(3, 0), (3, 1), (3, 5), (5, 5)],\n",
       " [(3, 0), (3, 3), (3, 5), (5, 5)],\n",
       " [(3, 1), (3, 3), (3, 5), (5, 5)]]"
      ]
     },
     "execution_count": 83,
     "metadata": {},
     "output_type": "execute_result"
    }
   ],
   "source": [
    "nbCoups=2\n",
    "res = [q for q in itertools.combinations([p for p in itertools.product([0,1,3,5], repeat=2)], nbCoups**2)]\n",
    "games = [[res[j][k] for k in range(nbCoups**2)] for j in range(len(res))]\n",
    "print(str(len(games))+\" jeux étudiés.\")\n",
    "r = []\n",
    "for g in games:\n",
    "    if ((sorted(Game(g,None).pareto()) == sorted(Game(g,None).nash().tolist())) and (len(set(g)) == len(g))):\n",
    "        r.append(g)\n",
    "r\n"
   ]
  },
  {
   "cell_type": "markdown",
   "metadata": {},
   "source": [
    "# Bibliographie\n",
    "\n",
    "A refaire avec uniquelment de la théorie des jeux\n",
    "\n",
    "- Von Neumann et Morgenstern etc ...."
   ]
  }
 ],
 "metadata": {
  "kernelspec": {
   "display_name": "Python 3",
   "language": "python",
   "name": "python3"
  },
  "language_info": {
   "codemirror_mode": {
    "name": "ipython",
    "version": 3
   },
   "file_extension": ".py",
   "mimetype": "text/x-python",
   "name": "python",
   "nbconvert_exporter": "python",
   "pygments_lexer": "ipython3",
   "version": "3.6.8"
  }
 },
 "nbformat": 4,
 "nbformat_minor": 2
}
