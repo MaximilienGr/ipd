{
 "cells": [
  {
   "cell_type": "code",
   "execution_count": null,
   "metadata": {},
   "outputs": [],
   "source": []
  },
  {
   "cell_type": "markdown",
   "metadata": {
    "collapsed": true
   },
   "source": [
    "# La théorie des jeux\n",
    "\n",
    "Auteur : Philippe Mathieu, CRISTAL Lab, SMAC Team, University of Lille, email : philippe.mathieu@univ-lille.fr\n",
    "\n",
    "Contributeurs : Louisa Fodil (CRISTAL/SMAC), Céline Petitpré (CRISTAL/SMAC)\n",
    "\n",
    "Creation : 18/01/2018\n",
    "\n",
    "\n",
    "\n",
    "Céline : Cette feuille  parle uniquement de théorie des jeux simulanés, et d'équilibre. Onpeut parler du dilemme du prisonnier mais on ne parle surtout pas du dilemme itéré du prisonnier. On ne parle pas ici de jeux itérés ! par contre on peut s'amuser à montrer les caractérisques d'un jeu particulier comme le dilemme du prisonnier\n",
    "\n",
    "\n",
    "## Introduction\n",
    "\n",
    "La théorie des jeux est la discipline qui étudie de manière formelle les interactions que peuvent avoir plusieurs individus dans une situation conflictuelle. Le terme \"jeu\" n'a a priori rien de ludique, Von Neumann l'ayant par exemple développée pour la modélisation des relations Franco-Américaines de 1945 et notamment lors de l'épisode de la baie des cochons. La théorie des jeux décompose les jeux en fonction du nombre de joueurs (généralement 2), puis principalement en deux grandes familles : les jeux simultanés, dans lesquels les joueurs jouent simultanément et donc ne savent pas en jouant ce que joue l'adversaire (papier-feuiile-ciseaux par exemple) et les jeux non simultanés où chacun joue tour à tour (les échecs par exemple). \n",
    "\n",
    "Nous nous plaçons ici dans le cadre des **jeux à deux joueurs, simultanés**. On représente en général ce type de jeu par une matrice de gains. Les coups d'un des deux joueurs se trouvent en abscisse et ceux de l'autre en ordonnée. A l'intersection de chaque case, correspondant à une situation, on note les points qui seront distribués à chacun. La théorie décompose encore ces deux en deux autres familles, les jeux à somme nulle dans lesquels tout se que perd l'un est gagné par l'autre, et les jeux à somme non nulle dans lesquels les points distribués sont différents selon les coups joués. Nous sommes ici dans un jeu **à somme non nulle**.\n",
    "\n",
    "Cette feuille a pour objectif de montrer comment établir et comparer des stratégies à ce jeu.\n",
    "On trouvera plus de détails sur [Wikipedia](http://www.wikidedia.org)\n",
    "\n",
    "\n",
    "\n",
    "# Une matrice de gains\n",
    "\n",
    "Tout d'abord, il est necessaire de pouvoir coder une matrice de gains. Une classe `Game` va nous\n",
    "permettre de stocker les gains des deux joueurs pour une situation donnée. \n",
    "Un objet Game prend un tableau de couples en paramètre, correspondant aux scores de chaque issue, ainsi que le tableau des noms des actions correspondantes.\n",
    "En interne, Le package *numpy* offre un objet `Array` idéal pour stocker et manipuler cela. Pour un jeu à `n` coups, nous créons un Array `n*n` de couples de valeurs `(x,y)` avec `x` le gain du joueur 1 et `y` le gain du joueur 2. \n",
    "\n",
    "Cette classe doit permettre aussi de fournir le ou les équilibres potentiels.\n",
    "Pour calculer la situation de \"non regret\" correspondant à l'équilibre de Nash il suffit de noter les réponses du joueur1 les plus adaptés à chaque stratégie du joueur 2 (donc calculer les max(x) dans la chaque colonne), puis calculer les meilleures réponses du joueur 2 aux stratégies du joueur 1 (donc calculer les max(y) dans chaque ligne). Si une issue possede 2 max, c'est un équilibre de Nash. Selon les jeux, il peut bien sûr y en avoir 1, plusieurs ou pas du tout. \n",
    "L'usage d'un `np.Array` facilite énormément les choses puisqu'il est possible d'avoir les vecteurs de valeurs max en ligne ou en colonne. Il suffit donc de fabriquer des matrices booléennes dans chaque cas et d'en faire un `ou` logique."
   ]
  },
  {
   "cell_type": "code",
   "execution_count": 3,
   "metadata": {},
   "outputs": [],
   "source": [
    "import numpy as np\n",
    "import math\n",
    "\n",
    "class Game:\n",
    "    def __init__(self, tab, actions):\n",
    "        self.actions=actions\n",
    "        m=np.array(tab,dtype=[('x', 'int32'), ('y', 'int32')])\n",
    "        self.size = int(math.sqrt(len(tab)))\n",
    "        self.scores=m.reshape(self.size,self.size)"
   ]
  },
  {
   "cell_type": "code",
   "execution_count": 4,
   "metadata": {},
   "outputs": [
    {
     "data": {
      "text/plain": [
       "array([[(3, 3), (0, 5)],\n",
       "       [(5, 0), (1, 1)]], dtype=[('x', '<i4'), ('y', '<i4')])"
      ]
     },
     "execution_count": 4,
     "metadata": {},
     "output_type": "execute_result"
    }
   ],
   "source": [
    "dp =[(3,3),(0,5),(5,0),(1,1)]   # Dilemme du prisonnier : 1 equilibrium\n",
    "gs=[(3,2),(1,1),(0,0),(2,3)]     # Guerre des sexes : 2 equilibria\n",
    "mp=[(1,-1),(-1,1),(-1,1),(1,-1)] # matching pennies : 0 equilibrium\n",
    "rpc=[(0,0),(-1,1),(1,-1),(1,-1),(0,0),(-1,1),(-1,1),(1,-1),(0,0)] # papier feuille ciseaux  : 0 equilibrium\n",
    "g = Game(dp,['C','D'])\n",
    "g.scores"
   ]
  },
  {
   "cell_type": "markdown",
   "metadata": {},
   "source": [
    "# La notion d'équilibre\n",
    "\n",
    "on explique ici l'hypothèse de rationalité des agents en économie, et la recherche d'équilibre.\n",
    "\n",
    "Les économistes se sont très vite emparés de ces modèles pour étudier différents problèmes économiques. Afin d'identifier la meilleure manière de jouer à un jeu fixé, ils se sont basés sur la notion abstraite de rationalité du joueur. Partant du principe que, dans le pire des cas, l'adversaire est aussi rationnel, le raisonnement que je m'applique doit donc aussi être appliqué à mon adversaire. très vite, deux définitions de la rationalité sont apparues, définissant ainsi un (ou éventuellement plusieurs) point fixe d'un jeu, point vers lequel rationnellement, si tout le monde réfléchis de manière identique, on parviendra :\n",
    "1. *L'équilibre de Nash*, du nom de son inventeur, John Nash. L'équilibre de Nash est une situation de non regret de chacun des joueurs. *\"nous avons joué simultanément, mais maintenant que je sais ce que l'autre a joué, je n'ai aucun regret\"*\n",
    "2. *L'optimum de Pareto*, du nom de son inventeur, Wilfried Pareto. l'optimum de Pareto est une situation où aucune situation n'est supérieure pour les deux joueurs, et donc ils n'ont aucun interêt collectivement à changer.\n",
    "\n",
    "Plusieurs notions co-existent dans la littérature. \n",
    "- optimum de pareto :\n",
    "- équilibre de Nash : situation de non regret\n",
    "- élimination des stratégies dominées"
   ]
  },
  {
   "cell_type": "code",
   "execution_count": 5,
   "metadata": {},
   "outputs": [],
   "source": [
    "import numpy as np\n",
    "import math\n",
    "\n",
    "class Game:\n",
    "    def __init__(self, tab, actions):\n",
    "        self.actions=actions\n",
    "        m=np.array(tab,dtype=[('x', 'int32'), ('y', 'int32')])\n",
    "        self.size = int(math.sqrt(len(tab)))\n",
    "        self.scores=m.reshape(self.size,self.size)\n",
    "\n",
    "    def nash(self):\n",
    "        max_x = np.matrix(self.scores['x'].max(0)).repeat(self.size, axis=0)\n",
    "        bool_x = self.scores['x'] == max_x\n",
    "        max_y = np.matrix(self.scores['y'].max(1)).transpose().repeat(self.size, axis=1)\n",
    "        bool_y = self.scores['y'] == max_y\n",
    "        bool_x_y = bool_x & bool_y\n",
    "        return self.scores[bool_x_y]\n",
    "\n",
    "    def isPareto(self, t, s):\n",
    "        return True if (len(s)==0) else (s[0][0] <= t[0] or s[0][1] <= t[1]) and self.isPareto(t, s[1:])\n",
    "\n",
    "    def pareto(self):\n",
    "        res = []\n",
    "        for s in self.scores:\n",
    "            if(self.isPareto(s,self.scores)):\n",
    "                res.append(s) \n",
    "        return res"
   ]
  },
  {
   "cell_type": "code",
   "execution_count": 7,
   "metadata": {},
   "outputs": [
    {
     "ename": "SyntaxError",
     "evalue": "invalid syntax (<ipython-input-7-f8aab8e1e409>, line 1)",
     "output_type": "error",
     "traceback": [
      "\u001b[0;36m  File \u001b[0;32m\"<ipython-input-7-f8aab8e1e409>\"\u001b[0;36m, line \u001b[0;32m1\u001b[0m\n\u001b[0;31m    faire ici qq experiences sur des jeux différents du DP, genre gs ou mp ou un autre au choix mais connu dans la litterature\u001b[0m\n\u001b[0m            ^\u001b[0m\n\u001b[0;31mSyntaxError\u001b[0m\u001b[0;31m:\u001b[0m invalid syntax\n"
     ]
    }
   ],
   "source": [
    "faire ici qq experiences sur des jeux différents du DP, genre gs ou mp ou un autre au choix mais connu dans la litterature"
   ]
  },
  {
   "cell_type": "markdown",
   "metadata": {},
   "source": [
    "## Le dilemme du prisonnier\n",
    "\n",
    "Le Dilemme du prisonnier, identifié par M. Flood and M. Dresher de la Rand Corporation en 1950, est un modèle de théorie des jeux spécialement créé pour montrer que l'équilibre de Nash n'est pas toujours une bonne idée.\n",
    "\n",
    "\n",
    "Celine : on s'autorise dans cette feuille à parler du dilemme du prisonnier, mais pas du dilemme itéré du prisonnier. On ne parle pas ici de jeux itérés ! par contre on peut s'amuser à montrer les caractérisqieus d'un jeu particulier comme le dilemme du prisonnier (que j'ai ici appelé dp). Faire qq expleriences sur le dp juste en dessous : vérifier Nash, pareto et elimination des dominées\n"
   ]
  },
  {
   "cell_type": "code",
   "execution_count": 6,
   "metadata": {},
   "outputs": [
    {
     "ename": "NameError",
     "evalue": "name 'dip' is not defined",
     "output_type": "error",
     "traceback": [
      "\u001b[0;31m---------------------------------------------------------------------------\u001b[0m",
      "\u001b[0;31mNameError\u001b[0m                                 Traceback (most recent call last)",
      "\u001b[0;32m<ipython-input-6-b63ce2e3f92e>\u001b[0m in \u001b[0;36m<module>\u001b[0;34m\u001b[0m\n\u001b[0;32m----> 1\u001b[0;31m \u001b[0mg\u001b[0m \u001b[0;34m=\u001b[0m \u001b[0mGame\u001b[0m\u001b[0;34m(\u001b[0m\u001b[0mdip\u001b[0m\u001b[0;34m,\u001b[0m\u001b[0;34m[\u001b[0m\u001b[0;34m'C'\u001b[0m\u001b[0;34m,\u001b[0m\u001b[0;34m'D'\u001b[0m\u001b[0;34m]\u001b[0m\u001b[0;34m)\u001b[0m\u001b[0;34m\u001b[0m\u001b[0;34m\u001b[0m\u001b[0m\n\u001b[0m\u001b[1;32m      2\u001b[0m \u001b[0mg\u001b[0m\u001b[0;34m.\u001b[0m\u001b[0mscores\u001b[0m\u001b[0;34m\u001b[0m\u001b[0;34m\u001b[0m\u001b[0m\n\u001b[1;32m      3\u001b[0m \u001b[0mg\u001b[0m\u001b[0;34m.\u001b[0m\u001b[0mnash\u001b[0m\u001b[0;34m(\u001b[0m\u001b[0;34m)\u001b[0m\u001b[0;34m\u001b[0m\u001b[0;34m\u001b[0m\u001b[0m\n\u001b[1;32m      4\u001b[0m \u001b[0;31m#g.pareto()\u001b[0m\u001b[0;34m\u001b[0m\u001b[0;34m\u001b[0m\u001b[0;34m\u001b[0m\u001b[0m\n",
      "\u001b[0;31mNameError\u001b[0m: name 'dip' is not defined"
     ]
    }
   ],
   "source": [
    "g = Game(dip,['C','D'])\n",
    "g.scores\n",
    "g.nash()\n",
    "#g.pareto()"
   ]
  },
  {
   "cell_type": "markdown",
   "metadata": {},
   "source": [
    "## Amusons nous\n",
    "\n",
    "### Créer une matrice de jeu au hasard"
   ]
  },
  {
   "cell_type": "code",
   "execution_count": 4,
   "metadata": {},
   "outputs": [
    {
     "name": "stdout",
     "output_type": "stream",
     "text": [
      "[[(1, 3) (0, 3) (1, 2)]\n",
      " [(4, 1) (4, 4) (1, 3)]\n",
      " [(3, 1) (2, 4) (0, 3)]]\n",
      "[(4, 4)]\n"
     ]
    }
   ],
   "source": [
    "x = np.random.randint(0, 5, (3,3))\n",
    "y = np.random.randint(0, 5, (3,3))\n",
    "couples = [(a,b) for a,b in zip(x.flatten(),y.flatten())]\n",
    "g = Game(couples, None)\n",
    "print(g.scores)\n",
    "print(g.nash())"
   ]
  },
  {
   "cell_type": "markdown",
   "metadata": {},
   "source": [
    "### Générer toutes les matrices\n",
    "\n",
    "En Python il est facile d'énumérer tous les jeux à 2 coups à partir de valeurs fixées. Par exemple tous jeux que l'on peut construire avec les valeurs 1 et 2.\n",
    "La Librairie `itertools` fournit de nombreux itérateurs efficaces, notamment pour les combinaisons, permutations et produits cartésiens. Ici c'est le produit cartésien des valeurs qui nous interesse.\n",
    "On peut ensuite par exemple compter combien de jeux ont 0,1 ou plusieurs équilibres de Nash.\n"
   ]
  },
  {
   "cell_type": "code",
   "execution_count": 5,
   "metadata": {},
   "outputs": [
    {
     "name": "stdout",
     "output_type": "stream",
     "text": [
      "256\n",
      "Impression de 10 jeux aléatoires trouvés sur 256\n",
      "[(2, 1), (2, 1), (1, 1), (1, 2)]\n",
      "[(2, 2), (2, 1), (2, 2), (1, 1)]\n",
      "[(2, 2), (2, 1), (2, 1), (1, 2)]\n",
      "[(2, 2), (1, 1), (1, 2), (1, 1)]\n",
      "[(2, 2), (1, 1), (1, 1), (2, 2)]\n",
      "[(1, 1), (1, 1), (1, 1), (2, 1)]\n",
      "[(2, 1), (1, 2), (2, 2), (1, 1)]\n",
      "[(2, 1), (2, 2), (2, 1), (2, 1)]\n",
      "[(1, 2), (2, 1), (2, 2), (1, 2)]\n",
      "[(1, 1), (2, 2), (1, 1), (1, 2)]\n"
     ]
    },
    {
     "data": {
      "text/plain": [
       "{0: 2, 1: 44, 2: 114, 3: 80, 4: 16}"
      ]
     },
     "execution_count": 5,
     "metadata": {},
     "output_type": "execute_result"
    }
   ],
   "source": [
    "import itertools;\n",
    "import random;\n",
    "\n",
    "def numberOfGames(valeurs, nbCoups):\n",
    "    return len(valeurs)**((nbCoups**2)*2)\n",
    "\n",
    "print(numberOfGames([1,2],2))\n",
    "\n",
    "def enumAllGames(valeurs, nbCoups):\n",
    "    res = [q for q in itertools.product([p for p in itertools.product(list(valeurs), repeat=2)], repeat=nbCoups**2)]\n",
    "    return [[res[j][k] for k in range(nbCoups**2)] for j in range(len(res))]\n",
    "\n",
    "n = enumAllGames([1,2],2)\n",
    "print(\"Impression de 10 jeux aléatoires trouvés sur \"+str(numberOfGames([1,2],2)))\n",
    "for i in range (10):\n",
    "    print(random.choice(n))\n",
    "        \n",
    "def countNashEquilibria(valeurs, coups):\n",
    "    results = [Game(i,None).nash().size for i in enumAllGames(valeurs, coups)]\n",
    "    return dict((i,results.count(i)) for i in set(results))\n",
    "\n",
    "# Combien de jeux à 2 coups batis sur (1,2) on x equilbres de Nash\n",
    "countNashEquilibria([1,2],2)"
   ]
  },
  {
   "cell_type": "markdown",
   "metadata": {},
   "source": [
    "# Trouver des jeux avec des contraintes particulières\n",
    "Cherchons par exemple, les jeux à deux coups dont les valeurs sont prises dans (1,2) et qui ont exactement les mêmes equilibres nash et pareto"
   ]
  },
  {
   "cell_type": "code",
   "execution_count": 6,
   "metadata": {},
   "outputs": [
    {
     "name": "stdout",
     "output_type": "stream",
     "text": [
      "1820 jeux étudiés.\n"
     ]
    },
    {
     "ename": "TypeError",
     "evalue": "'>=' not supported between instances of 'numpy.ndarray' and 'numpy.ndarray'",
     "output_type": "error",
     "traceback": [
      "\u001b[0;31m---------------------------------------------------------------------------\u001b[0m",
      "\u001b[0;31mTypeError\u001b[0m                                 Traceback (most recent call last)",
      "\u001b[0;32m<ipython-input-6-775d3a0b730b>\u001b[0m in \u001b[0;36m<module>\u001b[0;34m()\u001b[0m\n\u001b[1;32m      5\u001b[0m \u001b[0mr\u001b[0m \u001b[0;34m=\u001b[0m \u001b[0;34m[\u001b[0m\u001b[0;34m]\u001b[0m\u001b[0;34m\u001b[0m\u001b[0m\n\u001b[1;32m      6\u001b[0m \u001b[0;32mfor\u001b[0m \u001b[0mg\u001b[0m \u001b[0;32min\u001b[0m \u001b[0mgames\u001b[0m\u001b[0;34m:\u001b[0m\u001b[0;34m\u001b[0m\u001b[0m\n\u001b[0;32m----> 7\u001b[0;31m     \u001b[0;32mif\u001b[0m \u001b[0;34m(\u001b[0m\u001b[0;34m(\u001b[0m\u001b[0msorted\u001b[0m\u001b[0;34m(\u001b[0m\u001b[0mGame\u001b[0m\u001b[0;34m(\u001b[0m\u001b[0mg\u001b[0m\u001b[0;34m,\u001b[0m\u001b[0;32mNone\u001b[0m\u001b[0;34m)\u001b[0m\u001b[0;34m.\u001b[0m\u001b[0mpareto\u001b[0m\u001b[0;34m(\u001b[0m\u001b[0;34m)\u001b[0m\u001b[0;34m)\u001b[0m \u001b[0;34m==\u001b[0m \u001b[0msorted\u001b[0m\u001b[0;34m(\u001b[0m\u001b[0mGame\u001b[0m\u001b[0;34m(\u001b[0m\u001b[0mg\u001b[0m\u001b[0;34m,\u001b[0m\u001b[0;32mNone\u001b[0m\u001b[0;34m)\u001b[0m\u001b[0;34m.\u001b[0m\u001b[0mnash\u001b[0m\u001b[0;34m(\u001b[0m\u001b[0;34m)\u001b[0m\u001b[0;34m.\u001b[0m\u001b[0mtolist\u001b[0m\u001b[0;34m(\u001b[0m\u001b[0;34m)\u001b[0m\u001b[0;34m)\u001b[0m\u001b[0;34m)\u001b[0m \u001b[0;32mand\u001b[0m \u001b[0;34m(\u001b[0m\u001b[0mlen\u001b[0m\u001b[0;34m(\u001b[0m\u001b[0mset\u001b[0m\u001b[0;34m(\u001b[0m\u001b[0mg\u001b[0m\u001b[0;34m)\u001b[0m\u001b[0;34m)\u001b[0m \u001b[0;34m==\u001b[0m \u001b[0mlen\u001b[0m\u001b[0;34m(\u001b[0m\u001b[0mg\u001b[0m\u001b[0;34m)\u001b[0m\u001b[0;34m)\u001b[0m\u001b[0;34m)\u001b[0m\u001b[0;34m:\u001b[0m\u001b[0;34m\u001b[0m\u001b[0m\n\u001b[0m\u001b[1;32m      8\u001b[0m         \u001b[0mr\u001b[0m\u001b[0;34m.\u001b[0m\u001b[0mappend\u001b[0m\u001b[0;34m(\u001b[0m\u001b[0mg\u001b[0m\u001b[0;34m)\u001b[0m\u001b[0;34m\u001b[0m\u001b[0m\n\u001b[1;32m      9\u001b[0m \u001b[0mr\u001b[0m\u001b[0;34m\u001b[0m\u001b[0m\n",
      "\u001b[0;32m<ipython-input-1-5b618ecf29fb>\u001b[0m in \u001b[0;36mpareto\u001b[0;34m(self)\u001b[0m\n\u001b[1;32m     23\u001b[0m         \u001b[0mres\u001b[0m \u001b[0;34m=\u001b[0m \u001b[0;34m[\u001b[0m\u001b[0;34m]\u001b[0m\u001b[0;34m\u001b[0m\u001b[0m\n\u001b[1;32m     24\u001b[0m         \u001b[0;32mfor\u001b[0m \u001b[0ms\u001b[0m \u001b[0;32min\u001b[0m \u001b[0mself\u001b[0m\u001b[0;34m.\u001b[0m\u001b[0mscores\u001b[0m\u001b[0;34m:\u001b[0m\u001b[0;34m\u001b[0m\u001b[0m\n\u001b[0;32m---> 25\u001b[0;31m             \u001b[0;32mif\u001b[0m\u001b[0;34m(\u001b[0m\u001b[0mself\u001b[0m\u001b[0;34m.\u001b[0m\u001b[0misPareto\u001b[0m\u001b[0;34m(\u001b[0m\u001b[0ms\u001b[0m\u001b[0;34m,\u001b[0m\u001b[0mself\u001b[0m\u001b[0;34m.\u001b[0m\u001b[0mscores\u001b[0m\u001b[0;34m)\u001b[0m\u001b[0;34m)\u001b[0m\u001b[0;34m:\u001b[0m\u001b[0;34m\u001b[0m\u001b[0m\n\u001b[0m\u001b[1;32m     26\u001b[0m                 \u001b[0mres\u001b[0m\u001b[0;34m.\u001b[0m\u001b[0mappend\u001b[0m\u001b[0;34m(\u001b[0m\u001b[0ms\u001b[0m\u001b[0;34m)\u001b[0m\u001b[0;34m\u001b[0m\u001b[0m\n\u001b[1;32m     27\u001b[0m         \u001b[0;32mreturn\u001b[0m \u001b[0mres\u001b[0m\u001b[0;34m\u001b[0m\u001b[0m\n",
      "\u001b[0;32m<ipython-input-1-5b618ecf29fb>\u001b[0m in \u001b[0;36misPareto\u001b[0;34m(self, t, s)\u001b[0m\n\u001b[1;32m     18\u001b[0m \u001b[0;34m\u001b[0m\u001b[0m\n\u001b[1;32m     19\u001b[0m     \u001b[0;32mdef\u001b[0m \u001b[0misPareto\u001b[0m\u001b[0;34m(\u001b[0m\u001b[0mself\u001b[0m\u001b[0;34m,\u001b[0m \u001b[0mt\u001b[0m\u001b[0;34m,\u001b[0m \u001b[0ms\u001b[0m\u001b[0;34m)\u001b[0m\u001b[0;34m:\u001b[0m\u001b[0;34m\u001b[0m\u001b[0m\n\u001b[0;32m---> 20\u001b[0;31m         \u001b[0;32mreturn\u001b[0m \u001b[0;32mTrue\u001b[0m \u001b[0;32mif\u001b[0m \u001b[0;34m(\u001b[0m\u001b[0mlen\u001b[0m\u001b[0;34m(\u001b[0m\u001b[0ms\u001b[0m\u001b[0;34m)\u001b[0m\u001b[0;34m==\u001b[0m\u001b[0;36m0\u001b[0m\u001b[0;34m)\u001b[0m \u001b[0;32melse\u001b[0m \u001b[0;34m(\u001b[0m\u001b[0ms\u001b[0m\u001b[0;34m[\u001b[0m\u001b[0;36m0\u001b[0m\u001b[0;34m]\u001b[0m\u001b[0;34m[\u001b[0m\u001b[0;36m0\u001b[0m\u001b[0;34m]\u001b[0m \u001b[0;34m<=\u001b[0m \u001b[0mt\u001b[0m\u001b[0;34m[\u001b[0m\u001b[0;36m0\u001b[0m\u001b[0;34m]\u001b[0m \u001b[0;32mor\u001b[0m \u001b[0ms\u001b[0m\u001b[0;34m[\u001b[0m\u001b[0;36m0\u001b[0m\u001b[0;34m]\u001b[0m\u001b[0;34m[\u001b[0m\u001b[0;36m1\u001b[0m\u001b[0;34m]\u001b[0m \u001b[0;34m<=\u001b[0m \u001b[0mt\u001b[0m\u001b[0;34m[\u001b[0m\u001b[0;36m1\u001b[0m\u001b[0;34m]\u001b[0m\u001b[0;34m)\u001b[0m \u001b[0;32mand\u001b[0m \u001b[0mself\u001b[0m\u001b[0;34m.\u001b[0m\u001b[0misPareto\u001b[0m\u001b[0;34m(\u001b[0m\u001b[0mt\u001b[0m\u001b[0;34m,\u001b[0m \u001b[0ms\u001b[0m\u001b[0;34m[\u001b[0m\u001b[0;36m1\u001b[0m\u001b[0;34m:\u001b[0m\u001b[0;34m]\u001b[0m\u001b[0;34m)\u001b[0m\u001b[0;34m\u001b[0m\u001b[0m\n\u001b[0m\u001b[1;32m     21\u001b[0m \u001b[0;34m\u001b[0m\u001b[0m\n\u001b[1;32m     22\u001b[0m     \u001b[0;32mdef\u001b[0m \u001b[0mpareto\u001b[0m\u001b[0;34m(\u001b[0m\u001b[0mself\u001b[0m\u001b[0;34m)\u001b[0m\u001b[0;34m:\u001b[0m\u001b[0;34m\u001b[0m\u001b[0m\n",
      "\u001b[0;31mTypeError\u001b[0m: '>=' not supported between instances of 'numpy.ndarray' and 'numpy.ndarray'"
     ]
    }
   ],
   "source": [
    "nbCoups=2\n",
    "res = [q for q in itertools.combinations([p for p in itertools.product([0,1,3,5], repeat=2)], nbCoups**2)]\n",
    "games = [[res[j][k] for k in range(nbCoups**2)] for j in range(len(res))]\n",
    "print(str(len(games))+\" jeux étudiés.\")\n",
    "r = []\n",
    "for g in games:\n",
    "    if ((sorted(Game(g,None).pareto()) == sorted(Game(g,None).nash().tolist())) and (len(set(g)) == len(g))):\n",
    "        r.append(g)\n",
    "r\n"
   ]
  },
  {
   "cell_type": "markdown",
   "metadata": {},
   "source": [
    "# Bibliographie\n",
    "\n",
    "A refaire avec uniquelment de la théorie des jeux\n",
    "\n",
    "- Von Neumann et Morgenstern etc ...."
   ]
  }
 ],
 "metadata": {
  "kernelspec": {
   "display_name": "Python 3",
   "language": "python",
   "name": "python3"
  },
  "language_info": {
   "codemirror_mode": {
    "name": "ipython",
    "version": 3
   },
   "file_extension": ".py",
   "mimetype": "text/x-python",
   "name": "python",
   "nbconvert_exporter": "python",
   "pygments_lexer": "ipython3",
   "version": "3.7.3"
  }
 },
 "nbformat": 4,
 "nbformat_minor": 2
}
