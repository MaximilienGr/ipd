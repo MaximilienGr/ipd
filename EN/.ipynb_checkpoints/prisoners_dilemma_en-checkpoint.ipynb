{
 "cells": [
  {
   "cell_type": "markdown",
   "metadata": {
    "colab_type": "text",
    "collapsed": true,
    "id": "yRbUtz__A1a_"
   },
   "source": [
    "# The iterated prisoner's dilemma\n",
    "\n",
    "Author : Philippe Mathieu, [CRISTAL Lab](http://www.cristal.univ-lille.fr), [SMAC team](https://www.cristal.univ-lille.fr/?rubrique27&eid=17), [Lille University](http://www.univ-lille.fr), email : philippe.mathieu@univ-lille.fr\n",
    "\n",
    "Contributors : Louisa Fodil (CRISTAL/SMAC), Céline Petitpré (CRISTAL/SMAC)\n",
    "\n",
    "Creation : 18/01/2018\n",
    "\n",
    "## Introduction\n",
    "\n",
    "The Prisoner's Dilemma (PD) is a **simultaneous**, **two-player**, **non-zero-sum** game, highlighted by Merill Flood & Melvin Dreschler in 1950 to show that Nash's balance is not always ideal. The iterated version of the game (IPD) allows you to express strategies that are based on the game history, and therefore learn from the past. In 1980 Robert Axelrod organized a competition for the iterated version of the game in which one of the participants, Anatol Rappoport, highlighted the famous TFT strategy. This iterated version and TFT strategy were popularized in 1984 in Robert Axelrod's book \"The Evolution of Cooperation\". Since then, thousands of publications have been produced on this subject, in all fields!\n",
    "\n",
    "This notebook aims to show how to establish and compare strategies to this game.\n",
    "\n",
    "We consider here a `Game` class allowing to code a game\n",
    "\n",
    "----\n",
    "### Game(tab, actions)\n",
    "- `tab` : the list of score pairs\n",
    "- `actions` : the list of possible strategies\n",
    "\n",
    "**Methods**\n",
    "- `getDominantStrategies(self, strict='True')` which prints a list of indexes of non-dominated strategies and returns a new Game with this new matrix\n",
    "- `getNash(self)` which returns a list of Nash equilibrium indexes.\n",
    "- `getPareto(self)` which returns a list of indexes of Pareto's equilibria"
   ]
  },
  {
   "cell_type": "code",
   "execution_count": null,
   "metadata": {
    "colab": {},
    "colab_type": "code",
    "id": "m3GwEBZoA1bB"
   },
   "outputs": [],
   "source": [
    "%run ../src/Game.py\n",
    "\n",
    "dip =[(3,3),(0,5),(5,0),(1,1)]   # Prisoner's dilemma\n",
    "g = Game(dip,['C','D'])\n",
    "g.getNash()"
   ]
  },
  {
   "cell_type": "markdown",
   "metadata": {
    "colab_type": "text",
    "id": "UUUxBWJNA1bI"
   },
   "source": [
    "# A strategy\n",
    "\n",
    "A strategy aims to decide which move to play. In addition to the payoff matrix, the information available for a strategy is the moves played by both players in the past. The simplest strategies are obviously those that do not take into account this past, such as strategies that periodically play the same sequence of moves. To ensure a principle of autonomy of each agent, a strategy is of course able to provide his next move, but takes care of storing his previous moves if necessary.\n",
    "\n",
    "\n",
    "#### Let's create a class of strategies of this category\n",
    "The class we define here is very simple: strategies that periodically play moves, without thinking much! For the moment, it is not linked to any game since this kind of behaviour can be found in any game."
   ]
  },
  {
   "cell_type": "code",
   "execution_count": null,
   "metadata": {
    "colab": {},
    "colab_type": "code",
    "id": "OMrjZ1ciA1bK"
   },
   "outputs": [],
   "source": [
    "from abc import abstractmethod\n",
    "class Strategy():\n",
    "    def setMemory(self,mem):\n",
    "        pass\n",
    "    \n",
    "    def getAction(self,tick):\n",
    "        pass\n",
    "    \n",
    "    def __copy__(self):\n",
    "        pass\n",
    "\n",
    "    def update(self,x,y):\n",
    "        pass\n",
    "    \n",
    "\n",
    "class Periodic(Strategy):\n",
    "    def __init__(self, sequence, name=None):\n",
    "        super().__init__()\n",
    "        self.sequence = sequence.upper()\n",
    "        self.step = 0\n",
    "        self.name = \"per_\"+sequence if (name == None) else name\n",
    "\n",
    "    def getAction(self,tick):\n",
    "        return self.sequence[tick % len(self.sequence)]\n",
    "\n",
    "    def clone(self):\n",
    "        object = Periodic(self.sequence, self.name)\n",
    "        return object\n",
    "\n",
    "    def update(self,x,y):\n",
    "        pass\n",
    "    \n",
    "print(\"All is ok\")"
   ]
  },
  {
   "cell_type": "markdown",
   "metadata": {},
   "source": [
    "#### Let's test our Periodic class"
   ]
  },
  {
   "cell_type": "code",
   "execution_count": null,
   "metadata": {
    "colab": {},
    "colab_type": "code",
    "id": "EfyXlQEHA1bO",
    "outputId": "74d8e124-29e6-4706-fb27-7f606eb09335"
   },
   "outputs": [],
   "source": [
    "s1 = Periodic(\"abc\")\n",
    "print(s1.name,end=\"\\t\")\n",
    "for i in range (0,10):\n",
    "    print(s1.getAction(i), end=' ')\n",
    "# there must be 10 moves. it starts with A and ends with A.    "
   ]
  },
  {
   "cell_type": "markdown",
   "metadata": {
    "colab_type": "text",
    "id": "_C-a0YOMA1bS"
   },
   "source": [
    "# One meeting\n",
    "A meeting involves two strategies during a number of moves at a fixed game. The score of each is the sum of the scores obtained on each move, according to the game matrix."
   ]
  },
  {
   "cell_type": "code",
   "execution_count": null,
   "metadata": {
    "colab": {},
    "colab_type": "code",
    "id": "TKAUYaK8A1bU"
   },
   "outputs": [],
   "source": [
    "class Meeting :      \n",
    "    def __init__(self,game,s1,s2,length=1000):\n",
    "        self.game = game\n",
    "        self.s1=s1.clone()\n",
    "        self.s2=s2.clone()\n",
    "        self.length=length\n",
    "        self.nb_cooperation_s1 = 0\n",
    "        self.nb_cooperation_s2 = 0\n",
    "        \n",
    "    def reinit(self):\n",
    "        self.s1_score=0\n",
    "        self.s2_score=0\n",
    "        self.s1_rounds=\"\"\n",
    "        self.s2_rounds=\"\"\n",
    "    \n",
    "    def run(self):\n",
    "        self.reinit()\n",
    "        for tick in range(0,self.length):\n",
    "            c1=self.s1.getAction(tick).upper()\n",
    "            c2=self.s2.getAction(tick).upper()\n",
    "            if (c1 == \"C\"):\n",
    "                self.nb_cooperation_s1 +=1\n",
    "            if (c2 == \"C\"):\n",
    "                self.nb_cooperation_s2 +=1\n",
    "            self.s1_rounds+=c1\n",
    "            self.s2_rounds+=c2\n",
    "            self.s1.update(c1,c2)\n",
    "            self.s2.update(c2,c1)\n",
    "            act=self.game.actions\n",
    "            self.s1_score+=self.game.scores['x'][act.index(c1),act.index(c2)]\n",
    "            self.s2_score+=self.game.scores['y'][act.index(c1),act.index(c2)]\n",
    "            \n",
    "print(\"All is ok\")"
   ]
  },
  {
   "cell_type": "markdown",
   "metadata": {
    "colab_type": "text",
    "id": "68U3c_SQA1bY"
   },
   "source": [
    "A meeting between two strategies is trivial: we initialize a game, we create 2 strategies, and we pass them on to the Meeting."
   ]
  },
  {
   "cell_type": "code",
   "execution_count": null,
   "metadata": {
    "colab": {},
    "colab_type": "code",
    "id": "0864WspmA1ba",
    "outputId": "64c3249c-3ee6-49d3-a2e3-815687254e17"
   },
   "outputs": [],
   "source": [
    "dip =[(3,3),(0,5),(5,0),(1,1)]   # Prisoner's dilemma\n",
    "g = Game(dip,['C','D'])\n",
    "s1=Periodic(\"CCD\")\n",
    "s2=Periodic(\"DDC\")\n",
    "m = Meeting(g,s1,s2,10)\n",
    "m.run()\n",
    "print(m.s1.name+\"\\t\"+m.s1_rounds+\" \"+str(m.s1_score))\n",
    "print(m.s2.name+\"\\t\"+m.s2_rounds+\" \"+str(m.s2_score))\n",
    "# We must get 15,35\n",
    "print()\n",
    "print(\"Number of cooperations : \" )\n",
    "print (m.s1.name+\"\\t\" + str(m.nb_cooperation_s1))\n",
    "print (m.s2.name+\"\\t\" + str(m.nb_cooperation_s2))"
   ]
  },
  {
   "cell_type": "markdown",
   "metadata": {
    "colab_type": "text",
    "id": "FDFZwmWaA1be"
   },
   "source": [
    "# A tournament\n",
    "\n",
    "A tournament is applied to a set of strategies. It consists in bringing together any couple of strategies in a meeting, including each strategy against itself. This kind of tournament is called a \"round-robin\" tournament. In this way, a square matrix of scores is filled in. In such a tournament, the score of each strategy is the sum of the scores it has obtained. The winning strategy is the one with the highest score.\n",
    "\n",
    "A tournament is now defined using 4 parameters: the game to which it is applied, all the strategies evaluated, the length of the games, the number of repetitions performed if needed."
   ]
  },
  {
   "cell_type": "code",
   "execution_count": null,
   "metadata": {
    "colab": {},
    "colab_type": "code",
    "id": "NvsSXzRpA1bf"
   },
   "outputs": [],
   "source": [
    "import pandas as pd\n",
    "import numpy as np\n",
    "\n",
    "class Tournament:\n",
    "    def __init__(self, game, strategies, length=1000, repeat=1):\n",
    "        self.strategies = strategies\n",
    "        self.game = game\n",
    "        self.length=length\n",
    "        self.repeat=repeat\n",
    "        size=len(strategies);\n",
    "        df = pd.DataFrame(np.zeros((size,size+1),dtype=np.int32))\n",
    "        df.columns, df.index = [s.name for s in self.strategies]+[\"Total\"], [s.name for s in self.strategies]\n",
    "        self.matrix = df\n",
    "        df2 = pd.DataFrame(np.zeros((size,size+1),dtype=np.int32))\n",
    "        df2.columns, df2.index = [s.name for s in self.strategies]+[\"Total\"], [s.name for s in self.strategies]\n",
    "        self.cooperations = df2\n",
    "\n",
    "    def run(self):\n",
    "        for k in range(self.repeat):\n",
    "            for i in range (0,len(self.strategies)):\n",
    "                for j in range (i,len(self.strategies)):\n",
    "                    meet = Meeting(self.game, self.strategies[i], self.strategies[j], self.length)\n",
    "                    meet.run()\n",
    "                    self.matrix.at[self.strategies[i].name, self.strategies[j].name] = meet.s1_score\n",
    "                    self.matrix.at[self.strategies[j].name, self.strategies[i].name] = meet.s2_score\n",
    "                    self.cooperations.at[self.strategies[i].name, self.strategies[j].name] = meet.nb_cooperation_s1\n",
    "                    self.cooperations.at[self.strategies[j].name, self.strategies[i].name] = meet.nb_cooperation_s2\n",
    "        self.matrix[\"Total\"] = self.matrix.sum(axis=1)\n",
    "        self.matrix.sort_values(by='Total', ascending=False, inplace=True)\n",
    "        rows = list(self.matrix.index) + [\"Total\"]\n",
    "        self.matrix = self.matrix.reindex(columns=rows)\n",
    "        self.cooperations[\"Total\"] = self.cooperations.sum(axis=1)\n",
    "        self.cooperations.sort_values(by='Total', ascending=False, inplace=True)\n",
    "        rows = list(self.cooperations.index) + [\"Total\"]\n",
    "        self.cooperations = self.cooperations.reindex(columns=rows)\n",
    "        \n",
    "print(\"All is ok\")"
   ]
  },
  {
   "cell_type": "markdown",
   "metadata": {},
   "source": [
    "#### Let's do a tournament.\n",
    "The Prisoners' Dilemma is a **non-zero-sum** game: you don't win the same thing in all situations. It is important to note that in the tournament we do not count the number of wins but the total scores!"
   ]
  },
  {
   "cell_type": "code",
   "execution_count": null,
   "metadata": {
    "colab": {},
    "colab_type": "code",
    "id": "oXMo5n8BA1bi"
   },
   "outputs": [],
   "source": [
    "bag = []\n",
    "bag.append(Periodic('C'))\n",
    "bag.append(Periodic('D'))\n",
    "bag.append(Periodic('DDC'))\n",
    "bag.append(Periodic('CCD'))\n",
    "t=Tournament(g,bag,10)\n",
    "t.run()\n",
    "print(\"The score matrix: \")\n",
    "print(t.matrix)\n",
    "print()\n",
    "# SUR 10 COUPS : [('per_D', 120), ('per_DDC', 102), ('per_CCD', 78), ('per_C', 60)]\n",
    "print(\"The cooperation matrix: \")\n",
    "print(t.cooperations)"
   ]
  },
  {
   "cell_type": "markdown",
   "metadata": {
    "colab_type": "text",
    "id": "Jnn5vuBuA1bm"
   },
   "source": [
    "## Generate sets of strategies\n",
    "\n",
    "Constituting a \"soup\" of strategies to test the performance of a given strategy can be considered subjective. The best-case scenario is to build indisputable soups, for example by building sets of all strategies that meet a global constraint.\n",
    "For example, we can constitute the set of all the periodicals of period 1 (there are 2) and/or period 2 (there are $2^2=4$) and/or period 3 (there are $2^3=8$), or even all together.\n",
    "(note that when we generate CCC which obviously corresponds to CC or C)"
   ]
  },
  {
   "cell_type": "code",
   "execution_count": null,
   "metadata": {
    "colab": {},
    "colab_type": "code",
    "id": "32Oxpz09A1bo",
    "outputId": "d3fe95b4-06a7-49f1-a7ab-68ce3aa43024"
   },
   "outputs": [],
   "source": [
    "import itertools\n",
    "cards = ['C','D']\n",
    "periodics = [p for p in itertools.product(cards, repeat=1)]+[p for p in itertools.product(cards, repeat=2)] + [p for p in itertools.product(cards, repeat=3)]\n",
    "strats = [Periodic(''.join(p)) for p in periodics] # join to transform in strings\n",
    "print(str(len(strats))+\" stratégies générées\")\n",
    "# 14 are generated: 2 with period lengh of 1, 4 with period lengh of 2, 8 with period lengh of 3"
   ]
  },
  {
   "cell_type": "markdown",
   "metadata": {
    "colab_type": "text",
    "id": "kb4I4kJYA1br"
   },
   "source": [
    "# Ecological competitions\n",
    "\n",
    "Tournaments give an interesting, but insufficient ranking. They do not study the robustness of a strategy according to the number of opponents' representants. Ecological competition responds to this problem: it makes it possible to vary the populations of each strategy. The principle of ecological competition is very simple. Initially, we consider `n` representants of each of the `s` strategies evaluated. The `n*s` representants all play against each other in a tournament. In step 1, the representants of each strategy are determined in proportion to their success in the previous step. The better you are, the more descendants you will have. An ecological competition therefore requires a strategy to be robust to changes in the number of opponents. An ecological ranking is therefore more \"robust\" than a tournament ranking. It is immediately understood that to be well ranked, it is preferable to play very well against your own colleagues, since with a little luck, they will be more and more numerous.\n",
    "An ecological competition can then be represented on a temporal graph, the generations on the abscissa and the populations of each strategy on the ordinate. We will use `matplotlib` to compute these graphs."
   ]
  },
  {
   "cell_type": "code",
   "execution_count": null,
   "metadata": {
    "colab": {},
    "colab_type": "code",
    "id": "o-i2hEqGA1bs"
   },
   "outputs": [],
   "source": [
    "import pandas\n",
    "import copy\n",
    "import math\n",
    "import matplotlib.pyplot as plt\n",
    "%matplotlib inline\n",
    "\n",
    "class Ecological:\n",
    "    def __init__(self, game, strategies, length=1000, repeat=1, pop=100):\n",
    "        self.strategies = strategies\n",
    "        self.pop = pop\n",
    "        self.game = game\n",
    "        self.length = length\n",
    "        self.generation = 0 # Number of the current generation\n",
    "        self.base = pop*len(strategies)\n",
    "        self.historic = pandas.DataFrame(columns = [strat.name for strat in strategies])\n",
    "        self.historic.loc[0] = [pop for x in range (len(strategies))]\n",
    "        self.extinctions = dict((s.name,math.inf) for s in strategies)\n",
    "        self.cooperations =  dict((s.name,0) for s in strategies)\n",
    "        self.listeCooperations = list()\n",
    "        self.scores = dict((s.name,0) for s in strategies)\n",
    "        self.tournament = Tournament(self.game, self.strategies,length,repeat)\n",
    "        self.tournament.run()\n",
    "        \n",
    "    def run(self):\n",
    "        dead = 0\n",
    "        stab = False\n",
    "        while ((self.generation < 1000) and (stab==False)):\n",
    "            parents = list(copy.copy(self.historic.loc[self.generation]))\n",
    "            for i in range (len(self.strategies)):\n",
    "                strat=self.strategies[i].name\n",
    "                if (self.historic.at[self.generation, strat] != 0):\n",
    "                    score = 0\n",
    "                    cooperations = 0\n",
    "                    for j in range(len(self.strategies)): \n",
    "                        strat2 = self.strategies[j].name\n",
    "                        if (self.historic.at[self.generation, strat2] != 0):\n",
    "                            if i==j:\n",
    "                                score+=(self.historic.at[self.generation, strat]-1)*self.tournament.matrix.at[strat,strat2]\n",
    "                                cooperations+=(self.historic.at[self.generation, strat]-1)*self.tournament.cooperations.at[strat,strat2]\n",
    "                            else:\n",
    "                                score+=self.historic.at[self.generation, strat2]*self.tournament.matrix.at[strat,strat2]\n",
    "                                cooperations+=self.historic.at[self.generation, strat2]*self.tournament.cooperations.at[strat,strat2]\n",
    "                        self.scores[strat] = score\n",
    "                        self.cooperations[strat] = cooperations\n",
    "                    \n",
    "            total = 0\n",
    "            totalCooperations = 0\n",
    "            for strat in self.strategies:\n",
    "                total+=self.scores[strat.name]*self.historic.at[self.generation, strat.name]\n",
    "                totalCooperations += self.cooperations[strat.name]*self.historic.at[self.generation, strat.name]\n",
    "            for strat in self.strategies:        \n",
    "                parent = self.historic.at[self.generation, strat.name]\n",
    "                if (self.scores[strat.name] != 0):\n",
    "                    self.historic.at[self.generation+1, strat.name] = math.floor(self.base*parent*self.scores[strat.name]/total)\n",
    "                elif (self.scores[strat.name] == 0):\n",
    "                    self.historic.at[self.generation+1, strat.name] = 0\n",
    "                    dead += 1\n",
    "                if ((parent!=0) and (self.historic.at[self.generation+1, strat.name] == 0)):\n",
    "                    self.extinctions[strat.name] = self.generation+1\n",
    "                elif (self.historic.at[self.generation+1, strat.name] != 0):\n",
    "                    self.extinctions[strat.name] = self.historic.at[self.generation+1, strat.name]*1000\n",
    "                if (dead == len(self.strategies) - 1):\n",
    "                    stab = True\n",
    "            self.listeCooperations.append(totalCooperations/(self.base*self.length*len(self.strategies)))\n",
    "            self.generation+=1\n",
    "            if (parents == list(self.historic.loc[self.generation])):stab = True\n",
    "        trie = sorted(self.extinctions.items(), key=lambda t:t[1], reverse=True)\n",
    "        df_trie = pandas.DataFrame()\n",
    "        for t in trie :\n",
    "            df_trie[t[0]]=self.historic[t[0]]\n",
    "        self.historic = df_trie\n",
    "        return self.historic\n",
    "\n",
    "    def saveData(self):\n",
    "        date = datetime.datetime.now()\n",
    "        self.historic.to_csv(str(date)+'.csv', sep=';', encoding='utf-8')\n",
    "\n",
    "    def drawPlot(self,nbCourbes=None,nbLegends=None):\n",
    "        nbCourbes = len(self.strategies) if (nbCourbes==None) else nbCourbes\n",
    "        nbLegends = len(self.strategies) if (nbLegends==None) else nbLegends\n",
    "        strat = self.historic.columns.tolist()\n",
    "        for i in range(nbCourbes):\n",
    "            plt.plot(self.historic[strat[i]], label=strat[i] if (i<nbLegends) else '_nolegend_')\n",
    "        plt.legend(bbox_to_anchor=(0, 1), loc=2, borderaxespad=0.)\n",
    "        plt.ylabel('Population')\n",
    "        plt.xlabel('Generation')\n",
    "        plt.show()\n",
    "        #date = datetime.datetime.now()\n",
    "        #plt.savefig(str(date)+'.png', dpi=1000)\n",
    "    \n",
    "    def drawCooperations(self):\n",
    "        plt.plot(self.listeCooperations)\n",
    "        plt.ylabel('Percentage of cooperations')\n",
    "        plt.xlabel('Generation')\n",
    "        plt.ylim(0, 101)\n",
    "        plt.show()\n",
    "      \n",
    "print(\"All is ok\")"
   ]
  },
  {
   "cell_type": "markdown",
   "metadata": {},
   "source": [
    "#### Organize an ecological competition with All_C (which always cooperates) and All_D (which always betrays)\n",
    "Once the competition is over, it is possible to display the evolution of the population and the evolution of cooperation."
   ]
  },
  {
   "cell_type": "code",
   "execution_count": null,
   "metadata": {
    "scrolled": true
   },
   "outputs": [],
   "source": [
    "gentille = Periodic(\"C\",\"All_C\")\n",
    "mechante = Periodic(\"D\",\"All_D\")\n",
    "eco = Ecological(g, [gentille, mechante])\n",
    "eco.run()\n",
    "print(\"Evolution de la population\")\n",
    "eco.drawPlot()\n",
    "print(\"Historique de la population\")\n",
    "print(eco.historic)\n",
    "print(\"Evolution des cooperations\")\n",
    "eco.drawCooperations()\n",
    "print(eco.scores)"
   ]
  },
  {
   "cell_type": "code",
   "execution_count": null,
   "metadata": {
    "scrolled": true
   },
   "outputs": [],
   "source": [
    "# EXERCISE\n",
    "\n",
    "# Compute an ecological competition with All_C, All_D, Periodic(\"CDD\") and Periodic(\"CCD\")\n",
    "gentille = Periodic(\"C\",\"All_C\")\n",
    "mechante = Periodic(\"D\",\"All_D\")\n",
    "eco = Ecological(g, [gentille, mechante, Periodic('CDD'), Periodic(\"CCD\")])\n",
    "eco.run()\n",
    "print(\"Evolution of the population\")\n",
    "eco.drawPlot()\n",
    "print(\"History of the population\")\n",
    "print(eco.historic)\n",
    "print(\"Evolution of cooperations\")\n",
    "eco.drawCooperations()"
   ]
  },
  {
   "cell_type": "markdown",
   "metadata": {
    "colab_type": "text",
    "id": "tDULeYlnA1b0"
   },
   "source": [
    "# Reactive strategies\n",
    "Strategies are called \"reactive\" if their actions depend on the opponent's past actions. Some of them are very simple to understand. Among the most famous are\n",
    "- `Tft` (abbreviation of \"tit for tat\" or \"donnant-donnant\" as we would say in French) which starts by cooperating and then plays the same thing as the opponent on the previous round\n",
    "- `Spiteful` who cooperates as long as the opponent has cooperated, but who never forgives him if he has betrayed once "
   ]
  },
  {
   "cell_type": "code",
   "execution_count": null,
   "metadata": {
    "colab": {},
    "colab_type": "code",
    "id": "gr7FFb_0A1b1",
    "outputId": "41a4f22d-c414-483d-ec1c-c431153e6127"
   },
   "outputs": [],
   "source": [
    "class Tft(Strategy):\n",
    "    def __init__(self):\n",
    "        super().__init__()\n",
    "        self.name = \"tft\"\n",
    "        self.hisPast=\"\"\n",
    "        \n",
    "    def getAction(self,tick):\n",
    "        return 'C' if (tick==0) else self.hisPast[-1]\n",
    "\n",
    "    def clone(self):\n",
    "        return Tft()\n",
    "\n",
    "    def update(self,my,his):\n",
    "        self.hisPast+=his\n",
    "    \n",
    "    \n",
    "class Spiteful(Strategy):\n",
    "    def __init__(self):\n",
    "        super().__init__()\n",
    "        self.name = \"spiteful\"\n",
    "        self.hisPast=\"\"\n",
    "        self.myPast=\"\"\n",
    "        \n",
    "    def getAction(self,tick):\n",
    "        if (tick==0):\n",
    "                return 'C'\n",
    "        if (self.hisPast[-1]=='D' or self.myPast[-1]=='D') :\n",
    "            return 'D'\n",
    "        else :\n",
    "            return 'C'\n",
    "\n",
    "    def clone(self):\n",
    "        return Spiteful()\n",
    "\n",
    "    def update(self,my,his):\n",
    "        self.myPast+=my\n",
    "        self.hisPast+=his\n",
    "\n",
    "print(\"All is ok\")"
   ]
  },
  {
   "cell_type": "markdown",
   "metadata": {},
   "source": [
    "#### Behaviour of these reactive strategies\n",
    "Let's check the behavior of these two new strategies against `Periodic(\"CCD\")` in a Meeting."
   ]
  },
  {
   "cell_type": "code",
   "execution_count": null,
   "metadata": {},
   "outputs": [],
   "source": [
    "m = Meeting(g,Tft(),Periodic(\"CCD\"),10)\n",
    "m.run()\n",
    "print(m.s1.name+\"\\t\"+m.s1_rounds+\" \"+str(m.s1_score))\n",
    "print(m.s2.name+\"\\t\"+m.s2_rounds+\" \"+str(m.s2_score))\n",
    "print(\"\")\n",
    "m = Meeting(g,Spiteful(),Periodic(\"CCD\"),10)\n",
    "m.run()\n",
    "print(m.s1.name+\"\\t\"+m.s1_rounds+\" \"+str(m.s1_score))\n",
    "print(m.s2.name+\"\\t\\t\"+m.s2_rounds+\" \"+str(m.s2_score))\n"
   ]
  },
  {
   "cell_type": "code",
   "execution_count": null,
   "metadata": {},
   "outputs": [],
   "source": [
    "# Exercise\n",
    "\n",
    "# Compute an ecological competition with 5 stratgies : All_C, All_D, Tft et Periodic(\"CCD\")\n",
    " \n",
    "eco = Ecological(g, [Periodic('C',\"All_C\"),Periodic('D',\"All_D\"),Periodic('CCD'),Tft()])\n",
    "eco.run()\n",
    "plt.figure(figsize=(10,8))    # pour définir la taille de la figure\n",
    "eco.drawPlot()\n",
    "eco.drawCooperations()\n",
    "# IN THIS EXPERIENCE, All_D WINS THE TOURNAMENT, BUT IT IS TFT THAT WINS THE ECOLOGICAL COMPETITION!"
   ]
  },
  {
   "cell_type": "markdown",
   "metadata": {},
   "source": [
    "This experiment clearly illustrates the prey/predator phenomena that can occur. `All_D` wins the tournament, so it increases in population. But its gain is mainly at the expense of `All_C`. If the latter fails, then `All_D` also fails due to a lack of strategy to exploit. The result is a magnificent trend reversal. Winning a tournament is not the same as winning an ecological competition.\n",
    "If we look at the evolution of cooperation, another phenomenon appears: the emergence of generalized cooperation: without any regulatory system, we have gone from 60% cooperation, to less than 40% cooperation and finally to 100% cooperation!\n",
    "\n",
    "Some fundamental points:\n",
    "- There are an infinite number of strategies\n",
    "- there is no perfect strategy in the absolute. There are only strategies that behave well \"in general\". You can't play optimally against everyone, especially because of the first round.\n",
    "- Tft never wins against anyone.\n",
    "- All_D never loses against anyone.\n",
    "- It's a non-zero-sum game: the important thing is not to win meetings but to win points! All_D` never loses but at what cost! Always making war brings back only very few points\n",
    "- Alexrod already said it: to be good at this game you have to:\n",
    "    - not to be aggressive (not to betray the first)\n",
    "    - be responsive\n",
    "    - know how to forgive\n",
    "- This is the case of `Tft` which behaves very well in general, but since Rappoport we have found much better!\n",
    "- Without any regulatory system, there is most of the time **emergence of cooperation**"
   ]
  },
  {
   "cell_type": "code",
   "execution_count": null,
   "metadata": {
    "colab": {},
    "colab_type": "code",
    "id": "NqyMG-t1A1b6"
   },
   "outputs": [],
   "source": [
    "# Accès aux données des DataFrame\n",
    "\n",
    "# Attention ! avec un dataframe df\n",
    "# chaque colonne nommée peut etre utilisée comme attribut\n",
    "# Si on met un seul crochet, c'est une colonne\n",
    "# donc tournoi.Total et tournoi['Total'] c'est pareil\n",
    "# \n",
    "# si on met des crochets directs c'est df[Col][Lig]\n",
    "# que l'on peut donc aussi écrire df.Col[lig]\n",
    "# Si on utilise les fonctions loc, iloc et at, c'est df.iloc[lig,col]\n",
    "# donc tournoi['Total'][1] est équivalent à tournoi.iloc[1,4]\n",
    "# Par ailleurs, par défaut le dataframe utilise des entiers comme index\n",
    "# dans iloc, on met des index ... sauf si on utilise la notation a:b auquel cas ce sont des adresses relatives\n",
    "\n",
    "tournoi=eco.tournament.matrix\n",
    "#print(\"--- La matrice complète du tournoi triée\")\n",
    "#print(tournoi) \n",
    "#print(\"--- Les gagnants du tournoi\")\n",
    "#print(tournoi['Total']) \n",
    "#print(\"--- Les 3 premiers gagnants du tournoi\")\n",
    "#print(tournoi['Total'][0:3])\n",
    "#print(\"--- Les gagnants qui ont fait plus de 10000\")\n",
    "#print(tournoi['Total'][tournoi['Total']>10000])\n",
    "\n",
    "\n",
    "evol=eco.historic\n",
    "#print(\"--- L'historique complet trié\")\n",
    "#print(evol)\n",
    "#print(\"--- Les populations finales classées\")\n",
    "#print(evol.iloc[eco.generation])\n",
    "#print(evol.iloc[-1])\n",
    "#print(evol.tail(1))\n",
    "#print(\"--- Les 2 premiers de la compétition\")\n",
    "#print(evol.iloc[-1][0:2]) \n",
    "#print(\"--- Les derniers survivants\")\n",
    "#print(evol.iloc[-1][evol.iloc[-1]>0]) \n",
    "#print(\"--- la ligne quand tft=340 ?\")\n",
    "#evol.loc[evol.tft==340]\n",
    "#print(\"--- A quel indice per_C et per_D se croisent ?\")\n",
    "#print(evol.loc[evol.per_C > evol.per_D].loc[evol.per_D!=0])\n",
    "# Ecrire l'équivalent de select * from evol where ...\n",
    "#evol.loc[(evol.tft>300) & (evol.per_D>0)]\n",
    "# depuis pandas0.13  ... s'écrit\n",
    "#evol.query('tft>300 & per_D>0')\n",
    "\n",
    "#eco.drawPlot()\n"
   ]
  },
  {
   "cell_type": "markdown",
   "metadata": {},
   "source": [
    "#### Two other classical reactive strategies\n",
    "this time they are strategies based on the round mostly played by the opponent\n",
    "- SoftMajority: It plays the majority round played by the opponent in the past. In case of a tie, it cooperates.\n",
    "- `HardMajority` : It plays the majority round played by the opponent in the past. In case of a tie, it defects.\n",
    "The difference between SoftMajority and HardMajority is slight. It should be noted that `HardMajority` is spontaneously aggressive. This characteristic means that it will generally behave much less well than `SoftMajority`."
   ]
  },
  {
   "cell_type": "code",
   "execution_count": null,
   "metadata": {},
   "outputs": [],
   "source": [
    "# EXERCISE\n",
    "\n",
    "# Encode SoftMajority which plays what its opponent played in majority. In the event of a tie, it shall play Cooperate\n",
    "\n",
    "class SoftMajority(Strategy):\n",
    "    def __init__(self):\n",
    "        super().__init__()\n",
    "        self.name = \"softmajo\"\n",
    "        self.nbCooperations = 0\n",
    "        self.nbTrahisons = 0\n",
    "        \n",
    "    def getAction(self,tick):\n",
    "        if (self.nbCooperations >= self.nbTrahisons):\n",
    "            return 'C'\n",
    "        else :\n",
    "            return 'D'\n",
    "\n",
    "    def clone(self):\n",
    "        return SoftMajority()\n",
    "\n",
    "    def update(self,my,his):\n",
    "        if (his == 'C'):\n",
    "            self.nbCooperations += 1\n",
    "        elif (his == 'D'):\n",
    "            self.nbTrahisons += 1\n",
    "            \n",
    "# Encode HardMajority which plays what its opponent played in majority. In the event of a tie, it shall Defect\n",
    "            \n",
    "class HardMajority(Strategy):\n",
    "    def __init__(self):\n",
    "        super().__init__()\n",
    "        self.name = \"hardmajo\"\n",
    "        self.nbCooperations = 0\n",
    "        self.nbTrahisons = 0\n",
    "        \n",
    "    def getAction(self,tick):\n",
    "        if (self.nbCooperations > self.nbTrahisons):\n",
    "            return 'C'\n",
    "        else :\n",
    "            return 'D'\n",
    "\n",
    "    def clone(self):\n",
    "        return HardMajority()\n",
    "\n",
    "    def update(self,my,his):\n",
    "        if (his == 'C'):\n",
    "            self.nbCooperations += 1\n",
    "        elif (his == 'D'):\n",
    "            self.nbTrahisons += 1\n",
    "            \n",
    "# Encode Gradual. Gradual cooperates on the first move, then if the opponent has just betrayed her \n",
    "# for the nth time, enters a period of retaliation (successive Defect) of n rounds followed by 2 \n",
    "# cooperation moves \n",
    "\n",
    "class Gradual(Strategy):\n",
    "    def __init__(self):\n",
    "        super().__init__()\n",
    "        self.name = \"gradual\"\n",
    "        self.nbTrahisons = 0\n",
    "        self.punish = 0\n",
    "        self.calm = 0\n",
    "    def getAction(self,tick):\n",
    "        if (tick==0) : return 'C'\n",
    "        if self.punish > 0 :\n",
    "            self.punish-=1\n",
    "            return 'D'\n",
    "        if self.calm > 0 :\n",
    "            self.calm-=1\n",
    "            return 'C'\n",
    "        if self.hisLast=='D' : \n",
    "            self.punish=self.nbTrahisons - 1\n",
    "            self.calm=2\n",
    "            return 'D'\n",
    "        else: return 'C'\n",
    "\n",
    "    def clone(self):\n",
    "        return Gradual()\n",
    "\n",
    "    def update(self,my,his):\n",
    "        self.hisLast=his\n",
    "        if (his == 'D'):\n",
    "            self.nbTrahisons += 1\n",
    "  \n",
    "print(\"All is ok\")"
   ]
  },
  {
   "cell_type": "code",
   "execution_count": null,
   "metadata": {},
   "outputs": [],
   "source": [
    "# Test Hard and Soft functionalities in a Meeting against each other on 20 rounds (we must obtain DCDCDCDCDCDC for hard and CDCDCDCDCD for soft)\n",
    "m = Meeting(g,HardMajority(),SoftMajority(),20)\n",
    "m.run()\n",
    "print(m.s1.name+\"\\t\"+m.s1_rounds+\" \"+str(m.s1_score))\n",
    "print(m.s2.name+\"\\t\"+m.s2_rounds+\" \"+str(m.s2_score))\n",
    "print()\n",
    "\n",
    "# test Gradual against Periodic (\"CD\") on 40 rounds\n",
    "m = Meeting(g,Periodic(\"CD\"),Gradual(),40)\n",
    "m.run()\n",
    "print(m.s1.name+\"\\t\"+m.s1_rounds+\" \"+str(m.s1_score))\n",
    "print(m.s2.name+\"\\t\"+m.s2_rounds+\" \"+str(m.s2_score))\n"
   ]
  },
  {
   "cell_type": "markdown",
   "metadata": {
    "colab_type": "text",
    "id": "h6IL_hTRA1b9"
   },
   "source": [
    "## The memory family"
   ]
  },
  {
   "cell_type": "code",
   "execution_count": null,
   "metadata": {
    "colab": {},
    "colab_type": "code",
    "id": "nDqpxI2FA1b_",
    "outputId": "483ee578-ca75-454a-caef-5c8db14269c4"
   },
   "outputs": [],
   "source": [
    "class Mem(Strategy):\n",
    "    def __init__(self, x, y, genome, name=None):\n",
    "        self.name = name\n",
    "        self.x = x\n",
    "        self.y = y\n",
    "        self.genome = genome\n",
    "        if (name == None): # Default name is the used  if the user does not define it\n",
    "            self.name = genome\n",
    "        self.myMoves = []  # contains my x last moves\n",
    "        self.itsMoves = [] # contains its y last moves\n",
    "\n",
    "    def clone(self):\n",
    "        return Mem(self.x, self.y, self.genome, self.name)\n",
    "\n",
    "    def getAction(self, tick):\n",
    "        if (tick < max(self.x, self.y)):\n",
    "            return self.genome[tick]\n",
    "        cpt = 0\n",
    "        for i in range(self.x-1,-1,-1):\n",
    "            cpt*=2\n",
    "            if (self.myMoves[i] == 'D'):\n",
    "                cpt+=1\n",
    "        for i in range(self.y-1,-1,-1):\n",
    "            cpt*=2\n",
    "            if (self.itsMoves[i] == 'D'):\n",
    "                cpt+=1\n",
    "        cpt += max(self.x, self.y)\n",
    "        return self.genome[cpt]\n",
    "\n",
    "    def update(self, myMove, itsMove):\n",
    "        if (self.x > 0):\n",
    "            if(len(self.myMoves) == self.x):\n",
    "                del self.myMoves[0]\n",
    "            self.myMoves.append(myMove)\n",
    "        if (self.y > 0):\n",
    "            if(len(self.itsMoves) == self.y):\n",
    "                del self.itsMoves[0]\n",
    "            self.itsMoves.append(itsMove)\n",
    "            \n",
    "print(\"All is ok\")"
   ]
  },
  {
   "cell_type": "markdown",
   "metadata": {},
   "source": [
    "It should be noted that a large number of well-known strategies are described in the form of a `memory(X,Y)`<br>\n",
    "Mem(0,0,'C','allc')<br>\n",
    "Mem(0,0,'D','alld')<br>\n",
    "Mem(1,0,'cDC','percd')<br>\n",
    "Mem(1,0,'dDC','perdc')<br>\n",
    "Mem(0,1,'cCD','tft')<br>\n",
    "Mem(0,1,'dCD','mistrust')<br>\n",
    "Mem(1,1,'cCDDD','spiteful')<br>\n",
    "Mem(1,1,'cCDDC','pavlov')<br>\n",
    "Mem(0,2,'ccCCCD','tf2t')<br>\n",
    "Mem(0,2,'ccCDDD','hard_tft')<br>\n",
    "Mem(1,2,'ccCCCDCDDD','slow_tft')<br>\n",
    "Mem(1,2,'ccCDCDDCDD','winner12')<br>\n",
    "Mem(1,2,'','tft_spiteful')<br>\n",
    "Mem(1,2,'ccCDDDDDDD','spiteful_cc')<br>"
   ]
  },
  {
   "cell_type": "code",
   "execution_count": null,
   "metadata": {},
   "outputs": [],
   "source": [
    "# Exercise :  Small equivalence test: M\n",
    "# Make two tournaments with All_C, All_D, Tft, Spiteful, Periodic('CD') and Periodic('DC').\n",
    "# The first one using Periodics, Tft() and Spiteful() classes\n",
    "# The second one using only Mem(x,y,\"\",name) to code them.\n",
    "# Check the equivalence by printing the tournament matrix\n",
    "\n",
    "bag1 = [Periodic('C'),Periodic('D'),Tft(),Spiteful(),Periodic('CD'),Periodic('DC')]\n",
    "t1=Tournament(g,bag1,100)\n",
    "t1.run()\n",
    "print(t1.matrix)\n",
    "print()\n",
    "\n",
    "bag2 = [Mem(0,0,'C','allc'),Mem(0,0,'D','alld'),Mem(0,1,'cCD','tft'),\n",
    "        Mem(1,1,'cCDDD','spiteful'),Mem(1,0,'cDC','percd'),Mem(1,0,'dDC','perdc')]\n",
    "t2=Tournament(g,bag2,100)\n",
    "t2.run()\n",
    "print(t2.matrix)"
   ]
  },
  {
   "cell_type": "markdown",
   "metadata": {
    "colab_type": "text",
    "id": "yjoBoqSjA1cD"
   },
   "source": [
    "## Generate them all\n",
    "For a `Mem(x,y)` family, the genome is of size `max(x,y)` for the first rounds plus `2^(x+y)` for all situations `s` of the past on `x` moves of one player and `y` moves of the other. So there are `2^(max(x,y)+2^(x+y))` strategies to generate. To obtain all these elements, it is therefore sufficient to compute all the possible instanciations of C and D in the genome, which is done, once again, with a Cartesian product.\n",
    "\n",
    "\n",
    "| family  | genome length | number of strats  |\n",
    "|         :-:   |     :-:     | :-:    |\n",
    "| mem(0,1) | 1+2^1 = 3        | 2^3 = 8 |\n",
    "| mem(1,0) | 1+2^1 = 3        | 2^3 = 8 |\n",
    "| mem(1,1) | 1+2^2 = 5        | 2^5 = 32 |\n",
    "| mem(2,0) | 2+2^2 = 6        | 2^6 = 64 |\n",
    "| mem(1,2) | 2+2^3 = 10       | 2^10 = 1024 |\n",
    "| mem(2,1) | 2+2^3 = 10       | 2^10 = 1024 |\n",
    "| mem(2,2) | 2+2^4 = 18       | 2^18 = 262144 |\n"
   ]
  },
  {
   "cell_type": "code",
   "execution_count": null,
   "metadata": {
    "colab": {},
    "colab_type": "code",
    "id": "AqEYefYhA1cE",
    "outputId": "8fb51be4-2c0e-416c-e94e-ba8c6feba5c2"
   },
   "outputs": [],
   "source": [
    "def getAllMemory(x,y):\n",
    "    if (x+y > 4):\n",
    "        return \"Pas calculable\"\n",
    "    len_genome = max(x,y)+2**(x+y)\n",
    "    permut = [p for p in itertools.product(['C','D'], repeat=len_genome)]\n",
    "    genomes = [''.join(p) for p in permut]\n",
    "    return [Mem(x,y,gen) for gen in genomes]\n",
    "\n",
    "\n",
    "print(\"In Mem(1,1) there are \"+ str(len(getAllMemory(1,1))) + \" strategies\")"
   ]
  },
  {
   "cell_type": "markdown",
   "metadata": {
    "colab_type": "text",
    "id": "pFGz8Y23A1cJ"
   },
   "source": [
    "## The Mem(1,1) competition"
   ]
  },
  {
   "cell_type": "code",
   "execution_count": null,
   "metadata": {
    "colab": {},
    "colab_type": "code",
    "id": "5HDTk_oaA1cK"
   },
   "outputs": [],
   "source": [
    "bag3=getAllMemory(1,1)\n",
    "e2=Ecological(g,bag3)\n",
    "e2.run()\n",
    "e2.drawPlot(None,4)\n",
    "evol=e2.historic\n",
    "print(evol.iloc[-1][evol.iloc[-1]>0])\n",
    "# Only 4 survive : mem11_cCDDD-spite 2126  , mem11_cCDCD-tft 701 , mem11_cCDDC-pavlov 214 , mem11_cCDCC 158"
   ]
  },
  {
   "cell_type": "markdown",
   "metadata": {},
   "source": [
    "# Exercises"
   ]
  },
  {
   "cell_type": "code",
   "execution_count": null,
   "metadata": {},
   "outputs": [],
   "source": [
    "# What is the common name of the strategy that wins the Mem(1,1) ?"
   ]
  },
  {
   "cell_type": "code",
   "execution_count": null,
   "metadata": {},
   "outputs": [],
   "source": [
    "# Study the phenomena of invasion\n",
    "# In particular, measure empirically (by few tests) the number of ALL_D required \n",
    "# to invade a family of 100 ALL_C in an ecological competition."
   ]
  },
  {
   "cell_type": "code",
   "execution_count": null,
   "metadata": {},
   "outputs": [],
   "source": [
    "# Master-Slave Strategies\n",
    "# It is said that there is a set of Master-Slave strategies if a Master strategy tries to recognize \n",
    "# his Slaves on a starter, to better exploit them afterwards.\n",
    "# Develop a Master strategy that plays TFT unless the opponent has played consecutively 1 time C, \n",
    "# 50 times D, 1 time C in which case she always plays D\n",
    "# Develop a Slave strategy that plays 1 time C, 50 times D, then always C\n",
    "# Each additional slave brings an advantage to Master!\n",
    "# Add these strategies to the mem(1,1) competition by putting enough Escaves for the Master to \n",
    "# win this competition "
   ]
  },
  {
   "cell_type": "markdown",
   "metadata": {
    "colab_type": "text",
    "id": "F5T0vHhkA1cO"
   },
   "source": [
    "# Evaluation by subclass synthesis\n",
    "\n",
    "Ecological competitions offer a fairly reliable tool for measuring the robustness of a strategy, but it is still insufficient. It is possible, for example, that some strategies may sacrifice themselves for others in a *master-slave* scheme. Having a synthesis of hundreds or even thousands of ecological competitions in which certain strategies have been removed probably measures a better robustness. One of the simplest ideas is to calculate the `n` possible competitions that can be done by removing 1 strategy from a set of `n` strategies. This technique is called the subclass technique.\n",
    "We define here 3 functions to realize these subclasses.\n",
    "- `subclasses(soup, n)` which evaluates all possible subsets of size n in the soup\n",
    "- `subclassesWithOneStrat(soup, n, strat)` which evaluates Strat in all possible subsets of size n in the soup by systematically adding the strategy strat\n",
    "- `subclassesRandomWithOneStrat(p, soup, n, Strat)` which organizes competitions of n randomly selected strategies in the soup in which Strat has been systématically added\n",
    "\n",
    "The evaluations carried out in these functions are ecological competitions, but of course we could use just tourmaments.\n",
    "\n",
    "These functions return at the end a table with for each strategy, its best place, its worst place, its average and its standard deviation."
   ]
  },
  {
   "cell_type": "code",
   "execution_count": null,
   "metadata": {
    "colab": {},
    "colab_type": "code",
    "id": "3DGBcxJIA1cP",
    "scrolled": true
   },
   "outputs": [],
   "source": [
    "import statistics\n",
    "import random\n",
    "\n",
    "def subClasses(soupe, n):\n",
    "    if (n > len(soupe)):\n",
    "        print (\"the soup size must be smaller than n\")\n",
    "        return   \n",
    "    res = pd.DataFrame(np.nan,[s.name for s in soupe], [\"BestRank\",\"WorstRank\", \"RankAvg\", \"RankStd\"])   \n",
    "    for s in soupe:\n",
    "        res.at[s.name, \"BestRank\"] = len(soupe)\n",
    "    ranks = dict()\n",
    "    sousEnsembles = list(itertools.combinations(soupe, n))\n",
    "    for s in sousEnsembles:\n",
    "        e = Ecological(g, s)\n",
    "        e.run()\n",
    "        classements = e.historic.iloc[e.generation].rank(0, method=\"min\", ascending=False)\n",
    "        for strat in s : \n",
    "            classement = classements[strat.name]\n",
    "            if (math.isnan(res.at[strat.name, \"BestRank\"]) or classement < res.at[strat.name, \"BestRank\"]):\n",
    "                res.at[strat.name, \"BestRank\"] = classement\n",
    "            if (math.isnan(res.at[strat.name, \"WorstRank\"]) or classement > res.at[strat.name, \"WorstRank\"]):\n",
    "                res.at[strat.name, \"WorstRank\"] = classement  \n",
    "            if (strat.name in ranks.keys()):\n",
    "                ranks[strat.name].append(classement)\n",
    "            if (strat.name not in ranks.keys()):\n",
    "                ranks[strat.name] = [classement]      \n",
    "    for strat in soupe : \n",
    "        res.at[strat.name, \"RankAvg\"] = statistics.mean(ranks[strat.name])\n",
    "        res.at[strat.name, \"RankStd\"] = statistics.stdev(ranks[strat.name])\n",
    "    print(res.sort_values(by = ['RankAvg', 'BestRank', 'RankStd', 'WorstRank'],  ascending = [True, True, True, True ]))\n",
    "          \n",
    "\n",
    "def subClassesWithOneStrat(soupe, n, strategy, printAll = False):\n",
    "    if (n > len(soupe)):\n",
    "        print (\"the soup size must be smaller than n\")\n",
    "        return     \n",
    "    res = pd.DataFrame(np.nan,[s.name for s in soupe+[strategy]], [\"BestRank\", \"WorstRank\", \"RankAvg\", \"RankStd\"])   \n",
    "    sousEnsembles = list(itertools.combinations(soupe, n))\n",
    "    ranks = dict()\n",
    "    bestComp = []\n",
    "    worstComp = []\n",
    "    for s in sousEnsembles:  \n",
    "        e = Ecological(g, list(s) + [strategy])\n",
    "        e.run()\n",
    "        classements = e.historic.iloc[e.generation].rank(0, method=\"min\", ascending=False)\n",
    "        for strat in  list(s) + [strategy] : \n",
    "            classement = classements[strat.name]\n",
    "            if (math.isnan(res.at[strat.name, \"BestRank\"]) or classement < res.at[strat.name, \"BestRank\"]):\n",
    "                res.at[strat.name, \"BestRank\"] = classement\n",
    "                if (strat == strategy):\n",
    "                    bestComp = list(s) + [strategy]\n",
    "            if (math.isnan(res.at[strat.name, \"WorstRank\"]) or classement > res.at[strat.name, \"WorstRank\"]):\n",
    "                res.at[strat.name, \"WorstRank\"] = classement \n",
    "                if (strat == strategy):\n",
    "                    worstComp = list(s) + [strategy]\n",
    "            if (strat.name in ranks.keys()):\n",
    "                ranks[strat.name].append(classement)\n",
    "            if (strat.name not in ranks.keys()):\n",
    "                ranks[strat.name] = [classement]\n",
    "    for s in soupe+[strategy]:\n",
    "        if (s.name in ranks.keys()):\n",
    "            res.at[s.name, \"RankAvg\"] = statistics.mean(ranks[s.name])\n",
    "            if (len(ranks[s.name]) > 1):\n",
    "                res.at[s.name, \"RankStd\"] = statistics.stdev(ranks[s.name])\n",
    "    if (printAll) :       \n",
    "        print(res.sort_values(by = ['RankAvg', 'Bestrank', 'RankStd', 'Pire place'],  ascending = [True, True, True, True ]))\n",
    "    else : \n",
    "        print(\"Strategy ranking : \"+strategy.name)\n",
    "        print(res.loc[strategy.name,:])\n",
    "    return bestComp, worstComp, strategy\n",
    "\n",
    "\n",
    "\n",
    "def subClassesRandomWithOneStrat(p, soupe, n, strategy, printAll = False ):\n",
    "    if (n > len(soupe)):\n",
    "        \"The ssoup size must be smaller that n\"\n",
    "        return  \n",
    "    res = pd.DataFrame(np.nan,[s.name for s in soupe+[strategy]], [\"BestRank\",\"WorstRank\", \"RankAvg\", \"RankStd\"])\n",
    "    ranks = dict()\n",
    "    bestComp = []\n",
    "    worstComp = []\n",
    "    for i in range (0, p) : \n",
    "        #print(\"Competition \"+str(i+1)+ \"/\"+str(p))\n",
    "        strategies = []\n",
    "        strategies.append(strategy)\n",
    "        indice = [i for i in range (0, len(soupe))]\n",
    "        for i in range (0, n):\n",
    "            indiceStrat = random.choice(indice)\n",
    "            indice.remove(indiceStrat)\n",
    "            strategies.append(soupe[indiceStrat])\n",
    "        #print(\"Les stratégies qui jouent sont : \")\n",
    "        #for s in strategies :\n",
    "            #print(s.name)\n",
    "        e = Ecological(g, strategies)\n",
    "        e.run()\n",
    "        classements = e.historic.iloc[e.generation].rank(0, method=\"min\", ascending=False)\n",
    "        for strat in strategies : \n",
    "            classement = classements[strat.name]\n",
    "            if (math.isnan(res.at[strat.name, \"BestRank\"]) or classement < res.at[strat.name, \"BestRank\"]):\n",
    "                res.at[strat.name, \"BestRank\"] = classement\n",
    "                if (strat == strategy):\n",
    "                    bestComp = strategies\n",
    "            if (math.isnan(res.at[strat.name, \"WorstRank\"]) or classement > res.at[strat.name, \"WorstRank\"]):\n",
    "                res.at[strat.name, \"WorstRank\"] = classement  \n",
    "                if (strat == strategy):\n",
    "                    worstComp = strategies\n",
    "            if (strat.name in ranks.keys()):\n",
    "                ranks[strat.name].append(classement)\n",
    "            if (strat.name not in ranks.keys()):\n",
    "                ranks[strat.name] = [classement]\n",
    "    for s in soupe+[strategy]:\n",
    "        if (s.name in ranks.keys()):\n",
    "            res.at[s.name, \"RankAvg\"] = statistics.mean(ranks[s.name])\n",
    "            if (len(ranks[s.name]) > 1):\n",
    "                res.at[s.name, \"RankStd\"] = statistics.stdev(ranks[s.name])\n",
    "    if (printAll) :   \n",
    "        print(res.sort_values(by = ['RankAvg', 'BestRank', 'RankStd', 'WorstRank'],  ascending = [True, True, True, True ]))\n",
    "    else : \n",
    "        print(\"Strategy ranking : \"+strategy.name)\n",
    "        print(res.loc[strategy.name,:])\n",
    "    return bestComp, worstComp, strategy\n",
    "\n",
    "print(\"All is OK\")"
   ]
  },
  {
   "cell_type": "markdown",
   "metadata": {},
   "source": [
    "#### A simple example: all competitions of 3 strategies among the classics"
   ]
  },
  {
   "cell_type": "code",
   "execution_count": null,
   "metadata": {
    "colab": {},
    "colab_type": "code",
    "id": "xDKAAl8yA1cS"
   },
   "outputs": [],
   "source": [
    "All_C = Periodic('C')\n",
    "All_D = Periodic('D')\n",
    "soupe = [All_C, All_D, Tft(), Spiteful(), Gradual(), SoftMajority(), HardMajority()]\n",
    "subClasses(soupe, 3)"
   ]
  },
  {
   "cell_type": "markdown",
   "metadata": {},
   "source": [
    "#### A larger case: all Mem(1,1) strategies with one less strategy each time\n",
    "Knowing that there are 32 `mem(1,1)` this operation therefore performs 32 competitions of 31 strategies. Note that in the case of this method, all strategies are present (and absent) exactly the same number of times."
   ]
  },
  {
   "cell_type": "code",
   "execution_count": null,
   "metadata": {},
   "outputs": [],
   "source": [
    "soup = getAllMemory(1,1)\n",
    "subClasses(soup, len(soup)-1)\n",
    "# ATTENTION this experiment takes about 1 minute"
   ]
  },
  {
   "cell_type": "markdown",
   "metadata": {},
   "source": [
    "#### Testing the Spiteful strategy with all classic triplets\n",
    "In the case of both `subClassesWithOneStrat` methods only the strategy passed as parameter participates in all subclasses (feasible for not too large sets like mem(1,1)). In the first one it participates in all the subclasses while with `subClassesRandomWithOneStrat` it participates in a fixed number of subclasses of the same size but taken randomly (usable in the larger whole as the same (2,2))."
   ]
  },
  {
   "cell_type": "code",
   "execution_count": null,
   "metadata": {
    "colab": {},
    "colab_type": "code",
    "id": "nQWoJ4ReA1cb"
   },
   "outputs": [],
   "source": [
    "All_C = Periodic('C')\n",
    "All_D = Periodic('D')\n",
    "soup = [gentille, mechante, Tft(), Gradual(), SoftMajority(), HardMajority()]\n",
    "res  = subClassesWithOneStrat(soup, 3, Spiteful())\n",
    "# To view the entire table : \n",
    "# res = subClassesWithOneStrat(soupe, 3, Spiteful(), True)"
   ]
  },
  {
   "cell_type": "markdown",
   "metadata": {},
   "source": [
    "It should be noted that the objects `subClassesWithOneStrat` and `subClassesRandomWithOneStrat` keep the \n",
    "best and worst tournament for the `Strat` strategy\n",
    "When displaying the subclass ranking it is therefore possible to display the set of strategies that has been favorable or unfavorable to the `Strat` srategy."
   ]
  },
  {
   "cell_type": "code",
   "execution_count": null,
   "metadata": {},
   "outputs": [],
   "source": [
    "bestComp, worstComp, strategy = res\n",
    "print(\"The best competition for strategy \"+strategy.name +\" is : \")\n",
    "for strat in bestComp :\n",
    "    print(strat.name)\n",
    " "
   ]
  },
  {
   "cell_type": "markdown",
   "metadata": {},
   "source": [
    "#### 100 experiments of 10 strategies randomly selected in mem(2,2) against Gradual()\n",
    "For subclassesRandom, if a strategy has only played once then it has no standard deviation (NaN); if it has not played at all then all its values are at NaN in the table"
   ]
  },
  {
   "cell_type": "code",
   "execution_count": null,
   "metadata": {
    "scrolled": true
   },
   "outputs": [],
   "source": [
    "soup = getAllMemory(2,2)\n",
    "res = subClassesRandomWithOneStrat(100,soup, 10, Gradual())\n",
    "# To view the entire table : \n",
    "# subClassesRandomWithOneStrat(100 soupe, 10, Gradual(), True)\n",
    "\n",
    "# Attention : this experiment takes about 1 minute"
   ]
  },
  {
   "cell_type": "markdown",
   "metadata": {},
   "source": [
    "We can also check the most \"unfavourable\" competition in Gradual \n",
    "(it is a random choice, so 2 executions will not always give the same result)"
   ]
  },
  {
   "cell_type": "code",
   "execution_count": null,
   "metadata": {},
   "outputs": [],
   "source": [
    "bestComp, WorstComp, strategy = res"
   ]
  },
  {
   "cell_type": "code",
   "execution_count": null,
   "metadata": {},
   "outputs": [],
   "source": [
    "soup = worstComp\n",
    "e2=Ecological(g,soup)\n",
    "e2.run()\n",
    "e2.drawPlot(None,None)\n",
    "evol=e2.historic\n",
    "print(evol.iloc[-1])\n",
    "print()\n",
    "print(e2.historic.iloc[e2.generation].rank(0, method=\"min\", ascending=False))"
   ]
  },
  {
   "cell_type": "code",
   "execution_count": null,
   "metadata": {},
   "outputs": [],
   "source": [
    "# Attention : this experiment takes about 1 minute\n",
    "soup = getAllMemory(1,1)\n",
    "res  = subClassesWithOneStrat(soup,len(soup)-1, Gradual())"
   ]
  },
  {
   "cell_type": "markdown",
   "metadata": {
    "colab_type": "text",
    "id": "x8z1IUB3A1ci"
   },
   "source": [
    "# Bibliography\n",
    "\n",
    "- Robert Axelrod. *The Evolution of Cooperation*. (New York: Basic Books, 1984).\n",
    "- William Poundstone. *Prisoner's Dilemma*. 1st anchor books\n",
    "- JP Delahaye et P Mathieu. *Des surprises dans le monde de la coopération*. Pour la Science, numéro spécial \"Les mathématiques sociales\", pp 58-66, Juillet 1999.\n",
    "- Philippe Mathieu, Jean-Paul Delahaye. [New Winning Strategies for the Iterated Prisoner's Dilemma](http://jasss.soc.surrey.ac.uk/20/4/12.html). J. Artificial Societies and Social Simulation 20(4) (2017)\n",
    "- Bruno Beaufils, Jean-Paul Delahaye et Philippe Mathieu. *Our Meeting with Gradual : A good Strategy for the Itareted Prisoner’s Dilemma*. Intern. Conf. on Artificial Life V (ALIFE V), pp. 159- 165, 16-18 mai 1996, Nara (Japon).\n",
    "- Martin Nowak et K. Sigmund. *TIT for TAT in Heterogeneous Populations*. Nature, vol. 355, n° 16, pp. 250-253, janvier 1992.\n",
    "- Nowak M., May R., Sigmund K., *L'arithmétique de l'entraide*, Pour la Science No 214, Août 1995, pp. 56-61 "
   ]
  }
 ],
 "metadata": {
  "colab": {
   "collapsed_sections": [],
   "name": "prisoners_dilemma_fr.ipynb",
   "provenance": []
  },
  "kernelspec": {
   "display_name": "Python 3",
   "language": "python",
   "name": "python3"
  },
  "language_info": {
   "codemirror_mode": {
    "name": "ipython",
    "version": 3
   },
   "file_extension": ".py",
   "mimetype": "text/x-python",
   "name": "python",
   "nbconvert_exporter": "python",
   "pygments_lexer": "ipython3",
   "version": "3.7.4"
  }
 },
 "nbformat": 4,
 "nbformat_minor": 1
}
