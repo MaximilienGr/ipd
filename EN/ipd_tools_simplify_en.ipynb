{
 "cells": [
  {
   "cell_type": "markdown",
   "metadata": {},
   "source": [
    "# Simplification of sets of strategies\n",
    "\n",
    "Auteur : Philippe Mathieu, [CRISTAL Lab](http://www.cristal.univ-lille.fr), [SMAC team](https://www.cristal.univ-lille.fr/?rubrique27&eid=17), [Lille University](http://www.univ-lille.fr), email : philippe.mathieu@univ-lille.fr\n",
    "\n",
    "Contributors : Jean-Paul Delahaye (CRISTAL/SMAC), Céline Petitpré (CRISTAL/SMAC)\n",
    "\n",
    "Creation : 2019-11-10"
   ]
  },
  {
   "cell_type": "code",
   "execution_count": null,
   "metadata": {},
   "outputs": [],
   "source": [
    "%run ../src/game.py\n",
    "%run ../src/ipd.py\n",
    "%run ../src/strategies.py\n",
    "%run ../src/tools.py\n",
    "g.prettyPrint()   # prisoner's dilemma"
   ]
  },
  {
   "cell_type": "markdown",
   "metadata": {},
   "source": [
    "Two strategies in the iterated prisoner's dilemma are equivalent if, regardless of the opponent and regardless of the length of the game, they play exactly the same rounds. The sets of strategies we are dealing with are therefore sometimes redundant: they contain the same strategies written in different ways. It therefore seems interesting to be able to simplify sets of strategies by removing the duplicates they may contain. \n",
    "Unfortunately, as everyone knows since Turing and Rice, **the equivalence of two programs is undecidable**. So there is no perfect test. Nevertheless, it is possible to provide tools to move forward in this simplification problem. This is what we will see here."
   ]
  },
  {
   "cell_type": "markdown",
   "metadata": {},
   "source": [
    "## Approximate tests of strategy equivalence\n",
    "\n",
    "To find out if two strategies are different, just play them against a reference strategy and make sure they play differently against that opponent. If they play differently, they are proven to be different. But if they play in the same way, nothing can be concluded from it because it is perhaps that the reference strategy has not been able to reveal the difference in their behaviour. The equivalence of two strategies is therefore semi-decidable. \n",
    "\n",
    "The `testEquivUnit` function performs this test. It is passed a pair of strategies to test and a reference `opponent` strategy, and it compares the two strategies during `length` rounds of a meeting. It returns a boolean: equivalent (with doubt) or not."
   ]
  },
  {
   "cell_type": "code",
   "execution_count": null,
   "metadata": {},
   "outputs": [],
   "source": [
    "def testEquivUnit(strategies, opponent, length):\n",
    "    sA,sB = strategies\n",
    "    rounds1 = []\n",
    "    rounds2  = []\n",
    "    m1 = Meeting(g, sA, opponent, length)\n",
    "    m1.run()\n",
    "    m2 = Meeting(g, sB, opponent, length)\n",
    "    m2.run()\n",
    "    if m1.s1_score == m2.s1_score :\n",
    "        if m1.s1_rounds == m2.s1_rounds :\n",
    "            return True\n",
    "    return False\n",
    "\n",
    "\n",
    "# example of use\n",
    "print(testEquivUnit((Tft(), Spiteful())  , Periodic(\"CCDCD\"), 100))     # False\n",
    "print(testEquivUnit((Tft(), Mem(0,1,\"cCD\")),  Periodic(\"CCDCD\"), 100))  # true"
   ]
  },
  {
   "cell_type": "markdown",
   "metadata": {},
   "source": [
    "The choice of the reference strategy is crucial. If it is too \"weak\", it does not allow the two compared strategies to \"reveal\" themselves, and then indicates that they are equivalent when they are not, as below: `Tft` and `Spiteful` are clearly different, and yet, when faced with `All_C` they have the same behavior.\n"
   ]
  },
  {
   "cell_type": "code",
   "execution_count": null,
   "metadata": {},
   "outputs": [],
   "source": [
    "testEquivUnit((Tft(), Spiteful()), Periodic('C'), 100)   \n",
    "# says True, but it's False"
   ]
  },
  {
   "cell_type": "markdown",
   "metadata": {},
   "source": [
    "A more robust test could be to use both strategies against Periodic('CCD'). The latter allows `Tft` and `Spiteful` to reveal their true behavior. This time we have the proof that these two strategies are not equivalent."
   ]
  },
  {
   "cell_type": "code",
   "execution_count": null,
   "metadata": {},
   "outputs": [],
   "source": [
    "testEquivUnit((Tft(), Spiteful()), Periodic('CD'), 100)"
   ]
  },
  {
   "cell_type": "markdown",
   "metadata": {},
   "source": [
    "### Exercise 1\n",
    "\n",
    "Two strategies can of course obtain the same score against a common opponent, while having played different moves. Can you identify such a case? We can use the `itertools' package and its `permutations' method which allows to easily take 3 strategies among `n' : two for the strategies to be identified and one for the common opponent."
   ]
  },
  {
   "cell_type": "code",
   "execution_count": null,
   "metadata": {},
   "outputs": [],
   "source": [
    "def test2(strategies, opponent, length):\n",
    "    sA,sB = strategies\n",
    "    rounds1 = []\n",
    "    rounds2  = []\n",
    "    m1 = Meeting(g, sA, opponent, length)\n",
    "    m1.run()\n",
    "    m2 = Meeting(g, sB, opponent, length)\n",
    "    m2.run()\n",
    "    if m1.s1_score == m2.s1_score :\n",
    "        if m1.s1_rounds != m2.s1_rounds :  # THE TEST HAS CHANGED COMPARED TO testEquivUnit\n",
    "            return True\n",
    "    return False\n",
    "\n",
    "\n",
    "# example of use\n",
    "bag = getMem(1,1)\n",
    "bags = itertools.permutations(bag, 3)\n",
    "for b in bags : \n",
    "    if test2((b[0], b[1]), b[2], 10):\n",
    "        print(b[0].name + \" and \"+b[1].name+\" produce the same score but don't play the same rounds against : \"+b[2].name)            \n",
    "        break\n",
    "\n",
    "        \n",
    "        \n",
    "#sA = Mem(1,1,\"CCCCC\")\n",
    "#sB = Mem(1,1,\"CCDDC\")\n",
    "#opponent = Mem(1,1,\"DCDCC\")\n",
    "#m = Meeting(g,sA,opponent,10)\n",
    "#m.run()\n",
    "#m.prettyPrint()\n",
    "#m = Meeting(g,sB,opponent,10)\n",
    "#m.run()\n",
    "#m.prettyPrint()"
   ]
  },
  {
   "cell_type": "markdown",
   "metadata": {},
   "source": [
    "In order to improve this comparison of two strategies, it is better to compare them not to a single reference strategy, but to a set of reference strategies. We compare our two strategies against each element of this set, which is surely a more robust test. Of course, as soon as one of these strategies indicates a difference between two 2 strategies, the test can stop.\n",
    "The function `testEquivMultiple` works as before, but this time by trying to find a difference in behaviour thanks to a list of opponents. As before, it returns a boolean: equivalent (with doubt) or not."
   ]
  },
  {
   "cell_type": "code",
   "execution_count": null,
   "metadata": {},
   "outputs": [],
   "source": [
    "def testEquivMultiple(strategies, opponents, length):\n",
    "    for opponent in opponents : \n",
    "        equiv = testEquivUnit(strategies, opponent, length)\n",
    "        if equiv == False :\n",
    "            return False\n",
    "    return True\n",
    "\n",
    "# example of use\n",
    "# Same test than previously, but this time, it says False\n",
    "testEquivMultiple((Tft(), Spiteful()),[Periodic('C'), Periodic('CDCCDDC'), Periodic('DDCDCDD')], 10)"
   ]
  },
  {
   "cell_type": "markdown",
   "metadata": {},
   "source": [
    "To simplify a set of strategies, it is now sufficient to perform the previous test on all possible pairs. The strategies identified as potentially equivalent are then grouped together.\n",
    "The `classesEquiv(l, opponents, length)` function performs this test on the `l` set. It returns the identified equivalence classes in a dictionary.\n",
    "For example, if we have strat1 equivalent to strat2 and strat3 which has no equivalent, the function will return a dictionary: `{strat1 : [strat2] , strat3 : []}`\n",
    "\n",
    "The set of keys in this dictionary constitutes the simplified set of strategies, and each entry in the dictionary corresponds to a set of equivalent strategies. For complete sets of `Mem(X,Y)` strategies, for reasons of symmetry, the number of strategies equivalent to a fixed strategy is always a power of 2 (0, 2, 4, 8, 16 ...)."
   ]
  },
  {
   "cell_type": "code",
   "execution_count": null,
   "metadata": {},
   "outputs": [],
   "source": [
    "def classesEquiv(l, opponents, length):\n",
    "    m = dict()\n",
    "    while len(l) > 0 :\n",
    "        m[l[0]] = []\n",
    "        ind = [0]\n",
    "        for j in range(len(l[1:])):\n",
    "            if testEquivMultiple([l[0], l[j + 1]], opponents, length):\n",
    "                m[l[0]] += [l[j + 1]]\n",
    "                ind += [j + 1]\n",
    "        ltmp = []\n",
    "        for i in range(len(l)):\n",
    "            if i not in ind :\n",
    "                ltmp += [l[i]]\n",
    "        l = ltmp\n",
    "    return m\n",
    "\n",
    "\n",
    "# This function allows you to display the names of the strategies instead of the instance number.\n",
    "def printDict(ce):\n",
    "    for key in ce.keys() :\n",
    "        if len(ce[key]) > 0:\n",
    "            print(\"\\n\" + key.name + \" : \" , end =\" \" )\n",
    "        else :\n",
    "            print(\"\\n\"+ key.name + \": []\"  , end =\" \")\n",
    "        for value in ce[key]:\n",
    "            print(value.name , end =\" \")\n",
    "    print(\" \")\n",
    "    \n",
    "\n",
    "# example of use\n",
    "# There is one Mem equivalent to Tft and one Mem equivalent to Spiteful. This lead 3 classes\n",
    "L = [Tft(), Spiteful(), Mem(0,1,\"cCD\"),  Mem(1,1,\"cCDDD\"), Periodic(\"CDC\") ]\n",
    "ce = classesEquiv(L, [Periodic('CDCCDDC'), Periodic('DDCDCDD')], 10)\n",
    "printDict(ce)\n",
    "print(\"Simplified set size : \" + str(len(ce.keys())))"
   ]
  },
  {
   "cell_type": "markdown",
   "metadata": {},
   "source": [
    "This method of simplification works with any strategies (Memory type or others). This is a big advantage.\n",
    "\n",
    "It is recalled that the quality of this simplification depends very much on the quality of the reference list. This can be easily seen when trying to simplify `mem(1,2)` in face of an ever-growing list of reference strategies."
   ]
  },
  {
   "cell_type": "code",
   "execution_count": null,
   "metadata": {},
   "outputs": [],
   "source": [
    "# Mem(1,2) contains 1024 strategies\n",
    "\n",
    "# Without any opponent, they are all considered equivalent.\n",
    "ce = classesEquiv(getMem(1,2), [], 10)\n",
    "print(len(ce.keys()))\n",
    "\n",
    "# Comparing with simply ALL_C , only 9 different strategies are available\n",
    "ce = classesEquiv(getMem(1,2), [Periodic('C')], 10)\n",
    "print(len(ce.keys()))\n",
    "\n",
    "# We're gradually strengthening the test\n",
    "ce = classesEquiv(getMem(1,2), [Periodic('C'), Periodic('CDCCDDC'), Periodic('DDCDCDD')], 10)\n",
    "print(len(ce.keys()))\n",
    "\n",
    "ce = classesEquiv(getMem(1,2), [Periodic('C'), Periodic('CDCCDDC'), Periodic('DDCDCDD'),Gradual()], 10)\n",
    "print(len(ce.keys()))\n",
    "\n",
    "# So? How large is this simplified set really?\n"
   ]
  },
  {
   "cell_type": "markdown",
   "metadata": {},
   "source": [
    "The test can be further strengthened by starting by playing all the strategies in the test set against each other. Of course, if strategies are identical, they must have the same score in this tournament. First, we make a tournament of all the strategies together, then we test equivalencies on sets of strategies that have the same score. There is no need to test the others. Adding this equivalence of scores strengthens our test even more.\n",
    "Obviously this is done at the expense of the calculation time.\n",
    "\n",
    "The `simplifyWithTournament` function does this job. It works as before, but starts with a tournament to identify strategy packages with the same score. We then concatenate each of the dictionaries."
   ]
  },
  {
   "cell_type": "code",
   "execution_count": null,
   "metadata": {
    "scrolled": true
   },
   "outputs": [],
   "source": [
    "def simplifyWithTournament(l, opponents, length):\n",
    "    scores = dict()\n",
    "    t = Tournament(g, opponents + l, length)\n",
    "    t.run()\n",
    "    res = t.matrix['Total']\n",
    "    for strat in l : \n",
    "        score = res[strat.name]\n",
    "        if score not in scores :\n",
    "            scores[score] = [strat]\n",
    "        else : \n",
    "            scores[score] += [strat]\n",
    "    \n",
    "    d = dict()\n",
    "    for item in scores.values():\n",
    "        # if more than one strategy have the same score, test classesEquiv\n",
    "        if len(item) > 1 :\n",
    "            res = classesEquiv(item, opponents, length)\n",
    "            for it in res.keys():\n",
    "                d[it] = res[it]\n",
    "        else : \n",
    "            d[item[0]] = []\n",
    "    return d\n",
    "\n",
    "        \n",
    "    \n",
    "# example of use        \n",
    "#strats = simplifyWithTournament(getMem(1,2) , [Periodic('CDCCDDC'), Periodic('DDCDCDD')], 10)\n",
    "#print(\"Simplified set size : \" + str(len(strats)))\n",
    "\n",
    "# RECORD BROKEN! 820... but this test remains undecidable, it is nevertheless subject to a doubt...       \n",
    "# printDict(strats)  "
   ]
  },
  {
   "cell_type": "markdown",
   "metadata": {},
   "source": [
    "### Synthesis table\n",
    "\n",
    "Given a basis for comparison, it is easy to display a table containing for each of the classic Memory classes, the synthesis of the sizes obtained after simulation via `ClassesEquiv` and via `SimplifyWithTournament` in order to see the difference."
   ]
  },
  {
   "cell_type": "code",
   "execution_count": null,
   "metadata": {
    "scrolled": true
   },
   "outputs": [],
   "source": [
    "base  = [Periodic('CDCCDDC'), Periodic('DDCDCDD'),Gradual()]\n",
    "\n",
    "Mem01 = getMem(0,1)\n",
    "Mem10 = getMem(1,0)\n",
    "Mem11 = getMem(1,1)\n",
    "Mem12 = getMem(1,2)\n",
    "Mem21 = getMem(2,1)\n",
    "\n",
    "ce01 = classesEquiv(Mem01, base, 10)\n",
    "ce10 = classesEquiv(Mem10, base, 10)\n",
    "ce11 = classesEquiv(Mem11, base, 10)\n",
    "ce12 = classesEquiv(Mem12, base, 10)\n",
    "ce21 = classesEquiv(Mem21, base, 10)\n",
    "\n",
    "simp01 = simplifyWithTournament(Mem01, base, 10)\n",
    "simp10 = simplifyWithTournament(Mem10, base, 10)\n",
    "simp11 = simplifyWithTournament(Mem11, base, 10)\n",
    "simp12 = simplifyWithTournament(Mem12, base, 10)\n",
    "simp21 = simplifyWithTournament(Mem21, base, 10)\n",
    "\n",
    "# idem avec simplify\n",
    "\n",
    "tab = pd.DataFrame(\n",
    "        np.nan, [\"Mem 0 1\",\"Mem 1 0\",\"Mem 1 1\", \"Mem 1 2\", \"Mem 2 1\"], [\"All strategies\", \"After classesEquiv\",\"After simplifyWithTournament\"]\n",
    "    )\n",
    "tab.at[\"Mem 0 1\", \"All strategies\" ] = len(Mem01)\n",
    "tab.at[\"Mem 1 0\", \"All strategies\" ] = len(Mem10)\n",
    "tab.at[\"Mem 1 1\", \"All strategies\" ] = len(Mem11)\n",
    "tab.at[\"Mem 1 2\", \"All strategies\" ] = len(Mem12)\n",
    "tab.at[\"Mem 2 1\", \"All strategies\" ] = len(Mem21)\n",
    "tab.at[\"Mem 0 1\", \"After classesEquiv\" ] = len(ce01.keys())\n",
    "tab.at[\"Mem 1 0\", \"After classesEquiv\" ] = len(ce10.keys())\n",
    "tab.at[\"Mem 1 1\", \"After classesEquiv\" ] = len(ce11.keys())\n",
    "tab.at[\"Mem 1 2\", \"After classesEquiv\" ] = len(ce12.keys())\n",
    "tab.at[\"Mem 2 1\", \"After classesEquiv\" ] = len(ce21.keys())\n",
    "tab.at[\"Mem 0 1\", \"After simplifyWithTournament\" ] = len(simp01.keys())\n",
    "tab.at[\"Mem 1 0\", \"After simplifyWithTournament\" ] = len(simp10.keys())\n",
    "tab.at[\"Mem 1 1\", \"After simplifyWithTournament\" ] = len(simp11.keys())\n",
    "tab.at[\"Mem 1 2\", \"After simplifyWithTournament\" ] = len(simp12.keys())\n",
    "tab.at[\"Mem 2 1\", \"After simplifyWithTournament\" ] = len(simp21.keys())\n",
    "tab"
   ]
  },
  {
   "cell_type": "markdown",
   "metadata": {},
   "source": [
    "### Improve the display of strategies\n",
    "\n",
    "Equivalence classes make it possible to highlight sets of strategies that play identically. In the case of `Mem(X,Y)`, by construction, these identical strategies have part of their genotype in common.\n",
    "\n",
    "It is then interesting to display the sets of equivalent strategies by one and the same representation by replacing the moves which are not impacting by * . We pass to this method a set of strategies identified as equivalent, the method merges these names to provide a notation with * . Warning: this method only works for `Mem(X,Y)`, does not calculate and does not check for equivalence, it assumes that the strategies provided are equivalent."
   ]
  },
  {
   "cell_type": "code",
   "execution_count": null,
   "metadata": {},
   "outputs": [],
   "source": [
    "def computeStar(strategies):\n",
    "    l = math.log2(len(strategies))\n",
    "    assert l == int(l)\n",
    "    ind_stars = []\n",
    "    len_genome = len(strategies[0].genome)\n",
    "    amorce = max(strategies[0].x, strategies[0].y)\n",
    "    for i in range(amorce, len_genome):\n",
    "        letter = strategies[0].genome[i]\n",
    "        for j in range(1, len(strategies)):\n",
    "            if letter != strategies[j].genome[i]:\n",
    "                ind_stars += [i]\n",
    "                break\n",
    "    #assert len(ind_stars) == l\n",
    "    new_genome = strategies[0].genome[0 : amorce ]\n",
    "    for i in range(amorce, len_genome):\n",
    "        if i not in ind_stars:\n",
    "            new_genome += strategies[0].genome[i]\n",
    "        else :\n",
    "            new_genome += \"*\"\n",
    "    #print(new_genome)\n",
    "    return new_genome\n",
    "\n",
    "\n",
    "# example of use\n",
    "print(computeStar([Mem(1,1,\"cCDCD\"),Mem(1,1,\"cCDCC\")]))\n",
    "print(computeStar([Mem(1,2,\"CDCCDDDCDC\"),Mem(1,2,\"CDCDDDDCDC\"),Mem(1,2,\"CDDCDDDCDC\"),Mem(1,2,\"CDDDDDDCDC\")]))\n",
    "print(computeStar([Mem(1,2,\"DDDDCCCDCD\"),Mem(1,2,\"DDDDCDCDCD\"),Mem(1,2,\"DDDDDCCDCD\"),Mem(1,2,\"DDDDDDCDCD\")]))\n",
    "\n",
    "print(computeStar([Mem(1,2,\"ccCDCDCCDD\"),Mem(1,2,\"ccDDDDCDDC\")])) "
   ]
  },
  {
   "cell_type": "markdown",
   "metadata": {},
   "source": [
    "## Evolution of a complete class, evolution of this class once simplified\n",
    "\n",
    "We now have all the tools to not only simplify a class, but also to replay this simplified class, and compare the results.\n",
    "Let's take the example of `Mem(1,1)`. This class contains 32 strategies. Once simplified, there are 26 strategies left. Thanks to `computeStar` one can now put the generic name in the legend. We can see that the two ecological competitions give the same 4 first ones. We notice that in the simplified class the All_C survive, while they disappear in the full class."
   ]
  },
  {
   "cell_type": "code",
   "execution_count": null,
   "metadata": {},
   "outputs": [],
   "source": [
    "# Simplified class computation\n",
    "mem11 = getMem(1,1)\n",
    "simpl = simplifyWithTournament(mem11, [Periodic('CDCCDDC'), Periodic('DDCDCDD')], 10)\n",
    "print(len(simpl))\n",
    "\n",
    "# Replacement of names by generic names\n",
    "bag = []\n",
    "for key in simpl.keys():\n",
    "    if len(simpl[key]) > 0:\n",
    "        name = computeStar([key]+simpl[key])\n",
    "        bag += [key.clone(name)]\n",
    "    else :\n",
    "        bag += [key]\n",
    "\n",
    "# Evolution of the initial class\n",
    "e1 = Ecological(g, mem11)\n",
    "e1.run()\n",
    "\n",
    "evol=e1.historic\n",
    "nbSurvivors = len(evol.iloc[-1][evol.iloc[-1]>0])\n",
    "e1.drawPlot(None,nbSurvivors)\n",
    "\n",
    "# Evolution of the simplified class with its generic names\n",
    "e2 = Ecological(g, bag)\n",
    "e2.run()\n",
    "\n",
    "evol=e2.historic\n",
    "nbSurvivors = len(evol.iloc[-1][evol.iloc[-1]>0])\n",
    "e2.drawPlot(None,10)\n"
   ]
  },
  {
   "cell_type": "markdown",
   "metadata": {},
   "source": [
    "## A gradual simplification\n",
    "\n",
    "In the case of the big classes it is impossible to make the tournament work and therefore the method of simplification by the tournament cannot work. Nevertheless, one can take only a reasonable part of the class one is interested in, simplify it by tournament. We add a certain number of strategies to this simplified set without exceeding the reasonable maximum size we have set, and we start again. If at a given moment no simplification is possible, this method fails in simplification. It may be necessary to change the order in which the strategies are taken (in the hope that this order will encourage simplification), or if possible, to increase the maximum size that one has set for oneself. Obviously, this method only works if the size you set is larger than the size of the simplified set you want to obtain (820 minimum for `Mem(1,2)` for example)."
   ]
  },
  {
   "cell_type": "code",
   "execution_count": null,
   "metadata": {},
   "outputs": [],
   "source": [
    "def simplifyStepByStep(l, opponents, length, maxSize):\n",
    "    size = len(l)\n",
    "    strats = []\n",
    "    simplified = dict()\n",
    "    end = False\n",
    "    current = 0\n",
    "    while not end:\n",
    "        if current + maxSize > size :\n",
    "            end = True\n",
    "            strats += l[current :]\n",
    "        else : \n",
    "            strats += l[current  : current +  maxSize]\n",
    "            current = current + maxSize\n",
    "        res = simplifyWithTournament(strats, opponents, length)\n",
    "        print(\"{} strategies deleted\".format(len(strats) - len(res)))\n",
    "        for strat in res.keys() :\n",
    "            if strat not in simplified : \n",
    "                simplified[strat] = res[strat]\n",
    "            else : \n",
    "                simplified[strat] += res[strat]\n",
    "        if (len(simplified) > maxSize):\n",
    "            print(\"Impossible to continue\")\n",
    "            return simplified\n",
    "        strats = list(simplified.keys())\n",
    "    \n",
    "    return simplified\n",
    "\n",
    "\n",
    "        \n",
    "printDict(simplifyStepByStep([Tft(), Spiteful(), Mem(0,1,\"cCD\"),  Mem(1,1,\"cCDDD\"), Periodic(\"CDC\"), Periodic('C') ], [Periodic('CCD'), Periodic('DDC')] , 10, 4))"
   ]
  },
  {
   "cell_type": "markdown",
   "metadata": {},
   "source": [
    "For relatively simple classes, it can of course be verified that overall simplification is equivalent to step-by-step simplification."
   ]
  },
  {
   "cell_type": "code",
   "execution_count": null,
   "metadata": {
    "scrolled": true
   },
   "outputs": [],
   "source": [
    "res_sbs = simplifyStepByStep(getMem(1,2)[0:300], [Periodic('CCD'), Periodic('DDC')] , 10, 250) # At least 232\n",
    "res = simplifyWithTournament(getMem(1,2)[0:300], [Periodic('CCD'), Periodic('DDC')], 10)\n",
    "print(len(res_sbs) == len(res))\n",
    "print(len(res_sbs))\n",
    "print(len(res))\n"
   ]
  },
  {
   "cell_type": "code",
   "execution_count": null,
   "metadata": {},
   "outputs": [],
   "source": [
    "res_sbs = simplifyStepByStep(getMem(1,1), [Periodic('CCD'), Periodic('DDC')] , 10, 30) # at least 26\n",
    "res = simplifyWithTournament(getMem(1,1), [Periodic('CCD'), Periodic('DDC')], 10)\n",
    "print(len(res_sbs) == len(res))"
   ]
  },
  {
   "cell_type": "markdown",
   "metadata": {},
   "source": [
    "Of course, this gradual simplification depends on the order in which the strategies are brought in. One order may therefore be more conducive to simplification than another. It is therefore interesting to test several of them."
   ]
  },
  {
   "cell_type": "code",
   "execution_count": null,
   "metadata": {},
   "outputs": [],
   "source": [
    "def sort1_Mem(strategies):\n",
    "    strategies.sort(key=lambda x: x.genome)\n",
    "    return strategies\n",
    "\n",
    "def sort2_Mem(strategies):\n",
    "    strategies.sort(key=lambda x: x.genome, reverse=True)\n",
    "    return strategies\n",
    "\n",
    "def sort3_Mem(strategies):\n",
    "    strategies.sort(key=lambda x: ''.join(reversed(x.genome)))\n",
    "    return strategies\n",
    "\n",
    "def sort4_Mem(strategies):\n",
    "    strategies.sort(key=lambda x: ''.join(reversed(x.genome)), reverse=True)\n",
    "    return strategies\n",
    "\n",
    "\n",
    "sortMem11 = sort4_Mem(getMem(1,1))\n"
   ]
  },
  {
   "cell_type": "markdown",
   "metadata": {},
   "source": [
    "## An exact simplification method for Mem(X,Y)\n",
    "\n",
    "In the case of a strategy of type `mem(X,Y)`, to know if this strategy can be scored with stars, we need to know if it uses all the elements of its code. If it does not, we identify these elements and replace them with stars. A star indicates that this gene can be replaced by any value since it is not used.\n",
    "The function `getGenericName` takes as argument a strategy genotype and returns this genotype possibly rewritten with * .\n",
    "The general idea of the algorithm used is to build little by little a list of all the possible pasts (starting from the possible pasts that the bootstrap allows), and thus, to put stars for the pasts which do not appear in this list. This is the case for example of `Mem(1,2, \"ccCCCCCCCCCC\")` which can thus be rewritten as `(1,2, \"ccCCCCCC****\")`."
   ]
  },
  {
   "cell_type": "code",
   "execution_count": null,
   "metadata": {},
   "outputs": [],
   "source": [
    "def setGenericName(strat):\n",
    "    X = strat.x\n",
    "    Y = strat.y\n",
    "    genotype = strat.genome\n",
    "    me = list(genotype[ max(X,Y) - X :  max(X,Y) ].upper())\n",
    "    opponent=\"\"\n",
    "    L = [x for x in itertools.product(['C', 'D'],repeat=Y)]\n",
    "    L = [list(elem) for elem in L]\n",
    "    \n",
    "    L1 = [x for x in itertools.product(['C', 'D'],repeat=X+Y)]\n",
    "    L1 = [list(elem) for elem in L1]\n",
    "  \n",
    "    possiblePast = []\n",
    "    tmp = []\n",
    "    for elem in L :\n",
    "        possiblePast += [me+elem] \n",
    "        tmp += [me+elem] \n",
    "    while(len(tmp)> 0):\n",
    "        if Y > 0 : \n",
    "            hisPast = tmp[0][X + 1 : X + Y ]\n",
    "        else : \n",
    "            hisPast = []\n",
    "        myPast = []\n",
    "        if X > 1: \n",
    "            myPast += tmp[0][1 : X]\n",
    "        if X > 0 : \n",
    "            myPast += list(genotype[L1.index(tmp[0])+max(X,Y)].upper())\n",
    "        if Y > 0 :\n",
    "            past1 = myPast + hisPast + ['C']\n",
    "            past2 = myPast + hisPast + ['D']\n",
    "            #print(myPast)\n",
    "            #print(hisPast)\n",
    "        if Y == 0:\n",
    "            past1 = myPast\n",
    "            past2 = myPast \n",
    "            \n",
    "        if past1 not in possiblePast :\n",
    "            possiblePast += [past1]\n",
    "            tmp += [past1]\n",
    "        if past2 not in possiblePast :\n",
    "            possiblePast += [past2]\n",
    "            tmp += [past2]\n",
    "        tmp.remove(tmp[0])\n",
    "   \n",
    "    # Recreate the genome\n",
    "   \n",
    "    ind=[]\n",
    "    for i in range(len(L1)):\n",
    "        if L1[i] not in possiblePast:\n",
    "            ind += [i]\n",
    "    \n",
    "    genotypeStar = genotype[0 : max(X,Y)]\n",
    "    for i in range(len(L1)):\n",
    "        if i not in ind : \n",
    "            genotypeStar += genotype[max(X,Y) + i]\n",
    "        else :\n",
    "            genotypeStar += \"*\"\n",
    "    return strat.clone(name = genotypeStar)\n",
    "\n",
    "\n",
    "\n",
    "# example of use\n",
    "print(setGenericName(Mem(1,2,\"ccCCCCCCCC\")).name)\n",
    "# ccCCCC****\n",
    "\n",
    "print(setGenericName(Mem(1,2,\"cdCCCCDDDD\")).name)\n",
    "# ccCCDDCCDD\n",
    "\n",
    "print(setGenericName(Mem(1,2,\"ccCCCDCCDC\")).name)\n",
    "# ccCCCDCCDC\n",
    "\n",
    "print(setGenericName(Mem(0,1,\"cDD\")).name)\n",
    "\n",
    "print(setGenericName(Mem(1,0,\"cCC\")).name)"
   ]
  },
  {
   "cell_type": "markdown",
   "metadata": {},
   "source": [
    "This result is important: it shows that, although the comparison of 2 programs is undecidable in the general case, it is nevertheless decidable in the case of `Mem(X,Y)`.\n",
    "\n",
    "To test if two strategies of type `Mem(X,Y)` are identical, we just have to apply `getGenericName` and check that the names obtained are identical:"
   ]
  },
  {
   "cell_type": "code",
   "execution_count": null,
   "metadata": {},
   "outputs": [],
   "source": [
    "s1 = Mem(2,2,'ccCCDDDCCDCDDDDDDD')\n",
    "s2 = Mem(2,2,'ccCCDDDDDCDDDDDDCD') \n",
    "\n",
    "if (setGenericName(s1).name==setGenericName(s2).name) :\n",
    "    print (\"These two strategies are identical\")\n",
    "else: print (\"These two strategies are different\")"
   ]
  },
  {
   "cell_type": "markdown",
   "metadata": {},
   "source": [
    "### General verification\n",
    "In order to check the proper functioning of our different algorithms, we have all the tools to compare the result obtained with the exact approach (`setGenericName`) and with the approximate approach (`simplifyWithTournament` or `classesEquiv`, followed by `computeStar`).\n",
    "\n",
    "To do this, we take a class (`Mem(1,2)` for example), then calculate its equivalence classes. For each non-empty class, we check that `setGenericName` on the key corresponds to the set of strategies of this equivalence class (in number by counting stars, or in quality by applying `computeStar` to the whole class)."
   ]
  },
  {
   "cell_type": "code",
   "execution_count": null,
   "metadata": {},
   "outputs": [],
   "source": [
    "# simpl = simplifyWithTournament(getMem(1,2), [Periodic(\"CDC\")], 20)\n",
    "simpl = simplifyWithTournament(getMem(1,2), [Periodic('CDCCDDC'), Periodic('DDCDCDD')], 20)\n",
    "for key in simpl:\n",
    "    if len(simpl[key]) > 0 : \n",
    "        #print(key.name)\n",
    "        #for strat in simpl[key]:\n",
    "            #print(strat.name)\n",
    "        name1 = computeStar([key] + simpl[key])\n",
    "        nbStars = name1.count(\"*\")\n",
    "        # print(\"Check numbers of stars\")\n",
    "        if nbStars**2 != len(simpl[key])+1 :\n",
    "            print(\"Stars problem with \"+ name1)\n",
    "            exit()\n",
    "        # print(\"Check class\")\n",
    "        name2 = setGenericName(key).name\n",
    "        for strat in simpl[key]:\n",
    "            if name2 != setGenericName(strat).name :\n",
    "                print(\"Key \"+ name2 + \" problem with its set \"+ simpl[key])\n",
    "                exit()\n",
    "        # print(\"Check equivalence\")\n",
    "        if name1 != name2 :\n",
    "            print(name1 +\" different of \" + name2)\n",
    "            exit()\n",
    "print(\"All is perfect\")\n",
    "\n",
    "# If we test with [Periodic(\"CDC\"),Periodic(\"DCD\")]  the result will be different\n"
   ]
  },
  {
   "cell_type": "markdown",
   "metadata": {},
   "source": [
    "### Exercise 2\n",
    "\n",
    "Write `allC` and `allD` in the `Mem(1,2)` formalism. Compute their names with * . \n",
    "Explain why these stars are not in the same place?"
   ]
  },
  {
   "cell_type": "code",
   "execution_count": null,
   "metadata": {},
   "outputs": [],
   "source": [
    "allC = Mem(1,2,\"ccCCCCCCCC\")\n",
    "allD = Mem(1,2,\"ddDDDDDDDD\")\n",
    "print(setGenericName(allC).name)\n",
    "print(setGenericName(allD).name)"
   ]
  },
  {
   "cell_type": "markdown",
   "metadata": {},
   "source": [
    "### Simplification of a Memory set by the exact method\n",
    "\n",
    "Now it remains to use this function to simplify a set of strategies of the Memory type: we take all the possible names, we browse the list name by name, we replace each name by its generic name and, if it is already present in the future result, we do not add it. \n",
    "\n",
    "Note that no tournament or match is necessary to simplify a class with this method! It is therefore possible to tackle much larger sets."
   ]
  },
  {
   "cell_type": "code",
   "execution_count": null,
   "metadata": {},
   "outputs": [],
   "source": [
    "def simplifyExact(bag):\n",
    "    res = set()\n",
    "    simplified = []\n",
    "    for strat in bag : \n",
    "        gName = setGenericName(strat).name\n",
    "        if gName not in res:\n",
    "            res.add(gName)\n",
    "            simplified += [strat]\n",
    "    return simplified"
   ]
  },
  {
   "cell_type": "code",
   "execution_count": null,
   "metadata": {},
   "outputs": [],
   "source": [
    "simplified = simplifyExact(getMem(1,2))\n",
    "print(\"Lenght of bag simplified : {}\".format(len(simplified)))"
   ]
  },
  {
   "cell_type": "markdown",
   "metadata": {},
   "source": [
    "### Synthesis of simplications obtained"
   ]
  },
  {
   "cell_type": "code",
   "execution_count": null,
   "metadata": {},
   "outputs": [],
   "source": [
    "tab = pd.DataFrame(\n",
    "        np.nan, [\"Mem(0,1)\",\"Mem(1,0)\",\"Mem(1,1)\", \"Mem(0,2)\", \"Mem(2,0)\",\"Mem(2,1)\",\"Mem(1,2)\",\"Mem(2,2)\",\"Mem(3,0)\"], [\"size\",\"simplif\"]\n",
    "    )\n",
    "l = getMem(0,1)\n",
    "tab.at[\"Mem(0,1)\",\"size\"] = len(l)\n",
    "tab.at[\"Mem(0,1)\",\"simplif\"] = len(simplifyExact(l))\n",
    "l = getMem(1,0)\n",
    "tab.at[\"Mem(1,0)\",\"size\"] = len(l)\n",
    "tab.at[\"Mem(1,0)\",\"simplif\"] = len(simplifyExact(l))\n",
    "l = getMem(1,1)\n",
    "tab.at[\"Mem(1,1)\",\"size\"] = len(l)\n",
    "tab.at[\"Mem(1,1)\",\"simplif\"] = len(simplifyExact(l))\n",
    "l = getMem(0,2)\n",
    "tab.at[\"Mem(0,2)\",\"size\"] = len(l)\n",
    "tab.at[\"Mem(0,2)\",\"simplif\"] = len(simplifyExact(l))\n",
    "l = getMem(2,0)\n",
    "tab.at[\"Mem(2,0)\",\"size\"] = len(l)\n",
    "tab.at[\"Mem(2,0)\",\"simplif\"] = len(simplifyExact(l))\n",
    "l = getMem(2,1)\n",
    "tab.at[\"Mem(2,1)\",\"size\"] = len(l)\n",
    "tab.at[\"Mem(2,1)\",\"simplif\"] = len(simplifyExact(l))\n",
    "l = getMem(1,2)\n",
    "tab.at[\"Mem(1,2)\",\"size\"] = len(l)\n",
    "tab.at[\"Mem(1,2)\",\"simplif\"] = len(simplifyExact(l))\n",
    "l = getMem(2,2)\n",
    "tab.at[\"Mem(2,2)\",\"size\"] = len(l)\n",
    "tab.at[\"Mem(2,2)\",\"simplif\"] = len(simplifyExact(l))\n",
    "l = getMem(3,0)\n",
    "tab.at[\"Mem(3,0)\",\"size\"] = len(l)\n",
    "tab.at[\"Mem(3,0)\",\"simplif\"] = len(simplifyExact(l))\n",
    "l = getMem(0,3)\n",
    "tab.at[\"Mem(0,3)\",\"size\"] = len(l)\n",
    "tab.at[\"Mem(0,3)\",\"simplif\"] = len(simplifyExact(l))\n",
    "l = getMem(3,1)\n",
    "tab.at[\"Mem(3,1)\",\"size\"] = len(l)\n",
    "tab.at[\"Mem(3,1)\",\"simplif\"] = len(simplifyExact(l))\n",
    "l = getMem(1,3)\n",
    "tab.at[\"Mem(1,3)\",\"size\"] = len(l)\n",
    "tab.at[\"Mem(1,3)\",\"simplif\"] = len(simplifyExact(l))\n",
    "\n",
    "\n",
    "tab"
   ]
  },
  {
   "cell_type": "markdown",
   "metadata": {},
   "source": [
    "## A new method to compare a complete class and its simplified class\n",
    "\n",
    "The comparison between a class and its simplified class had already been shown previously, using approximate methods. We do exactly the same thing again, but this time using the exact method. Remember that this exact method only works for Memory.\n"
   ]
  },
  {
   "cell_type": "code",
   "execution_count": null,
   "metadata": {},
   "outputs": [],
   "source": [
    "# Simplified class computation\n",
    "mem11 = getMem(1,1)\n",
    "simpl = simplifyExact(mem11)\n",
    "print(len(simpl))\n",
    "\n",
    "# Replacement of names by generic names\n",
    "bag = []\n",
    "for strat in simpl:\n",
    "    bag += [setGenericName(strat)]\n",
    "\n",
    "\n",
    "# Evolution of the initial class\n",
    "e1 = Ecological(g, mem11)\n",
    "e1.run()\n",
    "\n",
    "evol=e1.historic\n",
    "nbSurvivors = len(evol.iloc[-1][evol.iloc[-1]>0])\n",
    "e1.drawPlot(None,nbSurvivors)\n",
    "\n",
    "# Evolution of the simplified class with its generic names\n",
    "e2 = Ecological(g, bag)\n",
    "e2.run()\n",
    "\n",
    "evol=e2.historic\n",
    "nbSurvivors = len(evol.iloc[-1][evol.iloc[-1]>0])\n",
    "e2.drawPlot(None,10)\n"
   ]
  },
  {
   "cell_type": "markdown",
   "metadata": {},
   "source": [
    "# Bibliography\n",
    "\n",
    "- A. M. Turing. *On Computable Numbers, with an Application to the Entscheidungsproblem*. Proceedings of the London Mathematical Society, vol. s2-42, no 1, 1er janvier 1937, p. 230–265\n",
    "- H. G. Rice. *Classes of Recursively Enumerable Sets and Their Decision Problems*. Transactions of the American Mathematical Society, volume 74, numéro 2, mars 1953 (see [Wikipedia](https://fr.wikipedia.org/wiki/Théorème_de_Rice))\n",
    "- Bruno Beaufils, Jean-Paul Delahaye, Philippe Mathieu. *Complete classes of strategies for the Classical Iterated Prisoner's Dilemma*. Evolutionary Programming VII, 1998, Volume 1447. ISBN : 978-3-540-64891-8\n",
    "- Stefan Ciobaca, Dorel Lucanu, Vlad Rusu, Grigore Rosu. *A Language-Independent Proof System for Full Program Equivalence*. Formal Aspects of Computing, Springer Verlag, 2016, 28 (3), pp.469–497.\n"
   ]
  }
 ],
 "metadata": {
  "kernelspec": {
   "display_name": "Python 3",
   "language": "python",
   "name": "python3"
  },
  "language_info": {
   "codemirror_mode": {
    "name": "ipython",
    "version": 3
   },
   "file_extension": ".py",
   "mimetype": "text/x-python",
   "name": "python",
   "nbconvert_exporter": "python",
   "pygments_lexer": "ipython3",
   "version": "3.7.5"
  }
 },
 "nbformat": 4,
 "nbformat_minor": 2
}
