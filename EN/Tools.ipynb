{
 "cells": [
  {
   "cell_type": "code",
   "execution_count": null,
   "metadata": {},
   "outputs": [],
   "source": [
    "%run ../src/game.py\n",
    "%run ../src/ipd.py\n",
    "%run ../src/strategies.py\n",
    "#%run ../src/tools.py\n",
    "dip =[(3,3),(0,5),(5,0),(1,1)]   # Dilemme du prisonnier\n",
    "g = Game(dip,['C','D'])"
   ]
  },
  {
   "cell_type": "markdown",
   "metadata": {},
   "source": [
    "# Evaluation by subclass synthesis\n",
    "\n",
    "Ecological competitions offer a fairly reliable tool for measuring the robustness of a strategy, but it is still insufficient. It is possible, for example, that some strategies may sacrifice themselves for others in a *master-slave* scheme. Having a synthesis of hundreds or even thousands of ecological competitions in which certain strategies have been removed probably measures a better robustness. One of the simplest ideas is to calculate the `n` possible competitions that can be done by removing 1 strategy from a set of `n` strategies. This technique is called the subclass technique.\n",
    "We define here 3 functions to realize these subclasses.\n",
    "- `subclasses(soup, n)` which evaluates all possible subsets of size n in the soup\n",
    "- `subclassesWithOneStrat(soup, n, strat)` which evaluates Strat in all possible subsets of size n in the soup by systematically adding the strategy strat\n",
    "- `subclassesRandomWithOneStrat(p, soup, n, Strat)` which organizes competitions of n randomly selected strategies in the soup in which Strat has been systématically added\n",
    "\n",
    "The evaluations carried out in these functions are ecological competitions, but of course we could use just tourmaments.\n",
    "\n",
    "These functions return at the end a table with for each strategy, its best place, its worst place, its average and its standard deviation."
   ]
  },
  {
   "cell_type": "markdown",
   "metadata": {},
   "source": [
    "#### A simple example: all competitions of 3 strategies among the classics"
   ]
  },
  {
   "cell_type": "code",
   "execution_count": null,
   "metadata": {
    "scrolled": true
   },
   "outputs": [],
   "source": [
    "All_C = Periodic('C')\n",
    "All_D = Periodic('D')\n",
    "bag = [All_C, All_D, Tft(), Spiteful(), Gradual(), SoftMajority(), HardMajority()]\n",
    "subClasses(bag, 3)"
   ]
  },
  {
   "cell_type": "markdown",
   "metadata": {},
   "source": [
    "#### A larger case: all Mem(1,1) strategies with one less strategy each time\n",
    "Knowing that there are 32 `mem(1,1)` this operation therefore performs 32 competitions of 31 strategies. Note that in the case of this method, all strategies are present (and absent) exactly the same number of times."
   ]
  },
  {
   "cell_type": "code",
   "execution_count": null,
   "metadata": {},
   "outputs": [],
   "source": [
    "soup = getAllMemory(1,1)\n",
    "subClasses(soup, len(soup)-1)"
   ]
  },
  {
   "cell_type": "markdown",
   "metadata": {},
   "source": [
    "#### Testing the Spiteful strategy with all classic triplets\n",
    "In the case of both `subClassesWithOneStrat` methods only the strategy passed as parameter participates in all subclasses (feasible for not too large sets like `mem(1,1)`). In the first one it participates in all the subclasses while with `subClassesRandomWithOneStrat` it participates in a fixed number of subclasses of the same size but taken randomly (usable in large sets like `mem(2,2)`)."
   ]
  },
  {
   "cell_type": "code",
   "execution_count": null,
   "metadata": {},
   "outputs": [],
   "source": [
    "All_C = Periodic('C')\n",
    "All_D = Periodic('D')\n",
    "soup = [All_C, All_D, Tft(), Gradual(), SoftMajority(), HardMajority()]\n",
    "res  = subClassesWithOneStrat(soup, 3, Spiteful())\n",
    "\n",
    "# To view the entire table : \n",
    "# res = subClassesWithOneStrat(soup, 3, Spiteful(), True)"
   ]
  },
  {
   "cell_type": "markdown",
   "metadata": {},
   "source": [
    "It should be noted that the objects `subClassesWithOneStrat` and `subClassesRandomWithOneStrat` keep the \n",
    "best and worst tournament for the `Strat` strategy\n",
    "When displaying the subclass ranking it is therefore possible to display the set of strategies that has been favorable or unfavorable to the `Strat` srategy."
   ]
  },
  {
   "cell_type": "code",
   "execution_count": null,
   "metadata": {},
   "outputs": [],
   "source": [
    "bestComp, worstComp, strategy = res\n",
    "print(\"The best competition for strategy \"+strategy.name +\" is : \")\n",
    "for strat in bestComp :\n",
    "    print(strat.name)"
   ]
  },
  {
   "cell_type": "markdown",
   "metadata": {},
   "source": [
    "#### 100 experiments of 10 strategies randomly selected in mem(2,2) against Gradual()\n",
    "For `subclassesRandom`, if a strategy has only played once then it has no standard deviation (`NaN`); if it has not played at all then all its values are at `NaN` in the table"
   ]
  },
  {
   "cell_type": "code",
   "execution_count": null,
   "metadata": {},
   "outputs": [],
   "source": [
    "soup = getAllMemory(2,2)\n",
    "res = subClassesRandomWithOneStrat(100,soup, 10, Gradual())\n",
    "# To view the entire table : \n",
    "# subClassesRandomWithOneStrat(100, soup, 10, Gradual(), True)\n"
   ]
  },
  {
   "cell_type": "markdown",
   "metadata": {},
   "source": [
    "We can also check the most \"unfavourable\" competition in Gradual \n",
    "(it is a random choice, so 2 executions will not always give the same result)"
   ]
  },
  {
   "cell_type": "code",
   "execution_count": null,
   "metadata": {},
   "outputs": [],
   "source": [
    "bestComp, WorstComp, strategy = res"
   ]
  },
  {
   "cell_type": "code",
   "execution_count": null,
   "metadata": {},
   "outputs": [],
   "source": [
    "soup = worstComp\n",
    "e2=Ecological(g,soup)\n",
    "e2.run()\n",
    "e2.drawPlot(None,None)\n",
    "evol=e2.historic\n",
    "print(evol.iloc[-1])\n",
    "print()\n",
    "print(e2.historic.iloc[e2.generation].rank(0, method=\"min\", ascending=False))"
   ]
  },
  {
   "cell_type": "code",
   "execution_count": null,
   "metadata": {},
   "outputs": [],
   "source": [
    "soup = getAllMemory(1,1)\n",
    "res  = subClassesWithOneStrat(soup,len(soup)-1, Gradual())"
   ]
  }
 ],
 "metadata": {
  "kernelspec": {
   "display_name": "Python 3",
   "language": "python",
   "name": "python3"
  },
  "language_info": {
   "codemirror_mode": {
    "name": "ipython",
    "version": 3
   },
   "file_extension": ".py",
   "mimetype": "text/x-python",
   "name": "python",
   "nbconvert_exporter": "python",
   "pygments_lexer": "ipython3",
   "version": "3.6.9"
  }
 },
 "nbformat": 4,
 "nbformat_minor": 2
}
