{
 "cells": [
  {
   "cell_type": "markdown",
   "metadata": {
    "colab_type": "text",
    "collapsed": true,
    "id": "yRbUtz__A1a_"
   },
   "source": [
    "# Le dilemme itéré du prisonnier\n",
    "\n",
    "Auteur : Philippe Mathieu, [CRISTAL Lab](http://www.cristal.univ-lille.fr), [SMAC team](https://www.cristal.univ-lille.fr/?rubrique27&eid=17), [Lille University](http://www.univ-lille.fr), email : philippe.mathieu@univ-lille.fr\n",
    "\n",
    "Contributeurs : Louisa Fodil (CRISTAL/SMAC), Céline Petitpré (CRISTAL/SMAC)\n",
    "\n",
    "Création : 18/01/2018\n",
    "\n",
    "## Introduction\n",
    "\n",
    "Le Dilemme du prisonnier (PD) est un jeu **simultané**, **à deux joueurs**, **à somme non nulle**, mis en évidence par Merill Flood & Melvin Dreschler en 1950 pour montrer que l'équilibre de Nash n'est pas toujours idéal. La version itérée du jeu (IPD) permet d'exprimer des stratégies qui se basent sur l'historique de jeu, et donc apprennent du passé. En 1980 Robert Axelrod organise un concours pour la version itérée du jeu dans lequel l'un des participants, Anatol Rappoport met en évidence la célèbre stratégie TFT. Cette version itérée et cette stratégie TFT sont populariséees en 1984 dans le livre de Robert Axelrod \"The Evolution of Cooperation\". Depuis, des milliers de publications ont été réalisées sur ce sujet, dans tous les domaines !\n",
    "\n",
    "Ce notebook a pour objectif de montrer comment établir et comparer des stratégies à ce jeu.\n",
    "\n",
    "On considère ici une classe `Game` permettant de coder un jeu\n",
    "\n",
    "----\n",
    "### Game(tab, actions)\n",
    "- `tab` : la liste des couples de scores\n",
    "- `actions` : la liste des stratégies possibles\n",
    "\n",
    "**Methodes**\n",
    "- `getDominantStrategies(self, strict='True')` qui imprime une liste d'indices des stratégies non dominées et qui renvoie un nouveau Game avec cette nouvelle matrice\n",
    "- `getNash(self)` qui renvoie une liste d'indices des équilibres de Nash\n",
    "- `getPareto(self)` qui renvoie une liste d'indices des équilibres de Pareto"
   ]
  },
  {
   "cell_type": "code",
   "execution_count": null,
   "metadata": {
    "colab": {},
    "colab_type": "code",
    "id": "m3GwEBZoA1bB"
   },
   "outputs": [],
   "source": [
    "%run ../src/game.py\n",
    "dip =[(3,3),(0,5),(5,0),(1,1)]   # Dilemme du prisonnier\n",
    "g = Game(dip,['C','D'])\n",
    "g.getNash()"
   ]
  },
  {
   "cell_type": "markdown",
   "metadata": {
    "colab_type": "text",
    "id": "UUUxBWJNA1bI"
   },
   "source": [
    "# Une stratégie\n",
    "\n",
    "Une stratégie a pour objectif de décider du coup à jouer. Outre la matrice des gains, les informations disponibles pour une stratégie sont les coups joués par les deux joueurs dans le passé. Les stratégies les plus simples sont bien évidemment les stratégies qui ne prennent pas en compte ce passé, comme les stratégies qui jouent périodiquement la même séquence de coups. Pour assurer un principe d'autonomie de chaque agent, une stratégie est bien sûr capable de fournir son prochain coup, mais s'occupe elle-même de stocker ses précédents coups si necessaire.\n",
    "\n",
    "#### Créons une classe de stratégies de ce type\n",
    "La classe que nous définissons ici est très simple : des stratégies qui jouent périodiquement les coups, sans réfléchir beaucoup ! Pour l'instant, elle n'est liée à aucun jeu puisque ce type de comportement peut se retrouver dans n'importe quel jeu."
   ]
  },
  {
   "cell_type": "code",
   "execution_count": null,
   "metadata": {
    "colab": {},
    "colab_type": "code",
    "id": "OMrjZ1ciA1bK"
   },
   "outputs": [],
   "source": [
    "from abc import abstractmethod\n",
    "\n",
    "\n",
    "class Strategy:\n",
    "    def setMemory(self, mem):\n",
    "        pass\n",
    "\n",
    "    def getAction(self, tick):\n",
    "        pass\n",
    "\n",
    "    def __copy__(self):\n",
    "        pass\n",
    "\n",
    "    def update(self, x, y):\n",
    "        pass\n",
    "\n",
    "\n",
    "class Periodic(Strategy):\n",
    "    def __init__(self, sequence, name=None):\n",
    "        super().__init__()\n",
    "        self.sequence = sequence.upper()\n",
    "        self.step = 0\n",
    "        self.name = \"per_\" + sequence if (name == None) else name\n",
    "\n",
    "    def getAction(self, tick):\n",
    "        return self.sequence[tick % len(self.sequence)]\n",
    "\n",
    "    def clone(self):\n",
    "        object = Periodic(self.sequence, self.name)\n",
    "        return object\n",
    "\n",
    "    def update(self, x, y):\n",
    "        pass\n",
    "\n",
    "\n",
    "print(\"All is ok\")"
   ]
  },
  {
   "cell_type": "markdown",
   "metadata": {},
   "source": [
    "#### Testons notre classe Periodic"
   ]
  },
  {
   "cell_type": "code",
   "execution_count": null,
   "metadata": {
    "colab": {},
    "colab_type": "code",
    "id": "EfyXlQEHA1bO",
    "outputId": "74d8e124-29e6-4706-fb27-7f606eb09335"
   },
   "outputs": [],
   "source": [
    "s1 = Periodic(\"abc\")\n",
    "print(s1.name, end=\"\\t\")\n",
    "for i in range(0, 10):\n",
    "    print(s1.getAction(i), end=\" \")\n",
    "# IL DOIT Y AVOIR 10 COUPS. çA COMMENCE PAR A ET çA FINIT PAR A"
   ]
  },
  {
   "cell_type": "markdown",
   "metadata": {
    "colab_type": "text",
    "id": "_C-a0YOMA1bS"
   },
   "source": [
    "# Une rencontre\n",
    "Un meeting est une rencontre de deux stratégies durant un certain nombre de coups à un jeu fixé. Le score de chacune est la somme des scores obtenus lors de chaque coup, conformément à la matrice du jeu."
   ]
  },
  {
   "cell_type": "code",
   "execution_count": null,
   "metadata": {
    "colab": {},
    "colab_type": "code",
    "id": "TKAUYaK8A1bU"
   },
   "outputs": [],
   "source": [
    "class Meeting:\n",
    "    def __init__(self, game, s1, s2, length=1000):\n",
    "        self.game = game\n",
    "        self.s1 = s1.clone()\n",
    "        self.s2 = s2.clone()\n",
    "        self.length = length\n",
    "        self.nb_cooperation_s1 = 0\n",
    "        self.nb_cooperation_s2 = 0\n",
    "\n",
    "    def reinit(self):\n",
    "        self.s1_score = 0\n",
    "        self.s2_score = 0\n",
    "        self.s1_rounds = []\n",
    "        self.s2_rounds = []\n",
    "\n",
    "    def run(self):\n",
    "        self.reinit()\n",
    "        for tick in range(0, self.length):\n",
    "            c1 = self.s1.getAction(tick).upper()\n",
    "            c2 = self.s2.getAction(tick).upper()\n",
    "            if c1 == \"C\":\n",
    "                self.nb_cooperation_s1 += 1\n",
    "            if c2 == \"C\":\n",
    "                self.nb_cooperation_s2 += 1\n",
    "            self.s1_rounds.append(c1)\n",
    "            self.s2_rounds.append(c2)\n",
    "            self.s1.update(c1, c2)\n",
    "            self.s2.update(c2, c1)\n",
    "            act = self.game.actions\n",
    "            self.s1_score += self.game.scores[\"x\"][act.index(c1), act.index(c2)]\n",
    "            self.s2_score += self.game.scores[\"y\"][act.index(c1), act.index(c2)]\n",
    "\n",
    "    def prettyPrint(self,max=20) :\n",
    "         print(m.s1.name + \"\\t\" + ' '.join(map(str, m.s1_rounds[0 : max])) + \" \" + str(m.s1_score))\n",
    "         print(m.s2.name + \"\\t\" + ' '.join(map(str, m.s2_rounds[0 : max])) + \" \" + str(m.s2_score))\n",
    "\n",
    "\n",
    "print(\"All is ok\")"
   ]
  },
  {
   "cell_type": "markdown",
   "metadata": {
    "colab_type": "text",
    "id": "68U3c_SQA1bY"
   },
   "source": [
    "Une rencontre entre deux stratégies est triviale : on initialise un jeu, on crée 2 stratégies, et on les passe au Meeting."
   ]
  },
  {
   "cell_type": "code",
   "execution_count": null,
   "metadata": {
    "colab": {},
    "colab_type": "code",
    "id": "0864WspmA1ba",
    "outputId": "64c3249c-3ee6-49d3-a2e3-815687254e17"
   },
   "outputs": [],
   "source": [
    "dip = [(3, 3), (0, 5), (5, 0), (1, 1)]  # Dilemme du prisonnier\n",
    "g = Game(dip, [\"C\", \"D\"])\n",
    "s1 = Periodic(\"CCD\")\n",
    "s2 = Periodic(\"DDC\")\n",
    "m = Meeting(g, s1, s2, 10)\n",
    "m.run()\n",
    "m.prettyPrint()\n",
    "# ON DOIT AVOIR 15,35\n",
    "print()\n",
    "print(\"Le nombre de coopérations : \")\n",
    "print(m.s1.name + \"\\t\" + str(m.nb_cooperation_s1))\n",
    "print(m.s2.name + \"\\t\" + str(m.nb_cooperation_s2))"
   ]
  },
  {
   "cell_type": "markdown",
   "metadata": {
    "colab_type": "text",
    "id": "FDFZwmWaA1be"
   },
   "source": [
    "# Un tournoi\n",
    "\n",
    "Un tournoi s'applique à un ensemble de stratégies. Il consiste à faire se rencontrer tout couple de stratégies dans un meeting, y compris chaque stratégie contre elle-même. On appelle ce type de tournoi un \"round-robin\". On remplit ainsi une matrice carrée de scores. Dans un tel tournoi, le score de chaque stratégie est la somme des scores qu'elle a obtenue. La stratégie gagnante est celle qui obtient le score le plus grand.\n",
    "\n",
    "Un tournoi est maintenant défini à l'aide de 4 paramètres : le jeu sur lequel il s'applique, l'ensemble des stratégies évaluées, la longueur des parties, le nombre de répétitions effectuées (si l'aléatoire est utilisé dans les stratégies).\n"
   ]
  },
  {
   "cell_type": "code",
   "execution_count": null,
   "metadata": {
    "colab": {},
    "colab_type": "code",
    "id": "NvsSXzRpA1bf"
   },
   "outputs": [],
   "source": [
    "import pandas as pd\n",
    "import numpy as np\n",
    "\n",
    "\n",
    "class Tournament:\n",
    "    def __init__(self, game, strategies, length=1000, repeat=1):\n",
    "        self.strategies = strategies\n",
    "        self.game = game\n",
    "        self.length = length\n",
    "        self.repeat = repeat\n",
    "        size = len(strategies)\n",
    "        df = pd.DataFrame(np.zeros((size, size + 1), dtype=np.int32))\n",
    "        df.columns, df.index = (\n",
    "            [s.name for s in self.strategies] + [\"Total\"],\n",
    "            [s.name for s in self.strategies],\n",
    "        )\n",
    "        self.matrix = df\n",
    "        df2 = pd.DataFrame(np.zeros((size, size + 1), dtype=np.int32))\n",
    "        df2.columns, df2.index = (\n",
    "            [s.name for s in self.strategies] + [\"Total\"],\n",
    "            [s.name for s in self.strategies],\n",
    "        )\n",
    "        self.cooperations = df2\n",
    "\n",
    "    def run(self):\n",
    "        for k in range(self.repeat):\n",
    "            for i in range(0, len(self.strategies)):\n",
    "                for j in range(i, len(self.strategies)):\n",
    "                    meet = Meeting(\n",
    "                        self.game, self.strategies[i], self.strategies[j], self.length\n",
    "                    )\n",
    "                    meet.run()\n",
    "                    self.matrix.at[\n",
    "                        self.strategies[i].name, self.strategies[j].name\n",
    "                    ] += meet.s1_score\n",
    "                    if (i!=j):\n",
    "                        self.matrix.at[\n",
    "                            self.strategies[j].name, self.strategies[i].name\n",
    "                        ] += meet.s2_score\n",
    "                    self.cooperations.at[\n",
    "                        self.strategies[i].name, self.strategies[j].name\n",
    "                    ] += meet.nb_cooperation_s1\n",
    "                    if (i!=j):\n",
    "                        self.cooperations.at[\n",
    "                            self.strategies[j].name, self.strategies[i].name\n",
    "                        ] += meet.nb_cooperation_s2\n",
    "        self.matrix[\"Total\"] = self.matrix.sum(axis=1)\n",
    "        self.matrix.sort_values(by=\"Total\", ascending=False, inplace=True)\n",
    "        rows = list(self.matrix.index) + [\"Total\"]\n",
    "        self.matrix = self.matrix.reindex(columns=rows)\n",
    "        self.cooperations[\"Total\"] = self.cooperations.sum(axis=1)\n",
    "        self.cooperations.sort_values(by=\"Total\", ascending=False, inplace=True)\n",
    "        rows = list(self.cooperations.index) + [\"Total\"]\n",
    "        self.cooperations = self.cooperations.reindex(columns=rows)\n",
    "\n",
    "\n",
    "print(\"All is ok\")"
   ]
  },
  {
   "cell_type": "markdown",
   "metadata": {},
   "source": [
    "#### Faisons un tournoi\n",
    "Le Dilemme des prisonniers est un jeu **à somme non nulle** : on ne gagne pas la même chose dans toutes les situations. Il est important de noter que dans le tournoi on ne compte pas le nombre de victoire mais le cumul des scores !\n",
    "\n",
    "Quelle est alors la matrice des scores obtenue pour un tournoi entre quelques stratégies basiques ?"
   ]
  },
  {
   "cell_type": "code",
   "execution_count": null,
   "metadata": {
    "colab": {},
    "colab_type": "code",
    "id": "oXMo5n8BA1bi"
   },
   "outputs": [],
   "source": [
    "bag = []\n",
    "bag.append(Periodic(\"C\"))\n",
    "bag.append(Periodic(\"D\"))\n",
    "bag.append(Periodic(\"DDC\"))\n",
    "bag.append(Periodic(\"CCD\"))\n",
    "t = Tournament(g, bag, 10)\n",
    "t.run()\n",
    "print(\"La matrice de scores : \")\n",
    "print(t.matrix)\n",
    "print()\n",
    "# SUR 10 COUPS : [('per_D', 120), ('per_DDC', 102), ('per_CCD', 78), ('per_C', 60)]\n",
    "print(\"La matrice de coopérations : \")\n",
    "print(t.cooperations)"
   ]
  },
  {
   "cell_type": "markdown",
   "metadata": {
    "colab_type": "text",
    "id": "Jnn5vuBuA1bm"
   },
   "source": [
    "## Générer des ensembles de stratégies\n",
    "\n",
    "Pour tester une stratégie, il suffit de la confronter à quelques autres. Constituer une \"soupe\" de stratégies pour tester la performance d'une stratégie donnée peut être considéré comme subjectif. L'idéal est de constituer des soupes indiscutables, par exemple en constituant des ensembles de toutes les stratégies répondant à une contrainte globale.\n",
    "Nous pouvons par exemple constituer l'ensemble de toutes les périodiques de période 1 (il y en a 2) et/ou de période 2 (il y en a $2^2=4$) et/ou de période 3 (il y en a $2^3=8$), voir toutes ensembles (on notera qu'en faisant l'union de ces trois ensembles on génère CCC qui correspond bien évidemment aussi à CC ou C).\n"
   ]
  },
  {
   "cell_type": "code",
   "execution_count": null,
   "metadata": {
    "colab": {},
    "colab_type": "code",
    "id": "32Oxpz09A1bo",
    "outputId": "d3fe95b4-06a7-49f1-a7ab-68ce3aa43024"
   },
   "outputs": [],
   "source": [
    "import itertools\n",
    "\n",
    "cards = [\"C\", \"D\"]\n",
    "periodics = (\n",
    "    [p for p in itertools.product(cards, repeat=1)]\n",
    "    + [p for p in itertools.product(cards, repeat=2)]\n",
    "    + [p for p in itertools.product(cards, repeat=3)]\n",
    ")\n",
    "strats = [Periodic(\"\".join(p)) for p in periodics]  # join to transform in strings\n",
    "print(str(len(strats)) + \" stratégies générées\")\n",
    "for i in range (0,len(strats)):\n",
    "  print(strats[i].sequence)\n",
    "# 14 SONT GENEREES : 2 à un coup, 4 à deux coups, 8 à trois coups"
   ]
  },
  {
   "cell_type": "markdown",
   "metadata": {
    "colab_type": "text",
    "id": "kb4I4kJYA1br"
   },
   "source": [
    "# Les compétitions écologiques\n",
    "\n",
    "Les tournois donnent un classement interessant, mais insuffisant. Ils n'étudient pas la robustesse d'une stratégie selon le nombre de représentants des adversaires. La compétition écologique répond à ce problème : elle permet de faire varier les populations de chaque stratégie. Le principe d'une compétition écologique est très simple. Initialement, on considère `pop` représentants de chacune des `s` stratégies évaluées. Les `pop*s` représentants jouent tous les uns contre les autres dans un tournoi. à l'étape 1, les repésentants de chaque stratégie sont obtenus proportionnellement à leur réussite à l'étape précédente. Meilleur vous-êtes, plus vous aurez de descendants. Une compétition écologique oblige donc une stratégie à être robuste aux changements du nombre de représentants de chaque adversaire. Un classement écologique est donc plus \"robuste\" qu'un classement de tournoi. On compend immédiatement que pour être bien classé, il est préférable de très bien jouer contre ses propres congénères, puisqu'avec un peu de chance, ils seront de plus en plus nombreux.\n",
    "Une compétition écologique peut alors se représenter sur un graphique temporel, les générations en abscisse et les populations de chaque stratégie en ordonnée. On utilisera *matplotlib* pour calculer ces graphiques."
   ]
  },
  {
   "cell_type": "code",
   "execution_count": null,
   "metadata": {
    "colab": {},
    "colab_type": "code",
    "id": "o-i2hEqGA1bs"
   },
   "outputs": [],
   "source": [
    "import pandas\n",
    "import copy\n",
    "import math\n",
    "import matplotlib.pyplot as plt\n",
    "\n",
    "%matplotlib inline\n",
    "\n",
    "\n",
    "class Ecological:\n",
    "    def __init__(self, game, strategies, length=1000, repeat=1, pop=100):\n",
    "        self.strategies = strategies\n",
    "        self.pop = pop\n",
    "        self.game = game\n",
    "        self.length = length\n",
    "        self.generation = 0  # Numéro de la génération actuelle\n",
    "        self.base = pop * len(strategies)\n",
    "        self.historic = pandas.DataFrame(columns=[strat.name for strat in strategies])\n",
    "        self.historic.loc[0] = [pop for x in range(len(strategies))]\n",
    "        self.extinctions = dict((s.name, math.inf) for s in strategies)\n",
    "        self.cooperations = dict((s.name, 0) for s in strategies)\n",
    "        self.listeCooperations = list()\n",
    "        self.scores = dict((s.name, 0) for s in strategies)\n",
    "        self.tournament = Tournament(self.game, self.strategies, length, repeat)\n",
    "        self.tournament.run()\n",
    "\n",
    "    def run(self):\n",
    "        dead = 0\n",
    "        stab = False\n",
    "        while (self.generation < 1000) and (stab == False):\n",
    "            parents = list(copy.copy(self.historic.loc[self.generation]))\n",
    "            for i in range(len(self.strategies)):\n",
    "                strat = self.strategies[i].name\n",
    "                if self.historic.at[self.generation, strat] != 0:\n",
    "                    score = 0\n",
    "                    cooperations = 0\n",
    "                    for j in range(len(self.strategies)):\n",
    "                        strat2 = self.strategies[j].name\n",
    "                        if self.historic.at[self.generation, strat2] != 0:\n",
    "                            if i == j:\n",
    "                                score += (\n",
    "                                    self.historic.at[self.generation, strat] - 1\n",
    "                                ) * self.tournament.matrix.at[strat, strat2]\n",
    "                                cooperations += (\n",
    "                                    self.historic.at[self.generation, strat] - 1\n",
    "                                ) * self.tournament.cooperations.at[strat, strat2]\n",
    "                            else:\n",
    "                                score += (\n",
    "                                    self.historic.at[self.generation, strat2]\n",
    "                                    * self.tournament.matrix.at[strat, strat2]\n",
    "                                )\n",
    "                                cooperations += (\n",
    "                                    self.historic.at[self.generation, strat2]\n",
    "                                    * self.tournament.cooperations.at[strat, strat2]\n",
    "                                )\n",
    "                        self.scores[strat] = score\n",
    "                        self.cooperations[strat] = cooperations\n",
    "\n",
    "            total = 0\n",
    "            totalCooperations = 0\n",
    "            for strat in self.strategies:\n",
    "                total += (\n",
    "                    self.scores[strat.name]\n",
    "                    * self.historic.at[self.generation, strat.name]\n",
    "                )\n",
    "                totalCooperations += (\n",
    "                    self.cooperations[strat.name]\n",
    "                    * self.historic.at[self.generation, strat.name]\n",
    "                )\n",
    "            for strat in self.strategies:\n",
    "                parent = self.historic.at[self.generation, strat.name]\n",
    "                if self.scores[strat.name] != 0:\n",
    "                    self.historic.at[self.generation + 1, strat.name] = math.floor(\n",
    "                        self.base * parent * self.scores[strat.name] / total\n",
    "                    )\n",
    "                elif self.scores[strat.name] == 0:\n",
    "                    self.historic.at[self.generation + 1, strat.name] = 0\n",
    "                    dead += 1\n",
    "                if (parent != 0) and (\n",
    "                    self.historic.at[self.generation + 1, strat.name] == 0\n",
    "                ):\n",
    "                    self.extinctions[strat.name] = self.generation + 1\n",
    "                elif self.historic.at[self.generation + 1, strat.name] != 0:\n",
    "                    self.extinctions[strat.name] = (\n",
    "                        self.historic.at[self.generation + 1, strat.name] * 1000\n",
    "                    )\n",
    "                if dead == len(self.strategies) - 1:\n",
    "                    stab = True\n",
    "            self.listeCooperations.append(\n",
    "                totalCooperations / (self.base * self.length * len(self.strategies))\n",
    "            )\n",
    "            self.generation += 1\n",
    "            if parents == list(self.historic.loc[self.generation]):\n",
    "                stab = True\n",
    "        trie = sorted(self.extinctions.items(), key=lambda t: t[1], reverse=True)\n",
    "        df_trie = pandas.DataFrame()\n",
    "        for t in trie:\n",
    "            df_trie[t[0]] = self.historic[t[0]]\n",
    "        self.historic = df_trie\n",
    "        return self.historic\n",
    "\n",
    "    def saveData(self):\n",
    "        date = datetime.datetime.now()\n",
    "        self.historic.to_csv(str(date) + \".csv\", sep=\";\", encoding=\"utf-8\")\n",
    "\n",
    "    def drawPlot(self, nbCourbes=None, nbLegends=None):\n",
    "        nbCourbes = len(self.strategies) if (nbCourbes == None) else nbCourbes\n",
    "        nbLegends = len(self.strategies) if (nbLegends == None) else nbLegends\n",
    "        strat = self.historic.columns.tolist()\n",
    "        for i in range(nbCourbes):\n",
    "            plt.plot(\n",
    "                self.historic[strat[i]],\n",
    "                label=strat[i] if (i < nbLegends) else \"_nolegend_\",\n",
    "            )\n",
    "        plt.legend(bbox_to_anchor=(0, 1), loc=2, borderaxespad=0.0)\n",
    "        plt.ylabel(\"Population\")\n",
    "        plt.xlabel(\"Generation\")\n",
    "        plt.show()\n",
    "        # date = datetime.datetime.now()\n",
    "        # plt.savefig(str(date)+'.png', dpi=1000)\n",
    "\n",
    "    def drawCooperation(self):\n",
    "        plt.plot(self.listeCooperations)\n",
    "        plt.ylabel(\"Pourcentage de cooperations\")\n",
    "        plt.xlabel(\"Generation\")\n",
    "        plt.ylim(0, 101)\n",
    "        plt.show()\n",
    "\n",
    "\n",
    "print(\"All is ok\")"
   ]
  },
  {
   "cell_type": "markdown",
   "metadata": {},
   "source": [
    "#### Réaliser une compétition écologique avec All_C (qui coopère toujours) et All_D (qui trahit toujours)\n",
    "Une fois la compétition réalisée, il est possible d'afficher la courbe d'évolution de la population de chaque stratégie ainsi que la coubre d'évolution des coopérations jouées à chaque génération."
   ]
  },
  {
   "cell_type": "code",
   "execution_count": null,
   "metadata": {
    "scrolled": true
   },
   "outputs": [],
   "source": [
    "All_C = Periodic(\"C\", \"All_C\")\n",
    "All_D = Periodic(\"D\", \"All_D\")\n",
    "eco = Ecological(g, [All_C, All_D])\n",
    "eco.run()\n",
    "print(\"Evolution de la population\")\n",
    "eco.drawPlot()\n",
    "print(\"Historique de la population\")\n",
    "print(eco.historic)\n",
    "print(\"Evolution des cooperations\")\n",
    "eco.drawCooperation()\n",
    "print(eco.scores)"
   ]
  },
  {
   "cell_type": "markdown",
   "metadata": {},
   "source": [
    "## Exercice 1"
   ]
  },
  {
   "cell_type": "code",
   "execution_count": null,
   "metadata": {
    "scrolled": true
   },
   "outputs": [],
   "source": [
    "# Réaliser une compétition écologique avec All_C , All_D, Periodic(\"CDD\") et Periodic(\"CCD\")\n"
   ]
  },
  {
   "cell_type": "markdown",
   "metadata": {
    "colab_type": "text",
    "id": "tDULeYlnA1b0"
   },
   "source": [
    "# Des stratégies réactives\n",
    "Les stratégies sont dites \"réactives\" si leurs actions dépendent des actions passées de l'adversaire. Certaines sont très simples à comprendre. Parmi les plus célèbres, on trouve\n",
    "- `Tft` (abbréviation de \"tit for tat\" ou de \"donnant donnant\" comme on dirait en Français) qui commence par coopérer puis joue la même chose que l'adversaire au coup précédent\n",
    "- `Spiteful`(ou Rancunière en Français) qui coopère tant que l'adversaire a coopéré, mais qui ne lui pardonne jamais s'il a trahi une fois "
   ]
  },
  {
   "cell_type": "code",
   "execution_count": null,
   "metadata": {
    "colab": {},
    "colab_type": "code",
    "id": "gr7FFb_0A1b1",
    "outputId": "41a4f22d-c414-483d-ec1c-c431153e6127"
   },
   "outputs": [],
   "source": [
    "class Tft(Strategy):\n",
    "    def __init__(self):\n",
    "        super().__init__()\n",
    "        self.name = \"tft\"\n",
    "        self.hisPast = \"\"\n",
    "\n",
    "    def getAction(self, tick):\n",
    "        return \"C\" if (tick == 0) else self.hisPast[-1]\n",
    "\n",
    "    def clone(self):\n",
    "        return Tft()\n",
    "\n",
    "    def update(self, my, his):\n",
    "        self.hisPast += his\n",
    "\n",
    "\n",
    "class Spiteful(Strategy):\n",
    "    def __init__(self):\n",
    "        super().__init__()\n",
    "        self.name = \"spiteful\"\n",
    "        self.hisPast = \"\"\n",
    "        self.myPast = \"\"\n",
    "\n",
    "    def getAction(self, tick):\n",
    "        if tick == 0:\n",
    "            return \"C\"\n",
    "        if self.hisPast[-1] == \"D\" or self.myPast[-1] == \"D\":\n",
    "            return \"D\"\n",
    "        else:\n",
    "            return \"C\"\n",
    "\n",
    "    def clone(self):\n",
    "        return Spiteful()\n",
    "\n",
    "    def update(self, my, his):\n",
    "        self.myPast += my\n",
    "        self.hisPast += his\n",
    "\n",
    "\n",
    "print(\"All is ok\")"
   ]
  },
  {
   "cell_type": "markdown",
   "metadata": {},
   "source": [
    "#### Comportement de ces stratégies réactives\n",
    "Vérifions le comportement de ces deux nouvelles stratégies face à `Periodic(\"CCD\")` dans un Meeting."
   ]
  },
  {
   "cell_type": "code",
   "execution_count": null,
   "metadata": {},
   "outputs": [],
   "source": [
    "m = Meeting(g, Tft(), Periodic(\"CCD\"), 10)\n",
    "m.run()\n",
    "print(\"{:8}\\t{} = {}\".format(m.s1.name, ' '.join(map(str, m.s1_rounds)) , m.s1_score))\n",
    "print(\"{:8}\\t{} = {}\".format(m.s2.name, ' '.join(map(str, m.s2_rounds)) , m.s2_score))\n",
    "print(\"\")\n",
    "m = Meeting(g, Spiteful(), Periodic(\"CCD\"), 10)\n",
    "m.run()\n",
    "print(\"{:8}\\t{} = {}\".format(m.s1.name, ' '.join(map(str, m.s1_rounds)) , m.s1_score))\n",
    "print(\"{:8}\\t{} = {}\".format(m.s2.name, ' '.join(map(str, m.s2_rounds)) , m.s2_score))"
   ]
  },
  {
   "cell_type": "markdown",
   "metadata": {},
   "source": [
    "## Exercice 2"
   ]
  },
  {
   "cell_type": "code",
   "execution_count": null,
   "metadata": {},
   "outputs": [],
   "source": [
    "# Réaliser une compétititon écologique avec 5 stratégies : All_C, All_D, Tft et Periodic(\"CCD\")\n",
    " \n",
    "# DANS CETTE EXPERIENCE, All_D GAGNE LE TOURNOI, MAIS C'EST TFT QUI GAGNE LA COMPETITION ECOLOGIQUE !\n",
    "# Notez l'évolution de la courbe de coop&ération ! Elle termine à 100%"
   ]
  },
  {
   "cell_type": "markdown",
   "metadata": {},
   "source": [
    "Cette expérience illustre clairement les phénomènes de type proies/prédateurs qui se produisent. `All_D` gagne le tournoi, elle augmente donc en population. Mais son gain se fait principalement au détriment de `All_C`. Si ce dernier périclite, alors `All_D` périclite aussi faute de stratégie à exploiter. En résulte une magnifique inversion de tendance. Gagner un tournoi, n'est pas gagner une compétition écologique.\n",
    "Si on regarde l'évolution de la coopération, un autre phénomène apparaît : l'émergence d'une coopération généralisée : sans aucun système de régulation, on est passé de 60% de coopération, à moins de 40% de coopération pour finir à 100% de coopération !\n",
    "\n",
    "Quelques points fondamentaux :\n",
    "- Il existe une infinité de stratégies\n",
    "- il n'y a pas de bonne stratégie dans l'absolu. Il n'y a que des stratégies qui se comportent bien \"en général\". On ne peut pas jouer optimalement contre tout le monde, notamment à cause du premier coup\n",
    "- `Tft` ne gagne jamais contre personne\n",
    "- `All_D` ne perd jamais contre personne\n",
    "- C'est un jeu à somme non nulle : l'important n'est pas de gagner des meetings mais de gagner des points ! `All_D` ne perd jamais mais à quel prix ! à faire toujours la guerre, il ne ramène que très peu de points\n",
    "- Alexrod le disait déjà : pour être bon à ce jeu il faut :\n",
    "    - ne pas être agressif (ne pas trahir le premier)\n",
    "    - être réactif\n",
    "    - savoir pardonner\n",
    "- C'est le cas de `Tft` qui se comporte très bien en général, mais depuis Rappoport on a trouvé beaucoup mieux !\n",
    "- Sans aucun système de régulation, il y a la plupart du temps **émergence de la coopération** puisque l'on termine à 100% de coopération entre les individus."
   ]
  },
  {
   "cell_type": "code",
   "execution_count": null,
   "metadata": {
    "colab": {},
    "colab_type": "code",
    "id": "NqyMG-t1A1b6"
   },
   "outputs": [],
   "source": [
    "# Accès aux données des DataFrame\n",
    "\n",
    "# Attention ! avec un dataframe df\n",
    "# chaque colonne nommée peut etre utilisée comme attribut\n",
    "# Si on met un seul crochet, c'est une colonne\n",
    "# donc tournoi.Total et tournoi['Total'] c'est pareil\n",
    "# \n",
    "# si on met des crochets directs c'est df[Col][Lig]\n",
    "# que l'on peut donc aussi écrire df.Col[lig]\n",
    "# Si on utilise les fonctions loc, iloc et at, c'est df.iloc[lig,col]\n",
    "# donc tournoi['Total'][1] est équivalent à tournoi.iloc[1,4]\n",
    "# Par ailleurs, par défaut le dataframe utilise des entiers comme index\n",
    "# dans iloc, on met des index ... sauf si on utilise la notation a:b auquel cas ce sont des adresses relatives\n",
    "\n",
    "tournoi=eco.tournament.matrix\n",
    "#print(\"--- La matrice complète du tournoi triée\")\n",
    "#print(tournoi) \n",
    "#print(\"--- Les gagnants du tournoi\")\n",
    "#print(tournoi['Total']) \n",
    "#print(\"--- Les 3 premiers gagnants du tournoi\")\n",
    "#print(tournoi['Total'][0:3])\n",
    "#print(\"--- Les gagnants qui ont fait plus de 10000\")\n",
    "#print(tournoi['Total'][tournoi['Total']>10000])\n",
    "\n",
    "\n",
    "evol=eco.historic\n",
    "#print(\"--- L'historique complet trié\")\n",
    "#print(evol)\n",
    "#print(\"--- Les populations finales classées\")\n",
    "#print(evol.iloc[eco.generation])\n",
    "#print(evol.iloc[-1])\n",
    "#print(evol.tail(1))\n",
    "#print(\"--- Les 2 premiers de la compétition\")\n",
    "#print(evol.iloc[-1][0:2]) \n",
    "#print(\"--- Les derniers survivants\")\n",
    "#print(evol.iloc[-1][evol.iloc[-1]>0]) \n",
    "#print(\"--- la ligne quand tft=340 ?\")\n",
    "#evol.loc[evol.tft==340]\n",
    "#print(\"--- A quel indice per_C et per_D se croisent ?\")\n",
    "#print(evol.loc[evol.per_C > evol.per_D].loc[evol.per_D!=0])\n",
    "# Ecrire l'équivalent de select * from evol where ...\n",
    "#evol.loc[(evol.tft>300) & (evol.per_D>0)]\n",
    "# depuis pandas0.13  ... s'écrit\n",
    "#evol.query('tft>300 & per_D>0')\n",
    "\n",
    "#eco.drawPlot()\n"
   ]
  },
  {
   "cell_type": "markdown",
   "metadata": {},
   "source": [
    "#### Trois autres stratégies réactives classiques\n",
    "cette fois ce sont des stratégies qui se basent sur le coup majoritairement joué par l'adversaire\n",
    "- `SoftMajority` : Elle joue le coup majoritairement joué par l'adversaire dans le passé. En cas d'égalité elle coopère.\n",
    "- `HardMajority` : Elle joue le coup majoritairement joué par l'adversaire dans le passé. En cas d'égalité elle trahit.\n",
    "\n",
    "La différence entre `SoftMajority` et `HardMajority` est ténue. Il est à noter que `HardMajority` est spontanément agressive. cette caractéristique fait qu'elle se comportera d'une manière générale nettement moins bien que `SoftMajority`\n",
    "\n",
    "- `Gradual`: Gradual coopere au premier coup, puis si l'adversaire vient de la trahir pour la nieme fois, \n",
    "entre dans une periode de réétortion (trahisons successives) de n coups suivie de 2 coups de coopération qui joue ce qu'a joué son adversaire en majorité."
   ]
  },
  {
   "cell_type": "markdown",
   "metadata": {},
   "source": [
    "## Exercice 3"
   ]
  },
  {
   "cell_type": "code",
   "execution_count": null,
   "metadata": {},
   "outputs": [],
   "source": [
    "# Coder SoftMajority qui joue ce qu'a joué son adversaire en majorité. En cas d'égalité, elle joue coopérer\n",
    "\n",
    "            \n",
    "# Coder HardMajority qui joue ce qu'a joué son adversaire en majorité. En cas d'égalité, elle joue trahir\n",
    "            \n",
    "            \n",
    "# Coder Gradual. Gradual coopere au premier coup, puis si l'adversaire vient de la trahir pour la nieme fois, \n",
    "# entre dans une periode de rétortion (trahisons successives) de n coups suivie de 2 coups de coopération. "
   ]
  },
  {
   "cell_type": "code",
   "execution_count": null,
   "metadata": {},
   "outputs": [],
   "source": [
    "# Vérifiez, en décommentant les lignes, chacune d'elles contre Periodic(\"CD\") Sur 40 couprs\n",
    "\n",
    "# testez HardMajority contre Periodic (\"CD\") sur 40 coups\n",
    "# m = Meeting(g, HardMajority(), Periodic(\"CD\"), 40)\n",
    "# m.run()\n",
    "# print(\"{:8}\\t{} = {}\".format(m.s1.name, ' '.join(map(str, m.s1_rounds)) , m.s1_score))\n",
    "# print(\"{:8}\\t{} = {}\".format(m.s2.name, ' '.join(map(str, m.s2_rounds)) , m.s2_score))\n",
    "# print(\"it should be 100-100 \\n\")\n",
    "\n",
    "# testez SoftMajority contre Periodic (\"CD\") sur 40 coups\n",
    "# m = Meeting(g, SoftMajority(), Periodic(\"CD\"), 40)\n",
    "# m.run()\n",
    "# print(\"{:8}\\t{} = {}\".format(m.s1.name, ' '.join(map(str, m.s1_rounds)) , m.s1_score))\n",
    "# print(\"{:8}\\t{} = {}\".format(m.s2.name, ' '.join(map(str, m.s2_rounds)) , m.s2_score))\n",
    "# print(\"it should be 60-160 \\n\")\n",
    "\n",
    "# testez Gradual conrtre Periodic (\"CD\") sur 40 coups\n",
    "# m = Meeting(g, Gradual(), Periodic(\"CD\"), 40)\n",
    "# m.run()\n",
    "# print(\"{:8}\\t{} = {}\".format(m.s1.name, ' '.join(map(str, m.s1_rounds)) , m.s1_score))\n",
    "# print(\"{:8}\\t{} = {}\".format(m.s2.name, ' '.join(map(str, m.s2_rounds)) , m.s2_score))\n",
    "# print(\"it should be 103-63\")"
   ]
  },
  {
   "cell_type": "markdown",
   "metadata": {
    "colab_type": "text",
    "id": "h6IL_hTRA1b9"
   },
   "source": [
    "## La famille Memory\n",
    "Une manière élégante pour générer des stratégies consiste à définir un génotype et à l'instancier de toutes les manières possibles : C'est facile et objectif. On construit ici un génotype basé sur la mémoire des stratégies. Une stratégie appartenant à l'ensemble `Mem(x,y)` raisonne sur ses x derniers coups ainsi que les y derniers coups de son adversaire. Par exemple une stratégie appartenant à la famille `Mem(1,1)` raisonne sur son dernier coup et le dernier coup joué par son adversaire. Il y a le premier coup, puis 2^2 configurations possibles, donc un génotype de 5 cases. Instancié de toutes les manières possibles, cela constitue donc\n",
    "2^5 stratégies dans cet ensemble.  "
   ]
  },
  {
   "cell_type": "code",
   "execution_count": null,
   "metadata": {
    "colab": {},
    "colab_type": "code",
    "id": "nDqpxI2FA1b_",
    "outputId": "483ee578-ca75-454a-caef-5c8db14269c4"
   },
   "outputs": [],
   "source": [
    "import collections \n",
    "\n",
    "class Mem(Strategy):\n",
    "    def __init__(self, x, y, genome, name=None):\n",
    "        self.name = name\n",
    "        self.x = x\n",
    "        self.y = y\n",
    "        self.genome = genome\n",
    "        if name == None:  # Nom par défaut si l'utilisateur ne le définit pas\n",
    "            self.name = genome\n",
    "        self.myMoves = collections.deque(maxlen=x)  # contains my x last moves\n",
    "        self.itsMoves = collections.deque(maxlen=y)  # contains its y last moves\n",
    "\n",
    "    def clone(self):\n",
    "        return Mem(self.x, self.y, self.genome, self.name)\n",
    "\n",
    "    def getAction(self, tick):\n",
    "        if tick < max(self.x, self.y):\n",
    "            return self.genome[tick]\n",
    "        cpt = 0\n",
    "        for i in range(self.x - 1, -1, -1):\n",
    "            cpt *= 2\n",
    "            if self.myMoves[i] == \"D\":\n",
    "                cpt += 1\n",
    "        for i in range(self.y - 1, -1, -1):\n",
    "            cpt *= 2\n",
    "            if self.itsMoves[i] == \"D\":\n",
    "                cpt += 1\n",
    "        cpt += max(self.x, self.y)\n",
    "        return self.genome[cpt]\n",
    "\n",
    "    def update(self, myMove, itsMove):\n",
    "        self.myMoves.append(myMove)\n",
    "        self.itsMoves.append(itsMove)\n",
    "\n",
    "\n",
    "print(\"All is ok\")"
   ]
  },
  {
   "cell_type": "markdown",
   "metadata": {},
   "source": [
    "On notera qu'un grand nombre de stratégies très connues se décrivent sous la forme d'une `memory(X,Y)`<br>\n",
    "Mem(0,0,'C','allc')<br>\n",
    "Mem(0,0,'D','alld')<br>\n",
    "Mem(1,0,'cDC','percd')<br>\n",
    "Mem(1,0,'dDC','perdc')<br>\n",
    "Mem(0,1,'cCD','tft')<br>\n",
    "Mem(0,1,'dCD','mistrust')<br>\n",
    "Mem(1,1,'cCDDD','spiteful')<br>\n",
    "Mem(1,1,'cCDDC','pavlov')<br>\n",
    "Mem(0,2,'ccCCCD','tf2t')<br>\n",
    "Mem(0,2,'ccCDDD','hard_tft')<br>\n",
    "Mem(1,2,'ccCCCDCDDD','slow_tft')<br>\n",
    "Mem(1,2,'ccCDCDDCDD','winner12')<br>\n",
    "Mem(1,2,'ccCDCDDDDD','spiteful_cc')<br>"
   ]
  },
  {
   "cell_type": "markdown",
   "metadata": {},
   "source": [
    "## Exercice 4"
   ]
  },
  {
   "cell_type": "code",
   "execution_count": null,
   "metadata": {},
   "outputs": [],
   "source": [
    "# Petit test d'équivalence : Faire deux tournois avec All_C, All_D, Tft, Spiteful, Periodic('CD') et Periodic('DC').\n",
    "# Le premier en utilisant Periodic, Tft() et Spiteful()\n",
    "# Le deuxieme en utilisant seulement des Mem(x,y,\"\",name)\n",
    "# Vérifier l'équivalence en imprimant la matrice du tournoi\n"
   ]
  },
  {
   "cell_type": "markdown",
   "metadata": {
    "colab_type": "text",
    "id": "yjoBoqSjA1cD"
   },
   "source": [
    "## Les générer toutes\n",
    "Pour une famille Mem(x,y), le génome est de taille `max(x,y)`pour l'amorce plus `2^(x+y)` pour toutes les situations s du passé sur `x` coups de l'un et `y` coups de l'autre. Il y a donc `2^(max(x,y)+2^(x+y))` strategies à générer. Pour obtenir tous ces éléments il suffit donc de calculer toutes les instanciations possibles de C et D dans le génome, ce qui se fait, encore une fois , avec un produit cartésien.\n",
    "\n",
    "| famille  | longueur | nombre   |\n",
    "|         :-:   |     :-:     | :-:    |\n",
    "| mem(0,1) | 1+2^1 = 3        | 2^3 = 8 |\n",
    "| mem(1,0) | 1+2^1 = 3        | 2^3 = 8 |\n",
    "| mem(1,1) | 1+2^2 = 5        | 2^5 = 32 |\n",
    "| mem(2,0) | 2+2^2 = 6        | 2^6 = 64 |\n",
    "| mem(1,2) | 2+2^3 = 10       | 2^10 = 1024 |\n",
    "| mem(2,1) | 2+2^3 = 10       | 2^10 = 1024 |\n",
    "| mem(2,2) | 2+2^4 = 18       | 2^18 = 262144 |\n"
   ]
  },
  {
   "cell_type": "code",
   "execution_count": null,
   "metadata": {
    "colab": {},
    "colab_type": "code",
    "id": "AqEYefYhA1cE",
    "outputId": "8fb51be4-2c0e-416c-e94e-ba8c6feba5c2"
   },
   "outputs": [],
   "source": [
    "def getMem(x, y):\n",
    "    if x + y > 4:\n",
    "        return \"Not possible to compute\"\n",
    "    len_genome = max(x, y) + 2 ** (x + y)\n",
    "    permut = [p for p in itertools.product([\"C\", \"D\"], repeat=len_genome)]\n",
    "    genomes = [\"\".join(p) for p in permut]\n",
    "    return [Mem(x, y, gen) for gen in genomes]\n",
    "\n",
    "\n",
    "print(\"Dans Mem(1,1) il y a \" + str(len(getMem(1, 1))) + \" stratégies\")"
   ]
  },
  {
   "cell_type": "markdown",
   "metadata": {
    "colab_type": "text",
    "id": "pFGz8Y23A1cJ"
   },
   "source": [
    "## La compétition des Mem(1,1)"
   ]
  },
  {
   "cell_type": "code",
   "execution_count": null,
   "metadata": {
    "colab": {},
    "colab_type": "code",
    "id": "5HDTk_oaA1cK"
   },
   "outputs": [],
   "source": [
    "bag3 = getMem(1, 1)\n",
    "e2 = Ecological(g, bag3)\n",
    "e2.run()\n",
    "e2.drawPlot(None, 4)\n",
    "evol = e2.historic\n",
    "print(evol.iloc[-1][evol.iloc[-1] > 0])\n",
    "# Seules 4 survivent : mem11_cCDDD-spite 2126  , mem11_cCDCD-tft 701 , mem11_cCDDC-pavlov 214 , mem11_cCDCC 158"
   ]
  },
  {
   "cell_type": "markdown",
   "metadata": {},
   "source": [
    "## Exercice 5"
   ]
  },
  {
   "cell_type": "code",
   "execution_count": null,
   "metadata": {},
   "outputs": [],
   "source": [
    "# Quel est le nom commun de la stratégie qui gagne la compétition des Mem(1,1) ?\n"
   ]
  },
  {
   "cell_type": "markdown",
   "metadata": {},
   "source": [
    "## Exercice 6"
   ]
  },
  {
   "cell_type": "code",
   "execution_count": null,
   "metadata": {},
   "outputs": [],
   "source": [
    "# Etudier les phénomènes d'envahissement\n",
    "# Notamment mesurer empiriquement (par quelques tentatives) le nombre de ALL_D nécessaires \n",
    "# pour envahir une famille de 100 ALL_C dans une compétition écologique.\n"
   ]
  },
  {
   "cell_type": "markdown",
   "metadata": {},
   "source": [
    "## Exercice 7"
   ]
  },
  {
   "cell_type": "code",
   "execution_count": null,
   "metadata": {},
   "outputs": [],
   "source": [
    "# Stratégies Maitre-Esclaves\n",
    "# On dit qu'il y a un ensemble de stratégies Maitre-Esclaves si une stratégie Maître cherche à reconnaitre \n",
    "# ses Esclaves sur une amorce, pour mieux les exploiter ensuite.\n",
    "# Concevoir une stratégie Maitre qui joue TFT sauf si l'adversaire a joué consécutivement 1 fois C, \n",
    "# 50 fois D, une fois C auquel cas elle joue toujours D\n",
    "# Concevoir une stratégie Esclave qui joue 1 fois C, 50 fois D, puis toujours C\n",
    "# Chaque esclave supplémentaire apporte un avantage à Maitre !\n",
    "# Ajouter ces stratégies dans la compétion mem(1,1) en mettant suffisemment d'Escaves pour que le Maitre \n",
    "# gagne cette compétition \n"
   ]
  },
  {
   "cell_type": "markdown",
   "metadata": {
    "colab_type": "text",
    "id": "x8z1IUB3A1ci"
   },
   "source": [
    "# Bibliographie\n",
    "\n",
    "- Robert Axelrod. *The Evolution of Cooperation*. (New York: Basic Books, 1984).\n",
    "- William Poundstone. *Le dilemme du prisonnier*. Cassini\n",
    "- JP Delahaye et P Mathieu. *Des surprises dans le monde de la coopération*. Pour la Science, numéro spécial \"Les mathématiques sociales\", pp 58-66, Juillet 1999.\n",
    "- Philippe Mathieu, Jean-Paul Delahaye. [New Winning Strategies for the Iterated Prisoner's Dilemma](http://jasss.soc.surrey.ac.uk/20/4/12.html). J. Artificial Societies and Social Simulation 20(4) (2017)\n",
    "- Bruno Beaufils, Jean-Paul Delahaye et Philippe Mathieu. *Our Meeting with Gradual : A good Strategy for the Itareted Prisoner’s Dilemma*. Intern. Conf. on Artificial Life V (ALIFE V), pp. 159- 165, 16-18 mai 1996, Nara (Japon).\n",
    "- Martin Nowak et K. Sigmund. *TIT for TAT in Heterogeneous Populations*. Nature, vol. 355, n° 16, pp. 250-253, janvier 1992.\n",
    "- Nowak M., May R., Sigmund K., *L'arithmétique de l'entraide*, Pour la Science No 214, Août 1995, pp. 56-61 "
   ]
  }
 ],
 "metadata": {
  "colab": {
   "collapsed_sections": [],
   "name": "prisoners_dilemma_fr.ipynb",
   "provenance": []
  },
  "kernelspec": {
   "display_name": "Python 3",
   "language": "python",
   "name": "python3"
  },
  "language_info": {
   "codemirror_mode": {
    "name": "ipython",
    "version": 3
   },
   "file_extension": ".py",
   "mimetype": "text/x-python",
   "name": "python",
   "nbconvert_exporter": "python",
   "pygments_lexer": "ipython3",
   "version": "3.7.5"
  }
 },
 "nbformat": 4,
 "nbformat_minor": 1
}
