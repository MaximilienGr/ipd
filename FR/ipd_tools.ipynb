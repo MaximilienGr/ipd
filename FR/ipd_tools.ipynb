{
 "cells": [
  {
   "cell_type": "code",
   "execution_count": 1,
   "metadata": {},
   "outputs": [],
   "source": [
    "%run ../src/game.py\n",
    "%run ../src/ipd.py\n",
    "%run ../src/strategies.py\n",
    "%run ../src/tools.py\n",
    "dip =[(3,3),(0,5),(5,0),(1,1)]   # Dilemme du prisonnier\n",
    "\n"
   ]
  },
  {
   "cell_type": "markdown",
   "metadata": {},
   "source": [
    "# Evaluation par synthèse de sous-classes\n",
    "\n",
    "Les compétitions écologiques offrent un outil de mesure assez fiable de la robustesse d'une stratégies, mais encore insuffisant. Il se peut par exemple que certaines stratégies se sacrifient pour d'autres dans un schema *maitre-esclave*. Avoir une synthèse de centaines voir de milliers de compétitions écologiques dans lesquelles on a enlevé certaines stratégies mesure sans doute une meilleure robustesse. L'une des idées les plus simples consiste à calculer les n compétitions possibles que l'on peut faire en enlevant 1 stratégie à un ensemble de n stratégies. On appelle cette technique la technique des sous-classes.\n",
    "Nous définissions ici 3 fonctions permettant de réaliser ces sous-classes.\n",
    "- `subclasses(bag, n)` qui évalue tous les sous ensembles possibles de taille n dans la bage\n",
    "- `subclassesWithOneStrat(bag, n, strat)` qui évalue Strat dans tous les sous ensembles possibles de taille n dans la bage en ajoutant systématiquement la stratégie strat\n",
    "- `subclassesRandomWithOneStrat(p, bag, n, Strat)` qui réalise p competitions de n strategies choisies au hasard dans la bage dans lesquelles on rajoute systématiquement Strat\n",
    "\n",
    "Les évaluations réalisées dans ces fonctions sont des compétitions écologiques.\n",
    "\n",
    "Ces fonctions renvoient à la fin un tableau avec pour chaque stratégie, sa meilleure place, sa pire place, sa moyenne et son écart-type."
   ]
  },
  {
   "cell_type": "markdown",
   "metadata": {},
   "source": [
    "#### Un cas simple : toutes les compétitions de 3 stratégies parmi les classiques"
   ]
  },
  {
   "cell_type": "code",
   "execution_count": 30,
   "metadata": {},
   "outputs": [
    {
     "name": "stdout",
     "output_type": "stream",
     "text": [
      "          BestRank  WorstRank   RankAvg   RankStd\n",
      "tft            1.0        2.0  1.133333  0.351866\n",
      "softmajo       1.0        2.0  1.133333  0.351866\n",
      "spiteful       1.0        2.0  1.266667  0.457738\n",
      "gradual        1.0        2.0  1.333333  0.487950\n",
      "per_C          1.0        3.0  1.400000  0.632456\n",
      "per_D          1.0        3.0  2.533333  0.743223\n",
      "hardmajo       2.0        3.0  2.666667  0.487950\n"
     ]
    }
   ],
   "source": [
    "All_C = Periodic('C')\n",
    "All_D = Periodic('D')\n",
    "bag = [All_C, All_D, Tft(), Spiteful(), Gradual(), SoftMajority(), HardMajority()]\n",
    "subClasses(bag, 3)"
   ]
  },
  {
   "cell_type": "markdown",
   "metadata": {},
   "source": [
    "#### Un cas plus volumineux : toutes les stratégies Mem(1,1) avec une stratégie en moins à chaque fois\n",
    "Sachant qu'il y a 32 `mem(1,1)` cette opération réalise donc 32 compétitions de 31 stratégie. Notez que dans le cas de cette méthode, toutes les stratégies sont présentes (et absentes) exactement le même nombre de fois.\n"
   ]
  },
  {
   "cell_type": "code",
   "execution_count": 19,
   "metadata": {},
   "outputs": [
    {
     "name": "stdout",
     "output_type": "stream",
     "text": [
      "       BestRank  WorstRank   RankAvg   RankStd\n",
      "CCDDD       1.0        1.0  1.000000  0.000000\n",
      "CCDCD       1.0        2.0  1.967742  0.179605\n",
      "CCDDC       2.0        3.0  2.935484  0.249731\n",
      "CCDCC       2.0        4.0  3.838710  0.454369\n",
      "CCCCC       2.0        5.0  4.806452  0.601074\n",
      "CCCCD       2.0        5.0  4.806452  0.601074\n",
      "CCCDC       2.0        5.0  4.806452  0.601074\n",
      "CCCDD       2.0        5.0  4.806452  0.601074\n",
      "CDCCC       2.0        5.0  4.806452  0.601074\n",
      "CDCCD       2.0        5.0  4.806452  0.601074\n",
      "CDCDC       2.0        5.0  4.806452  0.601074\n",
      "CDCDD       2.0        5.0  4.806452  0.601074\n",
      "CDDCC       2.0        5.0  4.806452  0.601074\n",
      "CDDCD       2.0        5.0  4.806452  0.601074\n",
      "CDDDC       2.0        5.0  4.806452  0.601074\n",
      "CDDDD       2.0        5.0  4.806452  0.601074\n",
      "DCCCC       2.0        5.0  4.806452  0.601074\n",
      "DCCCD       2.0        5.0  4.806452  0.601074\n",
      "DCCDC       2.0        5.0  4.806452  0.601074\n",
      "DCCDD       2.0        5.0  4.806452  0.601074\n",
      "DCDCC       2.0        5.0  4.806452  0.601074\n",
      "DCDCD       2.0        5.0  4.806452  0.601074\n",
      "DCDDC       2.0        5.0  4.806452  0.601074\n",
      "DCDDD       2.0        5.0  4.806452  0.601074\n",
      "DDCCC       2.0        5.0  4.806452  0.601074\n",
      "DDCCD       2.0        5.0  4.806452  0.601074\n",
      "DDCDC       2.0        5.0  4.806452  0.601074\n",
      "DDCDD       2.0        5.0  4.806452  0.601074\n",
      "DDDCC       2.0        5.0  4.806452  0.601074\n",
      "DDDCD       2.0        5.0  4.806452  0.601074\n",
      "DDDDC       2.0        5.0  4.806452  0.601074\n",
      "DDDDD       2.0        5.0  4.806452  0.601074\n",
      "Time : 12.433981895446777\n"
     ]
    }
   ],
   "source": [
    "import time\n",
    "before = time.time()\n",
    "bag = getAllMemory(1,1)\n",
    "subClasses(bag, len(bag)-1)\n",
    "after = time.time()\n",
    "print(\"Time : {}\".format(after-before))"
   ]
  },
  {
   "cell_type": "markdown",
   "metadata": {},
   "source": [
    "#### Test de la stratégie Spiteful avec tous les triplets de classiques\n",
    "Dans les cas des deux méthodes `subClassesWithOneStrat` seule la stratégie passée en paramètre participe à toutes les sous-classes (faisable pour des ensembles pas trop volumineux genre `mem(1,1)`). Dans la première elle participe à la totalité des sous-classes tandis qu'avec `subClassesRandomWithOneStrat` elle participe à un nombre fixé de sous classes de même taille mais prises aléatoirement (utilisable dans de gros ensembles comme `mem(2,2)`)."
   ]
  },
  {
   "cell_type": "code",
   "execution_count": null,
   "metadata": {},
   "outputs": [],
   "source": [
    "All_C = Periodic('C')\n",
    "All_D = Periodic('D')\n",
    "bag = [All_C, All_D, Tft(), Gradual(), SoftMajority(), HardMajority()]\n",
    "res  = subClassesWithOneStrat(bag, 3, Spiteful())\n",
    "#Pour afficher le tableau en entier : \n",
    "#res = subClassesWithOneStrat(bag, 3, Spiteful(), True)"
   ]
  },
  {
   "cell_type": "markdown",
   "metadata": {},
   "source": [
    "Il est à noter que les objets `subClassesWithOneStrat` et `subClassesRandomWithOneStrat` conservent le \n",
    "meilleur et le pire des tournois pour la stratégie `strat`\n",
    "Au moment de l'affichage du classement des sous-classes il est de ce fait possible d'afficher l'ensemble de stratégies qui a été favorable ou défavorable à la stratégie `Strat`."
   ]
  },
  {
   "cell_type": "code",
   "execution_count": null,
   "metadata": {},
   "outputs": [],
   "source": [
    "meilleureComp, pireComp, strategy = res\n",
    "print(\"La meilleure competition pour la stratégie \"+strategy.name +\" est : \")\n",
    "for strat in meilleureComp :\n",
    "    print(strat.name)"
   ]
  },
  {
   "cell_type": "markdown",
   "metadata": {},
   "source": [
    "#### 100 experiences de 10 stratégies prise au hasard dans mem(2,2) contre Gradual()\n",
    "Pour les `subclassesRandom`, si une stratégie n'a joué qu'une seule fois alors elle n'a pas d'écart-type (`NaN`); si elle n'a pas joué du tout alors toutes ses valeurs sont à `NaN` dans le tableau"
   ]
  },
  {
   "cell_type": "code",
   "execution_count": 32,
   "metadata": {},
   "outputs": [
    {
     "name": "stdout",
     "output_type": "stream",
     "text": [
      "Strategy ranking  : gradual\n",
      "BestRank     1.000000\n",
      "WorstRank    6.000000\n",
      "RankAvg      2.340000\n",
      "RankStd      1.182533\n",
      "Name: gradual, dtype: float64\n"
     ]
    }
   ],
   "source": [
    "bag = getAllMemory(2,2)\n",
    "res = subClassesRandomWithOneStrat(100,bag, 10, Gradual())\n",
    "#Pour afficher le tableau en entier : \n",
    "#subClassesRandomWithOneStrat(100, bag, 10, Gradual(), True)\n"
   ]
  },
  {
   "cell_type": "markdown",
   "metadata": {},
   "source": [
    "On peut d'ailleurs vérifier la compétition la plus \"défavorable\" à Gradual \n",
    "(comme c'est un choix aléatoire, donc 2 éxécutions ne donneront pas systématiquement le même résultat)"
   ]
  },
  {
   "cell_type": "code",
   "execution_count": null,
   "metadata": {},
   "outputs": [],
   "source": [
    "bestComp, worstComp, strategy = res"
   ]
  },
  {
   "cell_type": "code",
   "execution_count": null,
   "metadata": {},
   "outputs": [],
   "source": [
    "bag = worstComp\n",
    "e2=Ecological(g,bag)\n",
    "e2.run()\n",
    "e2.drawPlot(None,None)\n",
    "evol=e2.historic\n",
    "print(evol.iloc[-1])\n",
    "print(e2.historic.iloc[e2.generation].rank(0, method=\"min\", ascending=False))"
   ]
  },
  {
   "cell_type": "markdown",
   "metadata": {},
   "source": [
    "## Conception d'un méta-stratégie\n",
    "\n",
    "Une méta-stratégie est une stratégie composée de plusieurs stratégies. \n",
    "Dans un premier temps, chaque stratégie joue pendant n tours et on comptabilise le nombre de points pour chaque stratégie pendant ces n tours.\n",
    "On choisit ensuite la stratégie qui a le plus de points et on répète ce choix tous les n tours.\n",
    "Pour écrire une méta-stratégie, on écrit `MetaStrategy(liste des stratégies, n)`"
   ]
  },
  {
   "cell_type": "code",
   "execution_count": 2,
   "metadata": {},
   "outputs": [
    {
     "name": "stdout",
     "output_type": "stream",
     "text": [
      "Strategy ranking  : metastrat\n",
      "BestRank     1.000000\n",
      "WorstRank    2.000000\n",
      "RankAvg      1.968750\n",
      "RankStd      0.176777\n",
      "Name: metastrat, dtype: float64\n",
      "Strategy ranking  : tft\n",
      "BestRank     1.000000\n",
      "WorstRank    2.000000\n",
      "RankAvg      1.968750\n",
      "RankStd      0.176777\n",
      "Name: tft, dtype: float64\n"
     ]
    }
   ],
   "source": [
    "# check of MetaStrategy : the two results should be the same\n",
    "\n",
    "# with Metastrat\n",
    "metaStrat = MetaStrategy([Tft()], 5)\n",
    "bag = getMem(1,1)\n",
    "res  = subClassesWithOneStrat(bag,len(bag)-1, metaStrat)\n",
    "\n",
    "# without Metastrat\n",
    "res  = subClassesWithOneStrat(bag,len(bag)-1, Tft())\n"
   ]
  },
  {
   "cell_type": "code",
   "execution_count": 3,
   "metadata": {},
   "outputs": [
    {
     "name": "stdout",
     "output_type": "stream",
     "text": [
      "Strategy ranking  : metastrat\n",
      "BestRank     2.000000\n",
      "WorstRank    5.000000\n",
      "RankAvg      4.812500\n",
      "RankStd      0.592289\n",
      "Name: metastrat, dtype: float64\n",
      "Strategy ranking  : per_CCD\n",
      "BestRank     2.000000\n",
      "WorstRank    5.000000\n",
      "RankAvg      4.812500\n",
      "RankStd      0.592289\n",
      "Name: per_CCD, dtype: float64\n"
     ]
    }
   ],
   "source": [
    "# check of MetaStrategy : the two results should be the same (with a Periodic)\n",
    "\n",
    "metaStrat = MetaStrategy([Periodic(\"CCD\")], 5)\n",
    "res  = subClassesWithOneStrat(bag,len(bag)-1, metaStrat)\n",
    "\n",
    "res  = subClassesWithOneStrat(bag,len(bag)-1, Periodic(\"CCD\"))"
   ]
  },
  {
   "cell_type": "markdown",
   "metadata": {},
   "source": [
    "### Tests de méta-stratégies\n",
    "On cherche ici la meilleure meta-stratégie contre Memory(1,1) + Gradual.\n",
    "On fait différents tests durant lesquels on change : \n",
    "- les stratégies\n",
    "- le nombre de tours n.\n",
    "\n",
    "On utilise pour cela les sous-classes `subClassesWithOneStrat` qui, pour une stratégie particulière (ici, notre meta-stratégie) fait plusieurs compétitions écologiques et mesure le meilleur rang, le pire rang, la rang moyen, et l'écart-type."
   ]
  },
  {
   "cell_type": "code",
   "execution_count": 34,
   "metadata": {},
   "outputs": [
    {
     "name": "stdout",
     "output_type": "stream",
     "text": [
      "Strategy ranking  : metastrat\n",
      "BestRank      5.000000\n",
      "WorstRank    10.000000\n",
      "RankAvg       7.909091\n",
      "RankStd       2.067058\n",
      "Name: metastrat, dtype: float64\n"
     ]
    }
   ],
   "source": [
    "metaStrat = MetaStrategy([Tft(), Periodic(\"C\"), Spiteful(), Periodic(\"CCD\")], 5)\n",
    "bag = getMem(1,1)+[Gradual()]\n",
    "res  = subClassesWithOneStrat(bag,len(bag)-1, metaStrat, length = 100)\n",
    "\n"
   ]
  },
  {
   "cell_type": "code",
   "execution_count": 36,
   "metadata": {},
   "outputs": [
    {
     "name": "stdout",
     "output_type": "stream",
     "text": [
      "Strategy ranking  : metastrat\n",
      "BestRank      5.000000\n",
      "WorstRank    10.000000\n",
      "RankAvg       7.545455\n",
      "RankStd       2.078024\n",
      "Name: metastrat, dtype: float64\n"
     ]
    }
   ],
   "source": [
    "metaStrat = MetaStrategy([Tft(), Periodic(\"C\"), Spiteful(), Periodic(\"CCD\")], 4)\n",
    "bag = getMem(1,1)+[Gradual()]\n",
    "res  = subClassesWithOneStrat(bag,len(bag)-1, metaStrat, length = 100)\n"
   ]
  },
  {
   "cell_type": "code",
   "execution_count": 37,
   "metadata": {},
   "outputs": [
    {
     "name": "stdout",
     "output_type": "stream",
     "text": [
      "Strategy ranking  : metastrat\n",
      "BestRank      5.000000\n",
      "WorstRank    10.000000\n",
      "RankAvg       7.181818\n",
      "RankStd       2.053268\n",
      "Name: metastrat, dtype: float64\n"
     ]
    }
   ],
   "source": [
    "metaStrat = MetaStrategy([Tft(), Periodic(\"C\"), Spiteful(), Periodic(\"CCD\")], 3)\n",
    "bag = getMem(1,1)+[Gradual()]\n",
    "res  = subClassesWithOneStrat(bag,len(bag)-1, metaStrat, length = 100)\n"
   ]
  },
  {
   "cell_type": "code",
   "execution_count": 45,
   "metadata": {},
   "outputs": [
    {
     "name": "stdout",
     "output_type": "stream",
     "text": [
      "Strategy ranking  : metastrat\n",
      "BestRank     5.000000\n",
      "WorstRank    6.000000\n",
      "RankAvg      5.848485\n",
      "RankStd      0.364110\n",
      "Name: metastrat, dtype: float64\n"
     ]
    }
   ],
   "source": [
    "metaStrat = MetaStrategy([Tft(), Periodic(\"C\"), Spiteful(), Periodic(\"CCD\")], 2)\n",
    "bag = getMem(1,1)+[Gradual()]\n",
    "res  = subClassesWithOneStrat(bag,len(bag)-1, metaStrat, length = 100)\n"
   ]
  },
  {
   "cell_type": "code",
   "execution_count": 6,
   "metadata": {},
   "outputs": [
    {
     "data": {
      "image/png": "[encoded data removed]",
      "text/plain": [
       "<Figure size 432x288 with 1 Axes>"
      ]
     },
     "metadata": {
      "needs_background": "light"
     },
     "output_type": "display_data"
    }
   ],
   "source": [
    "metaStrat = MetaStrategy([Tft(), Periodic(\"C\"), Spiteful(), Periodic(\"CCD\")], 1)\n",
    "bag = getMem(1,1)+[Gradual()]\n",
    "\n",
    "# Test avec les sous-classes\n",
    "# res  = subClassesWithOneStrat(bag,len(bag)-1, metaStrat, length = 100)\n",
    "\n",
    "# Test avec un tournoi\n",
    "# t = Tournament(g,[metaStrat]+bag)\n",
    "# t.run()\n",
    "# print(t.matrix)\n",
    "# print(t.matrix['Total'])\n",
    "\n",
    "# Test avec une competition écolo\n",
    "e = Ecological(g,[metaStrat]+bag)\n",
    "e.run()\n",
    "e.drawPlot(None,None)\n",
    "#print(e.score)"
   ]
  },
  {
   "cell_type": "code",
   "execution_count": 35,
   "metadata": {},
   "outputs": [
    {
     "name": "stdout",
     "output_type": "stream",
     "text": [
      "Strategy ranking  : metastrat\n",
      "BestRank      5.000000\n",
      "WorstRank    10.000000\n",
      "RankAvg       9.363636\n",
      "RankStd       1.453835\n",
      "Name: metastrat, dtype: float64\n"
     ]
    }
   ],
   "source": [
    "metaStrat = MetaStrategy([Tft(), Spiteful(), Gradual()], 3)\n",
    "bag = getMem(1,1)+[Gradual()]\n",
    "res  = subClassesWithOneStrat(bag,len(bag)-1, metaStrat, length = 100)"
   ]
  },
  {
   "cell_type": "markdown",
   "metadata": {},
   "source": [
    "Conclusion : La meilleure méta-stratégie que l'on a trouvé est la Méta-stratégie composée des stratégies Tft(), Periodic('C'), Spiteful(), Periodic('CCD') avec un n=2 ou n=1.\n",
    "Verifions maintenant si cette séquence de stratégies est optimal en testant toutes les séquences possibles"
   ]
  },
  {
   "cell_type": "code",
   "execution_count": 42,
   "metadata": {},
   "outputs": [
    {
     "name": "stdout",
     "output_type": "stream",
     "text": [
      "Ordre\n",
      "tft\n",
      "per_C\n",
      "spiteful\n",
      "per_CCD\n",
      "Strategy ranking  : metastrat\n",
      "BestRank     5.000000\n",
      "WorstRank    6.000000\n",
      "RankAvg      5.848485\n",
      "RankStd      0.364110\n",
      "Name: metastrat, dtype: float64\n",
      "Ordre\n",
      "tft\n",
      "per_C\n",
      "per_CCD\n",
      "spiteful\n",
      "Strategy ranking  : metastrat\n",
      "BestRank     5.000000\n",
      "WorstRank    6.000000\n",
      "RankAvg      5.848485\n",
      "RankStd      0.364110\n",
      "Name: metastrat, dtype: float64\n",
      "Ordre\n",
      "tft\n",
      "spiteful\n",
      "per_C\n",
      "per_CCD\n",
      "Strategy ranking  : metastrat\n",
      "BestRank     5.000000\n",
      "WorstRank    6.000000\n",
      "RankAvg      5.848485\n",
      "RankStd      0.364110\n",
      "Name: metastrat, dtype: float64\n",
      "Ordre\n",
      "tft\n",
      "spiteful\n",
      "per_CCD\n",
      "per_C\n",
      "Strategy ranking  : metastrat\n",
      "BestRank     5.000000\n",
      "WorstRank    6.000000\n",
      "RankAvg      5.848485\n",
      "RankStd      0.364110\n",
      "Name: metastrat, dtype: float64\n",
      "Ordre\n",
      "tft\n",
      "per_CCD\n",
      "per_C\n",
      "spiteful\n",
      "Strategy ranking  : metastrat\n",
      "BestRank     5.000000\n",
      "WorstRank    6.000000\n",
      "RankAvg      5.848485\n",
      "RankStd      0.364110\n",
      "Name: metastrat, dtype: float64\n",
      "Ordre\n",
      "tft\n",
      "per_CCD\n",
      "spiteful\n",
      "per_C\n",
      "Strategy ranking  : metastrat\n",
      "BestRank     5.000000\n",
      "WorstRank    6.000000\n",
      "RankAvg      5.848485\n",
      "RankStd      0.364110\n",
      "Name: metastrat, dtype: float64\n",
      "Ordre\n",
      "per_C\n",
      "tft\n",
      "spiteful\n",
      "per_CCD\n",
      "Strategy ranking  : metastrat\n",
      "BestRank     5.000000\n",
      "WorstRank    6.000000\n",
      "RankAvg      5.848485\n",
      "RankStd      0.364110\n",
      "Name: metastrat, dtype: float64\n",
      "Ordre\n",
      "per_C\n",
      "tft\n",
      "per_CCD\n",
      "spiteful\n",
      "Strategy ranking  : metastrat\n",
      "BestRank     5.000000\n",
      "WorstRank    6.000000\n",
      "RankAvg      5.848485\n",
      "RankStd      0.364110\n",
      "Name: metastrat, dtype: float64\n",
      "Ordre\n",
      "per_C\n",
      "spiteful\n",
      "tft\n",
      "per_CCD\n",
      "Strategy ranking  : metastrat\n",
      "BestRank     5.000000\n",
      "WorstRank    6.000000\n",
      "RankAvg      5.848485\n",
      "RankStd      0.364110\n",
      "Name: metastrat, dtype: float64\n",
      "Ordre\n",
      "per_C\n",
      "spiteful\n",
      "per_CCD\n",
      "tft\n",
      "Strategy ranking  : metastrat\n",
      "BestRank     5.000000\n",
      "WorstRank    6.000000\n",
      "RankAvg      5.848485\n",
      "RankStd      0.364110\n",
      "Name: metastrat, dtype: float64\n",
      "Ordre\n",
      "per_C\n",
      "per_CCD\n",
      "tft\n",
      "spiteful\n",
      "Strategy ranking  : metastrat\n",
      "BestRank     5.000000\n",
      "WorstRank    6.000000\n",
      "RankAvg      5.848485\n",
      "RankStd      0.364110\n",
      "Name: metastrat, dtype: float64\n",
      "Ordre\n",
      "per_C\n",
      "per_CCD\n",
      "spiteful\n",
      "tft\n",
      "Strategy ranking  : metastrat\n",
      "BestRank     5.000000\n",
      "WorstRank    6.000000\n",
      "RankAvg      5.848485\n",
      "RankStd      0.364110\n",
      "Name: metastrat, dtype: float64\n",
      "Ordre\n",
      "spiteful\n",
      "tft\n",
      "per_C\n",
      "per_CCD\n",
      "Strategy ranking  : metastrat\n",
      "BestRank     5.000000\n",
      "WorstRank    6.000000\n",
      "RankAvg      5.848485\n",
      "RankStd      0.364110\n",
      "Name: metastrat, dtype: float64\n",
      "Ordre\n",
      "spiteful\n",
      "tft\n",
      "per_CCD\n",
      "per_C\n",
      "Strategy ranking  : metastrat\n",
      "BestRank     5.000000\n",
      "WorstRank    6.000000\n",
      "RankAvg      5.848485\n",
      "RankStd      0.364110\n",
      "Name: metastrat, dtype: float64\n",
      "Ordre\n",
      "spiteful\n",
      "per_C\n",
      "tft\n",
      "per_CCD\n",
      "Strategy ranking  : metastrat\n",
      "BestRank     5.000000\n",
      "WorstRank    6.000000\n",
      "RankAvg      5.848485\n",
      "RankStd      0.364110\n",
      "Name: metastrat, dtype: float64\n",
      "Ordre\n",
      "spiteful\n",
      "per_C\n",
      "per_CCD\n",
      "tft\n",
      "Strategy ranking  : metastrat\n",
      "BestRank     5.000000\n",
      "WorstRank    6.000000\n",
      "RankAvg      5.848485\n",
      "RankStd      0.364110\n",
      "Name: metastrat, dtype: float64\n",
      "Ordre\n",
      "spiteful\n",
      "per_CCD\n",
      "tft\n",
      "per_C\n",
      "Strategy ranking  : metastrat\n",
      "BestRank     5.000000\n",
      "WorstRank    6.000000\n",
      "RankAvg      5.848485\n",
      "RankStd      0.364110\n",
      "Name: metastrat, dtype: float64\n",
      "Ordre\n",
      "spiteful\n",
      "per_CCD\n",
      "per_C\n",
      "tft\n",
      "Strategy ranking  : metastrat\n",
      "BestRank     5.000000\n",
      "WorstRank    6.000000\n",
      "RankAvg      5.848485\n",
      "RankStd      0.364110\n",
      "Name: metastrat, dtype: float64\n",
      "Ordre\n",
      "per_CCD\n",
      "tft\n",
      "per_C\n",
      "spiteful\n",
      "Strategy ranking  : metastrat\n",
      "BestRank      5.000000\n",
      "WorstRank    10.000000\n",
      "RankAvg       8.151515\n",
      "RankStd       2.063389\n",
      "Name: metastrat, dtype: float64\n",
      "Ordre\n",
      "per_CCD\n",
      "tft\n",
      "spiteful\n",
      "per_C\n",
      "Strategy ranking  : metastrat\n",
      "BestRank      5.000000\n",
      "WorstRank    10.000000\n",
      "RankAvg       7.909091\n",
      "RankStd       2.067058\n",
      "Name: metastrat, dtype: float64\n",
      "Ordre\n",
      "per_CCD\n",
      "per_C\n",
      "tft\n",
      "spiteful\n",
      "Strategy ranking  : metastrat\n",
      "BestRank      5.000000\n",
      "WorstRank    10.000000\n",
      "RankAvg       7.909091\n",
      "RankStd       2.067058\n",
      "Name: metastrat, dtype: float64\n",
      "Ordre\n",
      "per_CCD\n",
      "per_C\n",
      "spiteful\n",
      "tft\n",
      "Strategy ranking  : metastrat\n",
      "BestRank      5.000000\n",
      "WorstRank    10.000000\n",
      "RankAvg       7.909091\n",
      "RankStd       2.067058\n",
      "Name: metastrat, dtype: float64\n",
      "Ordre\n",
      "per_CCD\n",
      "spiteful\n",
      "tft\n",
      "per_C\n",
      "Strategy ranking  : metastrat\n",
      "BestRank      5.000000\n",
      "WorstRank    10.000000\n",
      "RankAvg       7.909091\n",
      "RankStd       2.067058\n",
      "Name: metastrat, dtype: float64\n",
      "Ordre\n",
      "per_CCD\n",
      "spiteful\n",
      "per_C\n",
      "tft\n",
      "Strategy ranking  : metastrat\n",
      "BestRank      5.000000\n",
      "WorstRank    10.000000\n",
      "RankAvg       8.151515\n",
      "RankStd       2.063389\n",
      "Name: metastrat, dtype: float64\n"
     ]
    }
   ],
   "source": [
    "bag = getMem(1,1)+[Gradual()]\n",
    "all = itertools.permutations([Tft(), Periodic(\"C\"), Spiteful(), Periodic(\"CCD\")])\n",
    "for a in all : \n",
    "    print(\"Ordre\")\n",
    "    for strat in a : \n",
    "        print(strat.name)\n",
    "    metaStrat = MetaStrategy(a, 2)\n",
    "    res  = subClassesWithOneStrat(bag,len(bag)-1, metaStrat, length = 100)\n",
    "    "
   ]
  },
  {
   "cell_type": "markdown",
   "metadata": {},
   "source": [
    "Après cette vérification les séquences de stratégies qui fournissent les moins bons résultats sont les séquences commençant par Periodic('CCD'), toutes les autres fournissent un meilleur résultat.\n"
   ]
  },
  {
   "cell_type": "markdown",
   "metadata": {},
   "source": [
    "## Tests d'équivalence de stratégies\n",
    "Dans cette section on cherche à savoir si des stratégies sont équivalentes au regard d'autres stratégies lors de tournois. \n"
   ]
  },
  {
   "cell_type": "markdown",
   "metadata": {},
   "source": [
    "`testEquivUnit` teste l'équivalence d'un couple de strategies `strategies` contre une stratégie `opponent` de comparaison pendant `length` tours de tournois. Elle renvoie un booléen : équivalent ou pas."
   ]
  },
  {
   "cell_type": "code",
   "execution_count": 9,
   "metadata": {},
   "outputs": [
    {
     "name": "stdout",
     "output_type": "stream",
     "text": [
      "True\n",
      "False\n",
      "True\n",
      "False\n",
      "True\n",
      "\n",
      "False\n",
      "False\n",
      "False\n",
      "True\n"
     ]
    }
   ],
   "source": [
    "def testEquivUnit(strategies, opponent, length):\n",
    "    res = []\n",
    "    for strat in strategies :\n",
    "        t = Tournament(g, [opponent, strat], length)\n",
    "        t.run()\n",
    "        s = t.matrix[strat.name].to_string()\n",
    "        res += [tuple([int(i) for i in s.split() if i.isdigit()])] \n",
    "        #print(res)\n",
    "    return len(set(res)) == 1\n",
    "\n",
    "print(testEquivUnit([Periodic('C'), Periodic('C')], Periodic('CCD'), 100))\n",
    "print(testEquivUnit([Periodic('C'), Periodic('D')], Periodic('CCD'), 100))\n",
    "print(testEquivUnit([Periodic('CCCD'), Periodic('CCCC')], Periodic('CCD'), 3))\n",
    "print(testEquivUnit([Tft(), Spiteful()]  , Periodic(\"CCDCD\"), 100))\n",
    "print(testEquivUnit([Tft(), Mem(0,1,\"cCD\")],  Periodic(\"CCDCD\"), 100))\n",
    "print(\"\")\n",
    "# Verification des quatres stratégies\n",
    "print(testEquivUnit([Mem(1,2,\"DDDCDDDDDC\"), Mem(1,2,\"DDCCDDDDDC\")], Periodic('C'), 10))\n",
    "print(testEquivUnit([Mem(1,2,\"DDDCDDDDDC\"), Mem(1,2,\"DDCDDDDDDC\")], Periodic('C'), 10))\n",
    "print(testEquivUnit([Mem(1,2,\"DDDCDDDDDC\"), Mem(1,2,\"DDDDDDDDDC\")], Periodic('C'), 10))\n",
    "print(testEquivUnit([Mem(1,2,\"DDCDDDDDDC\"),Mem(1,2,\"DDDDDDDDDC\")], Periodic('CD'), 10))"
   ]
  },
  {
   "cell_type": "markdown",
   "metadata": {},
   "source": [
    "L'équivalence de deux programmes est indécidable. Il n'y a donc pas de test parfait. Dans un premier temps, pour comparer 2 stratégies fixées, on les fait jouer contre une stratégie de référence. Evidemment selon la complexité de cette stratégie, le test est plus ou moins pertinent\n",
    "\n",
    "Montre une comparaison de 2 stratégies face à Periodic(\"C\") qui indique qu'elles sont équivalentes alors qu'elles ne le sont pas. (Tft + Spiteful)\n",
    "Refaire le meme test face à Periodic(\"CCD\"). On constate que le test est plus pertinent.\n",
    "Mais il n'est néanmoins pas parfait. \n",
    "Comment on montre qu'il n'est pas parfait ????\n",
    "\n",
    "\n",
    "Tout ça, amène au testMultiple\n",
    "\n",
    "\n",
    "Juste après testMultiple il faut indiquer que ce test est plus robuste, mais toujours pas parfait. Par exemple trouver 2 stratégies qui sont différentes, mais qui face à mem(1,1) donnent la même chose\n"
   ]
  },
  {
   "cell_type": "code",
   "execution_count": null,
   "metadata": {},
   "outputs": [],
   "source": [
    "s2 = Periodic(\"CD\")\n",
    "s1 = Mem(1,2,\"DDCCDDDDDC\")\n",
    "eco = Ecological(g, [s1, s2])\n",
    "eco.run()\n",
    "print(eco.scores)\n",
    "\n",
    "\n",
    "s1 = Mem(1,2,\"DDDCDDDDDC\")\n",
    "eco = Ecological(g, [s1, s2])\n",
    "eco.run()\n",
    "print(eco.scores)\n",
    "\n",
    "\n",
    "s1 = Mem(1,2,\"DDCDDDDDDC\")\n",
    "eco = Ecological(g, [s1, s2])\n",
    "eco.run()\n",
    "print(eco.scores)\n",
    "\n",
    "\n",
    "s1 = Mem(1,2,\"DDDDDDDDDC\")\n",
    "eco = Ecological(g, [s1, s2])\n",
    "eco.run()\n",
    "print(eco.scores)\n"
   ]
  },
  {
   "cell_type": "markdown",
   "metadata": {},
   "source": [
    "`testEquivMultiple` teste l'équivalence d'un couple de strategies `strategies` contre une liste de\n",
    "stratégies `opponents` de comparaison pendant `length` tours de tournois. \n",
    "Elle renvoie un booléen : équivalent ou pas."
   ]
  },
  {
   "cell_type": "code",
   "execution_count": 8,
   "metadata": {},
   "outputs": [
    {
     "name": "stdout",
     "output_type": "stream",
     "text": [
      "True\n",
      "False\n",
      "True\n",
      "False\n",
      "\n",
      "False\n",
      "False\n",
      "False\n",
      "True\n"
     ]
    }
   ],
   "source": [
    "def testEquivMultiple(strategies, opponents, length):\n",
    "    for opponent in opponents : \n",
    "        equiv = testEquivUnit(strategies, opponent, length)\n",
    "        if equiv == False :\n",
    "            return False\n",
    "    return True\n",
    "\n",
    "print(testEquivMultiple([Periodic('C'), Periodic('C')], [Periodic('CCD'), Periodic('DDC')], 10))\n",
    "print(testEquivMultiple([Periodic('C'), Periodic('D')],[Periodic('CCD'), Periodic('DDC')], 10))\n",
    "print(testEquivMultiple([Periodic('CCCD'), Periodic('CCCC')],[Periodic('CCD'), Periodic('DDC')], 3))\n",
    "print(testEquivMultiple([Tft(), Spiteful()],getMem(1,1), 10))\n",
    "print(\"\")\n",
    "# Verification des quatres stratégies\n",
    "print(testEquivMultiple([Mem(1,2,\"DDDCDDDDDC\"), Mem(1,2,\"DDCCDDDDDC\")], getMem(1,1), 100))\n",
    "print(testEquivMultiple([Mem(1,2,\"DDDCDDDDDC\"), Mem(1,2,\"DDCDDDDDDC\")], getMem(1,1), 100))\n",
    "print(testEquivMultiple([Mem(1,2,\"DDDCDDDDDC\"), Mem(1,2,\"DDDDDDDDDC\")], getMem(1,1), 100))\n",
    "print(testEquivMultiple([Mem(1,2,\"DDCDDDDDDC\"),Mem(1,2,\"DDDDDDDDDC\")], getMem(1,1), 100))\n"
   ]
  },
  {
   "cell_type": "markdown",
   "metadata": {},
   "source": [
    "`classesEquiv(l, opponents, length)` fait un test multiple pour tous les\n",
    "couples possibles dans `l` contre `opponents`  et renvoie dans une map les classes d'équivalence.\n",
    "Par exemple si on a strat1 équivalente à strat2 et strat3 qui n'a pas d'quivalence, la fonction va renvoyer dans une map : {\n",
    "- strat1 : [strat2]\n",
    "- strat3 : []\n",
    "}"
   ]
  },
  {
   "cell_type": "code",
   "execution_count": 11,
   "metadata": {},
   "outputs": [
    {
     "ename": "SyntaxError",
     "evalue": "invalid syntax (<ipython-input-11-fefc7b309ed6>, line 26)",
     "output_type": "error",
     "traceback": [
      "\u001b[0;36m  File \u001b[0;32m\"<ipython-input-11-fefc7b309ed6>\"\u001b[0;36m, line \u001b[0;32m26\u001b[0m\n\u001b[0;31m    ce = classesEquiv([Tft(), Tft()], [Periodic('CCD'), Periodic('DDC')], 10))\u001b[0m\n\u001b[0m                                                                             ^\u001b[0m\n\u001b[0;31mSyntaxError\u001b[0m\u001b[0;31m:\u001b[0m invalid syntax\n"
     ]
    }
   ],
   "source": [
    "def classesEquiv(l, opponents, length):\n",
    "    m = dict()\n",
    "    #print(l)\n",
    "    while len(l) > 0 :\n",
    "        m[l[0]] = []\n",
    "        liste_tmp = l[1:]\n",
    "        #print(liste_tmp)\n",
    "        ind = []\n",
    "        for j in range(len(liste_tmp)):\n",
    "            #print(l[0])\n",
    "            #print(l[j + 1])\n",
    "            if testEquivMultiple([l[0], l[j + 1]], opponents, length):\n",
    "               # print(\"ok\")\n",
    "                m[l[0]] += [l[j + 1]]\n",
    "                ind += [j + 1]\n",
    "        #print(ind)\n",
    "        for index in ind:\n",
    "            #print(index)\n",
    "            del l[index]\n",
    "        del l[0]\n",
    "        #print(l)\n",
    "    return m\n",
    "\n",
    "\n",
    "            \n",
    "ce = classesEquiv([Tft(), Tft()], [Periodic('CCD'), Periodic('DDC')], 10))\n",
    "names = [s.name for s : ce]\n",
    "print(names)\n",
    "\n",
    "print(classesEquiv([Gradual(), Tft()],[Periodic('CCD'), Periodic('DDC')], 10))\n",
    "print(classesEquiv([Tft(), Tft(), Periodic('D')], [Periodic('C')], 1))\n",
    "L = [Tft(), Spiteful(), Mem(0,1,\"cCD\"),  Mem(1,1,\"cCDDD\"), Periodic(\"CDC\") ]\n",
    "print(classesEquiv(L, [Periodic('CCD'), Periodic('DDC')], 10))\n",
    "\n",
    "        \n",
    "            "
   ]
  },
  {
   "cell_type": "markdown",
   "metadata": {},
   "source": [
    "`simplify` est la fonction simplificatrice. Elle simplifie la liste de stratégies `l` en les testant contre les stratégies `opponents` pendant `length` tours.\n",
    "Elle renvoie un couple de valeurs : \n",
    "- la liste simplifiée avec toutes les stratégies n'ayant pas d'équivalence entre elles\n",
    "- la map des stratégies équivalentes"
   ]
  },
  {
   "cell_type": "code",
   "execution_count": 12,
   "metadata": {},
   "outputs": [
    {
     "name": "stdout",
     "output_type": "stream",
     "text": [
      "([<__main__.Tft object at 0x7fb3c80cd0f0>, <__main__.Periodic object at 0x7fb3c80cd4a8>], {<__main__.Tft object at 0x7fb3c80cd0f0>: [<__main__.Tft object at 0x7fb3c80cdda0>]})\n",
      "\n",
      "([<__main__.Tft object at 0x7fb3c801b2b0>, <__main__.SoftMajority object at 0x7fb3c80cd0f0>], {})\n",
      "\n",
      "([<__main__.Tft object at 0x7fb3c801b2b0>, <__main__.Spiteful object at 0x7fb3c80cd0f0>, <__main__.Periodic object at 0x7fb3c80cd7f0>], {<__main__.Tft object at 0x7fb3c801b2b0>: [<strategies.Mem object at 0x7fb3c80cd518>], <__main__.Spiteful object at 0x7fb3c80cd0f0>: [<strategies.Mem object at 0x7fb3c80cd588>]})\n"
     ]
    }
   ],
   "source": [
    "def simplify(l, opponents, length):\n",
    "    scores = dict()\n",
    "    for strat in l :\n",
    "        t = Tournament(g, opponents + [strat], length)\n",
    "        t.run()\n",
    "        res = t.matrix['Total'][strat.name]\n",
    "        if res not in scores :\n",
    "            scores[res] = [strat]\n",
    "        else : \n",
    "            scores[res] += [strat]\n",
    "    #print(scores)\n",
    "    \n",
    "    simplified = []\n",
    "    d = dict()\n",
    "    for item in scores.values():\n",
    "        if len(item) > 1 :\n",
    "            res = classesEquiv(item, opponents, length)\n",
    "            for it in res.keys():\n",
    "                if len(res[it]) > 0 :\n",
    "                    d[it] = res[it]\n",
    "            simplified += res.keys()\n",
    "        else : \n",
    "            simplified += item\n",
    "   \n",
    "    return simplified, d\n",
    "        \n",
    "\n",
    "print(simplify([Tft(), Tft(), Periodic('D')], [Periodic('C')], 1))\n",
    "print(\"\")\n",
    "print(simplify([Tft(), SoftMajority()], [Periodic(\"DCD\")], 10))\n",
    "print(\"\")\n",
    "print(simplify([Tft(), Spiteful(), Mem(0,1,\"cCD\"),  Mem(1,1,\"cCDDD\"), Periodic(\"CDC\") ], [Periodic('CCD'), Periodic('DDC')] , 10))\n",
    "\n",
    "\n",
    "        \n",
    "    "
   ]
  },
  {
   "cell_type": "markdown",
   "metadata": {},
   "source": [
    "Vérification d'équivalences de quatres stratégies"
   ]
  },
  {
   "cell_type": "code",
   "execution_count": 26,
   "metadata": {},
   "outputs": [
    {
     "name": "stdout",
     "output_type": "stream",
     "text": [
      "            DDCCDDDDDC  per_CD  Total\n",
      "DDCCDDDDDC        2996    3000   5996\n",
      "per_CD             500    2000   2500\n",
      "            DDDCDDDDDC  per_CD  Total\n",
      "DDDCDDDDDC        2000    3000   5000\n",
      "per_CD             500    2000   2500\n",
      "            DDCDDDDDDC  per_CD  Total\n",
      "DDCDDDDDDC        1666    3000   4666\n",
      "per_CD             500    2000   2500\n",
      "            DDDDDDDDDC  per_CD  Total\n",
      "DDDDDDDDDC        1666    3000   4666\n",
      "per_CD             500    2000   2500\n"
     ]
    }
   ],
   "source": [
    "s2 = Periodic(\"CD\")\n",
    "s1 = Mem(1,2,\"DDCCDDDDDC\")\n",
    "t = Tournament(g, [s1, s2])\n",
    "t.run()\n",
    "print(t.matrix)\n",
    "\n",
    "\n",
    "s1 = Mem(1,2,\"DDDCDDDDDC\")\n",
    "t = Tournament(g, [s1, s2])\n",
    "t.run()\n",
    "print(t.matrix)\n",
    "\n",
    "s1 = Mem(1,2,\"DDCDDDDDDC\")\n",
    "t = Tournament(g, [s1, s2])\n",
    "t.run()\n",
    "print(t.matrix)\n",
    "\n",
    "\n",
    "s1 = Mem(1,2,\"DDDDDDDDDC\")\n",
    "t = Tournament(g, [s1, s2])\n",
    "t.run()\n",
    "print(t.matrix)\n",
    "\n"
   ]
  },
  {
   "cell_type": "markdown",
   "metadata": {},
   "source": [
    "On constate que deux d'entre elles sont équivalentes, regardons si classesEquiv nous confirment bien qu'une stratégie a été simplifiée. (La longueur du résultat devrait être trois car 4 stratégies - 1 simplifiée)"
   ]
  },
  {
   "cell_type": "code",
   "execution_count": 27,
   "metadata": {},
   "outputs": [
    {
     "name": "stdout",
     "output_type": "stream",
     "text": [
      "3\n"
     ]
    }
   ],
   "source": [
    "print(len(classesEquiv([Mem(1,2,\"DDCCDDDDDC\"),Mem(1,2,\"DDCDDDDDDC\"),Mem(1,2,\"DDDCDDDDDC\"),Mem(1,2,\"DDDDDDDDDC\")], [Periodic(\"CD\")],10)))"
   ]
  },
  {
   "cell_type": "code",
   "execution_count": 13,
   "metadata": {
    "scrolled": true
   },
   "outputs": [
    {
     "data": {
      "text/html": [
       "<div>\n",
       "<style scoped>\n",
       "    .dataframe tbody tr th:only-of-type {\n",
       "        vertical-align: middle;\n",
       "    }\n",
       "\n",
       "    .dataframe tbody tr th {\n",
       "        vertical-align: top;\n",
       "    }\n",
       "\n",
       "    .dataframe thead th {\n",
       "        text-align: right;\n",
       "    }\n",
       "</style>\n",
       "<table border=\"1\" class=\"dataframe\">\n",
       "  <thead>\n",
       "    <tr style=\"text-align: right;\">\n",
       "      <th></th>\n",
       "      <th>All strategies</th>\n",
       "      <th>After simplify</th>\n",
       "    </tr>\n",
       "  </thead>\n",
       "  <tbody>\n",
       "    <tr>\n",
       "      <th>Mem 1 1</th>\n",
       "      <td>32.0</td>\n",
       "      <td>NaN</td>\n",
       "    </tr>\n",
       "    <tr>\n",
       "      <th>Mem 1 2</th>\n",
       "      <td>1024.0</td>\n",
       "      <td>NaN</td>\n",
       "    </tr>\n",
       "    <tr>\n",
       "      <th>Mem 2 1</th>\n",
       "      <td>1024.0</td>\n",
       "      <td>NaN</td>\n",
       "    </tr>\n",
       "    <tr>\n",
       "      <th>Mem 2 2</th>\n",
       "      <td>262144.0</td>\n",
       "      <td>NaN</td>\n",
       "    </tr>\n",
       "  </tbody>\n",
       "</table>\n",
       "</div>"
      ],
      "text/plain": [
       "         All strategies  After simplify\n",
       "Mem 1 1            32.0             NaN\n",
       "Mem 1 2          1024.0             NaN\n",
       "Mem 2 1          1024.0             NaN\n",
       "Mem 2 2        262144.0             NaN"
      ]
     },
     "execution_count": 13,
     "metadata": {},
     "output_type": "execute_result"
    }
   ],
   "source": [
    "Mem11 = getMem(1,1)\n",
    "Mem12 = getMem(1,2)\n",
    "Mem21 = getMem(2,1)\n",
    "Mem22 = getMem(2,2)\n",
    "\n",
    "# res11 = classesEquiv(Mem11, [Periodic('CCD'), Periodic('DDC')], 10)\n",
    "# res12 = classesEquiv(Mem12, [Periodic('CCD'), Periodic('DDC')], 10)\n",
    "# res21 = classesEquiv(Mem21, [Periodic('CCD'), Periodic('DDC')], 10)\n",
    "#res22 = classesEquiv(Mem22, [Periodic('CCD'), Periodic('DDC')], 100)\n",
    "\n",
    "tab = pd.DataFrame(\n",
    "        np.nan, [\"Mem 1 1\", \"Mem 1 2\", \"Mem 2 1\", \"Mem 2 2\"], [\"All strategies\", \"After simplify\"]\n",
    "    )\n",
    "tab.at[\"Mem 1 1\", \"All strategies\" ] = len(Mem11)\n",
    "tab.at[\"Mem 1 2\", \"All strategies\" ] = len(Mem12)\n",
    "tab.at[\"Mem 2 1\", \"All strategies\" ] = len(Mem21)\n",
    "tab.at[\"Mem 2 2\", \"All strategies\" ] = len(Mem22)\n",
    "# tab.at[\"Mem 1 1\", \"After simplify\" ] = len(res11)\n",
    "# tab.at[\"Mem 1 2\", \"After simplify\" ] = len(res12)\n",
    "# tab.at[\"Mem 2 1\", \"After simplify\" ] = len(res21)\n",
    "# tab.at[\"Mem 2 2\", \"After simplify\" ] = len(res22)\n",
    "\n",
    "tab"
   ]
  },
  {
   "cell_type": "markdown",
   "metadata": {},
   "source": [
    "## Dilemme spatial (en cours)"
   ]
  },
  {
   "cell_type": "code",
   "execution_count": 10,
   "metadata": {},
   "outputs": [
    {
     "name": "stdout",
     "output_type": "stream",
     "text": [
      "[[0 0 0 0 0 0 0 0 0 0]\n",
      " [0 0 0 0 0 0 0 0 0 0]\n",
      " [0 0 0 0 0 0 0 0 0 0]\n",
      " [0 0 0 0 0 0 0 0 0 0]\n",
      " [0 0 0 0 0 0 0 0 0 0]\n",
      " [0 0 0 0 0 2 0 0 0 0]\n",
      " [0 0 0 0 0 0 0 0 0 0]\n",
      " [0 0 0 0 0 0 0 0 0 0]\n",
      " [0 0 0 0 0 0 0 0 0 0]\n",
      " [0 0 0 0 0 0 0 0 0 0]]\n",
      "[[0 0 0 0 0 0 0 0 0 0]\n",
      " [0 0 0 0 0 0 0 0 0 0]\n",
      " [0 0 0 0 0 0 0 0 0 0]\n",
      " [0 0 0 0 0 0 0 0 0 0]\n",
      " [0 0 0 0 0 0 0 0 0 0]\n",
      " [0 0 0 0 0 2 0 0 0 0]\n",
      " [0 0 0 0 0 0 0 0 0 0]\n",
      " [0 0 0 0 0 0 0 0 0 0]\n",
      " [0 0 0 0 0 0 0 0 0 0]\n",
      " [0 0 0 0 0 0 0 0 0 0]]\n"
     ]
    }
   ],
   "source": [
    "import matplotlib.pyplot as plt\n",
    "import matplotlib.animation as animation\n",
    "import numpy as np\n",
    "import random\n",
    "\n",
    "# Input variables for the board\n",
    "boardsize = 10   # board will be X by X where X = boardsize\n",
    "my_board = np.empty((boardsize, boardsize), dtype=float)\n",
    "\n",
    "\n",
    "# 0 : cooperator\n",
    "# 1 : new cooperator\n",
    "# 2 : defector   \n",
    "# 3 : new defector\n",
    "\n",
    "\n",
    "# Some helper functions\n",
    "def init_strategies():\n",
    "    strategies = np.zeros((boardsize, boardsize), dtype=object)\n",
    "    for i in range(boardsize) :\n",
    "        for j in range(boardsize):\n",
    "            strategies[i, j] = 0\n",
    "    strategies[5, 5] = 2\n",
    "    return strategies\n",
    "    \n",
    "# Initialize the board with starting positions\n",
    "# def strategies_to_board(strategies):\n",
    "#     for i in range(boardsize) :\n",
    "#         for j in range(boardsize) :\n",
    "#             if strategies[i, j] == \"C\":\n",
    "#                 my_board[i , j] = 0\n",
    "#             else : \n",
    "#                 my_board[i, j] = 1\n",
    "#     #print(\"-------------------------\")\n",
    "#     #print(strategies)\n",
    "#     #print(my_board)\n",
    "#     #print(\"--------------------------------\")\"\n",
    "#     return my_board\n",
    "    \n",
    "\n",
    "# https://github.com/evoplex/model-prisonersDilemma\n",
    "def update_strategies():\n",
    "    scores = play()\n",
    "    strategies = np.copy(update(scores))\n",
    "    #print(strategies)\n",
    "    return strategies\n",
    "\n",
    "def play():\n",
    "    scores = np.zeros((boardsize, boardsize))\n",
    "    for i in range(boardsize):\n",
    "        for j in range(boardsize):\n",
    "            score = 0\n",
    "            #cpt = 0\n",
    "            score += getScore(strategies, i, j, i, j)\n",
    "            if i >= 0 and j >= 0:\n",
    "                score += getScore(strategies, i, j, i-1, j-1)\n",
    "                #cpt += 1\n",
    "            if j >= 0:\n",
    "                score += getScore(strategies, i, j, i, j-1)\n",
    "                #cpt += 1\n",
    "            if i >= 0 :\n",
    "                score += getScore(strategies, i, j, i-1, j)\n",
    "                #cpt += 1\n",
    "            if i < boardsize - 1 and j < boardsize - 1 :\n",
    "                score += getScore(strategies, i, j, i+1, j+1)\n",
    "                #cpt += 1\n",
    "            if i < boardsize - 1 :\n",
    "                score += getScore(strategies, i, j, i+1, j)\n",
    "                #cpt += 1\n",
    "            if j < boardsize -1 :\n",
    "                score += getScore(strategies, i, j, i, j+1)\n",
    "                #cpt += 1\n",
    "            if i < boardsize - 1 and j >= 0:\n",
    "                score += getScore(strategies, i, j, i+1, j-1)\n",
    "                #cpt += 1\n",
    "            if i >= 0 and j < boardsize - 1 :\n",
    "                score += getScore(strategies, i, j, i-1, j+1)\n",
    "                #cpt += 1\n",
    "            scores[i][j] = score\n",
    "    #print(scores)\n",
    "    return scores\n",
    "\n",
    "def update(scores):\n",
    "    #print(scores)\n",
    "    new_strategies = np.zeros((boardsize, boardsize), dtype=object)\n",
    "    for i in range(boardsize):\n",
    "        for j in range(boardsize):\n",
    "            best = scores[i][j]\n",
    "            ind_i = i \n",
    "            ind_j = j\n",
    "            if i >= 0 and j >= 0:\n",
    "                if scores[i-1][j-1] > best :\n",
    "                    best = scores[i-1][j-1]\n",
    "                    ind_i = i - 1\n",
    "                    ind_j = j - 1\n",
    "            if j >= 0:\n",
    "                if scores[i][j-1] > best :\n",
    "                    best = scores[i][j-1]\n",
    "                    ind_i = i \n",
    "                    ind_j = j - 1\n",
    "            if i >= 0 :\n",
    "                if scores[i-1][j] > best :\n",
    "                    best = scores[i-1][j]\n",
    "                    ind_i = i - 1\n",
    "                    ind_j = j \n",
    "            if i < boardsize - 1  and j < boardsize - 1 :\n",
    "                if scores[i+1][j+1] > best :\n",
    "                    best = scores[i+1][j+1]\n",
    "                    ind_i = i + 1\n",
    "                    ind_j = j + 1\n",
    "            if i < boardsize - 1:\n",
    "                if scores[i+1][j] > best :\n",
    "                    best = scores[i+1][j]\n",
    "                    ind_i = i + 1\n",
    "                    ind_j = j \n",
    "            if j < boardsize - 1:\n",
    "                if scores[i][j+1] > best :\n",
    "                    best = scores[i][j+1]\n",
    "                    ind_i = i \n",
    "                    ind_j = j + 1\n",
    "            if i < boardsize - 1 and j >= 0:\n",
    "                if scores[i+1][j-1] > best :\n",
    "                    best = scores[i+1][j-1]\n",
    "                    ind_i = i + 1\n",
    "                    ind_j = j - 1\n",
    "            if i >= 0 and j < boardsize - 1:\n",
    "                if scores[i-1][j+1] > best :\n",
    "                    best = scores[i-1][j+1]\n",
    "                    ind_i = i - 1\n",
    "                    ind_j = j + 1\n",
    "\n",
    "                    \n",
    "            # new cooperator\n",
    "            if (strategies[i][j] > 1) and (strategies[ind_i][ind_j] < 2):\n",
    "                new_strategies[i][j] = 1\n",
    "            # new defector\n",
    "            if (strategies[i][j] < 2) and (strategies[ind_i][ind_j] > 1):\n",
    "                new_strategies[i][j] = 3\n",
    "            else : \n",
    "                new_strategies[i][j] = strategies[ind_i][ind_j]\n",
    "    return new_strategies\n",
    "            \n",
    "\n",
    "def getScore(strategies, i, j, k, l):\n",
    "    s1 = strategies[i][j]\n",
    "    s2 = strategies[k][l]\n",
    "    res = binarize(s1) * 2 + binarize(s2)\n",
    "    if res == 0:# CC \n",
    "        return 1\n",
    "    elif res == 1 :# CD \n",
    "        return 0\n",
    "    elif res == 2:# DC \n",
    "        return 1.9\n",
    "    else :  # DD \n",
    "        return 0\n",
    "    \n",
    "def binarize(strategy):\n",
    "    if strategy < 2:\n",
    "        return strategy\n",
    "    else :\n",
    "        return strategy - 2\n",
    "\n",
    "\n",
    "# def update_board(my_board):\n",
    "#     strategies = np.copy(update_strategies())\n",
    "#     print(strategies)\n",
    "#     my_board = np.copy(strategies_to_board(strategies))\n",
    "#     print(my_board)\n",
    "#     return my_board\n",
    "\n",
    "\n",
    "\n",
    "\n",
    "# Initialize the board\n",
    "strategies = init_strategies()\n",
    "print(strategies)\n",
    "strategies = np.copy(update_strategies())\n",
    "print(strategies)\n",
    "# my_board = strategies_to_board(strategies)\n",
    "\n",
    "##### Animate the board #####\n",
    "# This will throw an error the first time you run the code, but the program will run properly if you\n",
    "# execute the cell again (there is an error with the animation package that I cannot seem to get rid of)\n",
    "\n",
    "# # Required line for plotting the animation\n",
    "# %matplotlib notebook\n",
    "# # Initialize the plot of the board that will be used for animation\n",
    "# fig = plt.gcf()\n",
    "# # Show first image - which is the initial board\n",
    "# im = plt.imshow(my_board)\n",
    "# plt.show()\n",
    "\n",
    "\n",
    "# # Helper function that updates the board and returns a new image of\n",
    "# # the updated board animate is the function that FuncAnimation calls\n",
    "# def animate(frame):\n",
    "#     im.set_data(update_board(my_board))\n",
    "#     return im,\n",
    "\n",
    "# # This line creates the animation\n",
    "# anim = animation.FuncAnimation(fig, animate, interval=50)"
   ]
  },
  {
   "cell_type": "markdown",
   "metadata": {},
   "source": [
    "## Bibliographie\n",
    "- Evolutionary games and spatial chaos, Martin A. Nowak & Robert M. May "
   ]
  }
 ],
 "metadata": {
  "kernelspec": {
   "display_name": "Python 3",
   "language": "python",
   "name": "python3"
  },
  "language_info": {
   "codemirror_mode": {
    "name": "ipython",
    "version": 3
   },
   "file_extension": ".py",
   "mimetype": "text/x-python",
   "name": "python",
   "nbconvert_exporter": "python",
   "pygments_lexer": "ipython3",
   "version": "3.7.5"
  }
 },
 "nbformat": 4,
 "nbformat_minor": 2
}
