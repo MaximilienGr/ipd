{
 "cells": [
  {
   "cell_type": "code",
   "execution_count": null,
   "metadata": {},
   "outputs": [],
   "source": [
    "%run ../src/game.py\n",
    "%run ../src/ipd.py\n",
    "%run ../src/strategies.py\n",
    "%run ../src/tools.py\n",
    "dip =[(3,3),(0,5),(5,0),(1,1)]   # Dilemme du prisonnier\n"
   ]
  },
  {
   "cell_type": "markdown",
   "metadata": {},
   "source": [
    "## Tests d'équivalence de stratégies\n",
    "\n",
    "Les ensembles de stratégies que nous traitons sont parfois redondants : il contiennent les mêmes stratégies écrites de différentes manières. Il semble donc interessant de pouvoir simplifier des ensembles de stratégies en suprimant les doublons qu'ils peuvent contenir. \n",
    "Malheureusement, chacun le sait depuis Turing, l'équivalence de deux programmes est indécidable. Il n'y a donc pas de test parfait. Il est néanmoins possible de fournir des outils permettant d'avancer dans ce problème de simplification.\n"
   ]
  },
  {
   "cell_type": "markdown",
   "metadata": {},
   "source": [
    "Pour savoir si deux stratégies sont différentes, il suffit de les faire jouer contre une stratégie de référence et s'assurer qu'elles jouent différemment face à cet adversaire. Evidemment selon la complexité de cette stratégie de référence, le test est plus ou moins efficace. Si les stratégies jouent la même chose, cela ne fournit néanmoins pas une preuve de leur équivalence. L'équivalence est semi-décidable : si les stratégies jouent différemment il est sûr qu'elles sont différentes, mais si elles jouent de manière identique, c'est peut-etre que la stratégie de référence n'a pas sû révéler leur différence de comportement.\n",
    "La fonction `testEquivUnit` réalise ce test. On lui passe un couple de stratégies à tester et une stratégie de référence `opponent`, et elle compare ces deux stratégies durant `length` tours d'un meeting. Elle renvoie un booléen : équivalent (avec doute) ou pas."
   ]
  },
  {
   "cell_type": "code",
   "execution_count": null,
   "metadata": {},
   "outputs": [],
   "source": [
    "def testEquivUnit(strategies, opponent, length):\n",
    "    sA,sB = strategies\n",
    "    rounds1 = []\n",
    "    rounds2  = []\n",
    "    m1 = Meeting(g, sA, opponent, length)\n",
    "    m1.run()\n",
    "    m2 = Meeting(g, sB, opponent, length)\n",
    "    m2.run()\n",
    "    if m1.s1_score == m2.s1_score :\n",
    "        if m1.s1_rounds == m2.s1_rounds :\n",
    "            return True\n",
    "    return False\n",
    "\n",
    "print(testEquivUnit((Tft(), Spiteful())  , Periodic(\"CCDCD\"), 100))\n",
    "print(testEquivUnit((Tft(), Mem(0,1,\"cCD\")),  Periodic(\"CCDCD\"), 100))\n",
    "\n"
   ]
  },
  {
   "cell_type": "markdown",
   "metadata": {},
   "source": [
    "## Exercice 1\n",
    "\n",
    "Deux stratégies peuvent bien évidemment obtenir le même score face à un adversaire commun,tout en ayant joué des coups différents. Pouvez vous identifier un tel cas ? On pourra utiliser le package `itertools` et sa méthode `permutations` qui permet facilement de prendre 3 stratégies parmi n"
   ]
  },
  {
   "cell_type": "code",
   "execution_count": null,
   "metadata": {},
   "outputs": [],
   "source": [
    "def test2(strategies, opponent, length):\n",
    "    sA,sB = strategies\n",
    "    rounds1 = []\n",
    "    rounds2  = []\n",
    "    m1 = Meeting(g, sA, opponent, length)\n",
    "    m1.run()\n",
    "    m2 = Meeting(g, sB, opponent, length)\n",
    "    m2.run()\n",
    "    if m1.s1_score == m2.s1_score :\n",
    "        if m1.s1_rounds != m2.s1_rounds :  # THE TEST HAS CHANGED COMPARED TO testEquivUnit\n",
    "            return True\n",
    "    return False\n",
    "\n",
    "\n",
    "bag = getMem(1,0)\n",
    "bags = itertools.permutations(bag, 3)\n",
    "for b in bags : \n",
    "    if test2((b[0], b[1]), b[2], 10):\n",
    "        print(b[0].name + \" and \"+b[1].name+\" produce the same score but don't play the same rounds against : \"+b[2].name)            \n",
    "        break\n",
    "\n",
    "        \n",
    "        \n",
    "#sA = Mem(1,1,\"CCCCC\")\n",
    "#sB = Mem(1,1,\"CCDDC\")\n",
    "#opponent = Mem(1,1,\"DCDCC\")\n",
    "#m = Meeting(g,sA,opponent,10)\n",
    "#m.run()\n",
    "#print(m.s1.name + \"\\t\" + ' '.join(map(str, m.s1_rounds)) + \" \" + str(m.s1_score))\n",
    "#print(m.s2.name + \"\\t\" + ' '.join(map(str, m.s2_rounds)) + \" \" + str(m.s2_score))\n",
    "#print()\n",
    "#m = Meeting(g,sB,opponent,10)\n",
    "#m.run()\n",
    "#print(m.s1.name + \"\\t\" + ' '.join(map(str, m.s1_rounds)) + \" \" + str(m.s1_score))\n",
    "#print(m.s2.name + \"\\t\" + ' '.join(map(str, m.s2_rounds)) + \" \" + str(m.s2_score))"
   ]
  },
  {
   "cell_type": "markdown",
   "metadata": {},
   "source": [
    "Le choix de la stratégie de référence est capital. Si elle est trop \"faible\", elle ne permet pas aux deux stratégies comparées de se \"révéler\" et indique alors qu'elles sont équivalentes alors qu'elles ne le sont pas, comme ci-dessous : `Tft` et `Spiteful` sont clairement différentes, et pourtant, face  `All_C` elles ont le même comportement.\n"
   ]
  },
  {
   "cell_type": "code",
   "execution_count": null,
   "metadata": {},
   "outputs": [],
   "source": [
    "testEquivUnit((Tft(), Spiteful()), Periodic('C'), 100)"
   ]
  },
  {
   "cell_type": "markdown",
   "metadata": {},
   "source": [
    "Un test plus robuste pourrait être de les faire jouer contre `Periodic('CCD')`. Cette dernière permet à Tft et Spiteful de révéler leeur véritable comportement. On a cette fois ci la preuve que ces deux stratégies ne sont pas équivalentes."
   ]
  },
  {
   "cell_type": "code",
   "execution_count": null,
   "metadata": {},
   "outputs": [],
   "source": [
    "testEquivUnit((Tft(), Spiteful()), Periodic('CD'), 100)"
   ]
  },
  {
   "cell_type": "markdown",
   "metadata": {},
   "source": [
    "Afin d'améliorer cette comparaison de deux stratégies, il est préférable de les comparer non pas à une seule stratégie de référence, mais à un ensemble de stratégies de référence. On compare nos deux stratégies contre chaque élément de cet ensemble, ce qui constitue un test surement plus robuste. Bien évidemment dès que l'une de celles-ci indique une différence entre deux 2 stratégies, le test peut s'arrêter.\n",
    "La fonction `testEquivMultiple` fonctionne comme précédemment, mais cette fois en cherchant à trouver une différence de comportement grâce à une liste d'opposants. Comme précédemmnt elle renvoie un booléen : équivalent (avec doute) ou pas."
   ]
  },
  {
   "cell_type": "code",
   "execution_count": null,
   "metadata": {},
   "outputs": [],
   "source": [
    "def testEquivMultiple(strategies, opponents, length):\n",
    "    for opponent in opponents : \n",
    "        equiv = testEquivUnit(strategies, opponent, length)\n",
    "        if equiv == False :\n",
    "            return False\n",
    "    return True\n",
    "\n",
    "testEquivMultiple((Tft(), Spiteful()),[Periodic('CDCCDDC'), Periodic('DDCDCDD')], 10)"
   ]
  },
  {
   "cell_type": "markdown",
   "metadata": {},
   "source": [
    "Pour simplifier un ensemble de stratégies, il suffit maintenant d'effectuer le test précédent sur tous les couples possibles. Les stratégies identifiées comme potentiellement équivalentes sont alors regroupées.\n",
    "la fonction `classesEquiv(l, opponents, length)` effectue ce test sur l'ensemble `l`. Elle renvoie dans un dictionnaire les classes d'équivalence identifiées.\n",
    "Par exemple si on a strat1 équivalente à strat2 ainsi que strat3 qui elle n'a pas d'équivalente, la fonction va renvoyer un dictionnaire : `{strat1 : [strat2] , strat3 : []}`\n",
    "\n",
    "L'ensemble des clés de ce dictionnaire constitue l'ensemble de stratégies simplifié, et chaque entrée du dictionnaire correspond à un ensemble de stratégies équivalentes. Les génomes étants parfaitement symétriques, le nombre de stratégies équivalentes est toujours une puissance de 2 (0, 2, 4, 8, 16 ...)"
   ]
  },
  {
   "cell_type": "code",
   "execution_count": null,
   "metadata": {},
   "outputs": [],
   "source": [
    "def classesEquiv(l, opponents, length):\n",
    "    m = dict()\n",
    "    while len(l) > 0 :\n",
    "        m[l[0]] = []\n",
    "        ind = [0]\n",
    "        for j in range(len(l[1:])):\n",
    "            if testEquivMultiple([l[0], l[j + 1]], opponents, length):\n",
    "                m[l[0]] += [l[j + 1]]\n",
    "                ind += [j + 1]\n",
    "        ltmp = []\n",
    "        for i in range(len(l)):\n",
    "            if i not in ind :\n",
    "                ltmp += [l[i]]\n",
    "        l = ltmp\n",
    "    return m\n",
    "\n",
    "\n",
    "# This function allows you to display the names of the strategies instead of the instance number.\n",
    "def printDict(ce):\n",
    "    for key in ce.keys() :\n",
    "        if len(ce[key]) > 0:\n",
    "            print(\"\\n\" + key.name + \" : \" , end =\" \" )\n",
    "        else :\n",
    "            print(\"\\n\"+ key.name + \": []\"  , end =\" \")\n",
    "        for value in ce[key]:\n",
    "            print(value.name , end =\" \")\n",
    "    print(\" \")\n",
    "    \n",
    "    \n",
    "L = [Tft(), Spiteful(), Mem(0,1,\"cCD\"),  Mem(1,1,\"cCDDD\"), Periodic(\"CDC\") ]\n",
    "ce = classesEquiv(L, [Periodic('CDCCDDC'), Periodic('DDCDCDD')], 10)\n",
    "printDict(ce)\n",
    "print(\"Simplified set size : \" + str(len(ce.keys())))"
   ]
  },
  {
   "cell_type": "markdown",
   "metadata": {},
   "source": [
    "On rappelle que la qualité de cette simplification dépend très fortement de la qualité de la liste de référence. On le constate aisément en tentant de simplifier `mem(1,2)` face à une liste de plus en plus grande de stratégies de référence.\n"
   ]
  },
  {
   "cell_type": "code",
   "execution_count": null,
   "metadata": {},
   "outputs": [],
   "source": [
    "# Mem(1,2) contains 1024 strategies\n",
    "\n",
    "# Without any opponent, they are all considered equivalent.\n",
    "ce = classesEquiv(getMem(1,2), [], 10)\n",
    "print(len(ce.keys()))\n",
    "\n",
    "# Comparing with simply ALL_C , only 9 different strategies are available\n",
    "ce = classesEquiv(getMem(1,2), [Periodic('C')], 10)\n",
    "print(len(ce.keys()))\n",
    "\n",
    "# We're gradually strengthening the test\n",
    "ce = classesEquiv(getMem(1,2), [Periodic('C'), Periodic('CDCCDDC'), Periodic('DDCDCDD')], 10)\n",
    "print(len(ce.keys()))\n",
    "\n",
    "ce = classesEquiv(getMem(1,2), [Periodic('C'), Periodic('CDCCDDC'), Periodic('DDCDCDD'),Gradual()], 10)\n",
    "print(len(ce.keys()))\n",
    "\n",
    "# So? How large is this simplified set really?\n"
   ]
  },
  {
   "cell_type": "markdown",
   "metadata": {},
   "source": [
    "On peut encore renforcer le test en commençant par faire jouer toutes les stratégies de l'ensemble à tester entre elles. Bien évidemment si des stratégies sont identiques, elles doivent avoir le même score dans ce tournoi. On peut donc se contenter de tester les équivalences sur les ensembles de stratégies qui obtiennent en Tournoi un score identique. Rajouter cette équivalence des scores renforce encore un peu plus notre test.\n",
    "Bien évidemment ceci se fait au détriment du temps de calcul.\n",
    "La fonction `simplify` effectue ce travail. Elle fonctionne comme précédemment mais démarre par un tournoi afin d'identifier les paquets de stratégies ayant le même score. On concatène ensuite chacun des dictionnaires"
   ]
  },
  {
   "cell_type": "code",
   "execution_count": null,
   "metadata": {
    "scrolled": true
   },
   "outputs": [],
   "source": [
    "def simplify(l, opponents, length):\n",
    "    scores = dict()\n",
    "    t = Tournament(g, opponents + l, length)\n",
    "    t.run()\n",
    "    res = t.matrix['Total']\n",
    "    for strat in l : \n",
    "        score = res[strat.name]\n",
    "        if score not in scores :\n",
    "            scores[score] = [strat]\n",
    "        else : \n",
    "            scores[score] += [strat]\n",
    "    \n",
    "    d = dict()\n",
    "    for item in scores.values():\n",
    "        # if more than one strategy has the same score, test classesEquiv\n",
    "        if len(item) > 1 :\n",
    "            res = classesEquiv(item, opponents, length)\n",
    "            for it in res.keys():\n",
    "                d[it] = res[it]\n",
    "        else : \n",
    "            d[item[0]] = []\n",
    "    return d\n",
    "\n",
    "        \n",
    "    \n",
    "        \n",
    "strats = simplify(getMem(1,2) , [Periodic('C'), Periodic('CDCCDDC'), Periodic('DDCDCDD'),Gradual()], 10)\n",
    "print(\"Simplified set size : \" + str(len(strats)))\n",
    "\n",
    "# # RECORD BROKEN! 820... but this test remains undecidable, it is nevertheless subject to a doubt... \n",
    "        \n",
    "# printDict(strats)  "
   ]
  },
  {
   "cell_type": "markdown",
   "metadata": {},
   "source": [
    "### Tableau de synthèse\n",
    "\n",
    "Etant donnée une base de comparaison, réaliser un tableau contenant pour chacune des classes de Memory classiques, la synthèse des tailles obtenues après simplication via ClassesEquiv et via Simplify "
   ]
  },
  {
   "cell_type": "code",
   "execution_count": null,
   "metadata": {
    "scrolled": true
   },
   "outputs": [],
   "source": [
    "base  = [Periodic('CDCCDDC'), Periodic('DDCDCDD'),Gradual()]\n",
    "\n",
    "Mem01 = getMem(0,1)\n",
    "Mem10 = getMem(1,0)\n",
    "Mem11 = getMem(1,1)\n",
    "Mem12 = getMem(1,2)\n",
    "Mem21 = getMem(2,1)\n",
    "\n",
    "ce01 = classesEquiv(Mem01, base, 10)\n",
    "ce10 = classesEquiv(Mem10, base, 10)\n",
    "ce11 = classesEquiv(Mem11, base, 10)\n",
    "ce12 = classesEquiv(Mem12, base, 10)\n",
    "ce21 = classesEquiv(Mem21, base, 10)\n",
    "\n",
    "simp01 = simplify(Mem01, base, 10)\n",
    "simp10 = simplify(Mem10, base, 10)\n",
    "simp11 = simplify(Mem11, base, 10)\n",
    "simp12 = simplify(Mem12, base, 10)\n",
    "simp21 = simplify(Mem21, base, 10)\n",
    "\n",
    "# idem avec simplify\n",
    "\n",
    "tab = pd.DataFrame(\n",
    "        np.nan, [\"Mem 0 1\",\"Mem 1 0\",\"Mem 1 1\", \"Mem 1 2\", \"Mem 2 1\"], [\"All strategies\", \"After classesEquiv\",\"After simplify\"]\n",
    "    )\n",
    "tab.at[\"Mem 0 1\", \"All strategies\" ] = len(Mem01)\n",
    "tab.at[\"Mem 1 0\", \"All strategies\" ] = len(Mem10)\n",
    "tab.at[\"Mem 1 1\", \"All strategies\" ] = len(Mem11)\n",
    "tab.at[\"Mem 1 2\", \"All strategies\" ] = len(Mem12)\n",
    "tab.at[\"Mem 2 1\", \"All strategies\" ] = len(Mem21)\n",
    "tab.at[\"Mem 0 1\", \"After classesEquiv\" ] = len(ce01.keys())\n",
    "tab.at[\"Mem 1 0\", \"After classesEquiv\" ] = len(ce10.keys())\n",
    "tab.at[\"Mem 1 1\", \"After classesEquiv\" ] = len(ce11.keys())\n",
    "tab.at[\"Mem 1 2\", \"After classesEquiv\" ] = len(ce12.keys())\n",
    "tab.at[\"Mem 2 1\", \"After classesEquiv\" ] = len(ce21.keys())\n",
    "tab.at[\"Mem 0 1\", \"After simplify\" ] = len(simp01.keys())\n",
    "tab.at[\"Mem 1 0\", \"After simplify\" ] = len(simp10.keys())\n",
    "tab.at[\"Mem 1 1\", \"After simplify\" ] = len(simp11.keys())\n",
    "tab.at[\"Mem 1 2\", \"After simplify\" ] = len(simp12.keys())\n",
    "tab.at[\"Mem 2 1\", \"After simplify\" ] = len(simp21.keys())\n",
    "tab"
   ]
  },
  {
   "cell_type": "markdown",
   "metadata": {},
   "source": [
    "## Améliorer l'affichage des stratégies\n",
    "\n",
    "Les classes d'équivalence permettent de mettre en évidence des ensembles de stratégies qui jouent de manière identique. Par construction, ces stratégies identiques ont une partie de leur génotype en commun.\n",
    "Il est alors interessant d'afficher les ensembles de stratégies équivalentes par une seule et même représentation en remplaçant les coups qui ne sont pas impactant par des *\n",
    "On passe à cette méthode un ensemble de stratégies idétifiées comme équivalentes, la méthode fusionne ces noms pour fournir une notation avec *. Attention : cette méthode ne vérifie pas l'équivalence, elle ne s'occupe que de la notation"
   ]
  },
  {
   "cell_type": "code",
   "execution_count": null,
   "metadata": {},
   "outputs": [],
   "source": [
    "def computeStar(strategies):\n",
    "    l = math.log2(len(strategies))\n",
    "    assert l == int(l)\n",
    "    ind_stars = []\n",
    "    len_genome = len(strategies[0].genome)\n",
    "    for i in range(len_genome):\n",
    "        letter = strategies[0].genome[i]\n",
    "        for j in range(1, len(strategies)):\n",
    "            if letter != strategies[j].genome[i]:\n",
    "                ind_stars += [i]\n",
    "                break\n",
    "    assert len(ind_stars) == l\n",
    "    new_genome = \"\"\n",
    "    for i in range(len_genome):\n",
    "        if i not in ind_stars:\n",
    "            new_genome += strategies[0].genome[i]\n",
    "        else :\n",
    "            new_genome += \"*\"\n",
    "    #print(new_genome)\n",
    "    return new_genome\n",
    "            \n",
    "print(computeStar([Mem(1,1,\"CDCD\"),Mem(1,1,\"CDCC\")]))\n",
    "print(computeStar([Mem(1,2,\"CDCDCDDDCC\"),Mem(1,2,\"CDCDDDDDCC\"),Mem(1,2,\"CDDDCDDDCC\"),Mem(1,2,\"CDDDDDDDCC\")]))\n",
    "      "
   ]
  },
  {
   "cell_type": "markdown",
   "metadata": {},
   "source": [
    "## Comparer une classe complète et sa classe simplifiée\n",
    "\n",
    "Nous avons maintenant tous les outils permettant, non seulement de simplifier une classe, de rejouter cette classe simplifier, et de comparer les résultats.\n",
    "Prenons l'exemple des Mem(1,1). Cette classe contient 32 stratégies. Une fois simplifiée il en reste 26. On constate que les deux compétitions écologiques donnent les mêmes 4 premiers. On note que dans la classe simplifiée les All_C survivent, alors qu'elles disparaissent dans la classe complète."
   ]
  },
  {
   "cell_type": "code",
   "execution_count": null,
   "metadata": {},
   "outputs": [],
   "source": [
    "mem11 = getMem(1,1)\n",
    "simpl = simplify(mem11, [Periodic('CDCCDDC'), Periodic('DDCDCDD')], 10)\n",
    "print(len(simpl))\n",
    "\n",
    "bag = []\n",
    "for key in simpl.keys():\n",
    "    if len(simpl[key]) > 0:\n",
    "        name = computeStar([key]+simpl[key])\n",
    "        bag += [key.clone(name)]\n",
    "    else :\n",
    "        bag += [key]\n",
    "\n",
    "e1 = Ecological(g, mem11)\n",
    "e1.run()\n",
    "\n",
    "evol=e1.historic\n",
    "nbSurvivors = len(evol.iloc[-1][evol.iloc[-1]>0])\n",
    "e1.drawPlot(None,nbSurvivors)\n",
    "\n",
    "\n",
    "e2 = Ecological(g, bag)\n",
    "e2.run()\n",
    "\n",
    "evol=e2.historic\n",
    "nbSurvivors = len(evol.iloc[-1][evol.iloc[-1]>0])\n",
    "e2.drawPlot(None,None)\n",
    "\n",
    "\n",
    "# On constate qu'avec mem(1,1) on passe de 32 stratégies à 26 stratégies\n",
    "# On constate aussi que la compétition des simplifiées donne le même classement excepté \n",
    "# le fait que ALL_C survit dans la version simplifiée"
   ]
  },
  {
   "cell_type": "markdown",
   "metadata": {},
   "source": [
    "# Une approche incrémentale\n",
    "\n",
    "Pour savoir si une stratégie peut être notée avec des étoiles, il faut savoir si elle utilise tous les éléments de son code. Si ce n'est pas le cas on repère ces éléments et on les remplace par des étoiles. Une étoile indique que ce gène peut être remplacé par n'importe quelle valeur puisqu'il ne sert pas.\n",
    "La fonction `getGenericName` prend pour agrument un génotype de stratégie de type Memory et qui renvoie ce génotype éventuellement réécrit avec des *\n",
    "L'idée générale de l'algorithme utilisé consiste à construire peu à peu la liste de tous les passés possibles, et donc, de mettre des étoiles pour les passés qui n'apparaissent pas dans cette liste."
   ]
  },
  {
   "cell_type": "code",
   "execution_count": null,
   "metadata": {},
   "outputs": [],
   "source": [
    "def getGenericName(X,Y,genotype):\n",
    "    me = genotype[max(X,Y)-1].upper()\n",
    "    #print(me)\n",
    "    opponent=\"\"\n",
    "    L = [x for x in itertools.product(['C', 'D'],repeat=Y)]\n",
    "    L = [list(elem) for elem in L]\n",
    "    #print(L)\n",
    "    \n",
    "    L1 = [x for x in itertools.product(['C', 'D'],repeat=X+Y)]\n",
    "    L1 = [list(elem) for elem in L1]\n",
    "    \n",
    "    possiblePast = []\n",
    "    for elem in L :\n",
    "        possiblePast += [[me]+elem] \n",
    "    #print(possiblePast)\n",
    "    lenpossiblePast = len(possiblePast)\n",
    "    for i in range(lenpossiblePast):\n",
    "        past = possiblePast[i][2]\n",
    "        a = genotype[L1.index(possiblePast[i])+max(X,Y)].upper()\n",
    "        past1 = [a, past, 'C']\n",
    "        past2 = [a, past, 'D']\n",
    "        if past1 not in possiblePast :\n",
    "            possiblePast += [past1]\n",
    "        if past2 not in possiblePast :\n",
    "            possiblePast += [past2]\n",
    "   \n",
    "    #print(possiblePast)\n",
    "    \n",
    "    \n",
    "    ind=[]\n",
    "    for i in range(len(L1)):\n",
    "        if L1[i] not in possiblePast:\n",
    "            ind += [i]\n",
    "    \n",
    "    genotypeStar = genotype[0 : max(X,Y)]\n",
    "    for i in range(len(L1)):\n",
    "        if i not in ind : \n",
    "            genotypeStar += genotype[max(X,Y) + i]\n",
    "        else :\n",
    "            genotypeStar += \"*\"\n",
    "    \n",
    "    return genotypeStar\n",
    "\n",
    "\n",
    "print(getGenericName(1,2,\"ccCCDDCCDD\"))\n",
    "# ccCCDDCCDD\n",
    "\n",
    "print(getGenericName(1,2,\"ccCCCCCCCC\"))\n",
    "# ccCCCC****\n"
   ]
  },
  {
   "cell_type": "markdown",
   "metadata": {},
   "source": [
    "Ce résultat est important : il montre que, bien que la comparaison de 2 programmes soit indécidable dans le cas général, elle est néamoins décidable dans le cas des `Mem(X,Y)`.\n",
    "\n",
    "Il reste maintenant à utiliser cette fonction pour simplifier un ensemble de stratégies : on prend l'ensemble de tous les noms possibles, on parcourt la liste nom par nom, on remplace chaque nom par son nom générique et on enlève de la liste tous ses semblables. On note qu'aucun tournoi ni aucune rencontre n'est nécessaire pour simplifier une classe !"
   ]
  },
  {
   "cell_type": "markdown",
   "metadata": {},
   "source": [
    "## Verification\n",
    "Afin de vérifier le bon fonctionnement de nos différents algorithmes, nous avons tous les outils pour comparer le résultat obtenu avec l'approche exacte (`getGenericName`) et le résultat obtenu par l'équivalence approximative(`simplify` ou `classesEquiv` ,suivi de `computeStar`).\n",
    "Pour cela on prend une classe (Mem(1,2) par exemple), on calcule ensuite ses classes d'équivalence. Pour chaque classe non vide, on vérifie que getGenericName sur la clé correspond bien à l'ensemble des stratégies de cette classe d'équivalence (en nombre en comptant les étoiles, ou en qualité en appliquant `computeStar` à l'ensemble de la classe)."
   ]
  },
  {
   "cell_type": "code",
   "execution_count": null,
   "metadata": {},
   "outputs": [],
   "source": []
  },
  {
   "cell_type": "markdown",
   "metadata": {},
   "source": [
    "## Simplification d'un ensemble par la méthode exacte"
   ]
  },
  {
   "cell_type": "code",
   "execution_count": null,
   "metadata": {},
   "outputs": [],
   "source": [
    "def simplifyExact(bag, X, Y):\n",
    "    res = set()\n",
    "    simplified = []\n",
    "    for strat in bag : \n",
    "        gName = getGenericName(X,Y,strat.genome)\n",
    "        if gName not in res:\n",
    "            res.add(gName)\n",
    "            simplified += [strat]\n",
    "    return simplified"
   ]
  },
  {
   "cell_type": "code",
   "execution_count": null,
   "metadata": {},
   "outputs": [],
   "source": [
    "simplified = simplifyExact(getMem(1,2),1 ,2)\n",
    "print(\"Lenght of bag simplified : {}\".format(len(simplified)))"
   ]
  },
  {
   "cell_type": "markdown",
   "metadata": {},
   "source": [
    "METTRE UN TITRE ICI"
   ]
  },
  {
   "cell_type": "code",
   "execution_count": null,
   "metadata": {},
   "outputs": [],
   "source": [
    "def trie_Mem1(strategies):\n",
    "    strategies.sort(key=lambda x: x.genome)\n",
    "    return strategies\n",
    "\n",
    "def trie_Mem2(strategies):\n",
    "    strategies.sort(key=lambda x: x.genome, reverse=True)\n",
    "    return strategies\n",
    "\n",
    "def trie_Mem3(strategies):\n",
    "    strategies.sort(key=lambda x: ''.join(reversed(x.genome)))\n",
    "    return strategies\n",
    "\n",
    "def trie_Mem4(strategies):\n",
    "    strategies.sort(key=lambda x: ''.join(reversed(x.genome)), reverse=True)\n",
    "    return strategies\n",
    "\n",
    "\n",
    "sortMem11 = trie_Mem4(getMem(1,1))\n"
   ]
  },
  {
   "cell_type": "code",
   "execution_count": null,
   "metadata": {},
   "outputs": [],
   "source": [
    "def rec_simplify(l, opponents, length, batchSize):\n",
    "    size = len(l)\n",
    "    strats = []\n",
    "    simplified = dict()\n",
    "    for i in range(int(size/batchSize)):\n",
    "        strats += l[i * batchSize : (i+1) * batchSize]\n",
    "        res = simplify(strats, opponents, length)\n",
    "        #print(\"len de res : {}\".format(len(res)))\n",
    "        print(\"{} strategies deleted\".format(len(strats) - len(res)))\n",
    "        for strat in res.keys() :\n",
    "            if strat not in simplified : \n",
    "                simplified[strat] = res[strat]\n",
    "            else : \n",
    "                simplified[strat] += res[strat]\n",
    "        strats = list(simplified.keys())\n",
    "        #print(\"len strats  : {}\".format(len(strats)))\n",
    "    #print(\"len strats final : {}\".format(len(strats)))\n",
    "    return simplified\n",
    "\n",
    "\n",
    "        \n",
    "# print(rec_simplify([Tft(), Spiteful(), Mem(0,1,\"cCD\"),  Mem(1,1,\"cCDDD\"), Periodic(\"CDC\"), Periodic('C') ], [Periodic('CCD'), Periodic('DDC')] , 10, 2))\n",
    "# print(\" \")\n",
    "# sortMem12 = trie_Mem(getMem(1,2))\n",
    "# rec_simplify(sortMem12, [Periodic('CCD'), Periodic('DDC')] , 10, 32)"
   ]
  },
  {
   "cell_type": "markdown",
   "metadata": {},
   "source": [
    "Petite vérification"
   ]
  },
  {
   "cell_type": "code",
   "execution_count": null,
   "metadata": {
    "scrolled": true
   },
   "outputs": [],
   "source": [
    "res_rec = rec_simplify(getMem(1,2), [Periodic('CCD'), Periodic('DDC')] , 10, 1024)\n",
    "res = simplify(getMem(1,2), [Periodic('CCD'), Periodic('DDC')], 10)\n",
    "print(len(res_rec) == len(res))"
   ]
  },
  {
   "cell_type": "code",
   "execution_count": null,
   "metadata": {},
   "outputs": [],
   "source": [
    "res_rec = rec_simplify(getMem(1,2), [Periodic('CCD'), Periodic('DDC')] , 10, 512)\n",
    "res = simplify(getMem(1,2), [Periodic('CCD'), Periodic('DDC')], 10)\n",
    "print(len(res_rec) == len(res))\n",
    "print(len(res_rec))\n",
    "print(len(res))"
   ]
  },
  {
   "cell_type": "markdown",
   "metadata": {},
   "source": [
    "# Des classes de stratégies\n",
    "\n",
    "Quand on regarde un ensemble de stratégie on constate qu'elle possèdent des caractéristiques générales qui permettent de les ranger en différentes classes. Les quatre sous-classes que nous considérons sont la classe des stratégies initialement coopératives IC (elle ne prend jamais l’initiative de trahir); la classe complémentaire à IC qui est celle des stratégies \"spontanément agressives\", SA (toute stratégie est donc soit IC soit SA); la classe des stratégies initialement agressives IA (elle ne prend jamais l’initiative de coopérer); la classe complémentaire à IA qui est celle des stratégies \"spontanément coopératives\" SC (toute stratégie est donc soit IA soit SC). On note que toute stratégie IA est SA et que toute strategie IC est SC."
   ]
  },
  {
   "cell_type": "code",
   "execution_count": null,
   "metadata": {},
   "outputs": [],
   "source": [
    "m = Meeting(g, Periodic('D'), Periodic('D'), 100)\n",
    "m.run()\n",
    "print(m.s1_score)"
   ]
  },
  {
   "cell_type": "code",
   "execution_count": null,
   "metadata": {},
   "outputs": [],
   "source": [
    "def getAgressivityClasses(bag):\n",
    "    aggressivity = {'IC':[], 'SC':[],'IA':[],'SA':[]}\n",
    "    for strat in bag : \n",
    "        m1 = Meeting(g, strat, Periodic('C'), 100)\n",
    "        m1.run()\n",
    "        m2 = Meeting(g, strat, Periodic('D'), 100)\n",
    "        m2.run()\n",
    "        if m1.s1_score == 300:\n",
    "             aggressivity['IC'] += [strat.name]\n",
    "        if m1.s1_score > 300:\n",
    "             aggressivity['SA'] += [strat.name]\n",
    "        if m2.s1_score == 100:\n",
    "             aggressivity['IA'] += [strat.name]\n",
    "        if m2.s1_score < 100:\n",
    "             aggressivity['SC'] += [strat.name]\n",
    "    return aggressivity\n",
    "        \n",
    "    \n",
    "print(getAgressivityClasses(getClassicals()))\n",
    "        \n",
    "        "
   ]
  },
  {
   "cell_type": "markdown",
   "metadata": {},
   "source": [
    "L'aggressivité des stratégies avant et après simplification"
   ]
  },
  {
   "cell_type": "code",
   "execution_count": null,
   "metadata": {},
   "outputs": [],
   "source": [
    "def createTab(bag):\n",
    "    agr = getAgressivityClasses(bag)\n",
    "    simplified = simplify(bag, [Periodic('CDCCDDC'), Periodic('DDCDCDD')], 10)\n",
    "    agrS = getAgressivityClasses(simplified)\n",
    "    tab = pd.DataFrame(\n",
    "            np.nan, [\"IC\",\"SC\",\"IA\", \"SA\"], [\"Before simplify\",\"After simplify\"]\n",
    "        )\n",
    "    for key in agr :\n",
    "        tab.at[key,\"Before simplify\" ] = len(agr[key])\n",
    "    for key in agrS :\n",
    "        tab.at[key, \"After simplify\"] = len(agrS[key])\n",
    "    return tab\n",
    "\n",
    "createTab(getMem(1,1))\n"
   ]
  },
  {
   "cell_type": "markdown",
   "metadata": {},
   "source": [
    "Maintenant, regardons avec Mem(1,2)"
   ]
  },
  {
   "cell_type": "code",
   "execution_count": null,
   "metadata": {},
   "outputs": [],
   "source": [
    "createTab(getMem(1,2))"
   ]
  },
  {
   "cell_type": "markdown",
   "metadata": {},
   "source": [
    "Quel est le classement moyen des stratégies de chaque classe ?"
   ]
  },
  {
   "cell_type": "code",
   "execution_count": null,
   "metadata": {},
   "outputs": [],
   "source": [
    "bag = getMem(1,1)\n",
    "compterEcolo(bag)\n",
    "getAgressivity(bag)\n",
    "print(\"moyenne des IC\")\n",
    "Comment on fait pour avoir moyenne des rangs et des scores de chaque classe ?"
   ]
  }
 ],
 "metadata": {
  "kernelspec": {
   "display_name": "Python 3",
   "language": "python",
   "name": "python3"
  },
  "language_info": {
   "codemirror_mode": {
    "name": "ipython",
    "version": 3
   },
   "file_extension": ".py",
   "mimetype": "text/x-python",
   "name": "python",
   "nbconvert_exporter": "python",
   "pygments_lexer": "ipython3",
   "version": "3.7.5"
  }
 },
 "nbformat": 4,
 "nbformat_minor": 2
}
