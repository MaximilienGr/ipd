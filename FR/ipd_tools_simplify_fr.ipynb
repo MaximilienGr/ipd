{
 "cells": [
  {
   "cell_type": "markdown",
   "metadata": {},
   "source": [
    "# Simplification d'ensembles de stratégies"
   ]
  },
  {
   "cell_type": "code",
   "execution_count": 1,
   "metadata": {},
   "outputs": [],
   "source": [
    "%run ../src/game.py\n",
    "%run ../src/ipd.py\n",
    "%run ../src/strategies.py\n",
    "%run ../src/tools.py\n",
    "dip =[(3,3),(0,5),(5,0),(1,1)]   # Dilemme du prisonnier\n"
   ]
  },
  {
   "cell_type": "markdown",
   "metadata": {},
   "source": [
    "Deux stratégies au dilemme itéré du prisonnier sont équivalentes si quelque soit l'adversaire et quelle que soit la durée de la partie, elles jouent les mêmes coups exactement. Les ensembles de stratégies que nous traitons sont donc parfois redondants : il contiennent les mêmes stratégies écrites de différentes manières. Il semble donc interessant de pouvoir simplifier des ensembles de stratégies en suprimant les doublons qu'ils peuvent contenir. \n",
    "Malheureusement, chacun le sait depuis Turing, l'équivalence de deux programmes est indécidable. Il n'y a donc pas de test parfait. Il est néanmoins possible de fournir des outils permettant d'avancer dans ce problème de simplification.\n"
   ]
  },
  {
   "cell_type": "markdown",
   "metadata": {},
   "source": [
    "## Tests approximatifs d'équivalences de stratégies\n",
    "\n",
    "Pour savoir si deux stratégies sont différentes, il suffit de les faire jouer contre une stratégie de référence et s'assurer qu'elles jouent différemment face à cet adversaire. Evidemment selon la complexité de cette stratégie de référence, le test est plus ou moins efficace. Si les stratégies jouent la même chose, cela ne fournit néanmoins pas une preuve de leur équivalence. L'équivalence est semi-décidable : si les stratégies jouent différemment il est sûr qu'elles sont différentes, mais si elles jouent de manière identique, c'est peut-etre que la stratégie de référence n'a pas sû révéler leur différence de comportement.\n",
    "La fonction `testEquivUnit` réalise ce test. On lui passe un couple de stratégies à tester et une stratégie de référence `opponent`, et elle compare ces deux stratégies durant `length` tours d'un meeting. Elle renvoie un booléen : équivalent (avec doute) ou pas."
   ]
  },
  {
   "cell_type": "code",
   "execution_count": 2,
   "metadata": {},
   "outputs": [
    {
     "name": "stdout",
     "output_type": "stream",
     "text": [
      "False\n",
      "True\n"
     ]
    }
   ],
   "source": [
    "def testEquivUnit(strategies, opponent, length):\n",
    "    sA,sB = strategies\n",
    "    rounds1 = []\n",
    "    rounds2  = []\n",
    "    m1 = Meeting(g, sA, opponent, length)\n",
    "    m1.run()\n",
    "    m2 = Meeting(g, sB, opponent, length)\n",
    "    m2.run()\n",
    "    if m1.s1_score == m2.s1_score :\n",
    "        if m1.s1_rounds == m2.s1_rounds :\n",
    "            return True\n",
    "    return False\n",
    "\n",
    "\n",
    "# example of use\n",
    "print(testEquivUnit((Tft(), Spiteful())  , Periodic(\"CCDCD\"), 100))\n",
    "print(testEquivUnit((Tft(), Mem(0,1,\"cCD\")),  Periodic(\"CCDCD\"), 100))"
   ]
  },
  {
   "cell_type": "markdown",
   "metadata": {},
   "source": [
    "Le choix de la stratégie de référence est capital. Si elle est trop \"faible\", elle ne permet pas aux deux stratégies comparées de se \"révéler\" et indique alors qu'elles sont équivalentes alors qu'elles ne le sont pas, comme ci-dessous : `Tft` et `Spiteful` sont clairement différentes, et pourtant, face  `All_C` elles ont le même comportement.\n"
   ]
  },
  {
   "cell_type": "code",
   "execution_count": 11,
   "metadata": {},
   "outputs": [
    {
     "data": {
      "text/plain": [
       "True"
      ]
     },
     "execution_count": 11,
     "metadata": {},
     "output_type": "execute_result"
    }
   ],
   "source": [
    "testEquivUnit((Tft(), Spiteful()), Periodic('C'), 100)"
   ]
  },
  {
   "cell_type": "markdown",
   "metadata": {},
   "source": [
    "Un test plus robuste pourrait consister à faire jouer ces deux stratégies contre `Periodic('CCD')`. Cette dernière permet à `Tft` et `Spiteful` de révéler leur véritable comportement. On a cette fois ci la preuve que ces deux stratégies ne sont pas équivalentes."
   ]
  },
  {
   "cell_type": "code",
   "execution_count": 12,
   "metadata": {},
   "outputs": [
    {
     "data": {
      "text/plain": [
       "False"
      ]
     },
     "execution_count": 12,
     "metadata": {},
     "output_type": "execute_result"
    }
   ],
   "source": [
    "testEquivUnit((Tft(), Spiteful()), Periodic('CD'), 100)"
   ]
  },
  {
   "cell_type": "markdown",
   "metadata": {},
   "source": [
    "### Exercice 1\n",
    "\n",
    "Deux stratégies peuvent bien évidemment obtenir le même score face à un adversaire commun, tout en ayant joué des coups différents. Pouvez vous identifier un tel cas ? On pourra utiliser le package `itertools` et sa méthode `permutations` qui permet facilement de prendre 3 stratégies parmi `n`"
   ]
  },
  {
   "cell_type": "code",
   "execution_count": 3,
   "metadata": {},
   "outputs": [
    {
     "name": "stdout",
     "output_type": "stream",
     "text": [
      "CDC and DDC produce the same score but don't play the same rounds against : CCC\n"
     ]
    }
   ],
   "source": [
    "def test2(strategies, opponent, length):\n",
    "    sA,sB = strategies\n",
    "    rounds1 = []\n",
    "    rounds2  = []\n",
    "    m1 = Meeting(g, sA, opponent, length)\n",
    "    m1.run()\n",
    "    m2 = Meeting(g, sB, opponent, length)\n",
    "    m2.run()\n",
    "    if m1.s1_score == m2.s1_score :\n",
    "        if m1.s1_rounds != m2.s1_rounds :  # THE TEST HAS CHANGED COMPARED TO testEquivUnit\n",
    "            return True\n",
    "    return False\n",
    "\n",
    "\n",
    "# example of use\n",
    "bag = getMem(1,0)\n",
    "bags = itertools.permutations(bag, 3)\n",
    "for b in bags : \n",
    "    if test2((b[0], b[1]), b[2], 10):\n",
    "        print(b[0].name + \" and \"+b[1].name+\" produce the same score but don't play the same rounds against : \"+b[2].name)            \n",
    "        break\n",
    "\n",
    "        \n",
    "        \n",
    "#sA = Mem(1,1,\"CCCCC\")\n",
    "#sB = Mem(1,1,\"CCDDC\")\n",
    "#opponent = Mem(1,1,\"DCDCC\")\n",
    "#m = Meeting(g,sA,opponent,10)\n",
    "#m.run()\n",
    "#print(m.s1.name + \"\\t\" + ' '.join(map(str, m.s1_rounds)) + \" \" + str(m.s1_score))\n",
    "#print(m.s2.name + \"\\t\" + ' '.join(map(str, m.s2_rounds)) + \" \" + str(m.s2_score))\n",
    "#print()\n",
    "#m = Meeting(g,sB,opponent,10)\n",
    "#m.run()\n",
    "#print(m.s1.name + \"\\t\" + ' '.join(map(str, m.s1_rounds)) + \" \" + str(m.s1_score))\n",
    "#print(m.s2.name + \"\\t\" + ' '.join(map(str, m.s2_rounds)) + \" \" + str(m.s2_score))"
   ]
  },
  {
   "cell_type": "markdown",
   "metadata": {},
   "source": [
    "Afin d'améliorer cette comparaison de deux stratégies, il est préférable de les comparer non pas à une seule stratégie de référence, mais à un ensemble de stratégies de référence. On compare nos deux stratégies contre chaque élément de cet ensemble, ce qui constitue un test surement plus robuste. Bien évidemment dès que l'une de celles-ci indique une différence entre deux 2 stratégies, le test peut s'arrêter.\n",
    "La fonction `testEquivMultiple` fonctionne comme précédemment, mais cette fois en cherchant à trouver une différence de comportement grâce à une liste d'opposants. Comme précédemment elle renvoie un booléen : équivalent (avec doute) ou pas."
   ]
  },
  {
   "cell_type": "code",
   "execution_count": 4,
   "metadata": {},
   "outputs": [
    {
     "data": {
      "text/plain": [
       "False"
      ]
     },
     "execution_count": 4,
     "metadata": {},
     "output_type": "execute_result"
    }
   ],
   "source": [
    "def testEquivMultiple(strategies, opponents, length):\n",
    "    for opponent in opponents : \n",
    "        equiv = testEquivUnit(strategies, opponent, length)\n",
    "        if equiv == False :\n",
    "            return False\n",
    "    return True\n",
    "\n",
    "# example of use\n",
    "testEquivMultiple((Tft(), Spiteful()),[Periodic('CDCCDDC'), Periodic('DDCDCDD')], 10)"
   ]
  },
  {
   "cell_type": "markdown",
   "metadata": {},
   "source": [
    "Pour simplifier un ensemble de stratégies, il suffit maintenant d'effectuer le test précédent sur tous les couples possibles. Les stratégies identifiées comme potentiellement équivalentes sont alors regroupées.\n",
    "la fonction `classesEquiv(l, opponents, length)` effectue ce test sur l'ensemble `l`. Elle renvoie dans un dictionnaire les classes d'équivalence identifiées.\n",
    "Par exemple si on a strat1 équivalente à strat2 ainsi que strat3 qui elle n'a pas d'équivalente, la fonction va renvoyer un dictionnaire : `{strat1 : [strat2] , strat3 : []}`\n",
    "\n",
    "L'ensemble des clés de ce dictionnaire constitue l'ensemble de stratégies simplifié, et chaque entrée du dictionnaire correspond à un ensemble de stratégies équivalentes. Pour des ensembles complets de stratégies `Mem(X,Y)`, pour des raisons de symétrie, le nombre de stratégies équivalentes à une stratégie fixée est toujours une puissance de 2 (0, 2, 4, 8, 16 ...)"
   ]
  },
  {
   "cell_type": "code",
   "execution_count": 5,
   "metadata": {},
   "outputs": [
    {
     "name": "stdout",
     "output_type": "stream",
     "text": [
      "\n",
      "tft :  cCD \n",
      "spiteful :  cCDDD \n",
      "per_CDC: []  \n",
      "Simplified set size : 3\n"
     ]
    }
   ],
   "source": [
    "def classesEquiv(l, opponents, length):\n",
    "    m = dict()\n",
    "    while len(l) > 0 :\n",
    "        m[l[0]] = []\n",
    "        ind = [0]\n",
    "        for j in range(len(l[1:])):\n",
    "            if testEquivMultiple([l[0], l[j + 1]], opponents, length):\n",
    "                m[l[0]] += [l[j + 1]]\n",
    "                ind += [j + 1]\n",
    "        ltmp = []\n",
    "        for i in range(len(l)):\n",
    "            if i not in ind :\n",
    "                ltmp += [l[i]]\n",
    "        l = ltmp\n",
    "    return m\n",
    "\n",
    "\n",
    "# This function allows you to display the names of the strategies instead of the instance number.\n",
    "def printDict(ce):\n",
    "    for key in ce.keys() :\n",
    "        if len(ce[key]) > 0:\n",
    "            print(\"\\n\" + key.name + \" : \" , end =\" \" )\n",
    "        else :\n",
    "            print(\"\\n\"+ key.name + \": []\"  , end =\" \")\n",
    "        for value in ce[key]:\n",
    "            print(value.name , end =\" \")\n",
    "    print(\" \")\n",
    "    \n",
    "\n",
    "# example of use\n",
    "L = [Tft(), Spiteful(), Mem(0,1,\"cCD\"),  Mem(1,1,\"cCDDD\"), Periodic(\"CDC\") ]\n",
    "ce = classesEquiv(L, [Periodic('CDCCDDC'), Periodic('DDCDCDD')], 10)\n",
    "printDict(ce)\n",
    "print(\"Simplified set size : \" + str(len(ce.keys())))"
   ]
  },
  {
   "cell_type": "markdown",
   "metadata": {},
   "source": [
    "On rappelle que la qualité de cette simplification dépend très fortement de la qualité de la liste de référence. On le constate aisément en tentant de simplifier `mem(1,2)` face à une liste de plus en plus grande de stratégies de référence.\n"
   ]
  },
  {
   "cell_type": "code",
   "execution_count": 8,
   "metadata": {},
   "outputs": [
    {
     "name": "stdout",
     "output_type": "stream",
     "text": [
      "1\n",
      "12\n",
      "712\n",
      "728\n"
     ]
    }
   ],
   "source": [
    "# Mem(1,2) contains 1024 strategies\n",
    "\n",
    "# Without any opponent, they are all considered equivalent.\n",
    "ce = classesEquiv(getMem(1,2), [], 10)\n",
    "print(len(ce.keys()))\n",
    "\n",
    "# Comparing with simply ALL_C , only 9 different strategies are available\n",
    "ce = classesEquiv(getMem(1,2), [Periodic('C')], 10)\n",
    "print(len(ce.keys()))\n",
    "\n",
    "# We're gradually strengthening the test\n",
    "ce = classesEquiv(getMem(1,2), [Periodic('C'), Periodic('CDCCDDC'), Periodic('DDCDCDD')], 10)\n",
    "print(len(ce.keys()))\n",
    "\n",
    "ce = classesEquiv(getMem(1,2), [Periodic('C'), Periodic('CDCCDDC'), Periodic('DDCDCDD'),Gradual()], 10)\n",
    "print(len(ce.keys()))\n",
    "\n",
    "# So? How large is this simplified set really?\n"
   ]
  },
  {
   "cell_type": "markdown",
   "metadata": {},
   "source": [
    "On peut encore renforcer le test en commençant par faire jouer toutes les stratégies de l'ensemble à tester entre elles. Bien évidemment si des stratégies sont identiques, elles doivent avoir le même score dans ce tournoi. On peut donc se contenter de tester les équivalences sur les ensembles de stratégies qui obtiennent en tournoi un score identique. Rajouter cette équivalence des scores renforce encore un peu plus notre test.\n",
    "Bien évidemment ceci se fait au détriment du temps de calcul.\n",
    "La fonction `simplifyWIthTournament` effectue ce travail. Elle fonctionne comme précédemment mais démarre par un tournoi afin d'identifier les paquets de stratégies ayant le même score. On concatène ensuite chacun des dictionnaires"
   ]
  },
  {
   "cell_type": "code",
   "execution_count": 6,
   "metadata": {
    "scrolled": true
   },
   "outputs": [],
   "source": [
    "def simplifyWithTournament(l, opponents, length):\n",
    "    scores = dict()\n",
    "    t = Tournament(g, opponents + l, length)\n",
    "    t.run()\n",
    "    res = t.matrix['Total']\n",
    "    for strat in l : \n",
    "        score = res[strat.name]\n",
    "        if strat.name == \"CCDCDDDDDD\":\n",
    "            print(\"Score de CCDCDDDDDD : \" + str(score))\n",
    "        if score not in scores :\n",
    "            scores[score] = [strat]\n",
    "        else : \n",
    "            scores[score] += [strat]\n",
    "    \n",
    "    d = dict()\n",
    "    for item in scores.values():\n",
    "        # if more than one strategy has the same score, test classesEquiv\n",
    "        if len(item) > 1 :\n",
    "            res = classesEquiv(item, opponents, length)\n",
    "            for it in res.keys():\n",
    "                d[it] = res[it]\n",
    "        else : \n",
    "            d[item[0]] = []\n",
    "    return d\n",
    "\n",
    "        \n",
    "    \n",
    "# example of use        \n",
    "#strats = simplifyWithTournament(getMem(1,2) , [Periodic('C'), Periodic('CDCCDDC'), Periodic('DDCDCDD'),Gradual()], 10)\n",
    "#print(\"Simplified set size : \" + str(len(strats)))\n",
    "\n",
    "# # RECORD BROKEN! 820... but this test remains undecidable, it is nevertheless subject to a doubt... \n",
    "        \n",
    "# printDict(strats)  "
   ]
  },
  {
   "cell_type": "markdown",
   "metadata": {},
   "source": [
    "### Tableau de synthèse\n",
    "\n",
    "Etant donnée une base de comparaison, il est facile d'afficher un tableau contenant pour chacune des classes de Memory classiques, la synthèse des tailles obtenues après simplication via `ClassesEquiv` et via `SimplifyWithTournament` afin de voir la différence."
   ]
  },
  {
   "cell_type": "code",
   "execution_count": null,
   "metadata": {
    "scrolled": true
   },
   "outputs": [],
   "source": [
    "base  = [Periodic('CDCCDDC'), Periodic('DDCDCDD'),Gradual()]\n",
    "\n",
    "Mem01 = getMem(0,1)\n",
    "Mem10 = getMem(1,0)\n",
    "Mem11 = getMem(1,1)\n",
    "Mem12 = getMem(1,2)\n",
    "Mem21 = getMem(2,1)\n",
    "\n",
    "ce01 = classesEquiv(Mem01, base, 10)\n",
    "ce10 = classesEquiv(Mem10, base, 10)\n",
    "ce11 = classesEquiv(Mem11, base, 10)\n",
    "ce12 = classesEquiv(Mem12, base, 10)\n",
    "ce21 = classesEquiv(Mem21, base, 10)\n",
    "\n",
    "simp01 = simplifyWithTournament(Mem01, base, 10)\n",
    "simp10 = simplifyWithTournament(Mem10, base, 10)\n",
    "simp11 = simplifyWithTournament(Mem11, base, 10)\n",
    "simp12 = simplifyWithTournament(Mem12, base, 10)\n",
    "simp21 = simplifyWithTournament(Mem21, base, 10)\n",
    "\n",
    "# idem avec simplify\n",
    "\n",
    "tab = pd.DataFrame(\n",
    "        np.nan, [\"Mem 0 1\",\"Mem 1 0\",\"Mem 1 1\", \"Mem 1 2\", \"Mem 2 1\"], [\"All strategies\", \"After classesEquiv\",\"After simplifyWithTournament\"]\n",
    "    )\n",
    "tab.at[\"Mem 0 1\", \"All strategies\" ] = len(Mem01)\n",
    "tab.at[\"Mem 1 0\", \"All strategies\" ] = len(Mem10)\n",
    "tab.at[\"Mem 1 1\", \"All strategies\" ] = len(Mem11)\n",
    "tab.at[\"Mem 1 2\", \"All strategies\" ] = len(Mem12)\n",
    "tab.at[\"Mem 2 1\", \"All strategies\" ] = len(Mem21)\n",
    "tab.at[\"Mem 0 1\", \"After classesEquiv\" ] = len(ce01.keys())\n",
    "tab.at[\"Mem 1 0\", \"After classesEquiv\" ] = len(ce10.keys())\n",
    "tab.at[\"Mem 1 1\", \"After classesEquiv\" ] = len(ce11.keys())\n",
    "tab.at[\"Mem 1 2\", \"After classesEquiv\" ] = len(ce12.keys())\n",
    "tab.at[\"Mem 2 1\", \"After classesEquiv\" ] = len(ce21.keys())\n",
    "tab.at[\"Mem 0 1\", \"After simplifyWithTournament\" ] = len(simp01.keys())\n",
    "tab.at[\"Mem 1 0\", \"After simplifyWithTournament\" ] = len(simp10.keys())\n",
    "tab.at[\"Mem 1 1\", \"After simplifyWithTournament\" ] = len(simp11.keys())\n",
    "tab.at[\"Mem 1 2\", \"After simplifyWithTournament\" ] = len(simp12.keys())\n",
    "tab.at[\"Mem 2 1\", \"After simplifyWithTournament\" ] = len(simp21.keys())\n",
    "tab"
   ]
  },
  {
   "cell_type": "markdown",
   "metadata": {},
   "source": [
    "### Améliorer l'affichage des stratégies\n",
    "\n",
    "Les classes d'équivalence permettent de mettre en évidence des ensembles de stratégies qui jouent de manière identique. Dans le cas des `Mem(X,Y)`, par construction, ces stratégies identiques ont une partie de leur génotype en commun.\n",
    "Il est alors interessant d'afficher les ensembles de stratégies équivalentes par une seule et même représentation en remplaçant les coups qui ne sont pas impactant par des * . On passe à cette méthode un ensemble de stratégies identifiées comme équivalentes, la méthode fusionne ces noms pour fournir une notation avec * . Attention : cette méthode ne fonctionne que pour des `Mem(X,Y)`, ne calcule pas et ne vérifie pas l'équivalence, elle suppose que les stratégies fournies sont équivalentes."
   ]
  },
  {
   "cell_type": "code",
   "execution_count": 7,
   "metadata": {},
   "outputs": [
    {
     "name": "stdout",
     "output_type": "stream",
     "text": [
      "cCDC*\n",
      "cd*D*DDDCC\n",
      "CCCCCD*C*C\n"
     ]
    }
   ],
   "source": [
    "def computeStar(strategies):\n",
    "    l = math.log2(len(strategies))\n",
    "    assert l == int(l)\n",
    "    ind_stars = []\n",
    "    len_genome = len(strategies[0].genome)\n",
    "    for i in range(len_genome):\n",
    "        letter = strategies[0].genome[i]\n",
    "        for j in range(1, len(strategies)):\n",
    "            if letter != strategies[j].genome[i]:\n",
    "                ind_stars += [i]\n",
    "                break\n",
    "    assert len(ind_stars) == l\n",
    "    new_genome = \"\"\n",
    "    for i in range(len_genome):\n",
    "        if i not in ind_stars:\n",
    "            new_genome += strategies[0].genome[i]\n",
    "        else :\n",
    "            new_genome += \"*\"\n",
    "    #print(new_genome)\n",
    "    return new_genome\n",
    "\n",
    "\n",
    "# example of use\n",
    "print(computeStar([Mem(1,1,\"cCDCD\"),Mem(1,1,\"cCDCC\")]))\n",
    "print(computeStar([Mem(1,2,\"cdCDCDDDCC\"),Mem(1,2,\"cdCDDDDDCC\"),Mem(1,2,\"cdDDCDDDCC\"),Mem(1,2,\"cdDDDDDDCC\")]))\n",
    "print(computeStar([Mem(1,2,\"CCCCCDCCDC\"),Mem(1,2,\"CCCCCDDCCC\"),Mem(1,2,\"CCCCCDDCDC\"),Mem(1,2,\"CCCCCDCCCC\")]))"
   ]
  },
  {
   "cell_type": "markdown",
   "metadata": {},
   "source": [
    "## Comparer une classe complète et sa classe simplifiée\n",
    "\n",
    "Nous avons maintenant tous les outils permettant, non seulement de simplifier une classe, de rejouter cette classe simplifiée, et de comparer les résultats.\n",
    "Prenons l'exemple des `Mem(1,1)`. Cette classe contient 32 stratégies. Une fois simplifiée il en reste 26. Grâce à `computeStar`on peut maintenant mêttre le nom générique dans la légende. On constate que les deux compétitions écologiques donnent les mêmes 4 premiers. On note que dans la classe simplifiée les All_C survivent, alors qu'elles disparaissent dans la classe complète."
   ]
  },
  {
   "cell_type": "code",
   "execution_count": 11,
   "metadata": {},
   "outputs": [
    {
     "name": "stdout",
     "output_type": "stream",
     "text": [
      "26\n"
     ]
    },
    {
     "data": {
      "image/png": "[encoded data removed]",
      "text/plain": [
       "<Figure size 432x288 with 1 Axes>"
      ]
     },
     "metadata": {
      "needs_background": "light"
     },
     "output_type": "display_data"
    },
    {
     "data": {
      "image/png": "[encoded data removed]",
      "text/plain": [
       "<Figure size 432x288 with 1 Axes>"
      ]
     },
     "metadata": {
      "needs_background": "light"
     },
     "output_type": "display_data"
    }
   ],
   "source": [
    "# Calcul de la classe simplifiée\n",
    "mem11 = getMem(1,1)\n",
    "simpl = simplifyWithTournament(mem11, [Periodic('CDCCDDC'), Periodic('DDCDCDD')], 10)\n",
    "print(len(simpl))\n",
    "\n",
    "# Remplacement des noms par des noms génériques\n",
    "bag = []\n",
    "for key in simpl.keys():\n",
    "    if len(simpl[key]) > 0:\n",
    "        name = computeStar([key]+simpl[key])\n",
    "        bag += [key.clone(name)]\n",
    "    else :\n",
    "        bag += [key]\n",
    "\n",
    "# Evolution de la classe initiale\n",
    "e1 = Ecological(g, mem11)\n",
    "e1.run()\n",
    "\n",
    "evol=e1.historic\n",
    "nbSurvivors = len(evol.iloc[-1][evol.iloc[-1]>0])\n",
    "e1.drawPlot(None,nbSurvivors)\n",
    "\n",
    "# Evolution de la classe simplifiée avec ses noms génériques\n",
    "e2 = Ecological(g, bag)\n",
    "e2.run()\n",
    "\n",
    "evol=e2.historic\n",
    "nbSurvivors = len(evol.iloc[-1][evol.iloc[-1]>0])\n",
    "e2.drawPlot(None,10)\n"
   ]
  },
  {
   "cell_type": "markdown",
   "metadata": {},
   "source": [
    "## Une simplification progressive\n",
    "\n",
    "Dans le cas des grandes classes il est impossible de faire fonctionner le tournoi et donc la méthode de simplification par le tournoi ne peut pas fonctionner. Néanmoins, on peut ne prendre qu'une partie raisonnable de la classe à laquelle on s'interesse, la simplifier par le tournoi. On ajoute un certain nombre de stratégies à cet ensemble simplifié sans dépasser la taille maximum raisonnable que l'on s'est fixé, et on recommence. Si à un moment donné aucune simplification n'est possible, cette méthode échoue dans la simplification. Il faut éventuellement changer l'ordre dans lequel on prend les stratégies (en espérant que cet ordre favorisera les simplifications), ou alors si c'est possible, augmenter la taille maximale que l'on s'est fixé. Il est évident que cette méthode ne fonctionne que si la taille que l'on s'est fixé dépasse la taille de l'ensemble simplifié à obtenir (820 minimum pour `Mem(1,2)` par exemple)."
   ]
  },
  {
   "cell_type": "code",
   "execution_count": null,
   "metadata": {},
   "outputs": [],
   "source": [
    "def sort1_Mem(strategies):\n",
    "    strategies.sort(key=lambda x: x.genome)\n",
    "    return strategies\n",
    "\n",
    "def sort2_Mem(strategies):\n",
    "    strategies.sort(key=lambda x: x.genome, reverse=True)\n",
    "    return strategies\n",
    "\n",
    "def sort3_Mem(strategies):\n",
    "    strategies.sort(key=lambda x: ''.join(reversed(x.genome)))\n",
    "    return strategies\n",
    "\n",
    "def sort4_Mem(strategies):\n",
    "    strategies.sort(key=lambda x: ''.join(reversed(x.genome)), reverse=True)\n",
    "    return strategies\n",
    "\n",
    "\n",
    "sortMem11 = sort4_Mem(getMem(1,1))\n"
   ]
  },
  {
   "cell_type": "code",
   "execution_count": 68,
   "metadata": {},
   "outputs": [
    {
     "name": "stdout",
     "output_type": "stream",
     "text": [
      "2 strategies deleted\n",
      "\n",
      "tft :  cCD cCD \n",
      "spiteful :  cCDDD cCDDD \n",
      "per_CDC: [] \n",
      "per_C: []  \n"
     ]
    }
   ],
   "source": [
    "def simplifyStepByStep(l, opponents, length, batchSize):\n",
    "    size = len(l)\n",
    "    strats = []\n",
    "    simplified = dict()\n",
    "    nbIter = int(size/batchSize)\n",
    "    for i in range(nbIter):\n",
    "        strats += l[i * batchSize : (i+1) * batchSize]\n",
    "        res = simplifyWithTournament(strats, opponents, length)\n",
    "        #print(\"len de res : {}\".format(len(res)))\n",
    "        print(\"{} strategies deleted\".format(len(strats) - len(res)))\n",
    "        for strat in res.keys() :\n",
    "            if strat not in simplified : \n",
    "                simplified[strat] = res[strat]\n",
    "            else : \n",
    "                simplified[strat] += res[strat]\n",
    "        if (len(strats) - len(res) == 0):\n",
    "            print(\"Impossible to continue\")\n",
    "            return simplified\n",
    "        strats = list(simplified.keys())\n",
    "        #print(\"len strats  : {}\".format(len(strats)))\n",
    "    #print(\"len strats final : {}\".format(len(strats)))\n",
    "    \n",
    "    if(len(l) % batchSize != 0):\n",
    "        strats += l[(i+1) * batchSize:]\n",
    "        res = simplifyWithTournament(strats, opponents, length)\n",
    "        print(\"{} strategies deleted\".format(len(strats) - len(res)))\n",
    "    for strat in res.keys() :\n",
    "        if strat not in simplified : \n",
    "            simplified[strat] = res[strat]\n",
    "        else : \n",
    "            simplified[strat] += res[strat]\n",
    "    return simplified\n",
    "\n",
    "\n",
    "        \n",
    "printDict(simplifyStepByStep([Tft(), Spiteful(), Mem(0,1,\"cCD\"),  Mem(1,1,\"cCDDD\"), Periodic(\"CDC\"), Periodic('C') ], [Periodic('CCD'), Periodic('DDC')] , 10, 6))\n",
    "# print(\" \")\n",
    "# sortMem12 = trie_Mem(getMem(1,2))\n",
    "# rec_simplify(sortMem12, [Periodic('CCD'), Periodic('DDC')] , 10, 32)"
   ]
  },
  {
   "cell_type": "markdown",
   "metadata": {},
   "source": [
    "On peut bien évidemment vérifier pour des classes relativement simple que la simplification globale est équivalente à la simplification pas à pas."
   ]
  },
  {
   "cell_type": "code",
   "execution_count": 67,
   "metadata": {
    "scrolled": true
   },
   "outputs": [
    {
     "name": "stdout",
     "output_type": "stream",
     "text": [
      "Score de CCDCDDDDDD : 7606\n",
      "69 strategies deleted\n",
      "4 strategies deleted\n",
      "Score de CCDCDDDDDD : 9018\n",
      "False\n",
      "227\n",
      "233\n",
      "300\n",
      "300\n"
     ]
    }
   ],
   "source": [
    "res_sbs = simplifyStepByStep(getMem(1,2)[0:300], [Periodic('CCD'), Periodic('DDC')] , 10, 250)\n",
    "res = simplifyWithTournament(getMem(1,2)[0:300], [Periodic('CCD'), Periodic('DDC')], 10)\n",
    "print(len(res_sbs) == len(res))\n",
    "print(len(res_sbs))\n",
    "print(len(res))\n",
    "#printDict(res)\n",
    "#printDict(res_sbs)\n",
    "cpt = 0\n",
    "for key in res.keys() : \n",
    "    cpt +=  1 + len(res[key])\n",
    "print(cpt)\n",
    "cpt = 0\n",
    "for key in res_sbs.keys() : \n",
    "    cpt +=  1 + len(res_sbs[key])\n",
    "print(cpt)"
   ]
  },
  {
   "cell_type": "code",
   "execution_count": 70,
   "metadata": {},
   "outputs": [
    {
     "name": "stdout",
     "output_type": "stream",
     "text": [
      "4 strategies deleted\n",
      "2 strategies deleted\n",
      "True\n"
     ]
    }
   ],
   "source": [
    "res_sbs = simplifyStepByStep(getMem(1,1), [Periodic('CCD'), Periodic('DDC')] , 10, 26)\n",
    "res = simplifyWithTournament(getMem(1,1), [Periodic('CCD'), Periodic('DDC')], 10)\n",
    "print(len(res_sbs) == len(res))"
   ]
  },
  {
   "cell_type": "markdown",
   "metadata": {},
   "source": [
    "## Une méthode de simplification exacte pour Mem(X,Y)\n",
    "\n",
    "Dans le cas d'une stratégie de type `mem(X,Y)`, pour savoir si cette stratégie peut être notée avec des étoiles, il faut savoir si elle utilise tous les éléments de son code. Si ce n'est pas le cas on repère ces éléments et on les remplace par des étoiles. Une étoile indique que ce gène peut être remplacé par n'importe quelle valeur puisqu'il ne sert pas.\n",
    "La fonction `getGenericName` prend pour argument un génotype de stratégie et renvoie ce génotype éventuellement réécrit avec des * .\n",
    "L'idée générale de l'algorithme utilisé consiste à construire peu à peu la liste de tous les passés possibles (en partant des passés possibles que l'amorce permet), et donc, de mettre des étoiles pour les passés qui n'apparaissent pas dans cette liste.C'est le cas par exemple de `Mem(1,2,\"ccCCCCCCCC\")` qui correspond à l'amorce près à un `all_C` et qui peut donc être réécrit en `(1,2,\"ccCCCC****\")`"
   ]
  },
  {
   "cell_type": "code",
   "execution_count": 8,
   "metadata": {},
   "outputs": [
    {
     "name": "stdout",
     "output_type": "stream",
     "text": [
      "ccCCDDCCDD\n",
      "ccCCCC****\n",
      "CCCCDD****CDDDDDDD\n",
      "CCCCCDCCDC\n"
     ]
    }
   ],
   "source": [
    "def setGenericName(strat):\n",
    "    X = strat.x\n",
    "    Y = strat.y\n",
    "    genotype = strat.genome\n",
    "    me = list(genotype[ max(X,Y) - X :  max(X,Y) ].upper())\n",
    "    #print(me)\n",
    "    opponent=\"\"\n",
    "    L = [x for x in itertools.product(['C', 'D'],repeat=Y)]\n",
    "    L = [list(elem) for elem in L]\n",
    "    #print(L)\n",
    "    \n",
    "    L1 = [x for x in itertools.product(['C', 'D'],repeat=X+Y)]\n",
    "    L1 = [list(elem) for elem in L1]\n",
    "    \n",
    "    possiblePast = []\n",
    "    tmp = []\n",
    "    for elem in L :\n",
    "        possiblePast += [me+elem] \n",
    "        tmp += [me+elem] \n",
    "    #print(possiblePast)\n",
    "    while(len(tmp)> 0):\n",
    "        past = tmp[0][2 : 2 +Y]\n",
    "        #print(len(past))\n",
    "        a = genotype[L1.index(tmp[0])+max(X,Y)].upper()\n",
    "        past1 = [a] + past + ['C']\n",
    "        past2 = [a] + past + ['D']\n",
    "        if past1 not in possiblePast :\n",
    "            possiblePast += [past1]\n",
    "            tmp += [past1]\n",
    "        if past2 not in possiblePast :\n",
    "            possiblePast += [past2]\n",
    "            tmp += [past2]\n",
    "        tmp.remove(tmp[0])\n",
    "   \n",
    "    #print(possiblePast)\n",
    "   \n",
    "    ind=[]\n",
    "    for i in range(len(L1)):\n",
    "        if L1[i] not in possiblePast:\n",
    "            ind += [i]\n",
    "    \n",
    "    genotypeStar = genotype[0 : max(X,Y)]\n",
    "    for i in range(len(L1)):\n",
    "        if i not in ind : \n",
    "            genotypeStar += genotype[max(X,Y) + i]\n",
    "        else :\n",
    "            genotypeStar += \"*\"\n",
    "    return strat.clone(name = genotypeStar)\n",
    "\n",
    "\n",
    "\n",
    "# example of use\n",
    "print(setGenericName(Mem(1,2,\"ccCCDDCCDD\")).name)\n",
    "# ccCCDDCCDD\n",
    "\n",
    "print(setGenericName(Mem(1,2,\"ccCCCCCCCC\")).name)\n",
    "# ccCCCC****\n",
    "\n",
    "print(setGenericName(Mem(2,2,'CCCCDDDCCDCDDDDDDD')).name)\n",
    "# CCCCDD********DDDD\n",
    "\n",
    "print(setGenericName(Mem(1,2,\"CCCCCDCCDC\")).name)"
   ]
  },
  {
   "cell_type": "markdown",
   "metadata": {},
   "source": [
    "Ce résultat est important : il montre que, bien que la comparaison de 2 programmes soit indécidable dans le cas général, elle est néamoins décidable dans le cas des `Mem(X,Y)`.\n",
    "\n",
    "Pour tester si deux stratégies de type `Mem(X,Y)` sont identiques il suffit maintenant de leur appliquer `getGenericName` et vérifier que les noms obtenus sont identiques :\n"
   ]
  },
  {
   "cell_type": "code",
   "execution_count": 9,
   "metadata": {},
   "outputs": [
    {
     "name": "stdout",
     "output_type": "stream",
     "text": [
      "These two strategies are different\n"
     ]
    }
   ],
   "source": [
    "s1 = Mem(2,2,'CCCCDDDCCDCDDDDDDD')\n",
    "s2 = Mem(2,2,'CCCCDDDDDCDDDDDDCD') \n",
    "\n",
    "if (setGenericName(s1).name==setGenericName(s2).name) :\n",
    "    print (\"These two strategies are identical\")\n",
    "else: print (\"These two strategies are different\")"
   ]
  },
  {
   "cell_type": "markdown",
   "metadata": {},
   "source": [
    "### Verification générale\n",
    "Afin de vérifier le bon fonctionnement de nos différents algorithmes, nous avons tous les outils pour comparer le résultat obtenu avec l'approche exacte (`setGenericName`) et avec l'approche approximative(`simplifyWithTournament` ou `classesEquiv`, suivi de `computeStar`).\n",
    "\n",
    "Pour cela on prend une classe (`Mem(1,2)` par exemple), on calcule ensuite ses classes d'équivalence. Pour chaque classe non vide, on vérifie que `setGenericName` sur la clé correspond bien à l'ensemble des stratégies de cette classe d'équivalence (en nombre en comptant les étoiles, ou en qualité en appliquant `computeStar` à l'ensemble de la classe)."
   ]
  },
  {
   "cell_type": "code",
   "execution_count": 10,
   "metadata": {},
   "outputs": [
    {
     "name": "stdout",
     "output_type": "stream",
     "text": [
      "Score de CCDCDDDDDD : 27571\n",
      "CCCCCCCCCC\n",
      "Check numbers of stars\n",
      "True\n",
      "Check of quality\n",
      "True\n",
      "---------------------\n",
      "CCCCCDCCCC\n",
      "Check numbers of stars\n",
      "True\n",
      "Check of quality\n",
      "False\n",
      "---------------------\n",
      "CCCCCDCCCD\n",
      "Check numbers of stars\n",
      "True\n",
      "Check of quality\n",
      "False\n",
      "---------------------\n",
      "CCCCDCCCCC\n",
      "Check numbers of stars\n",
      "True\n",
      "Check of quality\n",
      "False\n",
      "---------------------\n",
      "CCCCDCCCCD\n",
      "Check numbers of stars\n",
      "True\n",
      "Check of quality\n",
      "False\n",
      "---------------------\n",
      "CCCCDDCCCC\n",
      "Check numbers of stars\n",
      "True\n",
      "Check of quality\n",
      "False\n",
      "---------------------\n",
      "CCCCDDCCCD\n",
      "Check numbers of stars\n",
      "True\n",
      "Check of quality\n",
      "False\n",
      "---------------------\n",
      "CCCDCCCCCC\n",
      "Check numbers of stars\n",
      "True\n",
      "Check of quality\n",
      "False\n",
      "---------------------\n",
      "CCCDCCDCCC\n",
      "Check numbers of stars\n",
      "True\n",
      "Check of quality\n",
      "False\n",
      "---------------------\n",
      "CCDCCCCCCC\n",
      "Check numbers of stars\n",
      "True\n",
      "Check of quality\n",
      "False\n",
      "---------------------\n",
      "CCDDCCCCCC\n",
      "Check numbers of stars\n",
      "True\n",
      "Check of quality\n",
      "False\n",
      "---------------------\n",
      "CCDCCCDCCC\n",
      "Check numbers of stars\n",
      "True\n",
      "Check of quality\n",
      "False\n",
      "---------------------\n",
      "DCCCDDCCCC\n",
      "Check numbers of stars\n",
      "True\n",
      "Check of quality\n",
      "False\n",
      "---------------------\n",
      "CCDDCCDCCC\n",
      "Check numbers of stars\n",
      "True\n",
      "Check of quality\n",
      "False\n",
      "---------------------\n",
      "CDCCCCDDDD\n",
      "Check numbers of stars\n",
      "True\n",
      "Check of quality\n",
      "True\n",
      "---------------------\n",
      "CDCCDCCCDD\n",
      "Check numbers of stars\n",
      "True\n",
      "Check of quality\n",
      "False\n",
      "---------------------\n",
      "CDCCDCCDDD\n",
      "Check numbers of stars\n",
      "True\n",
      "Check of quality\n",
      "False\n",
      "---------------------\n",
      "CDCCDCDCDD\n",
      "Check numbers of stars\n",
      "True\n",
      "Check of quality\n",
      "False\n",
      "---------------------\n",
      "CDCDCCDDCC\n",
      "Check numbers of stars\n",
      "True\n",
      "Check of quality\n",
      "False\n",
      "---------------------\n",
      "CDCDCCDDCD\n",
      "Check numbers of stars\n",
      "True\n",
      "Check of quality\n",
      "False\n",
      "---------------------\n",
      "CDCDCCDDDC\n",
      "Check numbers of stars\n",
      "True\n",
      "Check of quality\n",
      "False\n",
      "---------------------\n",
      "CDCDCDDDCC\n",
      "Check numbers of stars\n",
      "True\n",
      "Check of quality\n",
      "False\n",
      "---------------------\n",
      "CDCDCDDDCD\n",
      "Check numbers of stars\n",
      "True\n",
      "Check of quality\n",
      "False\n",
      "---------------------\n",
      "CDCDCDDDDC\n",
      "Check numbers of stars\n",
      "True\n",
      "Check of quality\n",
      "False\n",
      "---------------------\n",
      "CDDCDCCCDD\n",
      "Check numbers of stars\n",
      "True\n",
      "Check of quality\n",
      "False\n",
      "---------------------\n",
      "CDDCDCCDDD\n",
      "Check numbers of stars\n",
      "True\n",
      "Check of quality\n",
      "False\n",
      "---------------------\n",
      "CDDCDCDCDD\n",
      "Check numbers of stars\n",
      "True\n",
      "Check of quality\n",
      "False\n",
      "---------------------\n",
      "DCCCCCCCCC\n",
      "Check numbers of stars\n",
      "True\n",
      "Check of quality\n",
      "True\n",
      "---------------------\n",
      "DCCCCDCCCC\n",
      "Check numbers of stars\n",
      "True\n",
      "Check of quality\n",
      "False\n",
      "---------------------\n",
      "DCCCCDCCCD\n",
      "Check numbers of stars\n",
      "True\n",
      "Check of quality\n",
      "False\n",
      "---------------------\n",
      "DCCCDCCCCC\n",
      "Check numbers of stars\n",
      "True\n",
      "Check of quality\n",
      "False\n",
      "---------------------\n",
      "DCCCDCCCCD\n",
      "Check numbers of stars\n",
      "True\n",
      "Check of quality\n",
      "False\n",
      "---------------------\n",
      "DCCCDDCCCD\n",
      "Check numbers of stars\n",
      "True\n",
      "Check of quality\n",
      "False\n",
      "---------------------\n",
      "DCCDCCCCCC\n",
      "Check numbers of stars\n",
      "True\n",
      "Check of quality\n",
      "False\n",
      "---------------------\n",
      "DCCDCCDCCC\n",
      "Check numbers of stars\n",
      "True\n",
      "Check of quality\n",
      "False\n",
      "---------------------\n",
      "DCDCCCCCCC\n",
      "Check numbers of stars\n",
      "True\n",
      "Check of quality\n",
      "False\n",
      "---------------------\n",
      "DCDCCCDCCC\n",
      "Check numbers of stars\n",
      "True\n",
      "Check of quality\n",
      "False\n",
      "---------------------\n",
      "DCDDCCCCCC\n",
      "Check numbers of stars\n",
      "True\n",
      "Check of quality\n",
      "False\n",
      "---------------------\n",
      "DCDDCCDCCC\n",
      "Check numbers of stars\n",
      "True\n",
      "Check of quality\n",
      "False\n",
      "---------------------\n",
      "DDCCCCDDDD\n",
      "Check numbers of stars\n",
      "True\n",
      "Check of quality\n",
      "True\n",
      "---------------------\n",
      "DDCCDCCCDD\n",
      "Check numbers of stars\n",
      "True\n",
      "Check of quality\n",
      "False\n",
      "---------------------\n",
      "DDCCDCCDDD\n",
      "Check numbers of stars\n",
      "True\n",
      "Check of quality\n",
      "False\n",
      "---------------------\n",
      "DDCCDCDCDD\n",
      "Check numbers of stars\n",
      "True\n",
      "Check of quality\n",
      "False\n",
      "---------------------\n",
      "DDCDCCDDCC\n",
      "Check numbers of stars\n",
      "True\n",
      "Check of quality\n",
      "False\n",
      "---------------------\n",
      "DDCDCCDDCD\n",
      "Check numbers of stars\n",
      "True\n",
      "Check of quality\n",
      "False\n",
      "---------------------\n",
      "DDCDCCDDDC\n",
      "Check numbers of stars\n",
      "True\n",
      "Check of quality\n",
      "False\n",
      "---------------------\n",
      "DDCDCDDDCC\n",
      "Check numbers of stars\n",
      "True\n",
      "Check of quality\n",
      "False\n",
      "---------------------\n",
      "DDCDCDDDCD\n",
      "Check numbers of stars\n",
      "True\n",
      "Check of quality\n",
      "False\n",
      "---------------------\n",
      "DDCDCDDDDC\n",
      "Check numbers of stars\n",
      "True\n",
      "Check of quality\n",
      "False\n",
      "---------------------\n",
      "DDDCDCCCDD\n",
      "Check numbers of stars\n",
      "True\n",
      "Check of quality\n",
      "False\n",
      "---------------------\n",
      "DDDCDCCDDD\n",
      "Check numbers of stars\n",
      "True\n",
      "Check of quality\n",
      "False\n",
      "---------------------\n",
      "DDDCDCDCDD\n",
      "Check numbers of stars\n",
      "True\n",
      "Check of quality\n",
      "False\n",
      "---------------------\n"
     ]
    }
   ],
   "source": [
    "import math\n",
    "\n",
    "simpl = simplifyWithTournament(getMem(1,2), [Periodic('CDCCDDC'), Periodic('DDCDCDD')], 10)\n",
    "for key in simpl:\n",
    "    if len(simpl[key]) > 0 : \n",
    "        print(key.name)\n",
    "        name1 = computeStar([key] + simpl[key])\n",
    "        nbStars = name1.count(\"*\")\n",
    "        print(\"Check numbers of stars\")\n",
    "        print(nbStars == math.log(len(simpl[key])+1,2))\n",
    "        #print(name1)\n",
    "        print(\"Check of quality\")\n",
    "        name2 = setGenericName(key).name\n",
    "        #rint(name2)\n",
    "        for strat in simpl[key]:\n",
    "            #rint(strat.name)\n",
    "            name2 = setGenericName(strat).name\n",
    "            #rint(name2)\n",
    "        print(name1 == name2)\n",
    "        print(\"---------------------\")\n",
    "        \n",
    "\n",
    "\n",
    "\n"
   ]
  },
  {
   "cell_type": "markdown",
   "metadata": {},
   "source": [
    "### Exercice 2\n",
    "\n",
    "Ecrire `allC` et `allD` dans le formalisme `Mem(1,2)`. Calculez leur nom avec * . \n",
    "Expliquez pourquoi ces étoiles ne sont pas au même endroit ?"
   ]
  },
  {
   "cell_type": "code",
   "execution_count": 34,
   "metadata": {},
   "outputs": [
    {
     "name": "stdout",
     "output_type": "stream",
     "text": [
      "ccCCCC****\n",
      "dd****DDDD\n"
     ]
    }
   ],
   "source": [
    "allC = Mem(1,2,\"ccCCCCCCCC\")\n",
    "allD = Mem(1,2,\"ddDDDDDDDD\")\n",
    "print(setGenericName(allC).name)\n",
    "print(setGenericName(allD).name)"
   ]
  },
  {
   "cell_type": "markdown",
   "metadata": {},
   "source": [
    "### Simplification d'un ensemble par la méthode exacte\n",
    "\n",
    "Il reste maintenant à utiliser cette fonction pour simplifier un ensemble de stratégies : on prend l'ensemble de tous les noms possibles, on parcourt la liste nom par nom, on remplace chaque nom par son nom générique et, s'il est déjà présent dans le futur résultat, on ne l'ajoute pas. On note qu'aucun tournoi ni aucune rencontre n'est nécessaire pour simplifier une classe avec cette méthode !"
   ]
  },
  {
   "cell_type": "code",
   "execution_count": 74,
   "metadata": {},
   "outputs": [],
   "source": [
    "def simplifyExact(bag):\n",
    "    res = set()\n",
    "    simplified = []\n",
    "    for strat in bag : \n",
    "        gName = setGenericName(strat).name\n",
    "        if gName not in res:\n",
    "            res.add(gName)\n",
    "            simplified += [strat]\n",
    "    return simplified"
   ]
  },
  {
   "cell_type": "code",
   "execution_count": 75,
   "metadata": {},
   "outputs": [
    {
     "name": "stdout",
     "output_type": "stream",
     "text": [
      "Lenght of bag simplified : 676\n"
     ]
    }
   ],
   "source": [
    "simplified = simplifyExact(getMem(1,2))\n",
    "print(\"Lenght of bag simplified : {}\".format(len(simplified)))"
   ]
  },
  {
   "cell_type": "markdown",
   "metadata": {},
   "source": [
    "## Des meta-classes de stratégies\n",
    "\n",
    "Quand on regarde un ensemble de stratégies on constate qu'il possède des caractéristiques générales qui permettent de les ranger en grandes familles. Les quatre familles que nous considérons sont la classe des stratégies initialement coopératives IC (elles ne prennent jamais l’initiative de trahir); la classe complémentaire à IC qui est celle des stratégies \"spontanément agressives\", SA (toute stratégie est donc soit IC soit SA); la classe des stratégies initialement agressives IA (elles ne prennent jamais l’initiative de coopérer); la classe complémentaire à IA qui est celle des stratégies \"spontanément coopératives\" SC (toute stratégie est donc soit IA soit SC). On note que toute stratégie IA est SA et que toute strategie IC est SC."
   ]
  },
  {
   "cell_type": "code",
   "execution_count": 39,
   "metadata": {},
   "outputs": [
    {
     "name": "stdout",
     "output_type": "stream",
     "text": [
      "100\n"
     ]
    }
   ],
   "source": [
    "m = Meeting(g, Periodic('D'), Periodic('D'), 100)\n",
    "m.run()\n",
    "print(m.s1_score)"
   ]
  },
  {
   "cell_type": "code",
   "execution_count": 40,
   "metadata": {},
   "outputs": [
    {
     "name": "stdout",
     "output_type": "stream",
     "text": [
      "{'IC': [<__main__.Periodic object at 0x7fc5cb7a9358>, <__main__.Tft object at 0x7fc5c926aeb8>, <__main__.Spiteful object at 0x7fc5c926aa20>, <__main__.SoftMajority object at 0x7fc5c926a4e0>, <__main__.Pavlov object at 0x7fc5c926add8>, <__main__.Tf2t object at 0x7fc5c926a6d8>, <__main__.Hardtft object at 0x7fc5c926a080>, <__main__.Slowtft object at 0x7fc5c926a438>, <__main__.Gradual object at 0x7fc5c926ada0>], 'SC': [<__main__.Periodic object at 0x7fc5cb7a9358>, <__main__.Tft object at 0x7fc5c926aeb8>, <__main__.Spiteful object at 0x7fc5c926aa20>, <__main__.SoftMajority object at 0x7fc5c926a4e0>, <__main__.Periodic object at 0x7fc5c926a860>, <__main__.Periodic object at 0x7fc5c926a7b8>, <__main__.Periodic object at 0x7fc5c926aa58>, <__main__.Pavlov object at 0x7fc5c926add8>, <__main__.Tf2t object at 0x7fc5c926a6d8>, <__main__.Hardtft object at 0x7fc5c926a080>, <__main__.Slowtft object at 0x7fc5c926a438>, <__main__.Gradual object at 0x7fc5c926ada0>, <__main__.Prober object at 0x7fc5c926a358>], 'IA': [<__main__.Periodic object at 0x7fc5c926acf8>, <__main__.HardMajority object at 0x7fc5c926a320>, <__main__.Mistrust object at 0x7fc5c926a198>], 'SA': [<__main__.Periodic object at 0x7fc5c926acf8>, <__main__.HardMajority object at 0x7fc5c926a320>, <__main__.Periodic object at 0x7fc5c926a860>, <__main__.Periodic object at 0x7fc5c926a7b8>, <__main__.Mistrust object at 0x7fc5c926a198>, <__main__.Periodic object at 0x7fc5c926aa58>, <__main__.Prober object at 0x7fc5c926a358>]}\n"
     ]
    }
   ],
   "source": [
    "def getAgressivityClasses(bag):\n",
    "    aggressivity = {'IC':[], 'SC':[],'IA':[],'SA':[]}\n",
    "    for strat in bag : \n",
    "        m1 = Meeting(g, strat, Periodic('C'), 100)\n",
    "        m1.run()\n",
    "        m2 = Meeting(g, strat, Periodic('D'), 100)\n",
    "        m2.run()\n",
    "        if m1.s1_score == 300:\n",
    "             aggressivity['IC'] += [strat]\n",
    "        if m1.s1_score > 300:\n",
    "             aggressivity['SA'] += [strat]\n",
    "        if m2.s1_score == 100:\n",
    "             aggressivity['IA'] += [strat]\n",
    "        if m2.s1_score < 100:\n",
    "             aggressivity['SC'] += [strat]\n",
    "    return aggressivity\n",
    "        \n",
    "    \n",
    "print(getAgressivityClasses(getClassicals()))\n",
    "        \n",
    "        "
   ]
  },
  {
   "cell_type": "markdown",
   "metadata": {},
   "source": [
    "L'aggressivité des stratégies avant et après simplification"
   ]
  },
  {
   "cell_type": "code",
   "execution_count": 41,
   "metadata": {},
   "outputs": [
    {
     "data": {
      "text/html": [
       "<div>\n",
       "<style scoped>\n",
       "    .dataframe tbody tr th:only-of-type {\n",
       "        vertical-align: middle;\n",
       "    }\n",
       "\n",
       "    .dataframe tbody tr th {\n",
       "        vertical-align: top;\n",
       "    }\n",
       "\n",
       "    .dataframe thead th {\n",
       "        text-align: right;\n",
       "    }\n",
       "</style>\n",
       "<table border=\"1\" class=\"dataframe\">\n",
       "  <thead>\n",
       "    <tr style=\"text-align: right;\">\n",
       "      <th></th>\n",
       "      <th>Before simplify</th>\n",
       "      <th>After simplify</th>\n",
       "    </tr>\n",
       "  </thead>\n",
       "  <tbody>\n",
       "    <tr>\n",
       "      <th>IC</th>\n",
       "      <td>8</td>\n",
       "      <td>5</td>\n",
       "    </tr>\n",
       "    <tr>\n",
       "      <th>SC</th>\n",
       "      <td>24</td>\n",
       "      <td>21</td>\n",
       "    </tr>\n",
       "    <tr>\n",
       "      <th>IA</th>\n",
       "      <td>8</td>\n",
       "      <td>5</td>\n",
       "    </tr>\n",
       "    <tr>\n",
       "      <th>SA</th>\n",
       "      <td>24</td>\n",
       "      <td>21</td>\n",
       "    </tr>\n",
       "  </tbody>\n",
       "</table>\n",
       "</div>"
      ],
      "text/plain": [
       "    Before simplify  After simplify\n",
       "IC                8               5\n",
       "SC               24              21\n",
       "IA                8               5\n",
       "SA               24              21"
      ]
     },
     "execution_count": 41,
     "metadata": {},
     "output_type": "execute_result"
    }
   ],
   "source": [
    "def createTab(bag):\n",
    "    agr = getAgressivityClasses(bag)\n",
    "    simplified = simplifyWithTournament(bag, [Periodic('CDCCDDC'), Periodic('DDCDCDD')], 10)\n",
    "    agrS = getAgressivityClasses(simplified)\n",
    "    tab = pd.DataFrame(\n",
    "            np.nan, [\"IC\",\"SC\",\"IA\", \"SA\"], [\"Before simplify\",\"After simplify\"]\n",
    "        )\n",
    "    for key in agr :\n",
    "        tab.at[key,\"Before simplify\" ] = len(agr[key])\n",
    "    for key in agrS :\n",
    "        tab.at[key, \"After simplify\"] = len(agrS[key])\n",
    "    pd.options.display.float_format = '{:,.0f}'.format\n",
    "    return tab\n",
    "\n",
    "createTab(getMem(1,1))\n"
   ]
  },
  {
   "cell_type": "markdown",
   "metadata": {},
   "source": [
    "Maintenant, regardons avec Mem(1,2)"
   ]
  },
  {
   "cell_type": "code",
   "execution_count": 42,
   "metadata": {},
   "outputs": [
    {
     "data": {
      "text/html": [
       "<div>\n",
       "<style scoped>\n",
       "    .dataframe tbody tr th:only-of-type {\n",
       "        vertical-align: middle;\n",
       "    }\n",
       "\n",
       "    .dataframe tbody tr th {\n",
       "        vertical-align: top;\n",
       "    }\n",
       "\n",
       "    .dataframe thead th {\n",
       "        text-align: right;\n",
       "    }\n",
       "</style>\n",
       "<table border=\"1\" class=\"dataframe\">\n",
       "  <thead>\n",
       "    <tr style=\"text-align: right;\">\n",
       "      <th></th>\n",
       "      <th>Before simplify</th>\n",
       "      <th>After simplify</th>\n",
       "    </tr>\n",
       "  </thead>\n",
       "  <tbody>\n",
       "    <tr>\n",
       "      <th>IC</th>\n",
       "      <td>128</td>\n",
       "      <td>89</td>\n",
       "    </tr>\n",
       "    <tr>\n",
       "      <th>SC</th>\n",
       "      <td>896</td>\n",
       "      <td>731</td>\n",
       "    </tr>\n",
       "    <tr>\n",
       "      <th>IA</th>\n",
       "      <td>128</td>\n",
       "      <td>89</td>\n",
       "    </tr>\n",
       "    <tr>\n",
       "      <th>SA</th>\n",
       "      <td>896</td>\n",
       "      <td>731</td>\n",
       "    </tr>\n",
       "  </tbody>\n",
       "</table>\n",
       "</div>"
      ],
      "text/plain": [
       "    Before simplify  After simplify\n",
       "IC              128              89\n",
       "SC              896             731\n",
       "IA              128              89\n",
       "SA              896             731"
      ]
     },
     "execution_count": 42,
     "metadata": {},
     "output_type": "execute_result"
    }
   ],
   "source": [
    "createTab(getMem(1,2))"
   ]
  },
  {
   "cell_type": "markdown",
   "metadata": {},
   "source": [
    "Quel est le classement moyen des stratégies de chaque classe ?"
   ]
  },
  {
   "cell_type": "code",
   "execution_count": 43,
   "metadata": {},
   "outputs": [
    {
     "data": {
      "text/html": [
       "<div>\n",
       "<style scoped>\n",
       "    .dataframe tbody tr th:only-of-type {\n",
       "        vertical-align: middle;\n",
       "    }\n",
       "\n",
       "    .dataframe tbody tr th {\n",
       "        vertical-align: top;\n",
       "    }\n",
       "\n",
       "    .dataframe thead th {\n",
       "        text-align: right;\n",
       "    }\n",
       "</style>\n",
       "<table border=\"1\" class=\"dataframe\">\n",
       "  <thead>\n",
       "    <tr style=\"text-align: right;\">\n",
       "      <th></th>\n",
       "      <th>Mean of ranks</th>\n",
       "      <th>Mean of scores</th>\n",
       "    </tr>\n",
       "  </thead>\n",
       "  <tbody>\n",
       "    <tr>\n",
       "      <th>IC</th>\n",
       "      <td>4</td>\n",
       "      <td>400</td>\n",
       "    </tr>\n",
       "    <tr>\n",
       "      <th>SC</th>\n",
       "      <td>5</td>\n",
       "      <td>133</td>\n",
       "    </tr>\n",
       "    <tr>\n",
       "      <th>IA</th>\n",
       "      <td>5</td>\n",
       "      <td>0</td>\n",
       "    </tr>\n",
       "    <tr>\n",
       "      <th>SA</th>\n",
       "      <td>5</td>\n",
       "      <td>0</td>\n",
       "    </tr>\n",
       "  </tbody>\n",
       "</table>\n",
       "</div>"
      ],
      "text/plain": [
       "    Mean of ranks  Mean of scores\n",
       "IC              4             400\n",
       "SC              5             133\n",
       "IA              5               0\n",
       "SA              5               0"
      ]
     },
     "execution_count": 43,
     "metadata": {},
     "output_type": "execute_result"
    }
   ],
   "source": [
    "bag = getMem(1,1)\n",
    "e = Ecological(g, bag, 100)\n",
    "e.run()\n",
    "ranking = e.historic.iloc[e.generation].rank(0, method=\"min\", ascending=False)\n",
    "score = e.historic.iloc[e.generation]\n",
    "agr = getAgressivityClasses(bag)\n",
    "tab = pd.DataFrame(\n",
    "            np.nan, [\"IC\",\"SC\",\"IA\", \"SA\"], [\"Mean of ranks\",\"Mean of scores\"]\n",
    "        )\n",
    "for key in agr:\n",
    "    ranks = []\n",
    "    scores = []\n",
    "    for strat in agr[key]:\n",
    "        ranks += [ranking[strat.name]]\n",
    "        scores += [score[strat.name]]\n",
    "        \n",
    "    tab.at[key, \"Mean of ranks\"] = np.mean(ranks)\n",
    "    tab.at[key, \"Mean of scores\"] = np.mean(scores)\n",
    "    \n",
    "tab\n",
    "        "
   ]
  }
 ],
 "metadata": {
  "kernelspec": {
   "display_name": "Python 3",
   "language": "python",
   "name": "python3"
  },
  "language_info": {
   "codemirror_mode": {
    "name": "ipython",
    "version": 3
   },
   "file_extension": ".py",
   "mimetype": "text/x-python",
   "name": "python",
   "nbconvert_exporter": "python",
   "pygments_lexer": "ipython3",
   "version": "3.6.9"
  }
 },
 "nbformat": 4,
 "nbformat_minor": 2
}
