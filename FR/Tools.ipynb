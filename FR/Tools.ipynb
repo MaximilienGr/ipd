{
 "cells": [
  {
   "cell_type": "code",
   "execution_count": 19,
   "metadata": {},
   "outputs": [],
   "source": [
    "%run ../src/game.py\n",
    "%run ../src/ipd.py\n",
    "%run ../src/strategies.py\n",
    "%run ../src/tools.py\n",
    "dip =[(3,3),(0,5),(5,0),(1,1)]   # Dilemme du prisonnier\n",
    "g = Game(dip,['C','D'])\n"
   ]
  },
  {
   "cell_type": "markdown",
   "metadata": {},
   "source": [
    "# Evaluation par synthèse de sous-classes\n",
    "\n",
    "Les compétitions écologiques offrent un outil de mesure assez fiable de la robustesse d'une stratégies, mais encore insuffisant. Il se peut par exemple que certaines stratégies se sacrifient pour d'autres dans un schema *maitre-esclave*. Avoir une synthèse de centaines voir de milliers de compétitions écologiques dans lesquelles on a enlevé certaines stratégies mesure sans doute une meilleure robustesse. L'une des idées les plus simples consiste à calculer les n compétitions possibles que l'on peut faire en enlevant 1 stratégie à un ensemble de n stratégies. On appelle cette technique la technique des sous-classes.\n",
    "Nous définissions ici 3 fonctions permettant de réaliser ces sous-classes.\n",
    "- `subclasses(bag, n)` qui évalue tous les sous ensembles possibles de taille n dans la bage\n",
    "- `subclassesWithOneStrat(bag, n, strat)` qui évalue Strat dans tous les sous ensembles possibles de taille n dans la bage en ajoutant systématiquement la stratégie strat\n",
    "- `subclassesRandomWithOneStrat(p, bag, n, Strat)` qui réalise p competitions de n strategies choisies au hasard dans la bage dans lesquelles on rajoute systématiquement Strat\n",
    "\n",
    "Les évaluations réalisées dans ces fonctions sont des compétitions écologiques.\n",
    "\n",
    "Ces fonctions renvoient à la fin un tableau avec pour chaque stratégie, sa meilleure place, sa pire place, sa moyenne et son écart-type."
   ]
  },
  {
   "cell_type": "markdown",
   "metadata": {},
   "source": [
    "#### Un cas simple : toutes les compétitions de 3 stratégies parmi les classiques"
   ]
  },
  {
   "cell_type": "code",
   "execution_count": 12,
   "metadata": {},
   "outputs": [
    {
     "name": "stdout",
     "output_type": "stream",
     "text": [
      "          BestRank  WorstRank   RankAvg   RankStd\n",
      "tft            1.0        2.0  1.133333  0.351866\n",
      "softmajo       1.0        2.0  1.133333  0.351866\n",
      "spiteful       1.0        2.0  1.266667  0.457738\n",
      "gradual        1.0        2.0  1.333333  0.487950\n",
      "per_C          1.0        3.0  1.400000  0.632456\n",
      "per_D          1.0        3.0  2.533333  0.743223\n",
      "hardmajo       2.0        3.0  2.666667  0.487950\n"
     ]
    }
   ],
   "source": [
    "All_C = Periodic('C')\n",
    "All_D = Periodic('D')\n",
    "bag = [All_C, All_D, Tft(), Spiteful(), Gradual(), SoftMajority(), HardMajority()]\n",
    "subClasses(bag, 3)"
   ]
  },
  {
   "cell_type": "markdown",
   "metadata": {},
   "source": [
    "#### Un cas plus volumineux : toutes les stratégies Mem(1,1) avec une stratégie en moins à chaque fois\n",
    "Sachant qu'il y a 32 `mem(1,1)` cette opération réalise donc 32 compétitions de 31 stratégie. Notez que dans le cas de cette méthode, toutes les stratégies sont présentes (et absentes) exactement le même nombre de fois.\n"
   ]
  },
  {
   "cell_type": "code",
   "execution_count": null,
   "metadata": {},
   "outputs": [],
   "source": [
    "bag = getAllMemory(1,1)\n",
    "subClasses(bag, len(bag)-1)\n",
    "after = time.time()"
   ]
  },
  {
   "cell_type": "markdown",
   "metadata": {},
   "source": [
    "#### Test de la stratégie Spiteful avec tous les triplets de classiques\n",
    "Dans les cas des deux méthodes `subClassesWithOneStrat` seule la stratégie passée en paramètre participe à toutes les sous-classes (faisable pour des ensembles pas trop volumineux genre `mem(1,1)`). Dans la première elle participe à la totalité des sous-classes tandis qu'avec `subClassesRandomWithOneStrat` elle participe à un nombre fixé de sous classes de même taille mais prises aléatoirement (utilisable dans de gros ensembles comme `mem(2,2)`)."
   ]
  },
  {
   "cell_type": "code",
   "execution_count": null,
   "metadata": {},
   "outputs": [],
   "source": [
    "All_C = Periodic('C')\n",
    "All_D = Periodic('D')\n",
    "bag = [All_C, All_D, Tft(), Gradual(), SoftMajority(), HardMajority()]\n",
    "res  = subClassesWithOneStrat(bag, 3, Spiteful())\n",
    "#Pour afficher le tableau en entier : \n",
    "#res = subClassesWithOneStrat(bag, 3, Spiteful(), True)"
   ]
  },
  {
   "cell_type": "markdown",
   "metadata": {},
   "source": [
    "Il est à noter que les objets `subClassesWithOneStrat` et `subClassesRandomWithOneStrat` conservent le \n",
    "meilleur et le pire des tournois pour la stratégie `strat`\n",
    "Au moment de l'affichage du classement des sous-classes il est de ce fait possible d'afficher l'ensemble de stratégies qui a été favorable ou défavorable à la stratégie `Strat`."
   ]
  },
  {
   "cell_type": "code",
   "execution_count": null,
   "metadata": {},
   "outputs": [],
   "source": [
    "meilleureComp, pireComp, strategy = res\n",
    "print(\"La meilleure competition pour la stratégie \"+strategy.name +\" est : \")\n",
    "for strat in meilleureComp :\n",
    "    print(strat.name)"
   ]
  },
  {
   "cell_type": "markdown",
   "metadata": {},
   "source": [
    "#### 100 experiences de 10 stratégies prise au hasard dans mem(2,2) contre Gradual()\n",
    "Pour les `subclassesRandom`, si une stratégie n'a joué qu'une seule fois alors elle n'a pas d'écart-type (`NaN`); si elle n'a pas joué du tout alors toutes ses valeurs sont à `NaN` dans le tableau"
   ]
  },
  {
   "cell_type": "code",
   "execution_count": null,
   "metadata": {},
   "outputs": [],
   "source": [
    "bag = getAllMemory(2,2)\n",
    "res = subClassesRandomWithOneStrat(100,bag, 10, Gradual())\n",
    "#Pour afficher le tableau en entier : \n",
    "#subClassesRandomWithOneStrat(100, bag, 10, Gradual(), True)\n",
    "\n",
    "# Attention : cette expérience prend de l'ordre de 1mn"
   ]
  },
  {
   "cell_type": "markdown",
   "metadata": {},
   "source": [
    "On peut d'ailleurs vérifier la compétition la plus \"défavorable\" à Gradual \n",
    "(comme c'est un choix aléatoire, donc 2 éxécutions ne donneront pas systématiquement le même résultat)"
   ]
  },
  {
   "cell_type": "code",
   "execution_count": null,
   "metadata": {},
   "outputs": [],
   "source": [
    "bestComp, worstComp, strategy = res"
   ]
  },
  {
   "cell_type": "code",
   "execution_count": null,
   "metadata": {},
   "outputs": [],
   "source": [
    "bag = worstComp\n",
    "e2=Ecological(g,bag)\n",
    "e2.run()\n",
    "e2.drawPlot(None,None)\n",
    "evol=e2.historic\n",
    "print(evol.iloc[-1])\n",
    "print(e2.historic.iloc[e2.generation].rank(0, method=\"min\", ascending=False))"
   ]
  },
  {
   "cell_type": "markdown",
   "metadata": {},
   "source": [
    "## Tests de robustesse de MetaStratégie"
   ]
  },
  {
   "cell_type": "code",
   "execution_count": 13,
   "metadata": {},
   "outputs": [
    {
     "name": "stdout",
     "output_type": "stream",
     "text": [
      "Strategy ranking  : metastrat\n",
      "BestRank     2.000000\n",
      "WorstRank    6.000000\n",
      "RankAvg      5.757576\n",
      "RankStd      0.751262\n",
      "Name: metastrat, dtype: float64\n"
     ]
    }
   ],
   "source": [
    "metaStrat = MetaStrategy([Tft(), Periodic(\"C\"), Spiteful(), Periodic(\"CCD\")], 5)\n",
    "bag = getMem(1,1)+[Gradual()]\n",
    "res  = subClassesWithOneStrat(bag,len(bag)-1, metaStrat)"
   ]
  },
  {
   "cell_type": "code",
   "execution_count": 84,
   "metadata": {},
   "outputs": [
    {
     "name": "stdout",
     "output_type": "stream",
     "text": [
      "Strategy ranking  : metastrat\n",
      "BestRank     2.000000\n",
      "WorstRank    3.000000\n",
      "RankAvg      2.939394\n",
      "RankStd      0.242306\n",
      "Name: metastrat, dtype: float64\n"
     ]
    }
   ],
   "source": [
    "metaStrat = MetaStrategy([Tft(), Spiteful(), Prober(), Gradual()], 5)\n",
    "bag = getMem(1,1)+[Gradual()]\n",
    "res  = subClassesWithOneStrat(bag,len(bag)-1, metaStrat)"
   ]
  },
  {
   "cell_type": "code",
   "execution_count": 87,
   "metadata": {},
   "outputs": [
    {
     "name": "stdout",
     "output_type": "stream",
     "text": [
      "Strategy ranking  : metastrat\n",
      "BestRank     2.000000\n",
      "WorstRank    3.000000\n",
      "RankAvg      2.939394\n",
      "RankStd      0.242306\n",
      "Name: metastrat, dtype: float64\n"
     ]
    }
   ],
   "source": [
    "metaStrat = MetaStrategy([Tft(), Spiteful(), Gradual()], 5)\n",
    "bag = getMem(1,1)+[Gradual()]\n",
    "res  = subClassesWithOneStrat(bag,len(bag)-1, metaStrat)"
   ]
  },
  {
   "cell_type": "markdown",
   "metadata": {},
   "source": [
    "## Tests d'équivalence de stratégies\n",
    "\n",
    "`equivalence` est une fonction permettant d'évaluer si une liste de stratégies ont le même comportement face à une soupe de stratégies (en Tournoi). Elle renvoie True si toutes les stratégies sont équivalentes et False sinon."
   ]
  },
  {
   "cell_type": "code",
   "execution_count": 76,
   "metadata": {},
   "outputs": [
    {
     "data": {
      "text/plain": [
       "([(10, 6), (10, 6)], True)"
      ]
     },
     "execution_count": 76,
     "metadata": {},
     "output_type": "execute_result"
    }
   ],
   "source": [
    "def equivalence(l, soup, length):\n",
    "    res = []\n",
    "    for strat in l :\n",
    "        t = Tournament(g, soup+[strat], length)\n",
    "        t.run()\n",
    "        s = t.matrix[strat.name].to_string()\n",
    "        res += [tuple([int(i) for i in s.split() if i.isdigit()])] \n",
    "    return res, len(set(res)) < len(l)\n",
    "        \n",
    "        \n",
    "equivalence([Periodic(\"C\"), Periodic(\"C\")], [Periodic(\"D\"), Tft()], 10)\n",
    "equivalence([Periodic(\"CCCD\"), Periodic(\"CCDCD\")], [Periodic(\"D\")],2)"
   ]
  },
  {
   "cell_type": "code",
   "execution_count": 93,
   "metadata": {
    "scrolled": true
   },
   "outputs": [
    {
     "name": "stdout",
     "output_type": "stream",
     "text": [
      "1 strategies deleted. \n",
      "11 strategies deleted. \n"
     ]
    },
    {
     "data": {
      "text/plain": [
       "(21,\n",
       " [<__main__.Mem at 0x7fecd6403dd8>,\n",
       "  <__main__.Mem at 0x7fecd6403240>,\n",
       "  <__main__.Mem at 0x7fecd64033c8>,\n",
       "  <__main__.Mem at 0x7fecd64036d8>,\n",
       "  <__main__.Mem at 0x7fecd6403518>,\n",
       "  <__main__.Mem at 0x7fecd6403a58>,\n",
       "  <__main__.Mem at 0x7fecd64034a8>,\n",
       "  <__main__.Mem at 0x7fecd6403ac8>,\n",
       "  <__main__.Mem at 0x7fecd6403668>,\n",
       "  <__main__.Mem at 0x7fecd64030f0>,\n",
       "  <__main__.Mem at 0x7fecd6403c18>,\n",
       "  <__main__.Mem at 0x7fecd6403358>,\n",
       "  <__main__.Mem at 0x7fecd6403b38>,\n",
       "  <__main__.Mem at 0x7fecd6403588>,\n",
       "  <__main__.Mem at 0x7fecd6403f28>,\n",
       "  <__main__.Mem at 0x7fecd6403c88>,\n",
       "  <__main__.Mem at 0x7fecd6403748>,\n",
       "  <__main__.Mem at 0x7fecd64037b8>,\n",
       "  <__main__.Mem at 0x7fecd6403278>,\n",
       "  <__main__.Mem at 0x7fecd6403160>,\n",
       "  <__main__.Mem at 0x7fecd6403898>])"
      ]
     },
     "execution_count": 93,
     "metadata": {},
     "output_type": "execute_result"
    }
   ],
   "source": [
    "def simplify(soup, opponents , length):\n",
    "    res, b = equivalence(soup, opponents, length)\n",
    "    if b : \n",
    "        s = set(res)\n",
    "        s = list(s)\n",
    "        ind = []\n",
    "        for i in range(len(s)) :\n",
    "            ind += [res.index(s[i])]\n",
    "            \n",
    "        simplified = []\n",
    "        for i in range(len(ind)):\n",
    "            simplified += [soup[ind[i]]]\n",
    "        \n",
    "        print(\"{} strategies deleted. \".format(len(res)-len(simplified)))\n",
    "        return len(simplified), simplified\n",
    "    else : \n",
    "        return soup\n",
    "    \n",
    "simplify([Periodic(\"CCCD\"), Periodic(\"CCDCD\"), Periodic('D')], getMem(1,1), 2)\n",
    "simplify(getMem(1,1), [Periodic('C'), Periodic('D')], 10)\n",
    "        "
   ]
  },
  {
   "cell_type": "code",
   "execution_count": 96,
   "metadata": {
    "scrolled": true
   },
   "outputs": [
    {
     "name": "stdout",
     "output_type": "stream",
     "text": [
      "925 strategies deleted. \n",
      "843 strategies deleted. \n"
     ]
    },
    {
     "data": {
      "text/html": [
       "<div>\n",
       "<style scoped>\n",
       "    .dataframe tbody tr th:only-of-type {\n",
       "        vertical-align: middle;\n",
       "    }\n",
       "\n",
       "    .dataframe tbody tr th {\n",
       "        vertical-align: top;\n",
       "    }\n",
       "\n",
       "    .dataframe thead th {\n",
       "        text-align: right;\n",
       "    }\n",
       "</style>\n",
       "<table border=\"1\" class=\"dataframe\">\n",
       "  <thead>\n",
       "    <tr style=\"text-align: right;\">\n",
       "      <th></th>\n",
       "      <th>All strategies</th>\n",
       "      <th>After simplify</th>\n",
       "    </tr>\n",
       "  </thead>\n",
       "  <tbody>\n",
       "    <tr>\n",
       "      <th>Mem 1 1</th>\n",
       "      <td>32.0</td>\n",
       "      <td>21.0</td>\n",
       "    </tr>\n",
       "    <tr>\n",
       "      <th>Mem 1 2</th>\n",
       "      <td>1024.0</td>\n",
       "      <td>99.0</td>\n",
       "    </tr>\n",
       "    <tr>\n",
       "      <th>Mem 2 1</th>\n",
       "      <td>1024.0</td>\n",
       "      <td>181.0</td>\n",
       "    </tr>\n",
       "    <tr>\n",
       "      <th>Mem 2 2</th>\n",
       "      <td>2048.0</td>\n",
       "      <td>NaN</td>\n",
       "    </tr>\n",
       "  </tbody>\n",
       "</table>\n",
       "</div>"
      ],
      "text/plain": [
       "         All strategies  After simplify\n",
       "Mem 1 1            32.0            21.0\n",
       "Mem 1 2          1024.0            99.0\n",
       "Mem 2 1          1024.0           181.0\n",
       "Mem 2 2          2048.0             NaN"
      ]
     },
     "execution_count": 96,
     "metadata": {},
     "output_type": "execute_result"
    }
   ],
   "source": [
    "res12 = simplify(getMem(1,2), [Periodic('C'), Periodic('D')], 10)\n",
    "res21 = simplify(getMem(2,1), [Periodic('C'), Periodic('D')], 10)\n",
    "#res22 = simplify(getMem(2,2), [Periodic('C'), Periodic('D')], 10)\n",
    "\n",
    "tab = pd.DataFrame(\n",
    "        np.nan, [\"Mem 1 1\", \"Mem 1 2\", \"Mem 2 1\", \"Mem 2 2\"], [\"All strategies\", \"After simplify\"]\n",
    "    )\n",
    "tab.at[\"Mem 1 1\", \"All strategies\" ] = 32\n",
    "tab.at[\"Mem 1 2\", \"All strategies\" ] = 1024\n",
    "tab.at[\"Mem 2 1\", \"All strategies\" ] = 1024\n",
    "tab.at[\"Mem 2 2\", \"All strategies\" ] = 2048\n",
    "tab.at[\"Mem 1 1\", \"After simplify\" ] = 21\n",
    "tab.at[\"Mem 1 2\", \"After simplify\" ] = res12[0]\n",
    "tab.at[\"Mem 2 1\", \"After simplify\" ] = res21[0]\n",
    "#tab.at[\"Mem 2 2\", \"After simplify\" ] = res22[0]\n",
    "\n",
    "tab\n"
   ]
  }
 ],
 "metadata": {
  "kernelspec": {
   "display_name": "Python 3",
   "language": "python",
   "name": "python3"
  },
  "language_info": {
   "codemirror_mode": {
    "name": "ipython",
    "version": 3
   },
   "file_extension": ".py",
   "mimetype": "text/x-python",
   "name": "python",
   "nbconvert_exporter": "python",
   "pygments_lexer": "ipython3",
   "version": "3.6.8"
  }
 },
 "nbformat": 4,
 "nbformat_minor": 2
}
