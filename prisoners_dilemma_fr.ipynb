{
 "cells": [
  {
   "cell_type": "markdown",
   "metadata": {
    "colab_type": "text",
    "collapsed": true,
    "id": "yRbUtz__A1a_"
   },
   "source": [
    "# Le dilemme itéré du prisonnier\n",
    "\n",
    "Auteur : Philippe Mathieu, [CRISTAL Lab](http://www.cristal.univ-lille.fr), [SMAC team](https://www.cristal.univ-lille.fr/?rubrique27&eid=17), [Lille University](http://www.univ-lille.fr), email : philippe.mathieu@univ-lille.fr\n",
    "\n",
    "Contributeurs : Louisa Fodil (CRISTAL/SMAC), Céline Petitpré (CRISTAL/SMAC)\n",
    "\n",
    "Création : 18/01/2018\n",
    "\n",
    "## Introduction\n",
    "\n",
    "Le Dilemme du prisonnier (PD) est un jeu **simultané**, **à deux joueurs**, **à somme non nulle**, mis en évidence par Merill Flood & Melvin Dreschler en 1950 pour montrer que l'équilibre de Nash n'est pas toujours idéal. La version itérée du jeu (IPD) permet d'exprimer des stratégies qui se basent sur l'historique de jeu, et donc apprennent du passé. En 1980 Robert Axelrod organise un concours pour la version itérée du jeu dans lequel l'un des participants, Anatol Rappoport met en évidence la célèbre stratégie TFT. Cette version itérée et cette stratégie TFT sont populariséees en 1984 dans le livre de Robert Axelrod \"The Evolution of Cooperation\". Depuis, des milliers de publications ont été réalisées sur ce sujet, dans tous les domaines !\n",
    "\n",
    "Ce notebook a pour objectif de montrer comment établir et comparer des stratégies à ce jeu.\n",
    "\n",
    "On considère ici une classe `Game` permettant de coder un jeu\n",
    "\n",
    "----\n",
    "### Game(tab, actions)\n",
    "- `tab` : la liste des couples de scores\n",
    "- `actions` : la liste des stratégies possibles\n",
    "\n",
    "**Methodes**\n",
    "- `getDominantStrategies(self, strict='True')` qui imprime une liste d'indices des stratégies non dominées et qui renvoie un nouveau Game avec cette nouvelle matrice\n",
    "- `getNash(self)` qui renvoie une liste d'indices des équilibres de Nash\n",
    "- `getPareto(self)` qui renvoie une liste d'indices des équilibres de Pareto"
   ]
  },
  {
   "cell_type": "code",
   "execution_count": null,
   "metadata": {
    "colab": {},
    "colab_type": "code",
    "id": "m3GwEBZoA1bB"
   },
   "outputs": [],
   "source": [
    "%run Game.py\n",
    "\n",
    "dip =[(3,3),(0,5),(5,0),(1,1)]   # Dilemme du prisonnier\n",
    "g = Game(dip,['C','D'])\n",
    "g.getNash()"
   ]
  },
  {
   "cell_type": "markdown",
   "metadata": {
    "colab_type": "text",
    "id": "UUUxBWJNA1bI"
   },
   "source": [
    "# Une stratégie\n",
    "\n",
    "Une stratégie a pour objectif de décider du coup à jouer. Outre la matrice des gains, les informations disponibles pour une stratégie sont les coups joués par les deux joueurs dans le passé. Les stratégies les plus simples sont bien évidemment les stratégies qui ne prennent pas en compte ce passé, comme les stratégies qui jouent périodiquement la même séquence de coups. Pour assurer un principe d'autonomie de chaque agent, une stratégie est bien sur capable de fournir son prochain coup, mais s'occupe elle-même de stocker ses précédents coups si necessaire.\n",
    "\n",
    "#### Créons une classe de stratégies de ce type\n",
    "La classe que nous définissons ici est très simple : des stratégies qui jouent périodiquement les coups, sans réfléchir beaucoup ! Pour l'instant, elle n'est liée à aucun jeu puisque ce type de comportement peut se retrouver dans n'importe quel jeu."
   ]
  },
  {
   "cell_type": "code",
   "execution_count": null,
   "metadata": {
    "colab": {},
    "colab_type": "code",
    "id": "OMrjZ1ciA1bK"
   },
   "outputs": [],
   "source": [
    "from abc import abstractmethod\n",
    "class Strategy():\n",
    "    def setMemory(self,mem):\n",
    "        pass\n",
    "    \n",
    "    def getAction(self,tick):\n",
    "        pass\n",
    "    \n",
    "    def __copy__(self):\n",
    "        pass\n",
    "\n",
    "    def update(self,x,y):\n",
    "        pass\n",
    "    \n",
    "\n",
    "class Periodic(Strategy):\n",
    "    def __init__(self, sequence, name=None):\n",
    "        super().__init__()\n",
    "        self.sequence = sequence.upper()\n",
    "        self.step = 0\n",
    "        self.name = \"per_\"+sequence if (name == None) else name\n",
    "\n",
    "    def getAction(self,tick):\n",
    "        return self.sequence[tick % len(self.sequence)]\n",
    "\n",
    "    def clone(self):\n",
    "        object = Periodic(self.sequence, self.name)\n",
    "        return object\n",
    "\n",
    "    def update(self,x,y):\n",
    "        pass\n",
    "    \n",
    "print(\"All is ok\")"
   ]
  },
  {
   "cell_type": "markdown",
   "metadata": {},
   "source": [
    "#### Testons notre classe Periodic"
   ]
  },
  {
   "cell_type": "code",
   "execution_count": null,
   "metadata": {
    "colab": {},
    "colab_type": "code",
    "id": "EfyXlQEHA1bO",
    "outputId": "74d8e124-29e6-4706-fb27-7f606eb09335"
   },
   "outputs": [],
   "source": [
    "s1 = Periodic(\"abc\")\n",
    "print(s1.name,end=\"\\t\")\n",
    "for i in range (0,10):\n",
    "    print(s1.getAction(i), end=' ')\n",
    "# IL DOIT Y AVOIR 10 COUPS. çA COMMENCE PAR A ET çA FINIT PAR A    "
   ]
  },
  {
   "cell_type": "markdown",
   "metadata": {
    "colab_type": "text",
    "id": "_C-a0YOMA1bS"
   },
   "source": [
    "# Un meeting\n",
    "Un meeting est une rencontre de deux stratégies durant un certain nombre de coups à un jeu fixé. Le score de chacune est la somme des scores obtenus lors de chaque coup, conformément à la matrice du jeu."
   ]
  },
  {
   "cell_type": "code",
   "execution_count": null,
   "metadata": {
    "colab": {},
    "colab_type": "code",
    "id": "TKAUYaK8A1bU"
   },
   "outputs": [],
   "source": [
    "class Meeting :      \n",
    "    def __init__(self,game,s1,s2,length=1000):\n",
    "        self.game = game\n",
    "        self.s1=s1.clone()\n",
    "        self.s2=s2.clone()\n",
    "        self.length=length\n",
    "        self.nb_cooperation_s1 = 0\n",
    "        self.nb_cooperation_s2 = 0\n",
    "        \n",
    "    def reinit(self):\n",
    "        self.s1_score=0\n",
    "        self.s2_score=0\n",
    "        self.s1_rounds=\"\"\n",
    "        self.s2_rounds=\"\"\n",
    "    \n",
    "    def run(self):\n",
    "        self.reinit()\n",
    "        for tick in range(0,self.length):\n",
    "            c1=self.s1.getAction(tick).upper()\n",
    "            c2=self.s2.getAction(tick).upper()\n",
    "            if (c1 == \"C\"):\n",
    "                self.nb_cooperation_s1 +=1\n",
    "            if (c2 == \"C\"):\n",
    "                self.nb_cooperation_s2 +=1\n",
    "            self.s1_rounds+=c1\n",
    "            self.s2_rounds+=c2\n",
    "            self.s1.update(c1,c2)\n",
    "            self.s2.update(c2,c1)\n",
    "            act=self.game.actions\n",
    "            self.s1_score+=self.game.scores['x'][act.index(c1),act.index(c2)]\n",
    "            self.s2_score+=self.game.scores['y'][act.index(c1),act.index(c2)]\n",
    "            \n",
    "print(\"All is ok\")"
   ]
  },
  {
   "cell_type": "markdown",
   "metadata": {
    "colab_type": "text",
    "id": "68U3c_SQA1bY"
   },
   "source": [
    "Une rencontre entre deux stratégies est triviale : on initialise un jeu, on crée 2 stratégies, et on les passe au Meeting."
   ]
  },
  {
   "cell_type": "code",
   "execution_count": null,
   "metadata": {
    "colab": {},
    "colab_type": "code",
    "id": "0864WspmA1ba",
    "outputId": "64c3249c-3ee6-49d3-a2e3-815687254e17"
   },
   "outputs": [],
   "source": [
    "dip =[(3,3),(0,5),(5,0),(1,1)]   # Dilemme du prisonnier\n",
    "g = Game(dip,['C','D'])\n",
    "s1=Periodic(\"CCD\")\n",
    "s2=Periodic(\"DDC\")\n",
    "m = Meeting(g,s1,s2,10)\n",
    "m.run()\n",
    "print(m.s1.name+\"\\t\"+m.s1_rounds+\" \"+str(m.s1_score))\n",
    "print(m.s2.name+\"\\t\"+m.s2_rounds+\" \"+str(m.s2_score))\n",
    "# ON DOIT AVOIR 15,35\n",
    "print()\n",
    "print(\"Le nombre de coopérations : \" )\n",
    "print (m.s1.name+\"\\t\" + str(m.nb_cooperation_s1))\n",
    "print (m.s2.name+\"\\t\" + str(m.nb_cooperation_s2))"
   ]
  },
  {
   "cell_type": "markdown",
   "metadata": {
    "colab_type": "text",
    "id": "FDFZwmWaA1be"
   },
   "source": [
    "# Un tournoi\n",
    "\n",
    "Un tournoi s'applique à un ensemble de stratégies. Il consiste à faire se rencontrer tout couple de stratégies dans un meeting, y compris chaque stratégie contre elle-même. On appelle ce type de tournoi un \"round-robin\". On remplit ainsi une matrice carrée de scores. Dans un tel tournoi, le score de chaque stratégie est la somme des scores qu'elle a obtenue. La stratégie gagnante est celle qui obtient le score le plus grand.\n",
    "\n",
    "Un tournoi est maintenant défini à l'aide de 4 paramètres : le jeu sur lequel il s'applique, l'ensemble des stratégies évaluées, la longueur des parties, le nombre de répétitions effectuées\n"
   ]
  },
  {
   "cell_type": "code",
   "execution_count": null,
   "metadata": {
    "colab": {},
    "colab_type": "code",
    "id": "NvsSXzRpA1bf"
   },
   "outputs": [],
   "source": [
    "import pandas as pd\n",
    "import numpy as np\n",
    "\n",
    "class Tournament:\n",
    "    def __init__(self, game, strategies, length=1000, repeat=1):\n",
    "        self.strategies = strategies\n",
    "        self.game = game\n",
    "        self.length=length\n",
    "        self.repeat=repeat\n",
    "        size=len(strategies);\n",
    "        df = pd.DataFrame(np.zeros((size,size+1),dtype=np.int32))\n",
    "        df.columns, df.index = [s.name for s in self.strategies]+[\"Total\"], [s.name for s in self.strategies]\n",
    "        self.matrix = df\n",
    "        df2 = pd.DataFrame(np.zeros((size,size+1),dtype=np.int32))\n",
    "        df2.columns, df2.index = [s.name for s in self.strategies]+[\"Total\"], [s.name for s in self.strategies]\n",
    "        self.cooperations = df2\n",
    "\n",
    "    def run(self):\n",
    "        for k in range(self.repeat):\n",
    "            for i in range (0,len(self.strategies)):\n",
    "                for j in range (i,len(self.strategies)):\n",
    "                    meet = Meeting(self.game, self.strategies[i], self.strategies[j], self.length)\n",
    "                    meet.run()\n",
    "                    self.matrix.at[self.strategies[i].name, self.strategies[j].name] = meet.s1_score\n",
    "                    self.matrix.at[self.strategies[j].name, self.strategies[i].name] = meet.s2_score\n",
    "                    self.cooperations.at[self.strategies[i].name, self.strategies[j].name] = meet.nb_cooperation_s1\n",
    "                    self.cooperations.at[self.strategies[j].name, self.strategies[i].name] = meet.nb_cooperation_s2\n",
    "        self.matrix[\"Total\"] = self.matrix.sum(axis=1)\n",
    "        self.matrix.sort_values(by='Total', ascending=False, inplace=True)\n",
    "        rows = list(self.matrix.index) + [\"Total\"]\n",
    "        self.matrix = self.matrix.reindex(columns=rows)\n",
    "        self.cooperations[\"Total\"] = self.cooperations.sum(axis=1)\n",
    "        self.cooperations.sort_values(by='Total', ascending=False, inplace=True)\n",
    "        rows = list(self.cooperations.index) + [\"Total\"]\n",
    "        self.cooperations = self.cooperations.reindex(columns=rows)\n",
    "        \n",
    "print(\"All is ok\")"
   ]
  },
  {
   "cell_type": "markdown",
   "metadata": {},
   "source": [
    "#### Faisons un tournoi\n",
    "Le Dilemme des prisonniers est un jeu **à somme non nulle** : on ne gagne pas la même chose dans toutes les situations. Il est important de noter que dans le tournoi on ne compte pas le nombre de victoire mais le cumul des scores !"
   ]
  },
  {
   "cell_type": "code",
   "execution_count": null,
   "metadata": {
    "colab": {},
    "colab_type": "code",
    "id": "oXMo5n8BA1bi"
   },
   "outputs": [],
   "source": [
    "bag = []\n",
    "bag.append(Periodic('C'))\n",
    "bag.append(Periodic('D'))\n",
    "bag.append(Periodic('DDC'))\n",
    "bag.append(Periodic('CCD'))\n",
    "t=Tournament(g,bag,10)\n",
    "t.run()\n",
    "print(\"La matrice de scores : \")\n",
    "print(t.matrix)\n",
    "print()\n",
    "# SUR 10 COUPS : [('per_D', 120), ('per_DDC', 102), ('per_CCD', 78), ('per_C', 60)]\n",
    "print(\"La matrice de coopérations : \")\n",
    "print(t.cooperations)"
   ]
  },
  {
   "cell_type": "markdown",
   "metadata": {
    "colab_type": "text",
    "id": "Jnn5vuBuA1bm"
   },
   "source": [
    "## Générer des ensembles de stratégies\n",
    "\n",
    "Constituer une \"soupe\" de stratégies pour tester la performance d'une stratégie donnée peut être considéré comme subjectif. L'idéal est de constituer des soupes indiscutables, par exemple en constituant des ensembles de toutes les stratégies répondant à une contrainte globale.\n",
    "Nous pouvons par exemple constituer l'ensemble de toutes les périodiques de période 1 (il y en a 2) et/ou de période 2 (il y en a $2^2=4$) et/ou de période 3 (il y en a $2^3=8$), voir toutes ensembles.\n",
    "(on notera que l'on génère CCC qui correspond bien évidemment à CC ou C)\n"
   ]
  },
  {
   "cell_type": "code",
   "execution_count": null,
   "metadata": {
    "colab": {},
    "colab_type": "code",
    "id": "32Oxpz09A1bo",
    "outputId": "d3fe95b4-06a7-49f1-a7ab-68ce3aa43024"
   },
   "outputs": [],
   "source": [
    "import itertools\n",
    "cards = ['C','D']\n",
    "periodics = [p for p in itertools.product(cards, repeat=1)]+[p for p in itertools.product(cards, repeat=2)] + [p for p in itertools.product(cards, repeat=3)]\n",
    "strats = [Periodic(''.join(p)) for p in periodics] # join to transform in strings\n",
    "print(str(len(strats))+\" stratégies générées\")\n",
    "# 14 SONT GENEREES : 2 à un coup, 4 à deux coups, 8 à trois coups"
   ]
  },
  {
   "cell_type": "markdown",
   "metadata": {
    "colab_type": "text",
    "id": "kb4I4kJYA1br"
   },
   "source": [
    "# Les compétitions écologiques\n",
    "\n",
    "Les tournois donnent un classement interessant, mais insuffisant. Ils n'étudient pas la robustesse d'une stratégie selon le nombre de représentants des adversaires. La compétition écologique répond à ce problème : elle permet de faire varier les populations de chaque stratégie. Le principe d'une compétition écologique est très simple. Initialement, on considère `n` représentants de chacune des `s` stratégies évaluées. Les `n*s` représentants jouent tous les uns contre les autres dans un tournoi. à l'étape 1, les repésentants de chaque stratégie sont obtenus proportionnellement à leur réussite à l'étape précédente. Meilleur vous-êtes, plus vous aurez de descendants. Une compétition écologique oblige donc une stratégie à être robuste aux changement de nombre d'adversaires. Un classement écologique est donc plus \"robuste\" qu'un classement de tournoi. On compend immédiatement que pour être bien classé, il est préférable de très bien jouer contre ses propres congénères, puisqu'avec un peu de chance, ils seront de plus en plus nombreux.\n",
    "Une compétition écologique peut alors se représenter sur un graphique temporel, les générations en abscisse et les populations de chaque stratégie en ordonnée. On utilisera *matplotlib* pour calculer ces graphiques."
   ]
  },
  {
   "cell_type": "code",
   "execution_count": null,
   "metadata": {
    "colab": {},
    "colab_type": "code",
    "id": "o-i2hEqGA1bs"
   },
   "outputs": [],
   "source": [
    "import pandas\n",
    "import copy\n",
    "import math\n",
    "import matplotlib.pyplot as plt\n",
    "%matplotlib inline\n",
    "\n",
    "class Ecological:\n",
    "    def __init__(self, game, strategies, length=1000, repeat=1, pop=100):\n",
    "        self.strategies = strategies\n",
    "        self.pop = pop\n",
    "        self.game = game\n",
    "        self.length = length\n",
    "        self.generation = 0 #Numéro de la génération actuelle\n",
    "        self.base = pop*len(strategies)\n",
    "        self.historic = pandas.DataFrame(columns = [strat.name for strat in strategies])\n",
    "        self.historic.loc[0] = [pop for x in range (len(strategies))]\n",
    "        self.extinctions = dict((s.name,math.inf) for s in strategies)\n",
    "        self.cooperations =  dict((s.name,0) for s in strategies)\n",
    "        self.listeCooperations = list()\n",
    "        self.scores = dict((s.name,0) for s in strategies)\n",
    "        self.tournament = Tournament(self.game, self.strategies,length,repeat)\n",
    "        self.tournament.run()\n",
    "        \n",
    "    def run(self):\n",
    "        dead = 0\n",
    "        stab = False\n",
    "        while ((self.generation < 1000) and (stab==False)):\n",
    "            parents = list(copy.copy(self.historic.loc[self.generation]))\n",
    "            for i in range (len(self.strategies)):\n",
    "                strat=self.strategies[i].name\n",
    "                if (self.historic.at[self.generation, strat] != 0):\n",
    "                    score = 0\n",
    "                    cooperations = 0\n",
    "                    for j in range(len(self.strategies)): \n",
    "                        strat2 = self.strategies[j].name\n",
    "                        if (self.historic.at[self.generation, strat2] != 0):\n",
    "                            if i==j:\n",
    "                                score+=(self.historic.at[self.generation, strat]-1)*self.tournament.matrix.at[strat,strat2]\n",
    "                                cooperations+=(self.historic.at[self.generation, strat]-1)*self.tournament.cooperations.at[strat,strat2]\n",
    "                            else:\n",
    "                                score+=self.historic.at[self.generation, strat2]*self.tournament.matrix.at[strat,strat2]\n",
    "                                cooperations+=self.historic.at[self.generation, strat2]*self.tournament.cooperations.at[strat,strat2]\n",
    "                        self.scores[strat] = score\n",
    "                        self.cooperations[strat] = cooperations\n",
    "                    \n",
    "            total = 0\n",
    "            totalCooperations = 0\n",
    "            for strat in self.strategies:\n",
    "                total+=self.scores[strat.name]*self.historic.at[self.generation, strat.name]\n",
    "                totalCooperations += self.cooperations[strat.name]*self.historic.at[self.generation, strat.name]\n",
    "            for strat in self.strategies:        \n",
    "                parent = self.historic.at[self.generation, strat.name]\n",
    "                if (self.scores[strat.name] != 0):\n",
    "                    self.historic.at[self.generation+1, strat.name] = math.floor(self.base*parent*self.scores[strat.name]/total)\n",
    "                elif (self.scores[strat.name] == 0):\n",
    "                    self.historic.at[self.generation+1, strat.name] = 0\n",
    "                    dead += 1\n",
    "                if ((parent!=0) and (self.historic.at[self.generation+1, strat.name] == 0)):\n",
    "                    self.extinctions[strat.name] = self.generation+1\n",
    "                elif (self.historic.at[self.generation+1, strat.name] != 0):\n",
    "                    self.extinctions[strat.name] = self.historic.at[self.generation+1, strat.name]*1000\n",
    "                if (dead == len(self.strategies) - 1):\n",
    "                    stab = True\n",
    "            self.listeCooperations.append(totalCooperations/(self.base*self.length*len(self.strategies)))\n",
    "            self.generation+=1\n",
    "            if (parents == list(self.historic.loc[self.generation])):stab = True\n",
    "        trie = sorted(self.extinctions.items(), key=lambda t:t[1], reverse=True)\n",
    "        df_trie = pandas.DataFrame()\n",
    "        for t in trie :\n",
    "            df_trie[t[0]]=self.historic[t[0]]\n",
    "        self.historic = df_trie\n",
    "        return self.historic\n",
    "\n",
    "    def saveData(self):\n",
    "        date = datetime.datetime.now()\n",
    "        self.historic.to_csv(str(date)+'.csv', sep=';', encoding='utf-8')\n",
    "\n",
    "    def drawPlot(self,nbCourbes=None,nbLegends=None):\n",
    "        nbCourbes = len(self.strategies) if (nbCourbes==None) else nbCourbes\n",
    "        nbLegends = len(self.strategies) if (nbLegends==None) else nbLegends\n",
    "        strat = self.historic.columns.tolist()\n",
    "        for i in range(nbCourbes):\n",
    "            plt.plot(self.historic[strat[i]], label=strat[i] if (i<nbLegends) else '_nolegend_')\n",
    "        plt.legend(bbox_to_anchor=(0, 1), loc=2, borderaxespad=0.)\n",
    "        plt.ylabel('Population')\n",
    "        plt.xlabel('Generation')\n",
    "        plt.show()\n",
    "        #date = datetime.datetime.now()\n",
    "        #plt.savefig(str(date)+'.png', dpi=1000)\n",
    "    \n",
    "    def drawCooperations(self):\n",
    "        plt.plot(self.listeCooperations)\n",
    "        plt.ylabel('Pourcentage de cooperations')\n",
    "        plt.xlabel('Generation')\n",
    "        plt.ylim(0, 101)\n",
    "        plt.show()\n",
    "      \n",
    "print(\"All is ok\")"
   ]
  },
  {
   "cell_type": "markdown",
   "metadata": {},
   "source": [
    "#### Réaliser une compétition écologique avec All_C (qui coopère toujours) et All_D (qui trahit toujours)\n",
    "Un fois la compétition réalisée, il est possible d'afficher la courbe, l'évolution de la population et l'évolution des coopérations."
   ]
  },
  {
   "cell_type": "code",
   "execution_count": null,
   "metadata": {
    "scrolled": true
   },
   "outputs": [],
   "source": [
    "gentille = Periodic(\"C\",\"All_C\")\n",
    "mechante = Periodic(\"D\",\"All_D\")\n",
    "eco = Ecological(g, [gentille, mechante])\n",
    "eco.run()\n",
    "print(\"Evolution de la population\")\n",
    "eco.drawPlot()\n",
    "print(\"Historique de la population\")\n",
    "print(eco.historic)\n",
    "print(\"Evolution des cooperations\")\n",
    "eco.drawCooperations()"
   ]
  },
  {
   "cell_type": "code",
   "execution_count": null,
   "metadata": {},
   "outputs": [],
   "source": [
    "# EXERCICE\n",
    "\n",
    "# Faire la même chose avec All_C , All_D, Periodic(\"CDD\") et Periodic(\"CCD\")\n",
    "gentille = Periodic(\"C\",\"All_C\")\n",
    "mechante = Periodic(\"D\",\"All_D\")\n",
    "eco = Ecological(g, [gentille, mechante, Periodic('CDD'), Periodic(\"CCD\")])\n",
    "eco.run()\n",
    "print(\"Evolution de la population\")\n",
    "eco.drawPlot()\n",
    "print(\"Historique de la population\")\n",
    "print(eco.historic)\n",
    "print(\"Evolution des cooperations\")\n",
    "eco.drawCooperations()"
   ]
  },
  {
   "cell_type": "markdown",
   "metadata": {
    "colab_type": "text",
    "id": "tDULeYlnA1b0"
   },
   "source": [
    "# Des stratégies réactives\n",
    "Les stratégies sont dites \"réactives\" si leurs actions dépendent des actions passées de l'adversaire. Certaines sont très simples à comprendre. Parmi les plus célèbres, on trouve\n",
    "- `Tft` (abbréviation de \"tit for tat\" ou de \"donnant donnant\" comme on dirait en Français, et qui joue simplement la même chose que l'adversaire au coup précédent\n",
    "- `Spiteful`(ou Rancinière en Français) qui coopère tant que l'adversaire a coopéré, mais qui ne lui pardonne jamais s'il a trahi une fois "
   ]
  },
  {
   "cell_type": "code",
   "execution_count": null,
   "metadata": {
    "colab": {},
    "colab_type": "code",
    "id": "gr7FFb_0A1b1",
    "outputId": "41a4f22d-c414-483d-ec1c-c431153e6127"
   },
   "outputs": [],
   "source": [
    "class Tft(Strategy):\n",
    "    def __init__(self):\n",
    "        super().__init__()\n",
    "        self.name = \"tft\"\n",
    "        self.hisPast=\"\"\n",
    "        \n",
    "    def getAction(self,tick):\n",
    "        return 'C' if (tick==0) else self.hisPast[-1]\n",
    "\n",
    "    def clone(self):\n",
    "        return Tft()\n",
    "\n",
    "    def update(self,my,his):\n",
    "        self.hisPast+=his\n",
    "    \n",
    "    \n",
    "class Spiteful(Strategy):\n",
    "    def __init__(self):\n",
    "        super().__init__()\n",
    "        self.name = \"spiteful\"\n",
    "        self.hisPast=\"\"\n",
    "        self.myPast=\"\"\n",
    "        \n",
    "    def getAction(self,tick):\n",
    "        if (tick==0):\n",
    "                return 'C'\n",
    "        if (self.hisPast[-1]=='D' or self.myPast[-1]=='D') :\n",
    "            return 'D'\n",
    "        else :\n",
    "            return 'C'\n",
    "\n",
    "    def clone(self):\n",
    "        return Spiteful()\n",
    "\n",
    "    def update(self,my,his):\n",
    "        self.myPast+=my\n",
    "        self.hisPast+=his\n",
    "\n",
    "print(\"All is ok\")"
   ]
  },
  {
   "cell_type": "markdown",
   "metadata": {},
   "source": [
    "#### Comportement de ces stratégies réactives\n",
    "Vérifions le comportement de ces deux nouvelles stratégies face à `Periodic(\"CCD\")` dans un Meeting."
   ]
  },
  {
   "cell_type": "code",
   "execution_count": null,
   "metadata": {},
   "outputs": [],
   "source": [
    "m = Meeting(g,Tft(),Periodic(\"CCD\"),10)\n",
    "m.run()\n",
    "print(m.s1.name+\"\\t\"+m.s1_rounds+\" \"+str(m.s1_score))\n",
    "print(m.s2.name+\"\\t\"+m.s2_rounds+\" \"+str(m.s2_score))\n",
    "print(\"\")\n",
    "m = Meeting(g,Spiteful(),Periodic(\"CCD\"),10)\n",
    "m.run()\n",
    "print(m.s1.name+\"\\t\"+m.s1_rounds+\" \"+str(m.s1_score))\n",
    "print(m.s2.name+\"\\t\"+m.s2_rounds+\" \"+str(m.s2_score))\n"
   ]
  },
  {
   "cell_type": "code",
   "execution_count": null,
   "metadata": {},
   "outputs": [],
   "source": [
    "# Exercice\n",
    "\n",
    "# Réaliser une compétititon écologique avec 5 stratégies : All_C, All_D, Tft et Periodic(\"CCD\")\n",
    " \n",
    "eco = Ecological(g, [Periodic('C',\"All_C\"),Periodic('D',\"All_D\"),Periodic('CCD'),Tft()])\n",
    "eco.run()\n",
    "plt.figure(figsize=(10,8))    # pour définir la taille de la figure\n",
    "eco.drawPlot()\n",
    "eco.drawCooperations()\n",
    "# DANS CETTE EXPERIENCE, All_D GAGNE LE TOURNOI, MAIS C'EST TFT QUI GAGNE LA COMPETITION ECOLOGIQUE !"
   ]
  },
  {
   "cell_type": "markdown",
   "metadata": {},
   "source": [
    "Cette expérience illustre clairement les phénomènes de type proies/prédateurs qui se produisent. `All_D` gagne le tournoi, elle augmente donc en population. Mais son gain se fait principalement au détriment de `All_C`. Si ce dernier périclite, alors `All_D` périclite aussi faute de stratégie à exploiter. En résulte une magnifique inversion de tendance. Gagner un tournoi, n'est pas gagner une compétition écologique.\n",
    "Si on regarde l'évolution de la coopération, un autre phénomène apparaît : l'émergence d'une coopération généralisée : sans aucun système de régulation, on est passé de 60% de coopération, à moins de 40% de coopération pour finir à 100% de coopération !\n",
    "\n",
    "Quelques points fondamentaux :\n",
    "- Il existe une infinité de stratégies\n",
    "- il n'y a pas de bonne stratégie dans l'absolu. Il n'y a que des stratégies qui se comportent bien \"en général\". On ne peut pas jouer optimalement contre tout le monde, notamment à cause du premier coup\n",
    "- `Tft` ne gagne jamais contre personne\n",
    "- `All_D` ne perd jamais contre personne\n",
    "- C'est un jeu à somme non nulle : l'important n'est pas de gagner des meetings mais de gagner des points ! Periodic('D') ne perd jamais mais à quel prix ! à faire toujours la guerre, il ne ramène que très peu de points\n",
    "- Alexrod le disait déjà : pour être bon à ce jeu il faut :\n",
    "    - ne pas être agressif (ne pas trahir le premier)\n",
    "    - être réactif\n",
    "    - savoir pardonner\n",
    "- C'est le cas de `Tft` qui se comporte très bien en général, mais depuis Rappoport on a trouvé beaucoup mieux !\n",
    "- Sans aucun système de régulation, il y a la plupart du temps **émergence de la coopération**"
   ]
  },
  {
   "cell_type": "code",
   "execution_count": null,
   "metadata": {
    "colab": {},
    "colab_type": "code",
    "id": "NqyMG-t1A1b6"
   },
   "outputs": [],
   "source": [
    "# Accès aux données des DataFrame\n",
    "\n",
    "# Attention ! avec un dataframe df\n",
    "# chaque colonne nommée peut etre utilisée comme attribut\n",
    "# Si on met un seul crochet, c'est une colonne\n",
    "# donc tournoi.Total et tournoi['Total'] c'est pareil\n",
    "# \n",
    "# si on met des crochets directs c'est df[Col][Lig]\n",
    "# que l'on peut donc aussi écrire df.Col[lig]\n",
    "# Si on utilise les fonctions loc, iloc et at, c'est df.iloc[lig,col]\n",
    "# donc tournoi['Total'][1] est équivalent à tournoi.iloc[1,4]\n",
    "# Par ailleurs, par défaut le dataframe utilise des entiers comme index\n",
    "# dans iloc, on met des index ... sauf si on utilise la notation a:b auquel cas ce sont des adresses relatives\n",
    "\n",
    "tournoi=eco.tournament.matrix\n",
    "#print(\"--- La matrice complète du tournoi triée\")\n",
    "#print(tournoi) \n",
    "#print(\"--- Les gagnants du tournoi\")\n",
    "#print(tournoi['Total']) \n",
    "#print(\"--- Les 3 premiers gagnants du tournoi\")\n",
    "#print(tournoi['Total'][0:3])\n",
    "#print(\"--- Les gagnants qui ont fait plus de 10000\")\n",
    "#print(tournoi['Total'][tournoi['Total']>10000])\n",
    "\n",
    "\n",
    "evol=eco.historic\n",
    "#print(\"--- L'historique complet trié\")\n",
    "#print(evol)\n",
    "#print(\"--- Les populations finales classées\")\n",
    "#print(evol.iloc[eco.generation])\n",
    "#print(evol.iloc[-1])\n",
    "#print(evol.tail(1))\n",
    "#print(\"--- Les 2 premiers de la compétition\")\n",
    "#print(evol.iloc[-1][0:2]) \n",
    "#print(\"--- Les derniers survivants\")\n",
    "#print(evol.iloc[-1][evol.iloc[-1]>0]) \n",
    "#print(\"--- la ligne quand tft=340 ?\")\n",
    "#evol.loc[evol.tft==340]\n",
    "#print(\"--- A quel indice per_C et per_D se croisent ?\")\n",
    "#print(evol.loc[evol.per_C > evol.per_D].loc[evol.per_D!=0])\n",
    "# Ecrire l'équivalent de select * from evol where ...\n",
    "#evol.loc[(evol.tft>300) & (evol.per_D>0)]\n",
    "# depuis pandas0.13  ... s'écrit\n",
    "#evol.query('tft>300 & per_D>0')\n",
    "\n",
    "#eco.drawPlot()\n"
   ]
  },
  {
   "cell_type": "markdown",
   "metadata": {},
   "source": [
    "#### Deux autres stratégies réactives classiques\n",
    "cette fois ce sont des stratégies qui se basent sur le coup majoritairement joué par l'adversaire\n",
    "- `SoftMajority` : Elle joue le coup majoritaire joué par l'adversaire dans le passé. En cas d'égalité elle coopère.\n",
    "- `HardMajority`\n",
    "La différence entre `SoftMajority` et `HardMajority` est ténue. Il est à noter que `HardMajority` est spontanément agressive. cette caractéristique fait qu'elle se comportera d'une manière générale nettement moins bien que `SoftMajority`"
   ]
  },
  {
   "cell_type": "code",
   "execution_count": null,
   "metadata": {},
   "outputs": [],
   "source": [
    "# EXERCICE\n",
    "\n",
    "# Coder SoftMajority qui joue ce qu'a joué son adversaire en majorité. En cas d'égalité, elle joue coopérer\n",
    "\n",
    "class SoftMajority(Strategy):\n",
    "    def __init__(self):\n",
    "        super().__init__()\n",
    "        self.name = \"softmajo\"\n",
    "        self.nbCooperations = 0\n",
    "        self.nbTrahisons = 0\n",
    "        \n",
    "    def getAction(self,tick):\n",
    "        if (self.nbCooperations >= self.nbTrahisons):\n",
    "            return 'C'\n",
    "        else :\n",
    "            return 'D'\n",
    "\n",
    "    def clone(self):\n",
    "        return SoftMajority()\n",
    "\n",
    "    def update(self,my,his):\n",
    "        if (his == 'C'):\n",
    "            self.nbCooperations += 1\n",
    "        elif (his == 'D'):\n",
    "            self.nbTrahisons += 1\n",
    "            \n",
    "# Coder HardMajority qui joue ce qu'a joué son adversaire en majorité. En cas d'égalité, elle joue trahir\n",
    "            \n",
    "class HardMajority(Strategy):\n",
    "    def __init__(self):\n",
    "        super().__init__()\n",
    "        self.name = \"hardmajo\"\n",
    "        self.nbCooperations = 0\n",
    "        self.nbTrahisons = 0\n",
    "        \n",
    "    def getAction(self,tick):\n",
    "        if (self.nbCooperations > self.nbTrahisons):\n",
    "            return 'C'\n",
    "        else :\n",
    "            return 'D'\n",
    "\n",
    "    def clone(self):\n",
    "        return HardMajority()\n",
    "\n",
    "    def update(self,my,his):\n",
    "        if (his == 'C'):\n",
    "            self.nbCooperations += 1\n",
    "        elif (his == 'D'):\n",
    "            self.nbTrahisons += 1\n",
    "            \n",
    "# Coder Gradual. Gradual coopere au premier coup, puis si l'adversaire vient de la trahir pour la nieme fois, \n",
    "# entre dans une periode de réétortion (trahisons successives) de n coups suivie de 2 coups de coopération \n",
    "# qui joue ce qu'a joué son adversaire en majorité.\n",
    "\n",
    "class Gradual(Strategy):\n",
    "    def __init__(self):\n",
    "        super().__init__()\n",
    "        self.name = \"gradual\"\n",
    "        self.nbTrahisons = 0\n",
    "        self.punish = 0\n",
    "        self.calm = 0\n",
    "    def getAction(self,tick):\n",
    "        if (tick==0) : return 'C'\n",
    "        if self.punish > 0 :\n",
    "            self.punish-=1\n",
    "            return 'D'\n",
    "        if self.calm > 0 :\n",
    "            self.calm-=1\n",
    "            return 'C'\n",
    "        if self.hisLast=='D' : \n",
    "            self.punish=self.nbTrahisons - 1\n",
    "            self.calm=2\n",
    "            return 'D'\n",
    "        else: return 'C'\n",
    "\n",
    "    def clone(self):\n",
    "        return Gradual()\n",
    "\n",
    "    def update(self,my,his):\n",
    "        self.hisLast=his\n",
    "        if (his == 'D'):\n",
    "            self.nbTrahisons += 1\n",
    "  \n",
    "print(\"All is ok\")"
   ]
  },
  {
   "cell_type": "code",
   "execution_count": null,
   "metadata": {},
   "outputs": [],
   "source": [
    "# Vérifiez leur fonctionnement en Meeting l'une contre l'autre sur 20 tours (on doit avoir DCDCDCDCDC pour hard et CDCDCDCDCD pour soft)\n",
    "m = Meeting(g,HardMajority(),SoftMajority(),20)\n",
    "m.run()\n",
    "print(m.s1.name+\"\\t\"+m.s1_rounds+\" \"+str(m.s1_score))\n",
    "print(m.s2.name+\"\\t\"+m.s2_rounds+\" \"+str(m.s2_score))\n",
    "print()\n",
    "\n",
    "# Vérifiez Gradual contre Periodic(\"CD\") sur 40 coups\n",
    "m = Meeting(g,Periodic(\"CD\"),Gradual(),40)\n",
    "m.run()\n",
    "print(m.s1.name+\"\\t\"+m.s1_rounds+\" \"+str(m.s1_score))\n",
    "print(m.s2.name+\"\\t\"+m.s2_rounds+\" \"+str(m.s2_score))\n"
   ]
  },
  {
   "cell_type": "markdown",
   "metadata": {
    "colab_type": "text",
    "id": "h6IL_hTRA1b9"
   },
   "source": [
    "## La famille Memory"
   ]
  },
  {
   "cell_type": "code",
   "execution_count": null,
   "metadata": {
    "colab": {},
    "colab_type": "code",
    "id": "nDqpxI2FA1b_",
    "outputId": "483ee578-ca75-454a-caef-5c8db14269c4"
   },
   "outputs": [],
   "source": [
    "class Mem(Strategy):\n",
    "    def __init__(self, x, y, genome, name=None):\n",
    "        self.name = name\n",
    "        self.x = x\n",
    "        self.y = y\n",
    "        self.genome = genome\n",
    "        if (name == None): #Nom par défaut si l'utilisateur ne le définit pas\n",
    "            self.name = genome\n",
    "        self.myMoves = [] #contains my x last moves\n",
    "        self.itsMoves = [] #contains its y last moves\n",
    "\n",
    "    def clone(self):\n",
    "        return Mem(self.x, self.y, self.genome, self.name)\n",
    "\n",
    "    def getAction(self, tick):\n",
    "        if (tick < max(self.x, self.y)):\n",
    "            return self.genome[tick]\n",
    "        cpt = 0\n",
    "        for i in range(self.x-1,-1,-1):\n",
    "            cpt*=2\n",
    "            if (self.myMoves[i] == 'D'):\n",
    "                cpt+=1\n",
    "        for i in range(self.y-1,-1,-1):\n",
    "            cpt*=2\n",
    "            if (self.itsMoves[i] == 'D'):\n",
    "                cpt+=1\n",
    "        cpt += max(self.x, self.y)\n",
    "        return self.genome[cpt]\n",
    "\n",
    "    def update(self, myMove, itsMove):\n",
    "        if (self.x > 0):\n",
    "            if(len(self.myMoves) == self.x):\n",
    "                del self.myMoves[0]\n",
    "            self.myMoves.append(myMove)\n",
    "        if (self.y > 0):\n",
    "            if(len(self.itsMoves) == self.y):\n",
    "                del self.itsMoves[0]\n",
    "            self.itsMoves.append(itsMove)\n",
    "            \n",
    "print(\"All is ok\")"
   ]
  },
  {
   "cell_type": "markdown",
   "metadata": {},
   "source": [
    "On notera qu'un grand nombre de stratégies très connues se décrivent sous la forme d'une `memory(X,Y)`<br>\n",
    "Mem(0,0,'C','allc')<br>\n",
    "Mem(0,0,'D','alld')<br>\n",
    "Mem(1,0,'cDC','percd')<br>\n",
    "Mem(1,0,'dDC','perdc')<br>\n",
    "Mem(0,1,'cCD','tft')<br>\n",
    "Mem(0,1,'dCD','mistrust')<br>\n",
    "Mem(1,1,'cCDDD','spiteful')<br>\n",
    "Mem(1,1,'cCDDC','pavlov')<br>\n",
    "Mem(0,2,'ccCCCD','tf2t')<br>\n",
    "Mem(0,2,'ccCDDD','hard_tft')<br>\n",
    "Mem(1,2,'ccCCCDCDDD','slow_tft')<br>\n",
    "Mem(1,2,'ccCDCDDCDD','winner12')<br>\n",
    "Mem(1,2,'','tft_spiteful')<br>\n",
    "Mem(1,2,'ccCDDDDDDD','spiteful_cc')<br>"
   ]
  },
  {
   "cell_type": "code",
   "execution_count": null,
   "metadata": {},
   "outputs": [],
   "source": [
    "# Exercice :  Petit test d'équivalence : Faire deux tournois avec Gentille, Mechante, Tft, Spiteful, Periodic('CD') et Periodic('DC').\n",
    "# Le premier en utilisant Periodic, Tft() et Spiteful()\n",
    "# Le deuxieme en utilisant seulement des Mem(x,y,\"\",name)\n",
    "# Vérifier l'équivalence en imprimant la matrice du tournoi\n",
    "\n",
    "bag1 = [Periodic('C'),Periodic('D'),Tft(),Spiteful(),Periodic('CD'),Periodic('DC')]\n",
    "t1=Tournament(g,bag1,100)\n",
    "t1.run()\n",
    "print(t1.matrix)\n",
    "print()\n",
    "\n",
    "bag2 = [Mem(0,0,'C','allc'),Mem(0,0,'D','alld'),Mem(0,1,'cCD','tft'),\n",
    "        Mem(1,1,'cCDDD','spiteful'),Mem(1,0,'cDC','percd'),Mem(1,0,'dDC','perdc')]\n",
    "t2=Tournament(g,bag2,100)\n",
    "t2.run()\n",
    "print(t2.matrix)"
   ]
  },
  {
   "cell_type": "markdown",
   "metadata": {
    "colab_type": "text",
    "id": "yjoBoqSjA1cD"
   },
   "source": [
    "## Les générer toutes\n",
    "Pour une famille Mem(x,y), le génome est de taille `max(x,y)`pour l'amorce plus `2^(x+y)` pour toutes les situations s du passé sur `x` coups de l'un et `y` coups de l'autre. Il y a donc `2^(max(x,y)+2^(x+y))` strategies à générer. Pour obtenir tous ces éléments il suffit donc de calculer toutes les instanciations possibles de C et D dans le génome, ce qui se fait, encore une fois , avec un produit cartésien.\n",
    "\n",
    "| famille  | longueur | nombre   |\n",
    "|         :-:   |     :-:     | :-:    |\n",
    "| mem(0,1) | 1+2^1 = 3        | 2^3 = 8 |\n",
    "| mem(1,0) | 1+2^1 = 3        | 2^3 = 8 |\n",
    "| mem(1,1) | 1+2^2 = 5        | 2^5 = 32 |\n",
    "| mem(2,0) | 2+2^2 = 6        | 2^6 = 64 |\n",
    "| mem(1,2) | 2+2^3 = 10       | 2^10 = 1024 |\n",
    "| mem(2,1) | 2+2^3 = 10       | 2^10 = 1024 |\n",
    "| mem(2,2) | 2+2^4 = 18       | 2^18 = 262144 |\n"
   ]
  },
  {
   "cell_type": "code",
   "execution_count": null,
   "metadata": {
    "colab": {},
    "colab_type": "code",
    "id": "AqEYefYhA1cE",
    "outputId": "8fb51be4-2c0e-416c-e94e-ba8c6feba5c2"
   },
   "outputs": [],
   "source": [
    "def getAllMemory(x,y):\n",
    "    if (x+y > 4):\n",
    "        return \"Pas calculable\"\n",
    "    len_genome = max(x,y)+2**(x+y)\n",
    "    permut = [p for p in itertools.product(['C','D'], repeat=len_genome)]\n",
    "    genomes = [''.join(p) for p in permut]\n",
    "    return [Mem(x,y,gen) for gen in genomes]\n",
    "\n",
    "\n",
    "print(\"Dans Mem(1,1) il y a \"+ str(len(getAllMemory(1,1))) + \" stratégies\")"
   ]
  },
  {
   "cell_type": "markdown",
   "metadata": {
    "colab_type": "text",
    "id": "pFGz8Y23A1cJ"
   },
   "source": [
    "## La compétition des Mem(1,1)"
   ]
  },
  {
   "cell_type": "code",
   "execution_count": null,
   "metadata": {
    "colab": {},
    "colab_type": "code",
    "id": "5HDTk_oaA1cK"
   },
   "outputs": [],
   "source": [
    "bag3=getAllMemory(1,1)\n",
    "e2=Ecological(g,bag3)\n",
    "e2.run()\n",
    "e2.drawPlot(None,4)\n",
    "evol=e2.historic\n",
    "print(evol.iloc[-1][evol.iloc[-1]>0])\n",
    "# Seules 4 survivent : mem11_cCDDD-spite 2126  , mem11_cCDCD-tft 701 , mem11_cCDDC-pavlov 214 , mem11_cCDCC 158"
   ]
  },
  {
   "cell_type": "markdown",
   "metadata": {
    "colab_type": "text",
    "id": "F5T0vHhkA1cO"
   },
   "source": [
    "# Evaluation par synthèse de sous-classes\n",
    "\n",
    "Les compétitions écologiques offrent un outil de mesure assez fiable de la robustesse d'une stratégies, mais encore insuffisant. Il se peut par exemple que certaines stratégies se sacrifient pour d'autres dans un schema *maitre-esclave*. Avoir une synthèse de centaines voir de milliers de compétitions écologiques dans lesquelles on a enlevé certaines stratégies mesure sans doute une meilleure robustesse. L'une des idées les plus simples consiste à calculer les n compétitions possibles que l'on peut faire en enlevant 1 stratégie à un ensemble de n stratégies. On appelle cette technique la technique des sous-classes.\n",
    "Nous définissions ici 3 fonctions permettant de réaliser ces sous-classes.\n",
    "- `subclasses(soupe, n)` qui évalue tous les sous ensembles possibles de taille n dans la soupe\n",
    "- `subclassesWithOneStrat(soupe, n, strat)` qui évalue Strat dans tous les sous ensembles possibles de taille n dans la soupe en ajoutant systématiquement la stratégie strat\n",
    "- `subclassesRandomWithOneStrat(p, soupe, n, Strat)` qui réalise p competitions de n strategies choisies au hasard dans la soupe dans lesquelles on rajoute systématiquement Strat\n",
    "\n",
    "Les évaluations réalisées dans ces fonctions sont des compétitions écologiques.\n",
    "\n",
    "Ces fonctions renvoient à la fin un tableau avec pour chaque stratégie, sa meilleure place, sa pire place, sa moyenne et son écart-type."
   ]
  },
  {
   "cell_type": "code",
   "execution_count": null,
   "metadata": {
    "colab": {},
    "colab_type": "code",
    "id": "3DGBcxJIA1cP",
    "scrolled": true
   },
   "outputs": [],
   "source": [
    "import statistics\n",
    "import random\n",
    "\n",
    "def subClasses(soupe, n):\n",
    "    if (n > len(soupe)):\n",
    "        print (\"les sous-classes doivent être plus petites que la longueur de n\")\n",
    "        return   \n",
    "    res = pd.DataFrame(np.nan,[s.name for s in soupe], [\"Meilleure place\",\"Pire place\", \"RankAvg\", \"RankStd\"])   \n",
    "    #res = pd.DataFrame(np.ones((len(soupe),6 ),dtype=np.float32))\n",
    "    #res.columns, res.index = [\"Meilleure place\",\"Competition Meilleure Place\", \"Pire place\",\"Competiton Pire Place\", \"RankAvg\", \"RankStd\"],[s.name for s in soupe]\n",
    "    for s in soupe:\n",
    "        res.at[s.name, \"Meilleure place\"] = len(soupe)\n",
    "    ranks = dict()\n",
    "    sousEnsembles = list(itertools.combinations(soupe, n))\n",
    "    for s in sousEnsembles:\n",
    "        e = Ecological(g, s)\n",
    "        e.run()\n",
    "        #print(e.historic)\n",
    "        classements = e.historic.iloc[e.generation].rank(0, method=\"min\", ascending=False)\n",
    "        for strat in s : \n",
    "            classement = classements[strat.name]\n",
    "            if (math.isnan(res.at[strat.name, \"Meilleure place\"]) or classement < res.at[strat.name, \"Meilleure place\"]):\n",
    "                res.at[strat.name, \"Meilleure place\"] = classement\n",
    "            if (math.isnan(res.at[strat.name, \"Pire place\"]) or classement > res.at[strat.name, \"Pire place\"]):\n",
    "                res.at[strat.name, \"Pire place\"] = classement  \n",
    "            if (strat.name in ranks.keys()):\n",
    "                ranks[strat.name].append(classement)\n",
    "            if (strat.name not in ranks.keys()):\n",
    "                ranks[strat.name] = [classement]      \n",
    "    for strat in soupe : \n",
    "        res.at[strat.name, \"RankAvg\"] = statistics.mean(ranks[strat.name])\n",
    "        res.at[strat.name, \"RankStd\"] = statistics.stdev(ranks[strat.name])\n",
    "    print(res.sort_values(by = ['RankAvg', 'Meilleure place', 'RankStd', 'Pire place'],  ascending = [True, True, True, True ]))\n",
    "          \n",
    "\n",
    "def subClassesWithOneStrat(soupe, n, strategy, printAll = False):\n",
    "    if (n > len(soupe)):\n",
    "        print (\"les sous-classes doivent être plus petites que la longueur de n\")\n",
    "        return     \n",
    "    res = pd.DataFrame(np.nan,[s.name for s in soupe+[strategy]], [\"Meilleure place\", \"Pire place\", \"RankAvg\", \"RankStd\"])   \n",
    "    sousEnsembles = list(itertools.combinations(soupe, n))\n",
    "    ranks = dict()\n",
    "    meilleureComp = []\n",
    "    pireComp = []\n",
    "    for s in sousEnsembles:  \n",
    "        e = Ecological(g, list(s) + [strategy])\n",
    "        e.run()\n",
    "        classements = e.historic.iloc[e.generation].rank(0, method=\"min\", ascending=False)\n",
    "        for strat in  list(s) + [strategy] : \n",
    "            classement = classements[strat.name]\n",
    "            if (math.isnan(res.at[strat.name, \"Meilleure place\"]) or classement < res.at[strat.name, \"Meilleure place\"]):\n",
    "                res.at[strat.name, \"Meilleure place\"] = classement\n",
    "                if (strat == strategy):\n",
    "                    meilleureComp = list(s) + [strategy]\n",
    "            if (math.isnan(res.at[strat.name, \"Pire place\"]) or classement > res.at[strat.name, \"Pire place\"]):\n",
    "                res.at[strat.name, \"Pire place\"] = classement \n",
    "                if (strat == strategy):\n",
    "                    pireComp = list(s) + [strategy]\n",
    "            if (strat.name in ranks.keys()):\n",
    "                ranks[strat.name].append(classement)\n",
    "            if (strat.name not in ranks.keys()):\n",
    "                ranks[strat.name] = [classement]\n",
    "    for s in soupe+[strategy]:\n",
    "        if (s.name in ranks.keys()):\n",
    "            res.at[s.name, \"RankAvg\"] = statistics.mean(ranks[s.name])\n",
    "            if (len(ranks[s.name]) > 1):\n",
    "                res.at[s.name, \"RankStd\"] = statistics.stdev(ranks[s.name])\n",
    "    if (printAll) :       \n",
    "        print(res.sort_values(by = ['RankAvg', 'Meilleure place', 'RankStd', 'Pire place'],  ascending = [True, True, True, True ]))\n",
    "    else : \n",
    "        print(\"Classement de la stratégie : \"+strategy.name)\n",
    "        print(res.loc[strategy.name,:])\n",
    "    return meilleureComp, pireComp, strategy\n",
    "\n",
    "\n",
    "\n",
    "def subClassesRandomWithOneStrat(p, soupe, n, strategy, printAll = False ):\n",
    "    if (n > len(soupe)):\n",
    "        \"Le nombre de stratégies par compétition doit être inférieur ou égal au nombre de stratégies de la soupe initiale\"\n",
    "        return  \n",
    "    res = pd.DataFrame(np.nan,[s.name for s in soupe+[strategy]], [\"Meilleure place\",\"Pire place\", \"RankAvg\", \"RankStd\"])\n",
    "    ranks = dict()\n",
    "    meilleureComp = []\n",
    "    pireComp = []\n",
    "    for i in range (0, p) : \n",
    "        #print(\"Competition \"+str(i+1)+ \"/\"+str(p))\n",
    "        strategies = []\n",
    "        strategies.append(strategy)\n",
    "        indice = [i for i in range (0, len(soupe))]\n",
    "        for i in range (0, n):\n",
    "            indiceStrat = random.choice(indice)\n",
    "            indice.remove(indiceStrat)\n",
    "            strategies.append(soupe[indiceStrat])\n",
    "        #print(\"Les stratégies qui jouent sont : \")\n",
    "        #for s in strategies :\n",
    "            #print(s.name)\n",
    "        e = Ecological(g, strategies)\n",
    "        e.run()\n",
    "        classements = e.historic.iloc[e.generation].rank(0, method=\"min\", ascending=False)\n",
    "        for strat in strategies : \n",
    "            classement = classements[strat.name]\n",
    "            if (math.isnan(res.at[strat.name, \"Meilleure place\"]) or classement < res.at[strat.name, \"Meilleure place\"]):\n",
    "                res.at[strat.name, \"Meilleure place\"] = classement\n",
    "                if (strat == strategy):\n",
    "                    meilleureComp = strategies\n",
    "            if (math.isnan(res.at[strat.name, \"Pire place\"]) or classement > res.at[strat.name, \"Pire place\"]):\n",
    "                res.at[strat.name, \"Pire place\"] = classement  \n",
    "                if (strat == strategy):\n",
    "                    pireComp = strategies\n",
    "            if (strat.name in ranks.keys()):\n",
    "                ranks[strat.name].append(classement)\n",
    "            if (strat.name not in ranks.keys()):\n",
    "                ranks[strat.name] = [classement]\n",
    "    for s in soupe+[strategy]:\n",
    "        if (s.name in ranks.keys()):\n",
    "            res.at[s.name, \"RankAvg\"] = statistics.mean(ranks[s.name])\n",
    "            if (len(ranks[s.name]) > 1):\n",
    "                res.at[s.name, \"RankStd\"] = statistics.stdev(ranks[s.name])\n",
    "    if (printAll) :   \n",
    "        print(res.sort_values(by = ['RankAvg', 'Meilleure place', 'RankStd', 'Pire place'],  ascending = [True, True, True, True ]))\n",
    "    else : \n",
    "        print(\"Classement de la stratégie : \"+strategy.name)\n",
    "        print(res.loc[strategy.name,:])\n",
    "    return meilleureComp, pireComp, strategy\n",
    "\n",
    "print(\"All is OK\")"
   ]
  },
  {
   "cell_type": "markdown",
   "metadata": {},
   "source": [
    "#### Un cas simple : toutes les compétitions de 3 stratégies parmi les classiques"
   ]
  },
  {
   "cell_type": "code",
   "execution_count": null,
   "metadata": {
    "colab": {},
    "colab_type": "code",
    "id": "xDKAAl8yA1cS"
   },
   "outputs": [],
   "source": [
    "gentille = Periodic('C')\n",
    "mechante = Periodic('D')\n",
    "soupe = [gentille, mechante, Tft(), Spiteful(), Gradual(), SoftMajority(), HardMajority()]\n",
    "subClasses(soupe, 3)"
   ]
  },
  {
   "cell_type": "markdown",
   "metadata": {},
   "source": [
    "#### Un cas plus volumineux : toutes les stratégies Mem(1,1) avec une stratégie en moins à chaque fois\n",
    "Sachant qu'il y a 32 mem(1,1) cette opération réalise donc 32 compétitions de 31 stratégie."
   ]
  },
  {
   "cell_type": "code",
   "execution_count": null,
   "metadata": {},
   "outputs": [],
   "source": [
    "soupe = getAllMemory(1,1)\n",
    "subClasses(soupe, len(soupe)-1)"
   ]
  },
  {
   "cell_type": "markdown",
   "metadata": {},
   "source": [
    "#### Test de la stratégie Spiteful avec tous les triplets de classiques"
   ]
  },
  {
   "cell_type": "code",
   "execution_count": null,
   "metadata": {
    "colab": {},
    "colab_type": "code",
    "id": "nQWoJ4ReA1cb"
   },
   "outputs": [],
   "source": [
    "gentille = Periodic('C')\n",
    "mechante = Periodic('D')\n",
    "soupe = [gentille, mechante, Tft(), Gradual(), SoftMajority(), HardMajority()]\n",
    "res  = subClassesWithOneStrat(soupe, 3, Spiteful())\n",
    "#Pour afficher le tableau en entier : \n",
    "#res = subClassesWithOneStrat(soupe, 3, Spiteful(), True)"
   ]
  },
  {
   "cell_type": "markdown",
   "metadata": {},
   "source": [
    "Il est à noter que les objets `subClassesWithOneStrat` et `subClassesRandomWithOneStrat` conservent le \n",
    "meilleur et le pire des tournois pour la stratégie `strat`\n",
    "Au moment de l'affichage du classement des sous-classes il est de ce fait possible d'afficher l'ensemble de stratégies qui a été favorable ou défavorable à la stratégie `Strat`."
   ]
  },
  {
   "cell_type": "code",
   "execution_count": null,
   "metadata": {},
   "outputs": [],
   "source": [
    "meilleureComp, pireComp, strategy = res\n",
    "print(\"La meilleure competition pour la stratégie \"+strategy.name +\" est : \")\n",
    "for strat in meilleureComp :\n",
    "    print(strat.name)\n",
    " "
   ]
  },
  {
   "cell_type": "markdown",
   "metadata": {},
   "source": [
    "#### 20 experiences de 10 stratégies prise au hasard dans mem(1,1) contre Gradual()\n",
    "Pour les `subclassesRandom`, si une stratégie n'a joué qu'une seule fois alors elle n'a pas d'écart-type (NaN); si elle n'a pas joué du tout alors toutes ses valeurs sont à NaN dans le tableau"
   ]
  },
  {
   "cell_type": "code",
   "execution_count": null,
   "metadata": {
    "scrolled": true
   },
   "outputs": [],
   "source": [
    "soupe = getAllMemory(1,1)\n",
    "res = subClassesRandomWithOneStrat(20,soupe, 10, Gradual())\n",
    "#Pour afficher le tableau en entier : \n",
    "#subClassesRandomWithOneStrat(20 soupe, 10, Gradual(), True)"
   ]
  },
  {
   "cell_type": "markdown",
   "metadata": {},
   "source": [
    "On peut d'ailleurs vérifier la compétition la plus \"défavorable\" à Gradual (2è :-)"
   ]
  },
  {
   "cell_type": "code",
   "execution_count": null,
   "metadata": {},
   "outputs": [],
   "source": [
    "meilleureComp, pireComp, strategy = res"
   ]
  },
  {
   "cell_type": "code",
   "execution_count": null,
   "metadata": {},
   "outputs": [],
   "source": [
    "pireComp.append(Periodic('C'))\n",
    "soupe = pireComp\n",
    "e2=Ecological(g,soupe)\n",
    "e2.run()\n",
    "e2.drawPlot(None,5)\n",
    "evol=e2.historic\n",
    "print(evol.iloc[-1][evol.iloc[-1]>0])"
   ]
  },
  {
   "cell_type": "markdown",
   "metadata": {
    "colab_type": "text",
    "id": "x8z1IUB3A1ci"
   },
   "source": [
    "# Bibliographie\n",
    "\n",
    "- Robert Axelrod. *The Evolution of Cooperation*. (New York: Basic Books, 1984).\n",
    "- William Poundstone. *Le dilemme du prisonnier*. Cassini\n",
    "- JP Delahaye et P Mathieu. *Des surprises dans le monde de la coopération*. Pour la Science, numéro spécial \"Les mathématiques sociales\", pp 58-66, Juillet 1999.\n",
    "- Philippe Mathieu, Jean-Paul Delahaye. [New Winning Strategies for the Iterated Prisoner's Dilemma](http://jasss.soc.surrey.ac.uk/20/4/12.html). J. Artificial Societies and Social Simulation 20(4) (2017)\n",
    "- Bruno Beaufils, Jean-Paul Delahaye et Philippe Mathieu. *Our Meeting with Gradual : A good Strategy for the Itareted Prisoner’s Dilemma*. Intern. Conf. on Artificial Life V (ALIFE V), pp. 159- 165, 16-18 mai 1996, Nara (Japon).\n",
    "- Martin Nowak et K. Sigmund. *TIT for TAT in Heterogeneous Populations*. Nature, vol. 355, n° 16, pp. 250-253, janvier 1992.\n",
    "- Nowak M., May R., Sigmund K., *L'arithmétique de l'entraide*, Pour la Science No 214, Août 1995, pp. 56-61 "
   ]
  }
 ],
 "metadata": {
  "colab": {
   "collapsed_sections": [],
   "name": "prisoners_dilemma_fr.ipynb",
   "provenance": []
  },
  "kernelspec": {
   "display_name": "Python 3",
   "language": "python",
   "name": "python3"
  },
  "language_info": {
   "codemirror_mode": {
    "name": "ipython",
    "version": 3
   },
   "file_extension": ".py",
   "mimetype": "text/x-python",
   "name": "python",
   "nbconvert_exporter": "python",
   "pygments_lexer": "ipython3",
   "version": "3.6.8"
  }
 },
 "nbformat": 4,
 "nbformat_minor": 1
}
