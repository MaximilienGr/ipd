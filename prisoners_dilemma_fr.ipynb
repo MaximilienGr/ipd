{
 "cells": [
  {
   "cell_type": "markdown",
   "metadata": {
    "colab_type": "text",
    "collapsed": true,
    "id": "yRbUtz__A1a_"
   },
   "source": [
    "# Le dilemme itéré du prisonnier\n",
    "\n",
    "Auteur : Philippe Mathieu, CRISTAL Lab, SMAC Team, University of Lille, email : philippe.mathieu@univ-lille.fr\n",
    "\n",
    "Contributeurs : Louisa Fodil (CRISTAL/SMAC), Céline Petitpré (CRISTAL/SMAC)\n",
    "\n",
    "Creation : 18/01/2018\n",
    "\n",
    "## Introduction\n",
    "\n",
    "Cette feuille a pour objectif de montrer comment établir et comparer des stratégies à ce jeu.\n",
    "On trouvera plus de détails sur [Wikipedia](http://www.wikidedia.org)\n",
    "\n",
    "\n",
    "\n",
    "Céline : A partir d'ici on considère que toute la feuille théorie des jeux est connue.\n",
    "On peut donc faire les \"import\" qui vont bien.\n",
    "Cette fois on explique les jeux itérés, la notion de stratégie, le Dilemme Itéré du prisonnier et la probématique de l'évaluation"
   ]
  },
  {
   "cell_type": "code",
   "execution_count": 2,
   "metadata": {
    "colab": {},
    "colab_type": "code",
    "id": "m3GwEBZoA1bB"
   },
   "outputs": [
    {
     "name": "stdout",
     "output_type": "stream",
     "text": [
      "[(3, 2) (2, 3)]\n",
      "Il existe deux équilibres de Nash pour la guerre des sexes\n",
      " \n",
      "[(3, 2), (2, 3)]\n",
      "Il n'existe pas d'optimum de Pareto pour la guerre des sexes\n",
      " \n",
      "Avec l'élimination des stratégies strictement dominées : \n",
      "Il n'existe pas de strategie dominante\n",
      " \n",
      "Avec l'élimination des stratégies faiblement dominées : \n",
      "Il n'existe pas de strategie dominante\n",
      "[(1, 1)]\n",
      "Il existe un équilibres de Nash pour le dilemme du prisonner\n",
      " \n",
      "[(3, 3), (0, 5), (5, 0)]\n",
      "Il n'existe pas d'optimum de Pareto pour le dilemme du prisonnier\n",
      " \n",
      "('D', 'D')\n",
      "La stratégie strictement dominante pour le dilemme du prisonnier est la stratégie où les deux joueurs choisissent de trahir.\n",
      " \n",
      "('D', 'D')\n",
      "Une stratégie faiblement dominante pour le dilemme du prisonnier est la stratégie où les deux jouers choisissent de trahir.\n",
      "[[(1, 2) (4, 0) (0, 3)]\n",
      " [(2, 0) (4, 3) (0, 0)]\n",
      " [(1, 1) (3, 3) (2, 2)]]\n",
      "[(4, 3)]\n",
      "256\n",
      "Impression de 10 jeux aléatoires trouvés sur 256\n",
      "[(1, 2), (2, 1), (1, 1), (2, 2)]\n",
      "[(1, 2), (1, 2), (1, 1), (2, 1)]\n",
      "[(1, 2), (1, 1), (2, 1), (1, 2)]\n",
      "[(1, 1), (1, 1), (1, 2), (1, 1)]\n",
      "[(1, 2), (1, 2), (1, 1), (2, 1)]\n",
      "[(1, 2), (2, 1), (1, 2), (1, 1)]\n",
      "[(2, 1), (1, 2), (2, 1), (2, 1)]\n",
      "[(2, 1), (2, 1), (2, 2), (1, 1)]\n",
      "[(1, 2), (1, 2), (1, 1), (1, 1)]\n",
      "[(1, 1), (1, 1), (2, 1), (2, 1)]\n",
      "1820 jeux étudiés.\n"
     ]
    }
   ],
   "source": [
    "# Importation du paquetage gametheory\n",
    "%run gametheory.ipynb\n",
    "#import import_ipynb\n",
    "#from gametheory import Game"
   ]
  },
  {
   "cell_type": "markdown",
   "metadata": {
    "colab_type": "text",
    "id": "UUUxBWJNA1bI"
   },
   "source": [
    "# Une stratégie\n",
    "\n",
    "Une stratégie a pour objectif de décider du coup à jouer. Outre la matrice des gains, les informations disponibles pour une stratégie sont les coups joués par lesd eux joueurs dans le passé. Les stratégies les plus simples sont bien évidemment les stratégies qui ne prennent pas en compte ce passé, comme les stratégies qui jouent périodiquement la même séquence de coups. Pour assurer un principe d'autonomie de chaque agent, une stratégie est bien sur capable de fournir son prochain coup, mais s'occupe elle-même de stocker ses précédents coups si necessaire.\n",
    "\n",
    "Créons une classe de stratégies de ce type"
   ]
  },
  {
   "cell_type": "code",
   "execution_count": 18,
   "metadata": {
    "colab": {},
    "colab_type": "code",
    "id": "OMrjZ1ciA1bK"
   },
   "outputs": [],
   "source": [
    "from abc import abstractmethod\n",
    "class Strategy():\n",
    "    def setMemory(self,mem):\n",
    "        pass\n",
    "    \n",
    "    def getAction(self,tick):\n",
    "        pass\n",
    "    \n",
    "    def __copy__(self):\n",
    "        pass\n",
    "\n",
    "    def update(self,x,y):\n",
    "        pass\n",
    "    \n",
    "\n",
    "class Periodic(Strategy):\n",
    "    def __init__(self, sequence, name=None):\n",
    "        super().__init__()\n",
    "        self.sequence = sequence.upper()\n",
    "        self.step = 0\n",
    "        self.name = \"per_\"+sequence if (name == None) else name\n",
    "\n",
    "    def getAction(self,tick):\n",
    "        return self.sequence[tick % len(self.sequence)]\n",
    "\n",
    "    def clone(self):\n",
    "        object = Periodic(self.sequence, self.name)\n",
    "        return object\n",
    "\n",
    "    def update(self,x,y):\n",
    "        pass\n",
    "    \n"
   ]
  },
  {
   "cell_type": "code",
   "execution_count": 19,
   "metadata": {
    "colab": {},
    "colab_type": "code",
    "id": "EfyXlQEHA1bO",
    "outputId": "74d8e124-29e6-4706-fb27-7f606eb09335"
   },
   "outputs": [
    {
     "name": "stdout",
     "output_type": "stream",
     "text": [
      "per_abc\tA B C A B C A B C A "
     ]
    }
   ],
   "source": [
    "s1 = Periodic(\"abc\")\n",
    "print(s1.name,end=\"\\t\")\n",
    "for i in range (0,10):\n",
    "    print(s1.getAction(i), end=' ')\n",
    "# IL DOIT Y AVOIR 10 COUPS. çA COMMENCE PAR A ET çA FINIT PAR A    "
   ]
  },
  {
   "cell_type": "markdown",
   "metadata": {
    "colab_type": "text",
    "id": "_C-a0YOMA1bS"
   },
   "source": [
    "# Un meeting\n",
    "Un meeting est une rencontre de deux stratégies durant un certain nombre de coups. Le score de chacune est la somme des scores obtenus lors de chaque coup, conformément à la matrice du jeu."
   ]
  },
  {
   "cell_type": "code",
   "execution_count": 20,
   "metadata": {
    "colab": {},
    "colab_type": "code",
    "id": "TKAUYaK8A1bU"
   },
   "outputs": [],
   "source": [
    "class Meeting :      \n",
    "    def __init__(self,game,s1,s2,length=1000):\n",
    "        self.game = game\n",
    "        self.s1=s1.clone()\n",
    "        self.s2=s2.clone()\n",
    "        self.length=length\n",
    "        self.nb_cooperation_s1 = 0\n",
    "        self.nb_cooperation_s2 = 0\n",
    "        \n",
    "    def reinit(self):\n",
    "        self.s1_score=0\n",
    "        self.s2_score=0\n",
    "        self.s1_rounds=\"\"\n",
    "        self.s2_rounds=\"\"\n",
    "    \n",
    "    def run(self):\n",
    "        self.reinit()\n",
    "        for tick in range(0,self.length):\n",
    "            c1=self.s1.getAction(tick).upper()\n",
    "            c2=self.s2.getAction(tick).upper()\n",
    "            if (c1 == \"C\"):\n",
    "                self.nb_cooperation_s1 +=1\n",
    "            if (c2 == \"C\"):\n",
    "                self.nb_cooperation_s2 +=1\n",
    "            self.s1_rounds+=c1\n",
    "            self.s2_rounds+=c2\n",
    "            self.s1.update(c1,c2)\n",
    "            self.s2.update(c2,c1)\n",
    "            act=self.game.actions\n",
    "            self.s1_score+=self.game.scores['x'][act.index(c1),act.index(c2)]\n",
    "            self.s2_score+=self.game.scores['y'][act.index(c1),act.index(c2)]"
   ]
  },
  {
   "cell_type": "markdown",
   "metadata": {
    "colab_type": "text",
    "id": "68U3c_SQA1bY"
   },
   "source": [
    "Une rencontre entre deux stratégies est triviale : on initialise un jeu, on crée 2 stratégies, et on les passe au Meeting."
   ]
  },
  {
   "cell_type": "code",
   "execution_count": 22,
   "metadata": {
    "colab": {},
    "colab_type": "code",
    "id": "0864WspmA1ba",
    "outputId": "64c3249c-3ee6-49d3-a2e3-815687254e17"
   },
   "outputs": [
    {
     "name": "stdout",
     "output_type": "stream",
     "text": [
      "per_CCD\tCCDCCDCCDC 15\n",
      "per_DDC\tDDCDDCDDCD 35\n",
      "Le nombre de coopérations : 7,3\n"
     ]
    }
   ],
   "source": [
    "dip =[(3,3),(0,5),(5,0),(1,1)]   # Dilemme du prisonnier\n",
    "g = Game(dip,['C','D'])\n",
    "s1=Periodic(\"CCD\")\n",
    "s2=Periodic(\"DDC\")\n",
    "m = Meeting(g,s1,s2,10)\n",
    "m.run()\n",
    "print(m.s1.name+\"\\t\"+m.s1_rounds+\" \"+str(m.s1_score))\n",
    "print(m.s2.name+\"\\t\"+m.s2_rounds+\" \"+str(m.s2_score))\n",
    "# ON DOIT AVOIR 15,35\n",
    "print(\"Le nombre de coopérations : \" + str(m.nb_cooperation_s1) +\",\" + str(m.nb_cooperation_s2))"
   ]
  },
  {
   "cell_type": "code",
   "execution_count": 24,
   "metadata": {},
   "outputs": [
    {
     "name": "stdout",
     "output_type": "stream",
     "text": [
      "per_C\tCCCCCCCCCC 0\n",
      "per_D\tDDDDDDDDDD 50\n"
     ]
    }
   ],
   "source": [
    "gentille = Periodic(\"C\")\n",
    "mechante = Periodic(\"D\")\n",
    "m = Meeting(g,gentille,mechante,10)\n",
    "m.run()\n",
    "print(m.s1.name+\"\\t\"+m.s1_rounds+\" \"+str(m.s1_score))\n",
    "print(m.s2.name+\"\\t\"+m.s2_rounds+\" \"+str(m.s2_score))"
   ]
  },
  {
   "cell_type": "markdown",
   "metadata": {
    "colab_type": "text",
    "id": "FDFZwmWaA1be"
   },
   "source": [
    "# Un tournoi\n",
    "\n",
    "Un tournoi s'applique à un ensemble de stratégies. Il consiste à faire se rencontrer tout couple de stratégies dans un meeting, y compris chaque stratégie contre elle-même. On remplit ainsi une matrice carrée de scores. Le score de chaque stratégie est la somme des scores qu'elle a obtenue. La stratégie gagnante est celle qui obtient le score le plus grand.\n"
   ]
  },
  {
   "cell_type": "code",
   "execution_count": 25,
   "metadata": {
    "colab": {},
    "colab_type": "code",
    "id": "NvsSXzRpA1bf"
   },
   "outputs": [],
   "source": [
    "import pandas as pd\n",
    "import numpy as np\n",
    "\n",
    "class Tournament:\n",
    "    def __init__(self, game, strategies, length=1000, repeat=1):\n",
    "        self.strategies = strategies\n",
    "        self.game = game\n",
    "        self.length=length\n",
    "        self.repeat=repeat\n",
    "        size=len(strategies);\n",
    "        df = pd.DataFrame(np.zeros((size,size+1),dtype=np.int32))\n",
    "        df.columns, df.index = [s.name for s in self.strategies]+[\"Total\"], [s.name for s in self.strategies]\n",
    "        self.matrix = df\n",
    "        df2 = pd.DataFrame(np.zeros((size,size+1),dtype=np.int32))\n",
    "        df2.columns, df2.index = [s.name for s in self.strategies]+[\"Total\"], [s.name for s in self.strategies]\n",
    "        self.cooperations = df2\n",
    "\n",
    "    def run(self):\n",
    "        for k in range(self.repeat):\n",
    "            for i in range (0,len(self.strategies)):\n",
    "                for j in range (i,len(self.strategies)):\n",
    "                    meet = Meeting(self.game, self.strategies[i], self.strategies[j], self.length)\n",
    "                    meet.run()\n",
    "                    self.matrix.at[self.strategies[i].name, self.strategies[j].name] = meet.s1_score\n",
    "                    self.matrix.at[self.strategies[j].name, self.strategies[i].name] = meet.s2_score\n",
    "                    self.cooperations.at[self.strategies[i].name, self.strategies[j].name] = meet.nb_cooperation_s1\n",
    "                    self.cooperations.at[self.strategies[j].name, self.strategies[i].name] = meet.nb_cooperation_s2\n",
    "        self.matrix[\"Total\"] = self.matrix.sum(axis=1)\n",
    "        self.matrix.sort_values(by='Total', ascending=False, inplace=True)\n",
    "        rows = list(self.matrix.index) + [\"Total\"]\n",
    "        self.matrix = self.matrix.reindex(columns=rows)\n",
    "        self.cooperations[\"Total\"] = self.cooperations.sum(axis=1)\n",
    "        self.cooperations.sort_values(by='Total', ascending=False, inplace=True)\n",
    "        rows = list(self.cooperations.index) + [\"Total\"]\n",
    "        self.cooperations = self.cooperations.reindex(columns=rows)"
   ]
  },
  {
   "cell_type": "code",
   "execution_count": 26,
   "metadata": {
    "colab": {},
    "colab_type": "code",
    "id": "oXMo5n8BA1bi"
   },
   "outputs": [
    {
     "name": "stdout",
     "output_type": "stream",
     "text": [
      "         per_D  per_DDC  per_CCD  per_C  Total\n",
      "per_D       10       22       38     50    120\n",
      "per_DDC      7       16       35     44    102\n",
      "per_CCD      3       15       24     36     78\n",
      "per_C        0        9       21     30     60\n",
      "         per_C  per_CCD  per_DDC  per_D  Total\n",
      "per_C       10       10       10     10     40\n",
      "per_CCD      7        7        7      7     28\n",
      "per_DDC      3        3        3      3     12\n",
      "per_D        0        0        0      0      0\n"
     ]
    }
   ],
   "source": [
    "bag = []\n",
    "bag.append(Periodic('C'))\n",
    "bag.append(Periodic('D'))\n",
    "bag.append(Periodic('DDC'))\n",
    "bag.append(Periodic('CCD'))\n",
    "t=Tournament(g,bag,10)\n",
    "t.run()\n",
    "print(t.matrix)\n",
    "# SUR 10 COUPS : [('per_D', 120), ('per_DDC', 102), ('per_CCD', 78), ('per_C', 60)]\n",
    "print(t.cooperations)"
   ]
  },
  {
   "cell_type": "code",
   "execution_count": 33,
   "metadata": {},
   "outputs": [
    {
     "name": "stdout",
     "output_type": "stream",
     "text": [
      "       per_D  per_C  Total\n",
      "per_D     10     50     60\n",
      "per_C      0     30     30\n",
      "       per_C  per_D  Total\n",
      "per_C     10     10     20\n",
      "per_D      0      0      0\n"
     ]
    }
   ],
   "source": [
    "t=Tournament(g,[gentille, mechante],10)\n",
    "t.run()\n",
    "print(t.matrix)\n",
    "print(t.cooperations)"
   ]
  },
  {
   "cell_type": "markdown",
   "metadata": {
    "colab_type": "text",
    "id": "Jnn5vuBuA1bm"
   },
   "source": [
    "## Générer des ensembles de stratégies\n",
    "\n",
    "Constituer une \"soupe\" de stratégies pour tester la performance d'une stratégie donnée peut être considéré comme subjectif. L'idéal est de constituer des soupes indiscutables, par exemple en constituant des ensembles de toutes les stratégies répondant à une contrainte globale.\n",
    "Nous pouvons par exemple constituer l'ensemble de toutes les périodiques de période 1 (il y en a 2) et/ou de période 2 (il y en a $2^2=4$) et/ou de période 3 (il y en a $2^3=8$), voir toutes ensembles.\n",
    "(on notera que l'on génère CCC qui correspond bien évidemment à CC ou C)\n"
   ]
  },
  {
   "cell_type": "code",
   "execution_count": 28,
   "metadata": {
    "colab": {},
    "colab_type": "code",
    "id": "32Oxpz09A1bo",
    "outputId": "d3fe95b4-06a7-49f1-a7ab-68ce3aa43024"
   },
   "outputs": [
    {
     "name": "stdout",
     "output_type": "stream",
     "text": [
      "14 stratégies générées\n"
     ]
    }
   ],
   "source": [
    "import itertools\n",
    "cards = ['C','D']\n",
    "periodics = [p for p in itertools.product(cards, repeat=1)]+[p for p in itertools.product(cards, repeat=2)] + [p for p in itertools.product(cards, repeat=3)]\n",
    "strats = [Periodic(''.join(p)) for p in periodics] # join to transform in strings\n",
    "print(str(len(strats))+\" stratégies générées\")\n",
    "# 14 SONT GENEREES : 2 à un coup, 4 à deux coups, 8 à trois coups"
   ]
  },
  {
   "cell_type": "markdown",
   "metadata": {
    "colab_type": "text",
    "id": "kb4I4kJYA1br"
   },
   "source": [
    "# Les compétitions écologiques\n",
    "\n",
    "Le principe d'une compétition écologique est très simple. Initialement, on considère `n` représentants de chacune des `s` stratégies évaluées. Les `n*s` agents jouent tous les uns contre les autres dans un tournoi. à l'étape 1, les repésentants de chaque stratégie sont obtenus proportionnellement à leur réussite à l'étape précédente. Meilleur vous-êtes, plus vous aurez de descendants. Une compétition écologique oblige donc une stratégie à être robuste aux changement de nombre d'adversaires. Un classement écologique est donc plus \"robuste\" qu'un classement de tournoi. On compend immédiatement que pour être bien classé, il est préférable de très bien jouer contre ses propres congénères, puisqu'ils seront de plus en plus nombreux.\n",
    "Une compétition écologique peut alors se représenter sur un graphique temporel, les générations en abscisse et les populations de chaque stratégie en ordonnée. On utilisera *matplotlib* pour calculer ces graphiques. Ce processus illustre clairement les phénomènes de type proies/prédateurs."
   ]
  },
  {
   "cell_type": "code",
   "execution_count": 41,
   "metadata": {
    "colab": {},
    "colab_type": "code",
    "id": "o-i2hEqGA1bs"
   },
   "outputs": [],
   "source": [
    "import pandas\n",
    "import copy\n",
    "import math\n",
    "import matplotlib.pyplot as plt\n",
    "%matplotlib inline\n",
    "\n",
    "class Ecological:\n",
    "    def __init__(self, game, strategies, length=1000, repeat=1, pop=100):\n",
    "        self.strategies = strategies\n",
    "        self.pop = pop\n",
    "        self.game = game\n",
    "        self.generation = 0 #Numéro de la génération actuelle\n",
    "        self.base = pop*len(strategies)\n",
    "        self.historic = pandas.DataFrame(columns = [strat.name for strat in strategies])\n",
    "        self.historic.loc[0] = [pop for x in range (len(strategies))]\n",
    "        self.extinctions = dict((s.name,math.inf) for s in strategies)\n",
    "        self.scores = dict((s.name,0) for s in strategies)\n",
    "        self.tournament = Tournament(self.game, self.strategies,length,repeat)\n",
    "        self.tournament.run()\n",
    "        \n",
    "    def run(self):\n",
    "        stab = False\n",
    "        while ((self.generation < 1000) and (stab==False)):\n",
    "            parents = list(copy.copy(self.historic.loc[self.generation]))\n",
    "            for i in range (len(self.strategies)):\n",
    "                strat=self.strategies[i].name\n",
    "                score = 0\n",
    "                for j in range(len(self.strategies)):\n",
    "                    strat2 = self.strategies[j].name\n",
    "                    if i==j:\n",
    "                        #score+=(self.historic.at[self.generation, strat])*self.tournament.matrix.at[strat,strat2]\n",
    "                        score+=(self.historic.at[self.generation, strat]-1)*self.tournament.matrix.at[strat,strat2]\n",
    "                        #if (score < 0):\n",
    "                            #print (\"pb premier if\")\n",
    "                    else:\n",
    "                        score+=self.historic.at[self.generation, strat2]*self.tournament.matrix.at[strat,strat2]\n",
    "                self.scores[strat] = score\n",
    "            total = 0\n",
    "            for strat in self.strategies:\n",
    "                total+=self.scores[strat.name]*self.historic.at[self.generation, strat.name]\n",
    "            for strat in self.strategies:\n",
    "                parent = self.historic.at[self.generation, strat.name]\n",
    "                self.historic.at[self.generation+1, strat.name] = math.floor(self.base*parent*self.scores[strat.name]/total)\n",
    "                if ((parent!=0) and (self.historic.at[self.generation+1, strat.name] == 0)):\n",
    "                    self.extinctions[strat.name] = self.generation+1\n",
    "                elif (self.historic.at[self.generation+1, strat.name] != 0):\n",
    "                    self.extinctions[strat.name] = self.historic.at[self.generation+1, strat.name]*1000\n",
    "            self.generation+=1\n",
    "            if (parents == list(self.historic.loc[self.generation])):stab = True\n",
    "        trie = sorted(self.extinctions.items(), key=lambda t:t[1], reverse=True)\n",
    "        df_trie = pandas.DataFrame()\n",
    "        for t in trie :\n",
    "            df_trie[t[0]]=self.historic[t[0]]\n",
    "        self.historic = df_trie\n",
    "        return self.historic\n",
    "\n",
    "    def saveData(self):\n",
    "        date = datetime.datetime.now()\n",
    "        self.historic.to_csv(str(date)+'.csv', sep=';', encoding='utf-8')\n",
    "\n",
    "    def drawPlot(self,nbCourbes=None,nbLegends=None):\n",
    "        nbCourbes = len(self.strategies) if (nbCourbes==None) else nbCourbes\n",
    "        nbLegends = len(self.strategies) if (nbLegends==None) else nbLegends\n",
    "        strat = self.historic.columns.tolist()\n",
    "        for i in range(nbCourbes):\n",
    "            plt.plot(self.historic[strat[i]], label=strat[i] if (i<nbLegends) else '_nolegend_')\n",
    "        plt.legend(bbox_to_anchor=(0, 1), loc=2, borderaxespad=0.)\n",
    "        plt.ylabel('Population')\n",
    "        plt.xlabel('Generation')\n",
    "        plt.show()\n",
    "        #date = datetime.datetime.now()\n",
    "        #plt.savefig(str(date)+'.png', dpi=1000)"
   ]
  },
  {
   "cell_type": "code",
   "execution_count": 30,
   "metadata": {
    "colab": {},
    "colab_type": "code",
    "id": "N0kLyArjA1bw"
   },
   "outputs": [
    {
     "data": {
      "image/png": "[encoded data removed]",
      "text/plain": [
       "<Figure size 720x576 with 1 Axes>"
      ]
     },
     "metadata": {
      "needs_background": "light"
     },
     "output_type": "display_data"
    },
    {
     "name": "stdout",
     "output_type": "stream",
     "text": [
      "{'per_C': -3000, 'per_D': 1397000, 'per_CC': -3000, 'per_CD': 697000, 'per_DC': 697000, 'per_DD': 1397000, 'per_CCC': -3000, 'per_CCD': 463200, 'per_CDC': 463200, 'per_CDD': 929400, 'per_DCC': 464600, 'per_DCD': 930800, 'per_DDC': 930800, 'per_DDD': 1397000}\n"
     ]
    }
   ],
   "source": [
    "eco = Ecological(g, strats)\n",
    "eco.run()\n",
    "plt.figure(figsize=(10,8))    # pour définir la taille de la figure\n",
    "eco.drawPlot(None,None)\n",
    "print(eco.scores)\n",
    "#eco.historic"
   ]
  },
  {
   "cell_type": "code",
   "execution_count": 45,
   "metadata": {
    "scrolled": true
   },
   "outputs": [
    {
     "name": "stdout",
     "output_type": "stream",
     "text": [
      "{'per_C': -30, 'per_D': 1990}\n"
     ]
    }
   ],
   "source": [
    "eco = Ecological(g, [gentille, mechante], length = 10)\n",
    "eco.run()\n",
    "print(eco.scores)"
   ]
  },
  {
   "cell_type": "markdown",
   "metadata": {
    "colab_type": "text",
    "id": "tDULeYlnA1b0"
   },
   "source": [
    "## Des stratégies réactives"
   ]
  },
  {
   "cell_type": "code",
   "execution_count": 32,
   "metadata": {
    "colab": {},
    "colab_type": "code",
    "id": "gr7FFb_0A1b1",
    "outputId": "41a4f22d-c414-483d-ec1c-c431153e6127"
   },
   "outputs": [
    {
     "data": {
      "image/png": "[encoded data removed]",
      "text/plain": [
       "<Figure size 720x576 with 1 Axes>"
      ]
     },
     "metadata": {
      "needs_background": "light"
     },
     "output_type": "display_data"
    }
   ],
   "source": [
    "class Tft(Strategy):\n",
    "    def __init__(self):\n",
    "        super().__init__()\n",
    "        self.name = \"tft\"\n",
    "        self.hisPast=\"\"\n",
    "        \n",
    "    def getAction(self,tick):\n",
    "        return 'C' if (tick==0) else self.hisPast[-1]\n",
    "\n",
    "    def clone(self):\n",
    "        return Tft()\n",
    "\n",
    "    def update(self,my,his):\n",
    "        self.hisPast+=his\n",
    "    \n",
    "    \n",
    "class Spiteful(Strategy):\n",
    "    def __init__(self):\n",
    "        super().__init__()\n",
    "        self.name = \"spiteful\"\n",
    "        self.hisPast=\"\"\n",
    "        self.myPast=\"\"\n",
    "        \n",
    "    def getAction(self,tick):\n",
    "        if (tick==0):\n",
    "                return 'C'\n",
    "        if (self.hisPast[-1]=='D' or self.myPast[-1]=='D') :\n",
    "            return 'D'\n",
    "        else :\n",
    "            return 'C'\n",
    "\n",
    "    def clone(self):\n",
    "        return Spiteful()\n",
    "\n",
    "    def update(self,my,his):\n",
    "        self.myPast+=my\n",
    "        self.hisPast+=his\n",
    "\n",
    "\n",
    "eco = Ecological(g, [Periodic('C'),Periodic('D'),Periodic('CCD'),Tft()])\n",
    "eco.run()\n",
    "plt.figure(figsize=(10,8))    # pour définir la taille de la figure\n",
    "eco.drawPlot()\n",
    "#eco.tournament.matrix\n",
    "#plt.savefig(\"toto.png\")\n",
    "#eco.historic\n",
    "# DANS CETTE EXPERIENCE, ALL_D GAGNE LE TOURNOI, MAIS C'EST TFT QUI GAGNE LA COMPETITION ECOLOGIQUE"
   ]
  },
  {
   "cell_type": "code",
   "execution_count": 50,
   "metadata": {
    "colab": {},
    "colab_type": "code",
    "id": "NqyMG-t1A1b6"
   },
   "outputs": [],
   "source": [
    "# Accès aux données des DataFrame\n",
    "\n",
    "# Attention ! avec un dataframe df\n",
    "# chaque colonne nommée peut etre utilisée comme attribut\n",
    "# Si on met un seul crochet, c'est une colonne\n",
    "# donc tournoi.Total et tournoi['Total'] c'est pareil\n",
    "# \n",
    "# si on met des crochets directs c'est df[Col][Lig]\n",
    "# que l'on peut donc aussi écrire df.Col[lig]\n",
    "# Si on utilise les fonctions loc, iloc et at, c'est df.iloc[lig,col]\n",
    "# donc tournoi['Total'][1] est équivalent à tournoi.iloc[1,4]\n",
    "# Par ailleurs, par défaut le dataframe utilise des entiers comme index\n",
    "# dans iloc, on met des index ... sauf si on utilise la notation a:b auquel cas ce sont des adresses relatives\n",
    "\n",
    "tournoi=eco.tournament.matrix\n",
    "#print(\"--- La matrice complète du tournoi triée\")\n",
    "#print(tournoi) \n",
    "#print(\"--- Les gagnants du tournoi\")\n",
    "#print(tournoi['Total']) \n",
    "#print(\"--- Les 3 premiers gagnants du tournoi\")\n",
    "#print(tournoi['Total'][0:3])\n",
    "#print(\"--- Les gagnants qui ont fait plus de 10000\")\n",
    "#print(tournoi['Total'][tournoi['Total']>10000])\n",
    "\n",
    "\n",
    "evol=eco.historic\n",
    "#print(\"--- L'historique complet trié\")\n",
    "#print(evol)\n",
    "#print(\"--- Les populations finales classées\")\n",
    "#print(evol.iloc[eco.generation])\n",
    "#print(evol.iloc[-1])\n",
    "#print(evol.tail(1))\n",
    "#print(\"--- Les 2 premiers de la compétition\")\n",
    "#print(evol.iloc[-1][0:2]) \n",
    "#print(\"--- Les derniers survivants\")\n",
    "#print(evol.iloc[-1][evol.iloc[-1]>0]) \n",
    "#print(\"--- la ligne quand tft=340 ?\")\n",
    "#evol.loc[evol.tft==340]\n",
    "#print(\"--- A quel indice per_C et per_D se croisent ?\")\n",
    "#print(evol.loc[evol.per_C > evol.per_D].loc[evol.per_D!=0])\n",
    "# Ecrire l'équivalent de select * from evol where ...\n",
    "#evol.loc[(evol.tft>300) & (evol.per_D>0)]\n",
    "# depuis pandas0.13  ... s'écrit\n",
    "#evol.query('tft>300 & per_D>0')\n",
    "\n",
    "#eco.drawPlot()\n"
   ]
  },
  {
   "cell_type": "markdown",
   "metadata": {
    "colab_type": "text",
    "id": "h6IL_hTRA1b9"
   },
   "source": [
    "# La famille Memory"
   ]
  },
  {
   "cell_type": "code",
   "execution_count": 79,
   "metadata": {
    "colab": {},
    "colab_type": "code",
    "id": "nDqpxI2FA1b_",
    "outputId": "483ee578-ca75-454a-caef-5c8db14269c4"
   },
   "outputs": [
    {
     "name": "stdout",
     "output_type": "stream",
     "text": [
      "          spiteful  tft  per_D  per_CD  per_DC  per_C  Total\n",
      "spiteful       300  300     99     297     299    300   1595\n",
      "tft            300  300     99     248     250    300   1497\n",
      "per_D          104  104    100     300     300    500   1408\n",
      "per_CD          57  253     50     200     250    400   1210\n",
      "per_DC          54  250     50     250     200    400   1204\n",
      "per_C          300  300      0     150     150    300   1200\n",
      "          spiteful  tft  alld  percd  perdc  allc  Total\n",
      "spiteful       300  300    99    297    299   300   1595\n",
      "tft            300  300    99    248    250   300   1497\n",
      "alld           104  104   100    300    300   500   1408\n",
      "percd           57  253    50    200    250   400   1210\n",
      "perdc           54  250    50    250    200   400   1204\n",
      "allc           300  300     0    150    150   300   1200\n"
     ]
    }
   ],
   "source": [
    "class Mem(Strategy):\n",
    "    def __init__(self, x, y, genome, name=None):\n",
    "        self.name = name\n",
    "        self.x = x\n",
    "        self.y = y\n",
    "        self.genome = genome\n",
    "        if (name == None): #Nom par défaut si l'utilisateur ne le définit pas\n",
    "            self.name = genome\n",
    "        self.myMoves = [] #contains my x last moves\n",
    "        self.itsMoves = [] #contains its y last moves\n",
    "\n",
    "    def clone(self):\n",
    "        return Mem(self.x, self.y, self.genome, self.name)\n",
    "\n",
    "    def getAction(self, tick):\n",
    "        if (tick < max(self.x, self.y)):\n",
    "            return self.genome[tick]\n",
    "        cpt = 0\n",
    "        for i in range(self.x-1,-1,-1):\n",
    "            cpt*=2\n",
    "            if (self.myMoves[i] == 'D'):\n",
    "                cpt+=1\n",
    "        for i in range(self.y-1,-1,-1):\n",
    "            cpt*=2\n",
    "            if (self.itsMoves[i] == 'D'):\n",
    "                cpt+=1\n",
    "        cpt += max(self.x, self.y)\n",
    "        return self.genome[cpt]\n",
    "\n",
    "    def update(self, myMove, itsMove):\n",
    "        if (self.x > 0):\n",
    "            if(len(self.myMoves) == self.x):\n",
    "                del self.myMoves[0]\n",
    "            self.myMoves.append(myMove)\n",
    "        if (self.y > 0):\n",
    "            if(len(self.itsMoves) == self.y):\n",
    "                del self.itsMoves[0]\n",
    "            self.itsMoves.append(itsMove)\n",
    "            \n",
    "            \n",
    "#Mem(0,0,'C','allc')\n",
    "#Mem(0,0,'D','alld')\n",
    "#Mem(1,0,'cDC','percd')\n",
    "#Mem(1,0,'dDC','perdc')\n",
    "#Mem(0,1,'cCD','tft')\n",
    "#Mem(0,1,'dCD','mistrust')\n",
    "#Mem(1,1,'cCDDD','spiteful')\n",
    "#Mem(1,1,'cCDDC','pavlov')\n",
    "#Mem(0,2,'ccCCCD','tf2t')\n",
    "#Mem(0,2,'ccCDDD','hard_tft')\n",
    "#Mem(1,2,'ccCCCDCDDD','slow_tft')\n",
    "#Mem(1,2,'ccCDCDDCDD','winner12') \n",
    "#Mem(1,2,'','tft_spiteful')\n",
    "#Mem(1,2,'ccCDDDDDDD','spiteful_cc')\n",
    "\n",
    "# Petit test d'équivalence\n",
    "\n",
    "bag1 = [Periodic('C'),Periodic('D'),Tft(),Spiteful(),Periodic('CD'),Periodic('DC')]\n",
    "t1=Tournament(g,bag1,100)\n",
    "t1.run()\n",
    "print(t1.matrix)\n",
    "\n",
    "bag2 = [Mem(0,0,'C','allc'),Mem(0,0,'D','alld'),Mem(0,1,'cCD','tft'),\n",
    "        Mem(1,1,'cCDDD','spiteful'),Mem(1,0,'cDC','percd'),Mem(1,0,'dDC','perdc')]\n",
    "t2=Tournament(g,bag2,100)\n",
    "t2.run()\n",
    "print(t2.matrix)\n"
   ]
  },
  {
   "cell_type": "markdown",
   "metadata": {
    "colab_type": "text",
    "id": "yjoBoqSjA1cD"
   },
   "source": [
    "## Les générer toutes\n",
    "Pour une famille Mem(x,y), le génome est de taille `max(x,y)`pour l'amorce plus `2^(x+y)` pour toutes les situations s du passé sur `x` coups de l'un et `y` coups de l'autre. Il y a donc `2^(max(x,y)+2^(x+y))` strategies à générer. Pour obtenir tous ces éléments il suffit donc de calculer toutes les instanciations possibles de C et D dans le génome, ce qui se fait, encore une fois , avec un produit cartésien.\n",
    "\n",
    "| famille  | longueur | nombre   |\n",
    "|         :-:        :-:         |\n",
    "| mem(0,1) | 1+2^1 = 3        | 2^3 = 8 |\n",
    "| mem(1,0) | 1+2^1 = 3        | 2^3 = 8 |\n",
    "| mem(1,1) | 1+2^2 = 5        | 2^5 = 32 |\n",
    "| mem(2,0) | 2+2^2 = 6        | 2^6 = 64 |\n",
    "| mem(1,2) | 2+2^3 = 10       | 2^10 = 1024 |\n",
    "| mem(2,1) | 2+2^3 = 10       | 2^10 = 1024 |\n",
    "| mem(2,2) | 2+2^4 = 18       | 2^18 = 262144 |"
   ]
  },
  {
   "cell_type": "code",
   "execution_count": 52,
   "metadata": {
    "colab": {},
    "colab_type": "code",
    "id": "AqEYefYhA1cE",
    "outputId": "8fb51be4-2c0e-416c-e94e-ba8c6feba5c2"
   },
   "outputs": [
    {
     "name": "stdout",
     "output_type": "stream",
     "text": [
      "Dans Mem(1,1) il y a 32 stratégies\n"
     ]
    }
   ],
   "source": [
    "def getAllMemory(x,y):\n",
    "    if (x+y > 4):\n",
    "        return \"Pas calculable\"\n",
    "    len_genome = max(x,y)+2**(x+y)\n",
    "    permut = [p for p in itertools.product(['C','D'], repeat=len_genome)]\n",
    "    genomes = [''.join(p) for p in permut]\n",
    "    return [Mem(x,y,gen) for gen in genomes]\n",
    "\n",
    "\n",
    "print(\"Dans Mem(1,1) il y a \"+ str(len(getAllMemory(1,1))) + \" stratégies\")"
   ]
  },
  {
   "cell_type": "markdown",
   "metadata": {
    "colab_type": "text",
    "id": "pFGz8Y23A1cJ"
   },
   "source": [
    "## La compétition des Mem(1,1)"
   ]
  },
  {
   "cell_type": "code",
   "execution_count": 53,
   "metadata": {
    "colab": {},
    "colab_type": "code",
    "id": "5HDTk_oaA1cK"
   },
   "outputs": [
    {
     "data": {
      "image/png": "[encoded data removed]",
      "text/plain": [
       "<matplotlib.figure.Figure at 0x7f70135fb630>"
      ]
     },
     "metadata": {
      "needs_background": "light"
     },
     "output_type": "display_data"
    },
    {
     "name": "stdout",
     "output_type": "stream",
     "text": [
      "CCDDD    2126\n",
      "CCDCD     701\n",
      "CCDDC     214\n",
      "CCDCC     158\n",
      "Name: 20, dtype: object\n"
     ]
    }
   ],
   "source": [
    "bag3=getAllMemory(1,1)\n",
    "e2=Ecological(g,bag3)\n",
    "e2.run()\n",
    "e2.drawPlot(None,4)\n",
    "evol=e2.historic\n",
    "print(evol.iloc[-1][evol.iloc[-1]>0])\n",
    "# Seules 4 survivent : mem11_cCDDD-spite 2126  , mem11_cCDCD-tft 701 , mem11_cCDDC-pavlov 214 , mem11_cCDCC 158"
   ]
  },
  {
   "cell_type": "markdown",
   "metadata": {
    "colab_type": "text",
    "id": "F5T0vHhkA1cO"
   },
   "source": [
    "### Les sous-classes\n",
    "\n",
    "Ici, on définit trois fonctions : \n",
    "- subclasses(soupe, n) qui teste tous les sous ensembles possibles de taille n dans la soupe\n",
    "- subclassesStrat(soupe, strat, n) qui teste tous les sous possibles de taille n dans la soupe avec la stratégie strat\n",
    "- subclassesRandom(soupe, p, n) qui teste p competitions de n strategies choisies au hasard dans la soupe\n",
    "\n",
    "Les tests sont des compétitions écologiques.\n",
    "\n",
    "On renvoie à la fin un tableau avec pour chaque stratégie, la meilleure place, la pire place, la moyenne et l'écart-type."
   ]
  },
  {
   "cell_type": "code",
   "execution_count": 54,
   "metadata": {
    "colab": {},
    "colab_type": "code",
    "id": "3DGBcxJIA1cP",
    "scrolled": true
   },
   "outputs": [],
   "source": [
    "import collections, functools, operator\n",
    "from scipy.special import comb\n",
    "import statistics\n",
    "import random\n",
    "import math\n",
    "\n",
    "\n",
    "def subclasses(soupe, n):\n",
    "    if (n > len(soupe)):\n",
    "        print (\"les sous-classes doivent être plus petites que la longueur de n\")\n",
    "        return   \n",
    "    res = pd.DataFrame(np.ones((len(soupe),4),dtype=np.int32))\n",
    "    res.columns, res.index = [\"Meilleure place\", \"Pire place\", \"Score moyen\", \"Ecart-Type\"],[s.name for s in soupe]\n",
    "    for s in soupe:\n",
    "        res.at[s.name, \"Meilleure place\"] = len(soupe)\n",
    "    scores = dict()\n",
    "    std = dict()\n",
    "    sousEnsembles = list(itertools.combinations(soupe, n))\n",
    "    for s in sousEnsembles:\n",
    "        e = Ecological(g, s)\n",
    "        e.run()\n",
    "        classements = e.historic.iloc[e.generation].rank(0, method=\"min\", ascending=False)\n",
    "        for strat in s : \n",
    "            classement = classements[strat.name]\n",
    "            if (classement < res.at[strat.name, \"Meilleure place\"]):\n",
    "                res.at[strat.name, \"Meilleure place\"] = classement\n",
    "            if (classement > res.at[strat.name, \"Pire place\"]):\n",
    "                res.at[strat.name, \"Pire place\"] = classement  \n",
    "            if (strat.name in std.keys()):\n",
    "                std[strat.name].append(e.scores[strat.name])\n",
    "            if (strat.name not in std.keys()):\n",
    "                std[strat.name] = [e.scores[strat.name]]            \n",
    "        scores = dict(functools.reduce(operator.add, map(collections.Counter, [scores, e.scores]))) \n",
    "    for d in scores: \n",
    "        res.at[d, \"Score moyen\"] = scores.get(d) // (comb(len(soupe), n) - comb(len(soupe)-1, n))\n",
    "    for strat in soupe : \n",
    "        res.at[strat.name, \"Ecart-Type\"] = statistics.stdev(std[strat.name])\n",
    "    print(res.sort_values(by = ['Score moyen', 'Meilleure place', 'Ecart-Type', 'Pire place'],  ascending = [False, True, True, True ]))\n",
    "          \n",
    "\n",
    "def subclassesStrat(soupe, strat, n):\n",
    "    if (n > len(soupe)):\n",
    "        print (\"les sous-classes doivent être plus petites que la longueur de n\")\n",
    "        return    \n",
    "    res = pd.DataFrame(np.ones((1,4),dtype=np.int32))   \n",
    "    res.columns, res.index = [\"Meilleure place\", \"Pire place\", \"Score moyen\", \"Ecart-Type\"],[strat.name]\n",
    "    res.at[strat.name, \"Meilleure place\"] = len(soupe)\n",
    "    print(\"Classement de la stratégie \"+strat.name + \" dans les différents sous-ensembles : \")    \n",
    "    sousEnsembles = list(itertools.combinations(soupe, n))\n",
    "    scores = list()\n",
    "    for s in sousEnsembles:  \n",
    "        e = Ecological(g, list(s) + [strat])\n",
    "        e.run()\n",
    "        scores.append(e.scores[strat.name])           \n",
    "        print(e.historic.iloc[e.generation].rank(0, method=\"min\", ascending=False))\n",
    "        classements = e.historic.iloc[e.generation].rank(0, method=\"min\", ascending=False)\n",
    "        classement = classements[strat.name]\n",
    "        if (classement < res.at[strat.name, \"Meilleure place\"]):\n",
    "            res.at[strat.name, \"Meilleure place\"] = classement\n",
    "        if (classement > res.at[strat.name, \"Pire place\"]):\n",
    "            res.at[strat.name, \"Pire place\"] = classement\n",
    "    res.at[strat.name, \"Score moyen\"] = statistics.mean(scores)\n",
    "    res.at[strat.name, \"Ecart-Type\"] = statistics.stdev(scores)\n",
    "    print(res.sort_values(by = ['Score moyen', 'Meilleure place', 'Ecart-Type', 'Pire place'],  ascending = [False, True, True, True ]))\n",
    "\n",
    "\n",
    "\n",
    "\n",
    "def subclassesRandom(soupe, p , n):\n",
    "    if (n > len(soupe)):\n",
    "        \"Le nombre de stratégies par compétition doit être inférieur ou égale au nombre de stratégies de la soupe initiale\"\n",
    "        return  \n",
    "    res = pd.DataFrame(np.nan,[s.name for s in soupe], [\"Meilleure place\", \"Pire place\", \"Score moyen\", \"Ecart-Type\"])\n",
    "    scores = dict()\n",
    "    for i in range (0, p) : \n",
    "        print(\"Competition \"+str(i+1)+ \"/\"+str(p))\n",
    "        strategies = []\n",
    "        indice = [i for i in range (0, len(soupe))]\n",
    "        for i in range (0, n):\n",
    "            indiceStrat = random.choice(indice)\n",
    "            indice.remove(indiceStrat)\n",
    "            strategies.append(soupe[indiceStrat])\n",
    "            #print(soupe[indiceStrat].name)\n",
    "        e = Ecological(g, strategies)\n",
    "        e.run()\n",
    "        print(e.scores)\n",
    "        classements = e.historic.iloc[e.generation].rank(0, method=\"min\", ascending=False)\n",
    "        for strat in strategies : \n",
    "            classement = classements[strat.name]\n",
    "            if (math.isnan(res.at[strat.name, \"Meilleure place\"]) or classement < res.at[strat.name, \"Meilleure place\"]):\n",
    "                res.at[strat.name, \"Meilleure place\"] = classement\n",
    "            if (math.isnan(res.at[strat.name, \"Pire place\"]) or classement > res.at[strat.name, \"Pire place\"]):\n",
    "                res.at[strat.name, \"Pire place\"] = classement  \n",
    "            if (strat.name in scores.keys()):\n",
    "                scores[strat.name].append(e.scores[strat.name])\n",
    "            if (strat.name not in scores.keys()):\n",
    "                scores[strat.name] = [e.scores[strat.name]]\n",
    "    for s in soupe:\n",
    "        if (s.name in scores.keys()):\n",
    "            res.at[s.name, \"Score moyen\"] = statistics.mean(scores[s.name])\n",
    "            if (len(scores[s.name]) > 1):\n",
    "                res.at[s.name, \"Ecart-Type\"] = statistics.stdev(scores[s.name])\n",
    "            \n",
    "    print(res.sort_values(by = ['Score moyen', 'Meilleure place', 'Ecart-Type', 'Pire place'],  ascending = [False, True, True, True ]))\n",
    "        \n",
    "        \n",
    "    \n",
    "    \n",
    "    "
   ]
  },
  {
   "cell_type": "code",
   "execution_count": 86,
   "metadata": {
    "colab": {},
    "colab_type": "code",
    "id": "xDKAAl8yA1cS"
   },
   "outputs": [
    {
     "name": "stdout",
     "output_type": "stream",
     "text": [
      "       Meilleure place  Pire place  Score moyen  Ecart-Type\n",
      "tft                  1           1       600000           0\n",
      "per_C                1           2       300000      424264\n",
      "per_D                1           2       200400         565\n"
     ]
    }
   ],
   "source": [
    "#Test subclasses(soupe, n)\n",
    "tft = Tft()\n",
    "gentille = Periodic('C')\n",
    "mechante = Periodic('D')\n",
    "soupe = [gentille, mechante, tft]\n",
    "subclasses(soupe, 2)"
   ]
  },
  {
   "cell_type": "code",
   "execution_count": 87,
   "metadata": {},
   "outputs": [
    {
     "name": "stdout",
     "output_type": "stream",
     "text": [
      "       Meilleure place  Pire place  Score moyen  Ecart-Type\n",
      "CCDDD                1           1      9297000           0\n",
      "CCDCD                1           2      9297000           0\n",
      "CCDDC                2           3      9297000           0\n",
      "CCDCC                2           4      9297000           0\n",
      "CCCCC                4           5      9297000           0\n",
      "CCCCD                4           5      9297000           0\n",
      "CCCDC                4           5      9297000           0\n",
      "CCCDD                4           5      9297000           0\n",
      "CDDCD                4           5      4640427      616711\n",
      "DDDCD                4           5      4632587      616936\n",
      "DCDCD                4           5      4630188      617856\n",
      "DCDCC                4           5      3820043      793591\n",
      "CDDDD                4           5      3815678      170180\n",
      "CDCDD                4           5      3813296      168166\n",
      "DCCDD                4           5      3809802      170366\n",
      "DCDDD                4           5      3809802      170366\n",
      "DDCDD                4           5      3809802      170366\n",
      "DDDDD                4           5      3809802      170366\n",
      "CDDCC                4           5      3678715      813299\n",
      "DDDCC                4           5      3670028      813216\n",
      "DCDDC                4           5      3533585      564545\n",
      "CDDDC                4           5      3531820      562322\n",
      "DDDDC                4           5      3528409      563468\n",
      "DCCDC                4           5      3250504     1208473\n",
      "CDCDC                4           5      2709224      872887\n",
      "DDCDC                4           5      2699638      873174\n",
      "DCCCC                4           5      2641909     1299450\n",
      "DCCCD                4           5      2639204     1299507\n",
      "CDCCC                4           5      2356391     1154093\n",
      "CDCCD                4           5      2355362     1154107\n",
      "DDCCC                4           5      2351908     1156249\n",
      "DDCCD                4           5      2346151     1156008\n"
     ]
    }
   ],
   "source": [
    "soupe = getAllMemory(1,1)\n",
    "subclasses(soupe, len(soupe)-1)"
   ]
  },
  {
   "cell_type": "code",
   "execution_count": 88,
   "metadata": {
    "colab": {},
    "colab_type": "code",
    "id": "nQWoJ4ReA1cb"
   },
   "outputs": [
    {
     "name": "stdout",
     "output_type": "stream",
     "text": [
      "Classement de la stratégie per_DDC dans les différents sous-ensembles : \n",
      "per_D      1.0\n",
      "per_DDC    2.0\n",
      "per_C      2.0\n",
      "Name: 17, dtype: float64\n",
      "tft        1.0\n",
      "per_C      2.0\n",
      "per_DDC    3.0\n",
      "Name: 27, dtype: float64\n",
      "tft        1.0\n",
      "per_DDC    2.0\n",
      "per_D      2.0\n",
      "Name: 16, dtype: float64\n",
      "         Meilleure place  Pire place  Score moyen  Ecart-Type\n",
      "per_DDC                2           3       495381      259167\n"
     ]
    }
   ],
   "source": [
    "#Test subclasses(soupe, strat,n)\n",
    "tft = Tft()\n",
    "gentille = Periodic('C')\n",
    "mechante = Periodic('D')\n",
    "soupe = [gentille, mechante, tft]\n",
    "subclassesStrat(soupe, Periodic('DDC'), 2)"
   ]
  },
  {
   "cell_type": "code",
   "execution_count": 81,
   "metadata": {},
   "outputs": [
    {
     "name": "stdout",
     "output_type": "stream",
     "text": [
      "Competition 1/4\n",
      "{'CDCCD': 4792, 'CCDDD': 1797000, 'DCDDC': 1118360, 'CCDDC': 1797000, 'DCDCC': 1117107, 'DCDCD': 927797}\n",
      "Competition 2/4\n",
      "{'CCDCC': 301200, 'CDDDD': 601200, 'DCDCC': 302400, 'DDCCD': 3000, 'CDCDC': 2400, 'CCCCD': 1800}\n",
      "Competition 3/4\n",
      "{'DCCCC': 146342, 'DCDCC': 508703, 'CDCDC': 128556, 'DDCCD': 602024, 'CDCDD': 600103, 'CCCCD': 144012}\n",
      "Competition 4/4\n",
      "{'CCDCD': 1797000, 'DCCDC': 1795335, 'CCDDC': 1797000, 'DDCDC': 1380838, 'DCDDD': 689220, 'CCCCC': 1797000}\n",
      "       Meilleure place  Pire place  Score moyen     Ecart-Type\n",
      "CCDDC              1.0         2.0    1797000.0       0.000000\n",
      "CCDCD              1.0         1.0    1797000.0            NaN\n",
      "CCDDD              2.0         2.0    1797000.0            NaN\n",
      "CCCCC              3.0         3.0    1797000.0            NaN\n",
      "DCCDC              3.0         3.0    1795335.0            NaN\n",
      "DDCDC              3.0         3.0    1380838.0            NaN\n",
      "DCDDC              3.0         3.0    1118360.0            NaN\n",
      "DCDCD              3.0         3.0     927797.0            NaN\n",
      "DCDDD              3.0         3.0     689220.0            NaN\n",
      "DCDCC              2.0         3.0     642736.0  423568.933955\n",
      "CDDDD              1.0         1.0     601200.0            NaN\n",
      "CDCDD              1.0         1.0     600103.0            NaN\n",
      "DDCCD              2.0         2.0     302512.0  423573.932493\n",
      "CCDCC              2.0         2.0     301200.0            NaN\n",
      "DCCCC              3.0         3.0     146342.0            NaN\n",
      "CCCCD              2.0         3.0      72906.0  100559.069566\n",
      "CDCDC              2.0         3.0      65478.0   89205.763087\n",
      "CDCCD              3.0         3.0       4792.0            NaN\n",
      "CCCDC              NaN         NaN          NaN            NaN\n",
      "CCCDD              NaN         NaN          NaN            NaN\n",
      "CDCCC              NaN         NaN          NaN            NaN\n",
      "CDDCC              NaN         NaN          NaN            NaN\n",
      "CDDCD              NaN         NaN          NaN            NaN\n",
      "CDDDC              NaN         NaN          NaN            NaN\n",
      "DCCCD              NaN         NaN          NaN            NaN\n",
      "DCCDD              NaN         NaN          NaN            NaN\n",
      "DDCCC              NaN         NaN          NaN            NaN\n",
      "DDCDD              NaN         NaN          NaN            NaN\n",
      "DDDCC              NaN         NaN          NaN            NaN\n",
      "DDDCD              NaN         NaN          NaN            NaN\n",
      "DDDDC              NaN         NaN          NaN            NaN\n",
      "DDDDD              NaN         NaN          NaN            NaN\n"
     ]
    }
   ],
   "source": [
    "# Test subclassesRandom(soupe, n, p)\n",
    "tft = Tft()\n",
    "gentille = Periodic('C')\n",
    "mechante = Periodic('D')\n",
    "soupe = [gentille, mechante, tft]\n",
    "#subclassesRandom(soupe, 2, 2)\n",
    "soupe2 = getAllMemory(1,1)\n",
    "#print(soupe2)\n",
    "subclassesRandom(soupe2, 4, 6)"
   ]
  },
  {
   "cell_type": "markdown",
   "metadata": {
    "colab_type": "text",
    "id": "x8z1IUB3A1ci"
   },
   "source": [
    "# Bibliographie\n",
    "\n",
    "- Robert Axelrod, The Evolution of Cooperation (New York: Basic Books, 1984).\n",
    "- JP Delahaye et P Mathieu. Des surprises dans le monde de la coopération. Pour la Science, numéro spécial \"Les mathématiques sociales\", pp 58-66, Juillet 1999.\n",
    "- Philippe Mathieu, Jean-Paul Delahaye. [New Winning Strategies for the Iterated Prisoner's Dilemma](http://jasss.soc.surrey.ac.uk/20/4/12.html). J. Artificial Societies and Social Simulation 20(4) (2017)\n",
    "- Philippe Mathieu, Jean-Paul Delahaye. New Winning Strategies for the Iterated Prisoner's Dilemma. AAMAS 2015: 1665-1666\n",
    "- Bruno Beaufils, Jean-Paul Delahaye et Philippe Mathieu. Our Meeting with Gradual : A good Strategy for the Itareted Prisoner’s Dilemma, in Intern. Cof. on Artificial Life V (ALIFE V), pp. 159- 165, 16-18 mai 1996, Nara (Japon).\n",
    "- Martin Nowak et K. Sigmund, TIT for TAT in Heterogeneous Populations, Nature, vol. 355, n° 16, pp. 250-253, janvier 1992."
   ]
  }
 ],
 "metadata": {
  "colab": {
   "collapsed_sections": [],
   "name": "prisoners_dilemma_fr.ipynb",
   "provenance": []
  },
  "kernelspec": {
   "display_name": "Python 3",
   "language": "python",
   "name": "python3"
  },
  "language_info": {
   "codemirror_mode": {
    "name": "ipython",
    "version": 3
   },
   "file_extension": ".py",
   "mimetype": "text/x-python",
   "name": "python",
   "nbconvert_exporter": "python",
   "pygments_lexer": "ipython3",
   "version": "3.6.8"
  }
 },
 "nbformat": 4,
 "nbformat_minor": 1
}
